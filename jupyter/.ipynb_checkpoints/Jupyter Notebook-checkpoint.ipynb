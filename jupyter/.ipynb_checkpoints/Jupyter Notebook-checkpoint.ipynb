{
 "cells": [
  {
   "cell_type": "markdown",
   "id": "5cfdc7a8-03fd-461b-b343-8c032b052a3f",
   "metadata": {},
   "source": [
    "## First Program"
   ]
  },
  {
   "cell_type": "code",
   "execution_count": 1,
   "id": "6c8e2243-ad0c-49a0-9717-a61ef410974a",
   "metadata": {},
   "outputs": [
    {
     "data": {
      "text/plain": [
       "str"
      ]
     },
     "execution_count": 1,
     "metadata": {},
     "output_type": "execute_result"
    }
   ],
   "source": [
    "### Type Casting\n",
    "x= '12'\n",
    "type(x)"
   ]
  },
  {
   "cell_type": "code",
   "execution_count": 3,
   "id": "3ac21079-e262-42db-b6b2-ae722c656efc",
   "metadata": {},
   "outputs": [
    {
     "data": {
      "text/plain": [
       "int"
      ]
     },
     "execution_count": 3,
     "metadata": {},
     "output_type": "execute_result"
    }
   ],
   "source": [
    "y=int(x)\n",
    "type(y)"
   ]
  },
  {
   "cell_type": "code",
   "execution_count": 4,
   "id": "687b1a68-7c0e-4ef8-9ed5-5b84ee9765a4",
   "metadata": {},
   "outputs": [
    {
     "data": {
      "text/plain": [
       "12"
      ]
     },
     "execution_count": 4,
     "metadata": {},
     "output_type": "execute_result"
    }
   ],
   "source": [
    "int(12.25)"
   ]
  },
  {
   "cell_type": "markdown",
   "id": "20de32ca-d2c0-4be0-88aa-f7ad4e8d520a",
   "metadata": {},
   "source": [
    "## User Input"
   ]
  },
  {
   "cell_type": "code",
   "execution_count": 6,
   "id": "61a8deb7-6a38-4081-a9c6-b4b0b35c4963",
   "metadata": {},
   "outputs": [
    {
     "name": "stdin",
     "output_type": "stream",
     "text": [
      "Enter your age 38\n"
     ]
    },
    {
     "data": {
      "text/plain": [
       "int"
      ]
     },
     "execution_count": 6,
     "metadata": {},
     "output_type": "execute_result"
    }
   ],
   "source": [
    "x = int(input(\"Enter your age\"))\n",
    "type(x)"
   ]
  },
  {
   "cell_type": "markdown",
   "id": "8a01f36b-b7ab-4ffd-b0e2-95c8f1689aad",
   "metadata": {},
   "source": [
    "### Formatting Print statement"
   ]
  },
  {
   "cell_type": "code",
   "execution_count": 8,
   "id": "539385c1-1d29-408c-a815-3ff790923573",
   "metadata": {},
   "outputs": [
    {
     "name": "stdout",
     "output_type": "stream",
     "text": [
      "Veera is 38 years old and his father is 68 years old\n"
     ]
    }
   ],
   "source": [
    "print(\"Veera is\",x,\"years old and his father is\",(x+30),\"years old\")"
   ]
  },
  {
   "cell_type": "code",
   "execution_count": 10,
   "id": "29641ea7-2a2f-45f2-8fbf-131db855e1b7",
   "metadata": {},
   "outputs": [
    {
     "name": "stdout",
     "output_type": "stream",
     "text": [
      "Veera is 38 years old and his father is 68 years old\n"
     ]
    }
   ],
   "source": [
    "print(\"Veera is {a} years old and his father is {b} years old\".format(a=x,b=(x+30)))"
   ]
  },
  {
   "cell_type": "code",
   "execution_count": 11,
   "id": "a4b740a6-41ab-4ede-98bd-2f444856f0e4",
   "metadata": {},
   "outputs": [
    {
     "name": "stdout",
     "output_type": "stream",
     "text": [
      "Veera is 38 years old and his father is 68 years old\n"
     ]
    }
   ],
   "source": [
    "print(\"Veera is {0} years old and his father is {1} years old\".format(x,(x+30)))"
   ]
  },
  {
   "cell_type": "code",
   "execution_count": 12,
   "id": "13f0c56c-4042-4bbe-94ff-9c6c9364a6b3",
   "metadata": {},
   "outputs": [
    {
     "name": "stdout",
     "output_type": "stream",
     "text": [
      "Veera is 38 years old and his father is 68 years old\n"
     ]
    }
   ],
   "source": [
    "print(\"Veera is {} years old and his father is {} years old\".format(x,x+30))"
   ]
  },
  {
   "cell_type": "markdown",
   "id": "7f40f33f-8213-4377-a222-1bb46d840dee",
   "metadata": {},
   "source": [
    "## Indentation"
   ]
  },
  {
   "cell_type": "code",
   "execution_count": 13,
   "id": "ab8ad834-0654-41e3-8939-c79410a054ab",
   "metadata": {},
   "outputs": [],
   "source": [
    "# function\n",
    "# if else\n",
    "# for while\n",
    "# class {}"
   ]
  },
  {
   "cell_type": "code",
   "execution_count": 14,
   "id": "38bb1b16-4f96-40bf-b907-5a3e94a3db69",
   "metadata": {},
   "outputs": [
    {
     "name": "stdout",
     "output_type": "stream",
     "text": [
      "Correct\n"
     ]
    }
   ],
   "source": [
    "x= 1\n",
    "if ( x >= 1 ):\n",
    "    print(\"Correct\")"
   ]
  },
  {
   "cell_type": "code",
   "execution_count": 15,
   "id": "d42bd5d0-dd68-42da-85c1-d5a2edb9bb37",
   "metadata": {},
   "outputs": [
    {
     "name": "stdout",
     "output_type": "stream",
     "text": [
      "4\n"
     ]
    }
   ],
   "source": [
    "for i in range(0,5):\n",
    "    if(i > 3):\n",
    "        print(i)"
   ]
  },
  {
   "cell_type": "markdown",
   "id": "100cb723-62c5-41a7-863b-d5e5a8e2b5bf",
   "metadata": {},
   "source": [
    "### List"
   ]
  },
  {
   "cell_type": "code",
   "execution_count": 16,
   "id": "f8387c7d-d798-484c-8388-15c15b7e5db8",
   "metadata": {},
   "outputs": [
    {
     "data": {
      "text/plain": [
       "['Veera', 'Meena', 'Chitra', 'Diya']"
      ]
     },
     "execution_count": 16,
     "metadata": {},
     "output_type": "execute_result"
    }
   ],
   "source": [
    "list1 = ['Veera', 'Meena', 'Chitra', 'Diya']\n",
    "list1"
   ]
  },
  {
   "cell_type": "code",
   "execution_count": 18,
   "id": "59c0d883-0980-43e4-ae74-05e948efb519",
   "metadata": {},
   "outputs": [],
   "source": [
    "l1 = [1,2,3, 46, 7, 5, 8]"
   ]
  },
  {
   "cell_type": "code",
   "execution_count": 19,
   "id": "ccebdbe6-8566-4b6f-88cc-b02510008183",
   "metadata": {},
   "outputs": [
    {
     "data": {
      "text/plain": [
       "'Diya'"
      ]
     },
     "execution_count": 19,
     "metadata": {},
     "output_type": "execute_result"
    }
   ],
   "source": [
    "list1[-1]"
   ]
  },
  {
   "cell_type": "code",
   "execution_count": 23,
   "id": "f3d42ea4-5db7-4534-ac40-f89a62dd4d2a",
   "metadata": {},
   "outputs": [],
   "source": [
    "list1.sort()"
   ]
  },
  {
   "cell_type": "code",
   "execution_count": 26,
   "id": "f46788db-747f-4904-bd35-4abfb9028831",
   "metadata": {},
   "outputs": [
    {
     "name": "stdout",
     "output_type": "stream",
     "text": [
      "['Chitra', 'Diya', 'Meena', 'Veera']\n"
     ]
    },
    {
     "data": {
      "text/plain": [
       "['Diya', 'Meena']"
      ]
     },
     "execution_count": 26,
     "metadata": {},
     "output_type": "execute_result"
    }
   ],
   "source": [
    "#list1[first:last]\n",
    "print(list1)\n",
    "list1[1:3]"
   ]
  },
  {
   "cell_type": "code",
   "execution_count": 27,
   "id": "f214b8d2-a5ec-4d8f-bde9-48d304d80450",
   "metadata": {},
   "outputs": [
    {
     "data": {
      "text/plain": [
       "['Veera', 'Meena', 'Diya', 'Chitra']"
      ]
     },
     "execution_count": 27,
     "metadata": {},
     "output_type": "execute_result"
    }
   ],
   "source": [
    "list1[::-1]"
   ]
  },
  {
   "cell_type": "code",
   "execution_count": 28,
   "id": "31bf2f4d-951c-4d6a-abbb-94e0f54ab473",
   "metadata": {},
   "outputs": [
    {
     "data": {
      "text/plain": [
       "['Chitra', 'Diya', 'Meena', 'Veera']"
      ]
     },
     "execution_count": 28,
     "metadata": {},
     "output_type": "execute_result"
    }
   ],
   "source": [
    "list1[0:4:1]"
   ]
  },
  {
   "cell_type": "code",
   "execution_count": 29,
   "id": "c35b28eb-fd36-452c-8433-369d50af2c84",
   "metadata": {},
   "outputs": [
    {
     "data": {
      "text/plain": [
       "['Chitra', 'Meena']"
      ]
     },
     "execution_count": 29,
     "metadata": {},
     "output_type": "execute_result"
    }
   ],
   "source": [
    "list1[0:4:2]"
   ]
  },
  {
   "cell_type": "code",
   "execution_count": 30,
   "id": "0fac5482-2a72-4f40-80ac-00eb836202b8",
   "metadata": {},
   "outputs": [
    {
     "data": {
      "text/plain": [
       "['Chitra', 'Veera']"
      ]
     },
     "execution_count": 30,
     "metadata": {},
     "output_type": "execute_result"
    }
   ],
   "source": [
    "list1[0:4:3]"
   ]
  },
  {
   "cell_type": "markdown",
   "id": "7018ed82-e30f-4433-a155-f1b876a03063",
   "metadata": {},
   "source": [
    "## List Methods"
   ]
  },
  {
   "cell_type": "code",
   "execution_count": 31,
   "id": "ad827d67-c19a-40c0-98a7-754f2c90831e",
   "metadata": {},
   "outputs": [
    {
     "data": {
      "text/plain": [
       "[10, 20, 30, 40, 50, 60, 30, 60, 102, 254, 30, 25, 60]"
      ]
     },
     "execution_count": 31,
     "metadata": {},
     "output_type": "execute_result"
    }
   ],
   "source": [
    "A= [10,20,30,40,50,60,30,60,102,254,30,25,60]\n",
    "A"
   ]
  },
  {
   "cell_type": "code",
   "execution_count": 32,
   "id": "fea14861-90d5-4c78-8030-c0ca8dcfa6d6",
   "metadata": {},
   "outputs": [],
   "source": [
    "A.append(303)"
   ]
  },
  {
   "cell_type": "code",
   "execution_count": 33,
   "id": "303109ca-983c-46bd-97c6-4df48b7ec85c",
   "metadata": {},
   "outputs": [
    {
     "name": "stdout",
     "output_type": "stream",
     "text": [
      "[10, 20, 30, 40, 50, 60, 30, 60, 102, 254, 30, 25, 60, 303]\n"
     ]
    }
   ],
   "source": [
    "print(A)\n",
    "A.extend([304,305,306])"
   ]
  },
  {
   "cell_type": "code",
   "execution_count": 34,
   "id": "23b76f7c-1dbb-4595-8c2c-6b6d251b00e9",
   "metadata": {},
   "outputs": [
    {
     "data": {
      "text/plain": [
       "[10, 20, 30, 40, 50, 60, 30, 60, 102, 254, 30, 25, 60, 303, 304, 305, 306]"
      ]
     },
     "execution_count": 34,
     "metadata": {},
     "output_type": "execute_result"
    }
   ],
   "source": [
    "A"
   ]
  },
  {
   "cell_type": "code",
   "execution_count": 35,
   "id": "169dfdb9-e5db-441d-9f64-235b3da417f0",
   "metadata": {},
   "outputs": [
    {
     "data": {
      "text/plain": [
       "306"
      ]
     },
     "execution_count": 35,
     "metadata": {},
     "output_type": "execute_result"
    }
   ],
   "source": [
    "A.pop()"
   ]
  },
  {
   "cell_type": "code",
   "execution_count": 36,
   "id": "e8d67835-83fb-42fb-9f69-7ce57b6d9be1",
   "metadata": {},
   "outputs": [
    {
     "data": {
      "text/plain": [
       "[10, 20, 25, 30, 30, 30, 40, 50, 60, 60, 60, 102, 254, 303, 304, 305]"
      ]
     },
     "execution_count": 36,
     "metadata": {},
     "output_type": "execute_result"
    }
   ],
   "source": [
    "A.sort()\n",
    "A"
   ]
  },
  {
   "cell_type": "code",
   "execution_count": 37,
   "id": "3a1022ef-c6a8-4fd3-a632-e377383f2870",
   "metadata": {},
   "outputs": [
    {
     "data": {
      "text/plain": [
       "10"
      ]
     },
     "execution_count": 37,
     "metadata": {},
     "output_type": "execute_result"
    }
   ],
   "source": [
    "A.pop(0)"
   ]
  },
  {
   "cell_type": "code",
   "execution_count": 38,
   "id": "ae7befd7-44a6-4381-b401-ec92a910c994",
   "metadata": {},
   "outputs": [
    {
     "data": {
      "text/plain": [
       "[20, 25, 30, 30, 30, 40, 50, 60, 60, 60, 102, 254, 303, 304, 305]"
      ]
     },
     "execution_count": 38,
     "metadata": {},
     "output_type": "execute_result"
    }
   ],
   "source": [
    "A"
   ]
  },
  {
   "cell_type": "code",
   "execution_count": 41,
   "id": "f99b1ee2-882a-4096-b66f-bdfc01dae42a",
   "metadata": {},
   "outputs": [],
   "source": [
    "A.insert(3,1)"
   ]
  },
  {
   "cell_type": "code",
   "execution_count": 42,
   "id": "f89f4c09-7ffc-46c0-a708-8b81a6764039",
   "metadata": {},
   "outputs": [
    {
     "data": {
      "text/plain": [
       "[20, 25, 30, 1, 30, 30, 40, 50, 60, 60, 60, 102, 254, 303, 304, 305, 1]"
      ]
     },
     "execution_count": 42,
     "metadata": {},
     "output_type": "execute_result"
    }
   ],
   "source": [
    "A"
   ]
  },
  {
   "cell_type": "code",
   "execution_count": 46,
   "id": "287008e4-0faa-4b67-be74-32905c0304b2",
   "metadata": {},
   "outputs": [],
   "source": [
    "A.remove(30)"
   ]
  },
  {
   "cell_type": "code",
   "execution_count": 47,
   "id": "be10e8fe-54ee-4481-bc94-abf2d660f6be",
   "metadata": {},
   "outputs": [
    {
     "data": {
      "text/plain": [
       "[20, 25, 1, 30, 40, 50, 60, 60, 60, 102, 254, 303, 304, 305, 1]"
      ]
     },
     "execution_count": 47,
     "metadata": {},
     "output_type": "execute_result"
    }
   ],
   "source": [
    "A"
   ]
  },
  {
   "cell_type": "code",
   "execution_count": 48,
   "id": "7340c72d-d1fa-4d61-b8ec-640b0264a6fe",
   "metadata": {},
   "outputs": [
    {
     "data": {
      "text/plain": [
       "3"
      ]
     },
     "execution_count": 48,
     "metadata": {},
     "output_type": "execute_result"
    }
   ],
   "source": [
    "A.count(60)"
   ]
  },
  {
   "cell_type": "markdown",
   "id": "5d333be1-b60c-4a4a-95a6-077b896fd9e0",
   "metadata": {},
   "source": [
    "### For Loop"
   ]
  },
  {
   "cell_type": "code",
   "execution_count": 50,
   "id": "2e11c349-f3f2-4f42-8edf-64f69ad2934f",
   "metadata": {},
   "outputs": [
    {
     "name": "stdout",
     "output_type": "stream",
     "text": [
      "Hello\n",
      "Hello\n",
      "Hello\n",
      "Hello\n",
      "Hello\n"
     ]
    }
   ],
   "source": [
    "for i in range(0,5):\n",
    "    print(\"Hello\")"
   ]
  },
  {
   "cell_type": "code",
   "execution_count": 51,
   "id": "8547ba38-efeb-4de6-a8c4-7de5f639b707",
   "metadata": {},
   "outputs": [
    {
     "name": "stdout",
     "output_type": "stream",
     "text": [
      "1\n",
      "2\n",
      "3\n",
      "4\n",
      "5\n"
     ]
    }
   ],
   "source": [
    "x=1\n",
    "for i in range(0,5):\n",
    "    print(x+i)"
   ]
  },
  {
   "cell_type": "markdown",
   "id": "90e9e1da-2c8d-4aab-b670-c5f597301241",
   "metadata": {},
   "source": [
    "## Factorial of a number"
   ]
  },
  {
   "cell_type": "code",
   "execution_count": 52,
   "id": "49019664-2b57-4171-97a2-270be25558a7",
   "metadata": {},
   "outputs": [
    {
     "name": "stdout",
     "output_type": "stream",
     "text": [
      "1\n",
      "2\n",
      "6\n",
      "24\n",
      "120\n"
     ]
    }
   ],
   "source": [
    "# 5! = 5*4*3*2*1\n",
    "x=1\n",
    "for i in range(1,6):\n",
    "    x = x*i\n",
    "    print(x)"
   ]
  },
  {
   "cell_type": "markdown",
   "id": "07fe129b-cc52-45b0-8f32-0c5cbd9cf003",
   "metadata": {},
   "source": [
    "## Function"
   ]
  },
  {
   "cell_type": "code",
   "execution_count": 53,
   "id": "7225338f-5ae2-4f68-a65b-84e8a9aa5d22",
   "metadata": {},
   "outputs": [
    {
     "data": {
      "text/plain": [
       "25"
      ]
     },
     "execution_count": 53,
     "metadata": {},
     "output_type": "execute_result"
    }
   ],
   "source": [
    "def square(x):\n",
    "    return (x**2)\n",
    "square(5)"
   ]
  },
  {
   "cell_type": "markdown",
   "id": "b28ff096-43dc-44d3-b9fc-324bda7cce95",
   "metadata": {},
   "source": [
    "## Recursion"
   ]
  },
  {
   "cell_type": "code",
   "execution_count": 55,
   "id": "6462a819-9dd4-415f-8cad-39a61e7be2f6",
   "metadata": {},
   "outputs": [
    {
     "name": "stdout",
     "output_type": "stream",
     "text": [
      "120\n"
     ]
    }
   ],
   "source": [
    "def factorial(x):\n",
    "    if(x==1):\n",
    "        return 1\n",
    "    else:\n",
    "        return x*factorial(x-1)\n",
    "print(factorial(5))"
   ]
  },
  {
   "cell_type": "code",
   "execution_count": 56,
   "id": "0df13318-5f29-499c-b7b3-1314f5043cff",
   "metadata": {},
   "outputs": [],
   "source": [
    "def fibinacci(x):\n",
    "    if(x==1):\n",
    "        return 0\n",
    "    elif(x==2):\n",
    "        return 1\n",
    "    else:\n",
    "        return (fibinacci(x-1) + fibinacci(x-2))"
   ]
  },
  {
   "cell_type": "code",
   "execution_count": 58,
   "id": "f0682f96-0335-4b7a-bfdf-7624e6282d36",
   "metadata": {},
   "outputs": [
    {
     "name": "stdin",
     "output_type": "stream",
     "text": [
      "Enter number for fibonacci series:  5\n"
     ]
    },
    {
     "data": {
      "text/plain": [
       "[0, 1, 1, 2, 3]"
      ]
     },
     "execution_count": 58,
     "metadata": {},
     "output_type": "execute_result"
    }
   ],
   "source": [
    "x=int(input(\"Enter number for fibonacci series: \"))\n",
    "l1 = []\n",
    "for i in range(1, x+1):\n",
    "     l1.append(fibinacci(i))\n",
    "l1"
   ]
  },
  {
   "cell_type": "code",
   "execution_count": null,
   "id": "0c9a69b7-eb18-48cb-aec9-e251d3dd90b4",
   "metadata": {},
   "outputs": [],
   "source": []
  }
 ],
 "metadata": {
  "kernelspec": {
   "display_name": "Python 3 (ipykernel)",
   "language": "python",
   "name": "python3"
  },
  "language_info": {
   "codemirror_mode": {
    "name": "ipython",
    "version": 3
   },
   "file_extension": ".py",
   "mimetype": "text/x-python",
   "name": "python",
   "nbconvert_exporter": "python",
   "pygments_lexer": "ipython3",
   "version": "3.11.5"
  }
 },
 "nbformat": 4,
 "nbformat_minor": 5
}
