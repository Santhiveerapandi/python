{
 "cells": [
  {
   "cell_type": "code",
   "execution_count": 1,
   "id": "499856b8",
   "metadata": {},
   "outputs": [],
   "source": [
    "from sklearn.datasets import load_digits"
   ]
  },
  {
   "cell_type": "code",
   "execution_count": 13,
   "id": "2d9642f8",
   "metadata": {},
   "outputs": [],
   "source": [
    "import numpy as np\n",
    "import matplotlib.pyplot as plt"
   ]
  },
  {
   "cell_type": "code",
   "execution_count": 27,
   "id": "26796494",
   "metadata": {},
   "outputs": [],
   "source": [
    "from sklearn.neural_network import MLPClassifier"
   ]
  },
  {
   "cell_type": "code",
   "execution_count": 3,
   "id": "0f271b72",
   "metadata": {},
   "outputs": [],
   "source": [
    "dic = load_digits()"
   ]
  },
  {
   "cell_type": "code",
   "execution_count": 4,
   "id": "8baecdf8",
   "metadata": {},
   "outputs": [
    {
     "data": {
      "text/plain": [
       "dict_keys(['data', 'target', 'frame', 'feature_names', 'target_names', 'images', 'DESCR'])"
      ]
     },
     "execution_count": 4,
     "metadata": {},
     "output_type": "execute_result"
    }
   ],
   "source": [
    "dic.keys()"
   ]
  },
  {
   "cell_type": "code",
   "execution_count": 6,
   "id": "fec1ae50",
   "metadata": {},
   "outputs": [
    {
     "data": {
      "text/plain": [
       "(1797, 8, 8)"
      ]
     },
     "execution_count": 6,
     "metadata": {},
     "output_type": "execute_result"
    }
   ],
   "source": [
    "dic.images.shape"
   ]
  },
  {
   "cell_type": "code",
   "execution_count": 8,
   "id": "93582665",
   "metadata": {},
   "outputs": [],
   "source": [
    "Y = dic.target"
   ]
  },
  {
   "cell_type": "code",
   "execution_count": 19,
   "id": "e6755e3d",
   "metadata": {},
   "outputs": [
    {
     "data": {
      "text/plain": [
       "array([[ 0.,  0.,  5., 13.,  9.,  1.,  0.,  0.],\n",
       "       [ 0.,  0., 13., 15., 10., 15.,  5.,  0.],\n",
       "       [ 0.,  3., 15.,  2.,  0., 11.,  8.,  0.],\n",
       "       [ 0.,  4., 12.,  0.,  0.,  8.,  8.,  0.],\n",
       "       [ 0.,  5.,  8.,  0.,  0.,  9.,  8.,  0.],\n",
       "       [ 0.,  4., 11.,  0.,  1., 12.,  7.,  0.],\n",
       "       [ 0.,  2., 14.,  5., 10., 12.,  0.,  0.],\n",
       "       [ 0.,  0.,  6., 13., 10.,  0.,  0.,  0.]])"
      ]
     },
     "execution_count": 19,
     "metadata": {},
     "output_type": "execute_result"
    }
   ],
   "source": [
    "dic.images[0]"
   ]
  },
  {
   "cell_type": "code",
   "execution_count": 24,
   "id": "c304830c",
   "metadata": {},
   "outputs": [],
   "source": [
    "X = dic.images.reshape(1797, 64)"
   ]
  },
  {
   "cell_type": "code",
   "execution_count": 28,
   "id": "d5f736b0",
   "metadata": {},
   "outputs": [],
   "source": [
    "model = MLPClassifier((100,100,50))"
   ]
  },
  {
   "cell_type": "code",
   "execution_count": 29,
   "id": "70b9d857",
   "metadata": {},
   "outputs": [
    {
     "data": {
      "text/plain": [
       "MLPClassifier(hidden_layer_sizes=(100, 100, 50))"
      ]
     },
     "execution_count": 29,
     "metadata": {},
     "output_type": "execute_result"
    }
   ],
   "source": [
    "model.fit(X,Y)"
   ]
  },
  {
   "cell_type": "code",
   "execution_count": 31,
   "id": "071a9d1d",
   "metadata": {},
   "outputs": [
    {
     "data": {
      "text/plain": [
       "array([0, 1, 2, ..., 8, 9, 8])"
      ]
     },
     "execution_count": 31,
     "metadata": {},
     "output_type": "execute_result"
    }
   ],
   "source": [
    "model.predict(X)"
   ]
  },
  {
   "cell_type": "code",
   "execution_count": 35,
   "id": "06533d65",
   "metadata": {},
   "outputs": [
    {
     "data": {
      "text/plain": [
       "array([8])"
      ]
     },
     "execution_count": 35,
     "metadata": {},
     "output_type": "execute_result"
    }
   ],
   "source": [
    "model.predict([dic.images[1796].flatten()])"
   ]
  },
  {
   "cell_type": "code",
   "execution_count": 36,
   "id": "d736fc2f",
   "metadata": {},
   "outputs": [
    {
     "data": {
      "text/plain": [
       "<matplotlib.image.AxesImage at 0x210f9c29940>"
      ]
     },
     "execution_count": 36,
     "metadata": {},
     "output_type": "execute_result"
    },
    {
     "data": {
      "image/png": "[encoded data removed]",
      "text/plain": [
       "<Figure size 640x480 with 1 Axes>"
      ]
     },
     "metadata": {},
     "output_type": "display_data"
    }
   ],
   "source": [
    "plt.imshow(dic.images[1796])"
   ]
  },
  {
   "cell_type": "code",
   "execution_count": null,
   "id": "b6de2412",
   "metadata": {},
   "outputs": [],
   "source": [
    "# pip install opencv-python"
   ]
  },
  {
   "cell_type": "code",
   "execution_count": 38,
   "id": "04cf6779",
   "metadata": {},
   "outputs": [],
   "source": [
    "import cv2"
   ]
  },
  {
   "cell_type": "code",
   "execution_count": 40,
   "id": "33c03823",
   "metadata": {},
   "outputs": [],
   "source": [
    "# plt.imshow('../Pictures/one.jpg')"
   ]
  },
  {
   "cell_type": "code",
   "execution_count": 42,
   "id": "3d990db5",
   "metadata": {},
   "outputs": [],
   "source": [
    "imar = cv2.imread('../Pictures/one.jpg')"
   ]
  },
  {
   "cell_type": "code",
   "execution_count": 43,
   "id": "78871725",
   "metadata": {},
   "outputs": [
    {
     "data": {
      "text/plain": [
       "(52, 56, 3)"
      ]
     },
     "execution_count": 43,
     "metadata": {},
     "output_type": "execute_result"
    }
   ],
   "source": [
    "imar.shape"
   ]
  },
  {
   "cell_type": "code",
   "execution_count": 46,
   "id": "6476ef51",
   "metadata": {},
   "outputs": [],
   "source": [
    "grayim = cv2.cvtColor(imar, cv2.COLOR_BGR2GRAY)"
   ]
  },
  {
   "cell_type": "code",
   "execution_count": 48,
   "id": "5426d517",
   "metadata": {},
   "outputs": [],
   "source": [
    "nimg = cv2.resize(grayim, (8,8))"
   ]
  },
  {
   "cell_type": "code",
   "execution_count": 49,
   "id": "cbc2ce5f",
   "metadata": {},
   "outputs": [
    {
     "data": {
      "text/plain": [
       "<matplotlib.image.AxesImage at 0x210f99c6880>"
      ]
     },
     "execution_count": 49,
     "metadata": {},
     "output_type": "execute_result"
    },
    {
     "data": {
      "image/png": "[encoded data removed]",
      "text/plain": [
       "<Figure size 640x480 with 1 Axes>"
      ]
     },
     "metadata": {},
     "output_type": "display_data"
    }
   ],
   "source": [
    "plt.imshow(nimg)"
   ]
  },
  {
   "cell_type": "code",
   "execution_count": 52,
   "id": "a8abc912",
   "metadata": {},
   "outputs": [],
   "source": [
    "flimg = nimg.flatten()"
   ]
  },
  {
   "cell_type": "code",
   "execution_count": 54,
   "id": "a087587c",
   "metadata": {},
   "outputs": [
    {
     "data": {
      "text/plain": [
       "array([4])"
      ]
     },
     "execution_count": 54,
     "metadata": {},
     "output_type": "execute_result"
    }
   ],
   "source": [
    "model.predict([flimg])"
   ]
  },
  {
   "cell_type": "code",
   "execution_count": 55,
   "id": "5be697af",
   "metadata": {},
   "outputs": [],
   "source": [
    "# how to prepare and write the files programmatically"
   ]
  },
  {
   "cell_type": "code",
   "execution_count": 56,
   "id": "f5d79ae9",
   "metadata": {},
   "outputs": [
    {
     "data": {
      "text/plain": [
       "'C:\\\\Users\\\\Rooman\\\\ADataScience\\\\Pytorch'"
      ]
     },
     "execution_count": 56,
     "metadata": {},
     "output_type": "execute_result"
    }
   ],
   "source": [
    "pwd"
   ]
  },
  {
   "cell_type": "code",
   "execution_count": 57,
   "id": "c71be4ac",
   "metadata": {},
   "outputs": [
    {
     "data": {
      "text/plain": [
       "11"
      ]
     },
     "execution_count": 57,
     "metadata": {},
     "output_type": "execute_result"
    }
   ],
   "source": [
    "f = open('abcd.txt', 'w')\n",
    "f.write('hello world')"
   ]
  },
  {
   "cell_type": "code",
   "execution_count": 58,
   "id": "e27c372c",
   "metadata": {},
   "outputs": [],
   "source": [
    "f.close()"
   ]
  },
  {
   "cell_type": "code",
   "execution_count": 61,
   "id": "2e9b0920",
   "metadata": {},
   "outputs": [],
   "source": [
    "with open('abcd.txt', 'w') as kf:\n",
    "    kf.write('its overwritten')"
   ]
  },
  {
   "cell_type": "code",
   "execution_count": 63,
   "id": "5405ffc2",
   "metadata": {},
   "outputs": [
    {
     "name": "stdout",
     "output_type": "stream",
     "text": [
      "its overwritten\n"
     ]
    }
   ],
   "source": [
    "with open('abcd.txt', 'r') as kf:\n",
    "    print(kf.read())"
   ]
  },
  {
   "cell_type": "code",
   "execution_count": 64,
   "id": "07e440e7",
   "metadata": {},
   "outputs": [],
   "source": [
    "import pickle"
   ]
  },
  {
   "cell_type": "code",
   "execution_count": 66,
   "id": "d4244365",
   "metadata": {},
   "outputs": [],
   "source": [
    "with open('abcd.pkl', 'wb') as kf:\n",
    "    pickle.dump(model, kf)"
   ]
  },
  {
   "cell_type": "code",
   "execution_count": 67,
   "id": "6f640940",
   "metadata": {},
   "outputs": [],
   "source": [
    "with open('abcd.pkl', 'rb') as fl:\n",
    "    mdl = pickle.load(fl)"
   ]
  },
  {
   "cell_type": "code",
   "execution_count": 69,
   "id": "7b846a30",
   "metadata": {},
   "outputs": [
    {
     "data": {
      "text/plain": [
       "array([4])"
      ]
     },
     "execution_count": 69,
     "metadata": {},
     "output_type": "execute_result"
    }
   ],
   "source": [
    "mdl.predict([flimg])"
   ]
  },
  {
   "cell_type": "code",
   "execution_count": null,
   "id": "8f0a20b8",
   "metadata": {},
   "outputs": [],
   "source": []
  }
 ],
 "metadata": {
  "kernelspec": {
   "display_name": "Python 3 (ipykernel)",
   "language": "python",
   "name": "python3"
  },
  "language_info": {
   "codemirror_mode": {
    "name": "ipython",
    "version": 3
   },
   "file_extension": ".py",
   "mimetype": "text/x-python",
   "name": "python",
   "nbconvert_exporter": "python",
   "pygments_lexer": "ipython3",
   "version": "3.9.13"
  }
 },
 "nbformat": 4,
 "nbformat_minor": 5
}
