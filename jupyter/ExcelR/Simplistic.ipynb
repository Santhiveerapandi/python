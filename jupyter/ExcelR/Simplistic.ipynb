{
 "cells": [
  {
   "cell_type": "code",
   "execution_count": 1,
   "id": "31f30f48",
   "metadata": {},
   "outputs": [],
   "source": [
    "import torch\n",
    "import torch.nn as nn\n",
    "import torch.optim as optim\n",
    "from sklearn.datasets import load_iris\n",
    "from sklearn.model_selection import train_test_split\n",
    "from sklearn.preprocessing import StandardScaler"
   ]
  },
  {
   "cell_type": "code",
   "execution_count": 2,
   "id": "10b79c34",
   "metadata": {},
   "outputs": [],
   "source": [
    "# Load Iris dataset\n",
    "iris = load_iris()\n",
    "X = iris.data\n",
    "y = iris.target"
   ]
  },
  {
   "cell_type": "code",
   "execution_count": 53,
   "id": "526b1bf1",
   "metadata": {},
   "outputs": [],
   "source": [
    "scaler = StandardScaler()\n",
    "X = scaler.fit_transform(X)"
   ]
  },
  {
   "cell_type": "code",
   "execution_count": 62,
   "id": "c58b3f24",
   "metadata": {},
   "outputs": [],
   "source": [
    "X_train, X_test, y_train, y_test = train_test_split(X, y, test_size=0.2, random_state=42)"
   ]
  },
  {
   "cell_type": "code",
   "execution_count": 93,
   "id": "9d12497e",
   "metadata": {},
   "outputs": [],
   "source": [
    "model = nn.Sequential(\n",
    "    nn.Linear(4, 10), \n",
    "    nn.ReLU(),\n",
    "    nn.Linear(10,3),\n",
    "    nn.Softmax(dim=1)\n",
    ")"
   ]
  },
  {
   "cell_type": "code",
   "execution_count": 94,
   "id": "cbf065cc",
   "metadata": {},
   "outputs": [],
   "source": [
    "criterion = nn.CrossEntropyLoss()\n",
    "optimizer = optim.Adam(model.parameters(), lr=0.001)"
   ]
  },
  {
   "cell_type": "code",
   "execution_count": 95,
   "id": "a38fc2f8",
   "metadata": {},
   "outputs": [],
   "source": [
    "X_train_tensor = torch.FloatTensor(X_train)\n",
    "y_train_tensor = torch.LongTensor(y_train)"
   ]
  },
  {
   "cell_type": "code",
   "execution_count": 96,
   "id": "3fcb2ae4",
   "metadata": {},
   "outputs": [
    {
     "name": "stdout",
     "output_type": "stream",
     "text": [
      "1.0947517156600952\n",
      "1.0936884880065918\n",
      "1.0926234722137451\n",
      "1.0915610790252686\n",
      "1.0905019044876099\n",
      "1.089447021484375\n",
      "1.088388442993164\n",
      "1.0873240232467651\n",
      "1.086258053779602\n",
      "1.0851893424987793\n",
      "1.0841230154037476\n",
      "1.0830528736114502\n",
      "1.081980586051941\n",
      "1.0809088945388794\n",
      "1.079836368560791\n",
      "1.0787662267684937\n",
      "1.0776960849761963\n",
      "1.0766253471374512\n",
      "1.075554609298706\n",
      "1.074485421180725\n",
      "1.0734158754348755\n",
      "1.072342038154602\n",
      "1.071266531944275\n",
      "1.0701916217803955\n",
      "1.0691100358963013\n",
      "1.0680222511291504\n",
      "1.0669312477111816\n",
      "1.0658371448516846\n",
      "1.0647376775741577\n",
      "1.063632607460022\n",
      "1.0625180006027222\n",
      "1.0613945722579956\n",
      "1.060263752937317\n",
      "1.0591243505477905\n",
      "1.057978630065918\n",
      "1.0568273067474365\n",
      "1.0556684732437134\n",
      "1.0544962882995605\n",
      "1.0533158779144287\n",
      "1.0521271228790283\n",
      "1.0509302616119385\n",
      "1.0497252941131592\n",
      "1.0485079288482666\n",
      "1.0472803115844727\n",
      "1.0460392236709595\n",
      "1.0447880029678345\n",
      "1.0435245037078857\n",
      "1.0422470569610596\n",
      "1.0409575700759888\n",
      "1.0396541357040405\n",
      "1.0383362770080566\n",
      "1.0370070934295654\n",
      "1.0356656312942505\n",
      "1.0343108177185059\n",
      "1.0329450368881226\n",
      "1.0315641164779663\n",
      "1.0301709175109863\n",
      "1.0287647247314453\n",
      "1.027346134185791\n",
      "1.025915503501892\n",
      "1.0244698524475098\n",
      "1.0230050086975098\n",
      "1.021527647972107\n",
      "1.0200377702713013\n",
      "1.0185344219207764\n",
      "1.017013669013977\n",
      "1.0154753923416138\n",
      "1.0139192342758179\n",
      "1.0123502016067505\n",
      "1.0107700824737549\n",
      "1.0091763734817505\n",
      "1.0075699090957642\n",
      "1.00594961643219\n",
      "1.0043165683746338\n",
      "1.0026729106903076\n",
      "1.001017451286316\n",
      "0.9993498921394348\n",
      "0.9976689219474792\n",
      "0.9959774613380432\n",
      "0.9942712187767029\n",
      "0.9925480484962463\n",
      "0.9908102750778198\n",
      "0.9890602231025696\n",
      "0.9872995018959045\n",
      "0.9855269193649292\n",
      "0.9837426543235779\n",
      "0.9819473028182983\n",
      "0.9801350235939026\n",
      "0.9783066511154175\n",
      "0.9764574766159058\n",
      "0.974592387676239\n",
      "0.9727147221565247\n",
      "0.9708282351493835\n",
      "0.9689319729804993\n",
      "0.9670248627662659\n",
      "0.9651079177856445\n",
      "0.9631816148757935\n",
      "0.961249053478241\n",
      "0.959309458732605\n",
      "0.9573622345924377\n"
     ]
    }
   ],
   "source": [
    "# Training the model (transfer learning)\n",
    "num_epochs = 100\n",
    "for epoch in range(num_epochs):\n",
    "    optimizer.zero_grad()\n",
    "    yp_train = model(X_train_tensor)\n",
    "    loss = criterion(yp_train, y_train_tensor)\n",
    "    loss.backward()\n",
    "    optimizer.step()\n",
    "    print(loss.item())"
   ]
  },
  {
   "cell_type": "code",
   "execution_count": null,
   "id": "e0d08654",
   "metadata": {},
   "outputs": [],
   "source": []
  },
  {
   "cell_type": "code",
   "execution_count": 97,
   "id": "db8723df",
   "metadata": {},
   "outputs": [
    {
     "data": {
      "text/plain": [
       "Sequential(\n",
       "  (0): Linear(in_features=4, out_features=10, bias=True)\n",
       "  (1): ReLU()\n",
       "  (2): Linear(in_features=10, out_features=3, bias=True)\n",
       "  (3): Softmax(dim=1)\n",
       ")"
      ]
     },
     "execution_count": 97,
     "metadata": {},
     "output_type": "execute_result"
    }
   ],
   "source": [
    "model.eval() "
   ]
  },
  {
   "cell_type": "code",
   "execution_count": 98,
   "id": "903f47a4",
   "metadata": {},
   "outputs": [],
   "source": [
    "X_test_tensor = torch.FloatTensor(X_test)\n",
    "y_pred = model(X_test_tensor)\n"
   ]
  },
  {
   "cell_type": "code",
   "execution_count": 99,
   "id": "70bc2690",
   "metadata": {},
   "outputs": [
    {
     "data": {
      "text/plain": [
       "tensor([[0.2952, 0.3850, 0.3198],\n",
       "        [0.6494, 0.1804, 0.1702],\n",
       "        [0.1017, 0.2098, 0.6885],\n",
       "        [0.3161, 0.3605, 0.3233],\n",
       "        [0.2510, 0.3026, 0.4463],\n",
       "        [0.6160, 0.2048, 0.1792],\n",
       "        [0.3665, 0.3745, 0.2590],\n",
       "        [0.2020, 0.2922, 0.5058],\n",
       "        [0.2112, 0.3771, 0.4117],\n",
       "        [0.3354, 0.3920, 0.2726],\n",
       "        [0.2598, 0.3237, 0.4164],\n",
       "        [0.6240, 0.2030, 0.1730],\n",
       "        [0.6614, 0.1742, 0.1644],\n",
       "        [0.6274, 0.1995, 0.1731],\n",
       "        [0.6570, 0.1757, 0.1673],\n",
       "        [0.3026, 0.3297, 0.3678],\n",
       "        [0.2224, 0.3123, 0.4653],\n",
       "        [0.3137, 0.4251, 0.2612],\n",
       "        [0.3181, 0.4027, 0.2792],\n",
       "        [0.2174, 0.3112, 0.4714],\n",
       "        [0.6144, 0.2079, 0.1777],\n",
       "        [0.2872, 0.3429, 0.3699],\n",
       "        [0.6051, 0.2115, 0.1833],\n",
       "        [0.2232, 0.3133, 0.4635],\n",
       "        [0.2119, 0.2340, 0.5542],\n",
       "        [0.2038, 0.3057, 0.4905],\n",
       "        [0.1685, 0.3142, 0.5173],\n",
       "        [0.2065, 0.3005, 0.4930],\n",
       "        [0.5968, 0.2220, 0.1813],\n",
       "        [0.6080, 0.2132, 0.1788]], grad_fn=<SoftmaxBackward0>)"
      ]
     },
     "execution_count": 99,
     "metadata": {},
     "output_type": "execute_result"
    }
   ],
   "source": [
    "y_pred"
   ]
  },
  {
   "cell_type": "code",
   "execution_count": null,
   "id": "30656920",
   "metadata": {},
   "outputs": [],
   "source": []
  },
  {
   "cell_type": "code",
   "execution_count": null,
   "id": "cc1cabe5",
   "metadata": {},
   "outputs": [],
   "source": []
  }
 ],
 "metadata": {
  "kernelspec": {
   "display_name": "Python 3 (ipykernel)",
   "language": "python",
   "name": "python3"
  },
  "language_info": {
   "codemirror_mode": {
    "name": "ipython",
    "version": 3
   },
   "file_extension": ".py",
   "mimetype": "text/x-python",
   "name": "python",
   "nbconvert_exporter": "python",
   "pygments_lexer": "ipython3",
   "version": "3.9.13"
  }
 },
 "nbformat": 4,
 "nbformat_minor": 5
}
