{
 "cells": [
  {
   "cell_type": "code",
   "execution_count": 1,
   "id": "83110eef",
   "metadata": {},
   "outputs": [],
   "source": [
    "import numpy as np"
   ]
  },
  {
   "cell_type": "code",
   "execution_count": 2,
   "id": "07263686",
   "metadata": {},
   "outputs": [],
   "source": [
    "a1 = np.array([3,2,4])\n",
    "a2 = np.array([2,3,1])"
   ]
  },
  {
   "cell_type": "code",
   "execution_count": 12,
   "id": "30ac6083",
   "metadata": {},
   "outputs": [
    {
     "data": {
      "text/plain": [
       "0.7940666671767442"
      ]
     },
     "execution_count": 12,
     "metadata": {},
     "output_type": "execute_result"
    }
   ],
   "source": [
    "16/(np.sqrt(29)*np.sqrt(14))"
   ]
  },
  {
   "cell_type": "code",
   "execution_count": 8,
   "id": "0122e445",
   "metadata": {},
   "outputs": [],
   "source": [
    "cs = np.dot(a1,a2)/(np.linalg.norm(a1)*np.linalg.norm(a2))"
   ]
  },
  {
   "cell_type": "code",
   "execution_count": 9,
   "id": "4a61c1e4",
   "metadata": {},
   "outputs": [
    {
     "data": {
      "text/plain": [
       "0.7940666671767442"
      ]
     },
     "execution_count": 9,
     "metadata": {},
     "output_type": "execute_result"
    }
   ],
   "source": [
    "cs"
   ]
  },
  {
   "cell_type": "code",
   "execution_count": null,
   "id": "4cfee969",
   "metadata": {},
   "outputs": [],
   "source": []
  },
  {
   "cell_type": "code",
   "execution_count": null,
   "id": "0e4b3770",
   "metadata": {},
   "outputs": [],
   "source": []
  }
 ],
 "metadata": {
  "kernelspec": {
   "display_name": "Python 3 (ipykernel)",
   "language": "python",
   "name": "python3"
  },
  "language_info": {
   "codemirror_mode": {
    "name": "ipython",
    "version": 3
   },
   "file_extension": ".py",
   "mimetype": "text/x-python",
   "name": "python",
   "nbconvert_exporter": "python",
   "pygments_lexer": "ipython3",
   "version": "3.9.13"
  }
 },
 "nbformat": 4,
 "nbformat_minor": 5
}
