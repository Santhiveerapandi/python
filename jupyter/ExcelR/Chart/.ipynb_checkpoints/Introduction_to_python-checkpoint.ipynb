{
 "cells": [
  {
   "cell_type": "markdown",
   "id": "313ac744",
   "metadata": {},
   "source": [
    "# Variables:"
   ]
  },
  {
   "cell_type": "code",
   "execution_count": null,
   "id": "6422d29e",
   "metadata": {},
   "outputs": [],
   "source": [
    "#Libraries-->Packages-->Modules--->Class-->Function-->variable"
   ]
  },
  {
   "cell_type": "code",
   "execution_count": null,
   "id": "a5dedd88",
   "metadata": {},
   "outputs": [],
   "source": [
    "1. Variable assignment\n",
    "data types [int, float, bool, string, complex, object, Nonetype]\n",
    "data structures[list,tuple,dict,set]\n",
    "2. operators\n",
    "Arthimetic operators, Logical operators, Membership operators,comparision operators\n",
    "3. conditonal statements\n",
    "4. looping statements\n",
    "5. funtions\n",
    "6. file operations\n",
    "7. Exception handling"
   ]
  },
  {
   "cell_type": "code",
   "execution_count": 1,
   "id": "63ea0b5c",
   "metadata": {},
   "outputs": [],
   "source": [
    "# correct way of creating variable\n",
    "A = 10\n",
    "a = 10\n",
    "a1 = 20\n",
    "a_1 = 30\n",
    "_a = 40\n",
    "abcd = 50\n",
    "a_b_c_d = 60"
   ]
  },
  {
   "cell_type": "code",
   "execution_count": 4,
   "id": "2b5a1fce",
   "metadata": {},
   "outputs": [
    {
     "ename": "SyntaxError",
     "evalue": "invalid syntax (2752702636.py, line 3)",
     "output_type": "error",
     "traceback": [
      "\u001b[1;36m  Cell \u001b[1;32mIn[4], line 3\u001b[1;36m\u001b[0m\n\u001b[1;33m    class = 20\u001b[0m\n\u001b[1;37m          ^\u001b[0m\n\u001b[1;31mSyntaxError\u001b[0m\u001b[1;31m:\u001b[0m invalid syntax\n"
     ]
    }
   ],
   "source": [
    "# incorrect way of creating variable.\n",
    "1 = 10\n",
    "a b = 10\n",
    "class = 20"
   ]
  },
  {
   "cell_type": "code",
   "execution_count": 7,
   "id": "3e465052",
   "metadata": {},
   "outputs": [
    {
     "name": "stdout",
     "output_type": "stream",
     "text": [
      "['False', 'None', 'True', 'and', 'as', 'assert', 'async', 'await', 'break', 'class', 'continue', 'def', 'del', 'elif', 'else', 'except', 'finally', 'for', 'from', 'global', 'if', 'import', 'in', 'is', 'lambda', 'nonlocal', 'not', 'or', 'pass', 'raise', 'return', 'try', 'while', 'with', 'yield']\n"
     ]
    }
   ],
   "source": [
    "import keyword\n",
    "print(keyword.kwlist)"
   ]
  },
  {
   "cell_type": "code",
   "execution_count": 14,
   "id": "83bc31ce",
   "metadata": {},
   "outputs": [],
   "source": [
    "variable = 100"
   ]
  },
  {
   "cell_type": "code",
   "execution_count": 11,
   "id": "05b39b22",
   "metadata": {},
   "outputs": [
    {
     "data": {
      "text/plain": [
       "100"
      ]
     },
     "execution_count": 11,
     "metadata": {},
     "output_type": "execute_result"
    }
   ],
   "source": [
    "variable # only jupyter notebook."
   ]
  },
  {
   "cell_type": "code",
   "execution_count": 12,
   "id": "7e766b51",
   "metadata": {},
   "outputs": [
    {
     "name": "stdout",
     "output_type": "stream",
     "text": [
      "100\n"
     ]
    }
   ],
   "source": [
    "print(variable)"
   ]
  },
  {
   "cell_type": "code",
   "execution_count": 15,
   "id": "d46b829c",
   "metadata": {},
   "outputs": [
    {
     "data": {
      "text/plain": [
       "int"
      ]
     },
     "execution_count": 15,
     "metadata": {},
     "output_type": "execute_result"
    }
   ],
   "source": [
    "type(variable)"
   ]
  },
  {
   "cell_type": "code",
   "execution_count": 16,
   "id": "0357cb66",
   "metadata": {},
   "outputs": [
    {
     "name": "stdout",
     "output_type": "stream",
     "text": [
      "25.66\n"
     ]
    }
   ],
   "source": [
    "variable1 = 25.66\n",
    "print(variable1)"
   ]
  },
  {
   "cell_type": "code",
   "execution_count": 17,
   "id": "2d56dde0",
   "metadata": {},
   "outputs": [
    {
     "data": {
      "text/plain": [
       "float"
      ]
     },
     "execution_count": 17,
     "metadata": {},
     "output_type": "execute_result"
    }
   ],
   "source": [
    "type(variable1)"
   ]
  },
  {
   "cell_type": "code",
   "execution_count": 19,
   "id": "b2e9b004",
   "metadata": {},
   "outputs": [
    {
     "name": "stdout",
     "output_type": "stream",
     "text": [
      "(10+6j)\n"
     ]
    }
   ],
   "source": [
    "variable2 = 10 + 6j\n",
    "print(variable2)"
   ]
  },
  {
   "cell_type": "code",
   "execution_count": 20,
   "id": "c8678be3",
   "metadata": {},
   "outputs": [
    {
     "data": {
      "text/plain": [
       "complex"
      ]
     },
     "execution_count": 20,
     "metadata": {},
     "output_type": "execute_result"
    }
   ],
   "source": [
    "type(variable2)"
   ]
  },
  {
   "cell_type": "raw",
   "id": "3791e57a",
   "metadata": {},
   "source": [
    "Numerical data type in python: int, float, complex"
   ]
  },
  {
   "cell_type": "code",
   "execution_count": 22,
   "id": "d6f310b5",
   "metadata": {},
   "outputs": [
    {
     "name": "stdout",
     "output_type": "stream",
     "text": [
      "syeda\n",
      "<class 'str'>\n"
     ]
    }
   ],
   "source": [
    "name = 'syeda'\n",
    "print(name)\n",
    "print(type(name))"
   ]
  },
  {
   "cell_type": "code",
   "execution_count": null,
   "id": "1a9a4701",
   "metadata": {},
   "outputs": [],
   "source": []
  },
  {
   "cell_type": "code",
   "execution_count": null,
   "id": "52250aa0",
   "metadata": {},
   "outputs": [],
   "source": []
  },
  {
   "cell_type": "code",
   "execution_count": null,
   "id": "0d3f8b0e",
   "metadata": {},
   "outputs": [],
   "source": [
    "var = 10\n",
    "var_1 = 10\n",
    "_ = 10"
   ]
  },
  {
   "cell_type": "code",
   "execution_count": null,
   "id": "330da69f",
   "metadata": {},
   "outputs": [],
   "source": [
    " var = 1\n",
    "1var = 10\n",
    "var@ = 20\n",
    "True = 40\n",
    "print() = 20"
   ]
  },
  {
   "cell_type": "code",
   "execution_count": null,
   "id": "88047487",
   "metadata": {},
   "outputs": [],
   "source": [
    "from keyword import kwlist\n",
    "print(kwlist)"
   ]
  },
  {
   "cell_type": "code",
   "execution_count": null,
   "id": "49f13556",
   "metadata": {},
   "outputs": [],
   "source": [
    "_var = 20\n",
    "print(_var)"
   ]
  },
  {
   "cell_type": "code",
   "execution_count": null,
   "id": "a4d1cc6b",
   "metadata": {},
   "outputs": [],
   "source": [
    "var1 = 20\n",
    "print(var1)"
   ]
  },
  {
   "cell_type": "code",
   "execution_count": null,
   "id": "c5e9b12a",
   "metadata": {},
   "outputs": [],
   "source": [
    "var_of_age = 30\n",
    "print(var_of_age)"
   ]
  },
  {
   "cell_type": "code",
   "execution_count": null,
   "id": "ccbb02ef",
   "metadata": {},
   "outputs": [],
   "source": [
    "VAR = 40\n",
    "print(VAR)"
   ]
  },
  {
   "cell_type": "code",
   "execution_count": null,
   "id": "663bf441",
   "metadata": {},
   "outputs": [],
   "source": [
    "Arthmetic operator -->\n",
    "add --> +\n",
    "sub --> -\n",
    "mul --> *\n",
    "div --> /\n",
    "power --> **\n",
    "reminder --> %\n",
    "floor divsion --> //"
   ]
  },
  {
   "cell_type": "code",
   "execution_count": 23,
   "id": "85511a6b",
   "metadata": {},
   "outputs": [],
   "source": [
    "add = 10 + 20\n",
    "sub = 30 - 15\n",
    "mul = 2 * 5\n",
    "div = 50/10\n",
    "power = 2 ** 3\n",
    "remndr = 7%3\n",
    "FlrD = 7//3"
   ]
  },
  {
   "cell_type": "code",
   "execution_count": 41,
   "id": "1d2670bc",
   "metadata": {
    "collapsed": true
   },
   "outputs": [
    {
     "name": "stdout",
     "output_type": "stream",
     "text": [
      "add:30\n",
      "sub:15\n",
      "Mult:10\n",
      "Div:5.0\n",
      "Power:8\n",
      "Reminder:1\n",
      "Floor:2\n"
     ]
    }
   ],
   "source": [
    "print('add:',add,'\\nsub:',sub,'\\nMult:',mul,'\\nDiv:',\n",
    "      div,'\\nPower:',power,'\\nReminder:',remndr,'\\nFloor:',FlrD,sep = '')"
   ]
  },
  {
   "cell_type": "markdown",
   "id": "487ab7b2",
   "metadata": {},
   "source": [
    "# Task1: create a age in int and weight in float variable, and use the print to given the message and operate with the arthemetic operatations."
   ]
  },
  {
   "cell_type": "markdown",
   "id": "a8347735",
   "metadata": {},
   "source": [
    "# Task2: create a name in str and num in int variable, and use the print to given the message and operate with the arthemetic operatations."
   ]
  },
  {
   "cell_type": "code",
   "execution_count": 54,
   "id": "425234e4",
   "metadata": {},
   "outputs": [
    {
     "data": {
      "text/plain": [
       "'2.5 syeda'"
      ]
     },
     "execution_count": 54,
     "metadata": {},
     "output_type": "execute_result"
    }
   ],
   "source": [
    "name = 'syeda'\n",
    "num = '2.5'\n",
    "# str + str --> concatination\n",
    "num +' '+ name "
   ]
  },
  {
   "cell_type": "code",
   "execution_count": 52,
   "id": "d589d237",
   "metadata": {},
   "outputs": [
    {
     "data": {
      "text/plain": [
       "'syedasyeda'"
      ]
     },
     "execution_count": 52,
     "metadata": {},
     "output_type": "execute_result"
    }
   ],
   "source": [
    "# str * int --> multiplt times return word.\n",
    "name = 'syeda'\n",
    "num = 2\n",
    "num * name "
   ]
  },
  {
   "cell_type": "code",
   "execution_count": 56,
   "id": "86741ed0",
   "metadata": {},
   "outputs": [],
   "source": [
    "number = None"
   ]
  },
  {
   "cell_type": "code",
   "execution_count": 57,
   "id": "24db0d0d",
   "metadata": {},
   "outputs": [
    {
     "data": {
      "text/plain": [
       "NoneType"
      ]
     },
     "execution_count": 57,
     "metadata": {},
     "output_type": "execute_result"
    }
   ],
   "source": [
    "type(number)"
   ]
  },
  {
   "cell_type": "code",
   "execution_count": 58,
   "id": "a3a0288a",
   "metadata": {
    "collapsed": true
   },
   "outputs": [
    {
     "data": {
      "text/plain": [
       "bool"
      ]
     },
     "execution_count": 58,
     "metadata": {},
     "output_type": "execute_result"
    }
   ],
   "source": [
    "Bln = True\n",
    "type(Bln)"
   ]
  },
  {
   "cell_type": "code",
   "execution_count": 59,
   "id": "7ee1997d",
   "metadata": {
    "collapsed": true
   },
   "outputs": [
    {
     "data": {
      "text/plain": [
       "bool"
      ]
     },
     "execution_count": 59,
     "metadata": {},
     "output_type": "execute_result"
    }
   ],
   "source": [
    "BLn = False\n",
    "type(BLn)"
   ]
  },
  {
   "cell_type": "code",
   "execution_count": 63,
   "id": "baeb6083",
   "metadata": {},
   "outputs": [
    {
     "data": {
      "text/plain": [
       "True"
      ]
     },
     "execution_count": 63,
     "metadata": {},
     "output_type": "execute_result"
    }
   ],
   "source": [
    "False == 0"
   ]
  },
  {
   "cell_type": "code",
   "execution_count": null,
   "id": "8dad222b",
   "metadata": {},
   "outputs": [],
   "source": [
    "# data = [10,10,20.5,20.5,'t','t']"
   ]
  },
  {
   "cell_type": "markdown",
   "id": "6b333db7",
   "metadata": {},
   "source": [
    "# Data types\n",
    "1.Numerical\n",
    "int, float, complex\n",
    "\n",
    "2.Charecter\n",
    "string\n",
    "\n",
    "3.Nonetype\n",
    "None\n",
    "\n",
    "4.Bool\n",
    "True, False\n",
    "\n",
    "5. ALL\n",
    "Object"
   ]
  },
  {
   "cell_type": "code",
   "execution_count": null,
   "id": "c5e7e5a3",
   "metadata": {},
   "outputs": [],
   "source": [
    "operators\n",
    "AR operators --> +,-,*,**,/\n",
    "logical operators --> and, or , not\n",
    "membership operators -->  is, is not, in,not in\n",
    "Comparission operators --> ==, !=, >,<, >=,<="
   ]
  },
  {
   "cell_type": "code",
   "execution_count": null,
   "id": "9e1061f4",
   "metadata": {},
   "outputs": [],
   "source": [
    "var == 100000000 and add == 30\n"
   ]
  },
  {
   "cell_type": "code",
   "execution_count": null,
   "id": "360cb991",
   "metadata": {},
   "outputs": [],
   "source": [
    "var != 100000000 or add != 30"
   ]
  },
  {
   "cell_type": "code",
   "execution_count": null,
   "id": "7f6e0449",
   "metadata": {},
   "outputs": [],
   "source": [
    "not var == 25"
   ]
  },
  {
   "cell_type": "code",
   "execution_count": null,
   "id": "bc4e6e23",
   "metadata": {},
   "outputs": [],
   "source": [
    "type(var) is not str"
   ]
  },
  {
   "cell_type": "code",
   "execution_count": null,
   "id": "8e9d7e4c",
   "metadata": {},
   "outputs": [],
   "source": [
    "tst = [1,2,36,59]\n",
    "36 not in tst"
   ]
  },
  {
   "cell_type": "code",
   "execution_count": null,
   "id": "6796701f",
   "metadata": {},
   "outputs": [],
   "source": [
    "type(tst)"
   ]
  },
  {
   "cell_type": "markdown",
   "id": "8784d8f7",
   "metadata": {},
   "source": [
    "# Task2: create a age nad weight variable and use the comparission operators, and use the logical operators for two statemnets"
   ]
  },
  {
   "cell_type": "code",
   "execution_count": null,
   "id": "8b5736c7",
   "metadata": {},
   "outputs": [],
   "source": [
    "var27 = True"
   ]
  },
  {
   "cell_type": "code",
   "execution_count": null,
   "id": "245bde8c",
   "metadata": {},
   "outputs": [],
   "source": [
    "print(True)"
   ]
  },
  {
   "cell_type": "code",
   "execution_count": null,
   "id": "1bf62790",
   "metadata": {},
   "outputs": [],
   "source": [
    "False == 3"
   ]
  },
  {
   "cell_type": "code",
   "execution_count": null,
   "id": "b7cecec0",
   "metadata": {},
   "outputs": [],
   "source": [
    "a = 10"
   ]
  },
  {
   "cell_type": "code",
   "execution_count": null,
   "id": "7a5f7bd7",
   "metadata": {},
   "outputs": [],
   "source": [
    "a = 20"
   ]
  },
  {
   "cell_type": "code",
   "execution_count": null,
   "id": "2dd312ff",
   "metadata": {},
   "outputs": [],
   "source": [
    "a = None"
   ]
  },
  {
   "cell_type": "code",
   "execution_count": null,
   "id": "7c0e7a28",
   "metadata": {},
   "outputs": [],
   "source": [
    "a"
   ]
  },
  {
   "cell_type": "code",
   "execution_count": null,
   "id": "f8b2f1e4",
   "metadata": {},
   "outputs": [],
   "source": [
    "var = 100000000\n",
    "print(type(var))"
   ]
  },
  {
   "cell_type": "code",
   "execution_count": null,
   "id": "7204ce8e",
   "metadata": {},
   "outputs": [],
   "source": [
    "flt = 5.6\n",
    "print(type(flt))"
   ]
  },
  {
   "cell_type": "code",
   "execution_count": null,
   "id": "96c24601",
   "metadata": {},
   "outputs": [],
   "source": [
    "cmplt = 10+5j\n",
    "type(cmplt)"
   ]
  },
  {
   "cell_type": "code",
   "execution_count": null,
   "id": "a8d61391",
   "metadata": {},
   "outputs": [],
   "source": [
    "cmplt * 2"
   ]
  },
  {
   "cell_type": "code",
   "execution_count": 82,
   "id": "ccd9b937",
   "metadata": {},
   "outputs": [],
   "source": [
    "string1 = 'Excelr' # \\t --> 1 tab or 4 spaces.\n",
    "string2 = \"we are learning \\npython's\\tprogramming\" # \\n --> go to new line\n",
    "string3 = '''The data science               \n",
    "course is going on,\n",
    "in the excelr solutions'''"
   ]
  },
  {
   "cell_type": "code",
   "execution_count": 83,
   "id": "77ca4fc7",
   "metadata": {},
   "outputs": [
    {
     "name": "stdout",
     "output_type": "stream",
     "text": [
      "Excelr\n"
     ]
    }
   ],
   "source": [
    "print(string1)"
   ]
  },
  {
   "cell_type": "code",
   "execution_count": 84,
   "id": "950dbe78",
   "metadata": {},
   "outputs": [
    {
     "name": "stdout",
     "output_type": "stream",
     "text": [
      "we are learning \n",
      "python's\tprogramming\n"
     ]
    }
   ],
   "source": [
    "print(string2)"
   ]
  },
  {
   "cell_type": "code",
   "execution_count": 85,
   "id": "5e44a884",
   "metadata": {},
   "outputs": [
    {
     "name": "stdout",
     "output_type": "stream",
     "text": [
      "The data science               \n",
      "course is going on,\n",
      "in the excelr solutions\n"
     ]
    }
   ],
   "source": [
    "print(string3)"
   ]
  },
  {
   "cell_type": "code",
   "execution_count": 86,
   "id": "96205d03",
   "metadata": {},
   "outputs": [
    {
     "data": {
      "text/plain": [
       "str"
      ]
     },
     "execution_count": 86,
     "metadata": {},
     "output_type": "execute_result"
    }
   ],
   "source": [
    "type(string3)"
   ]
  },
  {
   "cell_type": "code",
   "execution_count": null,
   "id": "04a68c8e",
   "metadata": {},
   "outputs": [],
   "source": [
    "data = True\n",
    "type(data)"
   ]
  },
  {
   "cell_type": "code",
   "execution_count": null,
   "id": "ed0db7d6",
   "metadata": {},
   "outputs": [],
   "source": [
    "Tree = None\n",
    "type(Tree)"
   ]
  },
  {
   "cell_type": "code",
   "execution_count": null,
   "id": "7065ef5c",
   "metadata": {},
   "outputs": [],
   "source": [
    "type(age)"
   ]
  },
  {
   "cell_type": "code",
   "execution_count": null,
   "id": "66ba9c1f",
   "metadata": {},
   "outputs": [],
   "source": [
    "weight = 68.9\n",
    "type(weight)"
   ]
  },
  {
   "cell_type": "code",
   "execution_count": null,
   "id": "fe78dca0",
   "metadata": {},
   "outputs": [],
   "source": [
    "name = 'syeda'\n",
    "type(name)"
   ]
  },
  {
   "cell_type": "code",
   "execution_count": null,
   "id": "b4694a88",
   "metadata": {},
   "outputs": [],
   "source": [
    "age_w = 68.9 + 23j\n",
    "type(age_w)"
   ]
  },
  {
   "cell_type": "code",
   "execution_count": null,
   "id": "f345d54f",
   "metadata": {},
   "outputs": [],
   "source": [
    "intg_wt = age + weight"
   ]
  },
  {
   "cell_type": "code",
   "execution_count": null,
   "id": "d74a3be7",
   "metadata": {},
   "outputs": [],
   "source": [
    "age_comp = age + age_w\n",
    "age_comp"
   ]
  },
  {
   "cell_type": "code",
   "execution_count": null,
   "id": "46f97a92",
   "metadata": {},
   "outputs": [],
   "source": [
    "st_cm = name + str(age_w)\n",
    "st_cm"
   ]
  },
  {
   "cell_type": "markdown",
   "id": "3d465bf9",
   "metadata": {},
   "source": [
    "# arithmetic operators"
   ]
  },
  {
   "cell_type": "code",
   "execution_count": null,
   "id": "c58ab291",
   "metadata": {},
   "outputs": [],
   "source": [
    "# +,*,-,/,%,//,**"
   ]
  },
  {
   "cell_type": "markdown",
   "id": "48c77974",
   "metadata": {},
   "source": [
    "# Q1. Assign two variables naming as age, weight. operate the arithmentic operations?"
   ]
  },
  {
   "cell_type": "markdown",
   "id": "2d4b234f",
   "metadata": {},
   "source": [
    "# Logical operators"
   ]
  },
  {
   "cell_type": "markdown",
   "id": "b23b0f9f",
   "metadata": {},
   "source": [
    "and, or, not,"
   ]
  },
  {
   "cell_type": "raw",
   "id": "d628208d",
   "metadata": {},
   "source": [
    "# Q2. Assign two variables naming as age, weight,weight1. operate the logical operations?"
   ]
  },
  {
   "cell_type": "code",
   "execution_count": null,
   "id": "ece832a7",
   "metadata": {},
   "outputs": [],
   "source": []
  },
  {
   "cell_type": "code",
   "execution_count": null,
   "id": "cd6bfe8d",
   "metadata": {},
   "outputs": [],
   "source": [
    "add =  age + weight\n",
    "sub =  age - weight\n",
    "mul =  age * weight\n",
    "div =  age / weight\n",
    "power =  age ** weight\n",
    "flor =  age // weight\n",
    "mod =  age % weight\n",
    "print(add)\n",
    "print(sub)\n",
    "print(mul)\n",
    "print(div)\n",
    "print(power)\n",
    "print(flor)\n",
    "print(mod)"
   ]
  },
  {
   "cell_type": "code",
   "execution_count": null,
   "id": "12475b73",
   "metadata": {},
   "outputs": [],
   "source": [
    "and or not"
   ]
  },
  {
   "cell_type": "code",
   "execution_count": null,
   "id": "146f040a",
   "metadata": {},
   "outputs": [],
   "source": [
    "age1 = 20\n",
    "weight1 = 50"
   ]
  },
  {
   "cell_type": "code",
   "execution_count": null,
   "id": "9ec1bd50",
   "metadata": {},
   "outputs": [],
   "source": [
    "age, age1"
   ]
  },
  {
   "cell_type": "code",
   "execution_count": null,
   "id": "22c1ed98",
   "metadata": {},
   "outputs": [],
   "source": [
    "#AND\n",
    "age == 20 and age1 != 50 "
   ]
  },
  {
   "cell_type": "code",
   "execution_count": null,
   "id": "f2883602",
   "metadata": {},
   "outputs": [],
   "source": [
    "age != 20 & weight != 50"
   ]
  },
  {
   "cell_type": "code",
   "execution_count": null,
   "id": "e4f404a3",
   "metadata": {},
   "outputs": [],
   "source": [
    "age == 20 or weight != 50"
   ]
  },
  {
   "cell_type": "code",
   "execution_count": null,
   "id": "ed54b09b",
   "metadata": {},
   "outputs": [],
   "source": [
    "not age != 80"
   ]
  },
  {
   "cell_type": "code",
   "execution_count": null,
   "id": "983ebdc7",
   "metadata": {},
   "outputs": [],
   "source": [
    "weight and weight1"
   ]
  },
  {
   "cell_type": "code",
   "execution_count": null,
   "id": "22ff2698",
   "metadata": {},
   "outputs": [],
   "source": [
    "age, weight"
   ]
  },
  {
   "cell_type": "code",
   "execution_count": null,
   "id": "bf930e75",
   "metadata": {},
   "outputs": [],
   "source": [
    "age == 20 and weight != 50"
   ]
  },
  {
   "cell_type": "code",
   "execution_count": null,
   "id": "b544fa91",
   "metadata": {},
   "outputs": [],
   "source": [
    "age == 20 or weight != 50"
   ]
  },
  {
   "cell_type": "code",
   "execution_count": null,
   "id": "d71adf8f",
   "metadata": {},
   "outputs": [],
   "source": [
    "not age != 20"
   ]
  },
  {
   "cell_type": "markdown",
   "id": "18c84f4a",
   "metadata": {},
   "source": [
    "# Comparision operators"
   ]
  },
  {
   "cell_type": "markdown",
   "id": "6418536a",
   "metadata": {},
   "source": [
    "==,!=,<,<=,>,>= [ output is in bool ]"
   ]
  },
  {
   "cell_type": "markdown",
   "id": "6a31b60f",
   "metadata": {},
   "source": [
    "# Memebership operators"
   ]
  },
  {
   "cell_type": "code",
   "execution_count": null,
   "id": "b0ba8be9",
   "metadata": {},
   "outputs": [],
   "source": [
    "# is, is not, in, not in"
   ]
  },
  {
   "cell_type": "code",
   "execution_count": null,
   "id": "36ce77db",
   "metadata": {},
   "outputs": [],
   "source": [
    "XYZ = [[21,22],0,24,26,5,10,15,18,19]\n",
    "type(XYZ)"
   ]
  },
  {
   "cell_type": "code",
   "execution_count": null,
   "id": "c7d32b58",
   "metadata": {},
   "outputs": [],
   "source": [
    "list is not type(XYZ)"
   ]
  },
  {
   "cell_type": "code",
   "execution_count": null,
   "id": "6427fd5c",
   "metadata": {},
   "outputs": [],
   "source": [
    "list is type(XYZ)"
   ]
  },
  {
   "cell_type": "code",
   "execution_count": null,
   "id": "59d4171f",
   "metadata": {},
   "outputs": [],
   "source": [
    "print(str is not type(XYZ))\n",
    "print(str is type(XYZ))"
   ]
  },
  {
   "cell_type": "code",
   "execution_count": null,
   "id": "88384282",
   "metadata": {},
   "outputs": [],
   "source": [
    "[21,22,0] in XYZ"
   ]
  },
  {
   "cell_type": "code",
   "execution_count": null,
   "id": "80b43567",
   "metadata": {},
   "outputs": [],
   "source": [
    "80  not in XYZ"
   ]
  },
  {
   "cell_type": "code",
   "execution_count": null,
   "id": "fc54e1c8",
   "metadata": {},
   "outputs": [],
   "source": [
    "Data types\n",
    "int, float, complex, string, bool,none, list, tuple, set, dictionary"
   ]
  },
  {
   "cell_type": "code",
   "execution_count": null,
   "id": "b537e506",
   "metadata": {},
   "outputs": [],
   "source": [
    "no_type = None\n",
    "type(no_type)"
   ]
  },
  {
   "cell_type": "code",
   "execution_count": null,
   "id": "4cefc580",
   "metadata": {},
   "outputs": [],
   "source": [
    "# defination of data science"
   ]
  },
  {
   "cell_type": "code",
   "execution_count": null,
   "id": "11d94c60",
   "metadata": {},
   "outputs": [],
   "source": [
    "data types = str, float, int, bool, complex"
   ]
  },
  {
   "cell_type": "code",
   "execution_count": null,
   "id": "66f798bf",
   "metadata": {},
   "outputs": [],
   "source": [
    "string = 'text'\n",
    "type(string)"
   ]
  },
  {
   "cell_type": "code",
   "execution_count": null,
   "id": "ddf20d2b",
   "metadata": {},
   "outputs": [],
   "source": [
    "string2 = \"today's data science class is about python.\"\n",
    "\n",
    "type(string2)"
   ]
  },
  {
   "cell_type": "code",
   "execution_count": null,
   "id": "7d80415d",
   "metadata": {},
   "outputs": [],
   "source": []
  },
  {
   "cell_type": "code",
   "execution_count": null,
   "id": "6f23563f",
   "metadata": {},
   "outputs": [],
   "source": []
  },
  {
   "cell_type": "code",
   "execution_count": null,
   "id": "a863ddd2",
   "metadata": {},
   "outputs": [],
   "source": []
  },
  {
   "cell_type": "code",
   "execution_count": null,
   "id": "8d323f4e",
   "metadata": {},
   "outputs": [],
   "source": []
  },
  {
   "cell_type": "code",
   "execution_count": 92,
   "id": "52859515",
   "metadata": {},
   "outputs": [],
   "source": [
    "# defination of datas science\n",
    "data_science = '''data science is the study of data to extract meaningful insights for business. \n",
    "It is a multidisciplinary approach that combines principles and practices from the fields of mathematics, \n",
    "statistics, artificial intelligence, and computer engineering to analyze large amounts of data.'''"
   ]
  },
  {
   "cell_type": "code",
   "execution_count": 88,
   "id": "3f14975e",
   "metadata": {
    "collapsed": true
   },
   "outputs": [
    {
     "name": "stdout",
     "output_type": "stream",
     "text": [
      "Data science is the study of data to extract meaningful insights for business. \n",
      "It is a multidisciplinary approach that combines principles and practices from the fields of mathematics, \n",
      "statistics, artificial intelligence, and computer engineering to analyze large amounts of data.\n"
     ]
    }
   ],
   "source": [
    "print(data_science)"
   ]
  },
  {
   "cell_type": "code",
   "execution_count": 89,
   "id": "d28212c0",
   "metadata": {},
   "outputs": [
    {
     "data": {
      "text/plain": [
       "str"
      ]
     },
     "execution_count": 89,
     "metadata": {},
     "output_type": "execute_result"
    }
   ],
   "source": [
    "type(data_science) # data type."
   ]
  },
  {
   "cell_type": "code",
   "execution_count": 90,
   "id": "c4c19d2e",
   "metadata": {},
   "outputs": [
    {
     "data": {
      "text/plain": [
       "282"
      ]
     },
     "execution_count": 90,
     "metadata": {},
     "output_type": "execute_result"
    }
   ],
   "source": [
    "len(data_science) # count of string."
   ]
  },
  {
   "cell_type": "code",
   "execution_count": null,
   "id": "25371777",
   "metadata": {},
   "outputs": [],
   "source": [
    "# function list --> string.+tab"
   ]
  },
  {
   "cell_type": "code",
   "execution_count": 94,
   "id": "fc4a13f7",
   "metadata": {},
   "outputs": [
    {
     "data": {
      "text/plain": [
       "'data science is the study of data to extract meaningful insights for business. \\nIt is a multidisciplinary approach that combines principles and practices from the fields of mathematics, \\nstatistics, artificial intelligence, and computer engineering to analyze large amounts of data.'"
      ]
     },
     "execution_count": 94,
     "metadata": {},
     "output_type": "execute_result"
    }
   ],
   "source": [
    "data_science"
   ]
  },
  {
   "cell_type": "code",
   "execution_count": 93,
   "id": "ffd58169",
   "metadata": {
    "collapsed": true
   },
   "outputs": [
    {
     "data": {
      "text/plain": [
       "'Data science is the study of data to extract meaningful insights for business. \\nit is a multidisciplinary approach that combines principles and practices from the fields of mathematics, \\nstatistics, artificial intelligence, and computer engineering to analyze large amounts of data.'"
      ]
     },
     "execution_count": 93,
     "metadata": {},
     "output_type": "execute_result"
    }
   ],
   "source": [
    "data_science.capitalize()"
   ]
  },
  {
   "cell_type": "code",
   "execution_count": 95,
   "id": "ade0749a",
   "metadata": {},
   "outputs": [
    {
     "data": {
      "text/plain": [
       "'science'"
      ]
     },
     "execution_count": 95,
     "metadata": {},
     "output_type": "execute_result"
    }
   ],
   "source": [
    "data = 'SCIeNcE'\n",
    "data.casefold()"
   ]
  },
  {
   "cell_type": "code",
   "execution_count": 98,
   "id": "4a55267e",
   "metadata": {},
   "outputs": [
    {
     "data": {
      "text/plain": [
       "('SCIENCE', 'science', 'sciEnCe')"
      ]
     },
     "execution_count": 98,
     "metadata": {},
     "output_type": "execute_result"
    }
   ],
   "source": [
    "data.upper(),data.lower(), data.swapcase()"
   ]
  },
  {
   "cell_type": "code",
   "execution_count": 100,
   "id": "4486e2ce",
   "metadata": {},
   "outputs": [
    {
     "data": {
      "text/plain": [
       "(False, True)"
      ]
     },
     "execution_count": 100,
     "metadata": {},
     "output_type": "execute_result"
    }
   ],
   "source": [
    "data_science.startswith('D'), data_science.endswith('.')"
   ]
  },
  {
   "cell_type": "code",
   "execution_count": 101,
   "id": "c43a4c96",
   "metadata": {},
   "outputs": [
    {
     "data": {
      "text/plain": [
       "(True, True)"
      ]
     },
     "execution_count": 101,
     "metadata": {},
     "output_type": "execute_result"
    }
   ],
   "source": [
    "data_science.startswith('d'), data_science.endswith('.')"
   ]
  },
  {
   "cell_type": "code",
   "execution_count": 105,
   "id": "ce123da1",
   "metadata": {},
   "outputs": [
    {
     "data": {
      "text/plain": [
       "(True, False)"
      ]
     },
     "execution_count": 105,
     "metadata": {},
     "output_type": "execute_result"
    }
   ],
   "source": [
    "data.startswith('S'),data.endswith('e')"
   ]
  },
  {
   "cell_type": "code",
   "execution_count": 106,
   "id": "fcfd0dd7",
   "metadata": {},
   "outputs": [
    {
     "data": {
      "text/plain": [
       "'SCIeNcE'"
      ]
     },
     "execution_count": 106,
     "metadata": {},
     "output_type": "execute_result"
    }
   ],
   "source": [
    "data"
   ]
  },
  {
   "cell_type": "code",
   "execution_count": 108,
   "id": "9847ff43",
   "metadata": {},
   "outputs": [
    {
     "data": {
      "text/plain": [
       "('SCIeNcE###', '***SCIeNcE', '%%SCIeNcE%%%', 'CIeNcE', 'SCIeNc')"
      ]
     },
     "execution_count": 108,
     "metadata": {},
     "output_type": "execute_result"
    }
   ],
   "source": [
    "data.ljust(10,'#'),data.rjust(10,'*'),data.center(12,'%'),data.removeprefix('S'),data.removesuffix('E')"
   ]
  },
  {
   "cell_type": "code",
   "execution_count": 111,
   "id": "a69a5ac8",
   "metadata": {},
   "outputs": [
    {
     "data": {
      "text/plain": [
       "'data science is the study of data to extract meaningful insights for business. \\nIt is a multidisciplinary approach that combines principles and practices from the fields of mathematics, \\nstatistics, artificial intelligence, and computer engineering to analyze large amounts of data.'"
      ]
     },
     "execution_count": 111,
     "metadata": {},
     "output_type": "execute_result"
    }
   ],
   "source": [
    "data_science"
   ]
  },
  {
   "cell_type": "code",
   "execution_count": 112,
   "id": "e92266e1",
   "metadata": {},
   "outputs": [
    {
     "data": {
      "text/plain": [
       "(8, 0, 0)"
      ]
     },
     "execution_count": 112,
     "metadata": {},
     "output_type": "execute_result"
    }
   ],
   "source": [
    "data_science.count('d'), data_science.find('data'),data_science.index('data')"
   ]
  },
  {
   "cell_type": "code",
   "execution_count": 119,
   "id": "3c44b673",
   "metadata": {},
   "outputs": [
    {
     "data": {
      "text/plain": [
       "277"
      ]
     },
     "execution_count": 119,
     "metadata": {},
     "output_type": "execute_result"
    }
   ],
   "source": [
    "data_science.rfind('data')"
   ]
  },
  {
   "cell_type": "code",
   "execution_count": 113,
   "id": "ffd33607",
   "metadata": {},
   "outputs": [
    {
     "data": {
      "text/plain": [
       "('science    ', '    science', 'science')"
      ]
     },
     "execution_count": 113,
     "metadata": {},
     "output_type": "execute_result"
    }
   ],
   "source": [
    "# removing spaces\n",
    "data = '    science    '\n",
    "data.lstrip(),data.rstrip(),data.strip()"
   ]
  },
  {
   "cell_type": "code",
   "execution_count": 115,
   "id": "07cef08e",
   "metadata": {},
   "outputs": [
    {
     "name": "stdout",
     "output_type": "stream",
     "text": [
      "['data', 'science', 'is', 'the', 'study', 'of data to extract meaningful insights for business']\n"
     ]
    }
   ],
   "source": [
    "define = 'data,science,is,the,study,of data to extract meaningful insights for business'\n",
    "dfn = define.split(',')\n",
    "print(dfn)"
   ]
  },
  {
   "cell_type": "code",
   "execution_count": 116,
   "id": "38447442",
   "metadata": {},
   "outputs": [
    {
     "data": {
      "text/plain": [
       "'data science is the study of data to extract meaningful insights for business. \\nIt is a multidisciplinary approach that combines principles and practices from the fields of mathematics, \\nstatistics, artificial intelligence, and computer engineering to analyze large amounts of data.'"
      ]
     },
     "execution_count": 116,
     "metadata": {},
     "output_type": "execute_result"
    }
   ],
   "source": [
    "data_science"
   ]
  },
  {
   "cell_type": "code",
   "execution_count": 117,
   "id": "7974665e",
   "metadata": {},
   "outputs": [
    {
     "data": {
      "text/plain": [
       "'information science is the study of information to extract meaningful insights for business. \\nIt is a multidisciplinary approach that combines principles and practices from the fields of mathematics, \\nstatistics, artificial intelligence, and computer engineering to analyze large amounts of information.'"
      ]
     },
     "execution_count": 117,
     "metadata": {},
     "output_type": "execute_result"
    }
   ],
   "source": [
    "data_science.replace('data','information')"
   ]
  },
  {
   "cell_type": "code",
   "execution_count": 146,
   "id": "a6aac4b6",
   "metadata": {},
   "outputs": [],
   "source": [
    "one = 'abc123'\n",
    "two = 'abdc'\n",
    "three = '123'\n",
    "four = '103'"
   ]
  },
  {
   "cell_type": "code",
   "execution_count": 147,
   "id": "b0be9959",
   "metadata": {},
   "outputs": [
    {
     "data": {
      "text/plain": [
       "(True, True, True, True)"
      ]
     },
     "execution_count": 147,
     "metadata": {},
     "output_type": "execute_result"
    }
   ],
   "source": [
    "one.isalnum(),two.isalpha(),three.isdigit(),four.isdecimal()"
   ]
  },
  {
   "cell_type": "code",
   "execution_count": 137,
   "id": "8dcb2564",
   "metadata": {},
   "outputs": [
    {
     "data": {
      "text/plain": [
       "'    science    '"
      ]
     },
     "execution_count": 137,
     "metadata": {},
     "output_type": "execute_result"
    }
   ],
   "source": [
    "data"
   ]
  },
  {
   "cell_type": "code",
   "execution_count": 136,
   "id": "1e11f37c",
   "metadata": {},
   "outputs": [
    {
     "data": {
      "text/plain": [
       "(True, False, False, False, True)"
      ]
     },
     "execution_count": 136,
     "metadata": {},
     "output_type": "execute_result"
    }
   ],
   "source": [
    "data.islower(),data.isupper(),data.istitle(),data.isnumeric(),data.isprintable()"
   ]
  },
  {
   "cell_type": "code",
   "execution_count": 149,
   "id": "9f407652",
   "metadata": {},
   "outputs": [
    {
     "name": "stdout",
     "output_type": "stream",
     "text": [
      "My name is samreen\n"
     ]
    }
   ],
   "source": [
    "name = 'samreen'\n",
    "print('My name is {}'.format(name))"
   ]
  },
  {
   "cell_type": "code",
   "execution_count": 154,
   "id": "91b10b15",
   "metadata": {},
   "outputs": [],
   "source": [
    "age = 40\n",
    "wight = 56.9"
   ]
  },
  {
   "cell_type": "code",
   "execution_count": 156,
   "id": "071a853e",
   "metadata": {},
   "outputs": [
    {
     "name": "stdout",
     "output_type": "stream",
     "text": [
      "My age is 40 and my weight is 56.9\n"
     ]
    }
   ],
   "source": [
    "statment = 'My age is {} and my weight is {}'\n",
    "print(statment.format(age,wight))"
   ]
  },
  {
   "cell_type": "markdown",
   "id": "5cb18961",
   "metadata": {},
   "source": [
    "# input function"
   ]
  },
  {
   "cell_type": "code",
   "execution_count": 171,
   "id": "0958b885",
   "metadata": {},
   "outputs": [
    {
     "name": "stdout",
     "output_type": "stream",
     "text": [
      "adasdad\n"
     ]
    }
   ],
   "source": [
    "age = input()"
   ]
  },
  {
   "cell_type": "code",
   "execution_count": 160,
   "id": "fb9eab63",
   "metadata": {},
   "outputs": [
    {
     "name": "stdout",
     "output_type": "stream",
     "text": [
      "90\n"
     ]
    }
   ],
   "source": [
    "print(age)"
   ]
  },
  {
   "cell_type": "code",
   "execution_count": 161,
   "id": "497b44fa",
   "metadata": {},
   "outputs": [
    {
     "data": {
      "text/plain": [
       "str"
      ]
     },
     "execution_count": 161,
     "metadata": {},
     "output_type": "execute_result"
    }
   ],
   "source": [
    "type(age)"
   ]
  },
  {
   "cell_type": "code",
   "execution_count": 175,
   "id": "b620697b",
   "metadata": {
    "collapsed": true
   },
   "outputs": [
    {
     "name": "stdout",
     "output_type": "stream",
     "text": [
      "5.6\n"
     ]
    },
    {
     "ename": "ValueError",
     "evalue": "invalid literal for int() with base 10: '5.6'",
     "output_type": "error",
     "traceback": [
      "\u001b[1;31m---------------------------------------------------------------------------\u001b[0m",
      "\u001b[1;31mValueError\u001b[0m                                Traceback (most recent call last)",
      "Cell \u001b[1;32mIn[175], line 1\u001b[0m\n\u001b[1;32m----> 1\u001b[0m wt \u001b[38;5;241m=\u001b[39m \u001b[38;5;28mint\u001b[39m(\u001b[38;5;28minput\u001b[39m())\n",
      "\u001b[1;31mValueError\u001b[0m: invalid literal for int() with base 10: '5.6'"
     ]
    }
   ],
   "source": [
    "wt = int(input())"
   ]
  },
  {
   "cell_type": "code",
   "execution_count": 173,
   "id": "7fc785f0",
   "metadata": {},
   "outputs": [
    {
     "name": "stdout",
     "output_type": "stream",
     "text": [
      "60\n"
     ]
    }
   ],
   "source": [
    "print(wt)"
   ]
  },
  {
   "cell_type": "code",
   "execution_count": 174,
   "id": "c49e82d3",
   "metadata": {},
   "outputs": [
    {
     "data": {
      "text/plain": [
       "int"
      ]
     },
     "execution_count": 174,
     "metadata": {},
     "output_type": "execute_result"
    }
   ],
   "source": [
    "type(wt)"
   ]
  },
  {
   "cell_type": "code",
   "execution_count": 178,
   "id": "80560e20",
   "metadata": {},
   "outputs": [
    {
     "name": "stdout",
     "output_type": "stream",
     "text": [
      "10.6\n",
      "10.6\n"
     ]
    },
    {
     "data": {
      "text/plain": [
       "float"
      ]
     },
     "execution_count": 178,
     "metadata": {},
     "output_type": "execute_result"
    }
   ],
   "source": [
    "flt = float(input())\n",
    "print(flt)\n",
    "type(flt)"
   ]
  },
  {
   "cell_type": "code",
   "execution_count": 132,
   "id": "b6a20ac2",
   "metadata": {},
   "outputs": [
    {
     "data": {
      "text/plain": [
       "'    science    '"
      ]
     },
     "execution_count": 132,
     "metadata": {},
     "output_type": "execute_result"
    }
   ],
   "source": [
    "data"
   ]
  },
  {
   "cell_type": "code",
   "execution_count": null,
   "id": "93a73bea",
   "metadata": {},
   "outputs": [],
   "source": [
    "data_science.replace('extract','Remove')"
   ]
  },
  {
   "cell_type": "code",
   "execution_count": null,
   "id": "b23b31fa",
   "metadata": {},
   "outputs": [],
   "source": [
    "data_science_splitted[3]"
   ]
  },
  {
   "cell_type": "code",
   "execution_count": null,
   "id": "02e3f3f8",
   "metadata": {},
   "outputs": [],
   "source": [
    "data_science_splitted[0:12]"
   ]
  },
  {
   "cell_type": "code",
   "execution_count": null,
   "id": "fcf3ea2b",
   "metadata": {},
   "outputs": [],
   "source": [
    "data_science[0:18]"
   ]
  },
  {
   "cell_type": "code",
   "execution_count": null,
   "id": "7ad2fc0b",
   "metadata": {},
   "outputs": [],
   "source": [
    "help(str.center)"
   ]
  },
  {
   "cell_type": "code",
   "execution_count": null,
   "id": "10c7297c",
   "metadata": {},
   "outputs": [],
   "source": [
    "data_science_splitted[0].center(10,'#')"
   ]
  },
  {
   "cell_type": "code",
   "execution_count": null,
   "id": "e0ceba7f",
   "metadata": {},
   "outputs": [],
   "source": [
    "data_science_splitted[0].ljust(10,'#')"
   ]
  },
  {
   "cell_type": "code",
   "execution_count": null,
   "id": "c43f1fba",
   "metadata": {},
   "outputs": [],
   "source": [
    "data_science_splitted[0].rjust(10,'#')"
   ]
  },
  {
   "cell_type": "code",
   "execution_count": null,
   "id": "a3374223",
   "metadata": {},
   "outputs": [],
   "source": [
    "help(str.format)"
   ]
  },
  {
   "cell_type": "code",
   "execution_count": 187,
   "id": "f05865cd",
   "metadata": {
    "collapsed": true
   },
   "outputs": [
    {
     "name": "stdout",
     "output_type": "stream",
     "text": [
      "Enter your age: 60\n"
     ]
    }
   ],
   "source": [
    "age = int(input('Enter your age: '))\n",
    "age_info = 'My age is {}'.format(age)"
   ]
  },
  {
   "cell_type": "code",
   "execution_count": 188,
   "id": "78083eda",
   "metadata": {},
   "outputs": [
    {
     "name": "stdout",
     "output_type": "stream",
     "text": [
      "My age is 60\n"
     ]
    }
   ],
   "source": [
    "print(age_info)"
   ]
  },
  {
   "cell_type": "code",
   "execution_count": 185,
   "id": "b18f5029",
   "metadata": {},
   "outputs": [],
   "source": [
    "daat = 'The given age is'"
   ]
  },
  {
   "cell_type": "code",
   "execution_count": 186,
   "id": "338d3b7a",
   "metadata": {
    "collapsed": true
   },
   "outputs": [
    {
     "data": {
      "text/plain": [
       "'The given age is 70'"
      ]
     },
     "execution_count": 186,
     "metadata": {},
     "output_type": "execute_result"
    }
   ],
   "source": [
    "f'{daat} {age}'"
   ]
  },
  {
   "cell_type": "code",
   "execution_count": 194,
   "id": "d44f5703",
   "metadata": {
    "collapsed": true
   },
   "outputs": [
    {
     "name": "stdout",
     "output_type": "stream",
     "text": [
      "The given age is,50\n"
     ]
    }
   ],
   "source": [
    "print(f'{daat},{age}')"
   ]
  },
  {
   "cell_type": "code",
   "execution_count": 190,
   "id": "549c7df3",
   "metadata": {
    "collapsed": true
   },
   "outputs": [
    {
     "name": "stdout",
     "output_type": "stream",
     "text": [
      "Please enter your name: sam\n",
      "My name is sam\n"
     ]
    }
   ],
   "source": [
    "name = input('Please enter your name: ')\n",
    "print(f'My name is {name}')"
   ]
  },
  {
   "cell_type": "code",
   "execution_count": 193,
   "id": "a34842c2",
   "metadata": {},
   "outputs": [
    {
     "name": "stdout",
     "output_type": "stream",
     "text": [
      "Please enter your age: 50\n",
      "My age is 50\n"
     ]
    }
   ],
   "source": [
    "age = int(input('Please enter your age: '))\n",
    "print(f'My age is {age}')"
   ]
  },
  {
   "cell_type": "code",
   "execution_count": null,
   "id": "4f86161c",
   "metadata": {},
   "outputs": [],
   "source": [
    "type(age)"
   ]
  },
  {
   "cell_type": "code",
   "execution_count": 195,
   "id": "a18fca73",
   "metadata": {},
   "outputs": [
    {
     "name": "stdout",
     "output_type": "stream",
     "text": [
      "60\n",
      "My age is 60\n"
     ]
    }
   ],
   "source": [
    "print(f'My age is {int(input())}')"
   ]
  },
  {
   "cell_type": "code",
   "execution_count": null,
   "id": "0744ccf6",
   "metadata": {},
   "outputs": [],
   "source": [
    "# indexing starting with [0,1,2....]"
   ]
  },
  {
   "cell_type": "code",
   "execution_count": 200,
   "id": "1790f19d",
   "metadata": {},
   "outputs": [],
   "source": [
    "data = 'Datascience'"
   ]
  },
  {
   "cell_type": "code",
   "execution_count": 202,
   "id": "c5711155",
   "metadata": {},
   "outputs": [
    {
     "data": {
      "text/plain": [
       "('D', 'a', 't')"
      ]
     },
     "execution_count": 202,
     "metadata": {},
     "output_type": "execute_result"
    }
   ],
   "source": [
    "data[0],data[1],data[2]"
   ]
  },
  {
   "cell_type": "code",
   "execution_count": 206,
   "id": "4458ad09",
   "metadata": {},
   "outputs": [
    {
     "data": {
      "text/plain": [
       "'Data'"
      ]
     },
     "execution_count": 206,
     "metadata": {},
     "output_type": "execute_result"
    }
   ],
   "source": [
    "data[0:4]"
   ]
  },
  {
   "cell_type": "code",
   "execution_count": 208,
   "id": "ade6b988",
   "metadata": {},
   "outputs": [
    {
     "data": {
      "text/plain": [
       "'scienc'"
      ]
     },
     "execution_count": 208,
     "metadata": {},
     "output_type": "execute_result"
    }
   ],
   "source": [
    "data[4:10]"
   ]
  },
  {
   "cell_type": "code",
   "execution_count": 212,
   "id": "1ab5b5b6",
   "metadata": {},
   "outputs": [
    {
     "data": {
      "text/plain": [
       "'science'"
      ]
     },
     "execution_count": 212,
     "metadata": {},
     "output_type": "execute_result"
    }
   ],
   "source": [
    "data[4:]"
   ]
  },
  {
   "cell_type": "code",
   "execution_count": null,
   "id": "b9c3ec56",
   "metadata": {},
   "outputs": [],
   "source": [
    "data[start:end:step]"
   ]
  },
  {
   "cell_type": "code",
   "execution_count": 215,
   "id": "f052102d",
   "metadata": {},
   "outputs": [
    {
     "data": {
      "text/plain": [
       "'Daic'"
      ]
     },
     "execution_count": 215,
     "metadata": {},
     "output_type": "execute_result"
    }
   ],
   "source": [
    "data[0:11:3]"
   ]
  },
  {
   "cell_type": "code",
   "execution_count": 204,
   "id": "79062f57",
   "metadata": {},
   "outputs": [
    {
     "data": {
      "text/plain": [
       "'e'"
      ]
     },
     "execution_count": 204,
     "metadata": {},
     "output_type": "execute_result"
    }
   ],
   "source": [
    "data[10]"
   ]
  },
  {
   "cell_type": "code",
   "execution_count": 203,
   "id": "0acd955f",
   "metadata": {},
   "outputs": [
    {
     "data": {
      "text/plain": [
       "11"
      ]
     },
     "execution_count": 203,
     "metadata": {},
     "output_type": "execute_result"
    }
   ],
   "source": [
    "len(data)"
   ]
  },
  {
   "cell_type": "code",
   "execution_count": null,
   "id": "fd120b19",
   "metadata": {},
   "outputs": [],
   "source": []
  },
  {
   "cell_type": "code",
   "execution_count": null,
   "id": "71544917",
   "metadata": {},
   "outputs": [],
   "source": [
    "data[0],data[1],data[2]"
   ]
  },
  {
   "cell_type": "code",
   "execution_count": null,
   "id": "1862d6a7",
   "metadata": {},
   "outputs": [],
   "source": [
    "data[0].strip(), data[1].strip('.'),data[2].strip('#')"
   ]
  },
  {
   "cell_type": "code",
   "execution_count": null,
   "id": "a7d58834",
   "metadata": {},
   "outputs": [],
   "source": [
    "data[0].rstrip(), data[1].rstrip('.'),data[2].rstrip('#')"
   ]
  },
  {
   "cell_type": "code",
   "execution_count": null,
   "id": "6483512f",
   "metadata": {},
   "outputs": [],
   "source": [
    "data[0].lstrip(), data[1].lstrip('.'),data[2].lstrip('#')"
   ]
  },
  {
   "cell_type": "code",
   "execution_count": null,
   "id": "e4bc1812",
   "metadata": {},
   "outputs": [],
   "source": [
    "flt = 50.3\n",
    "type(flt)"
   ]
  },
  {
   "cell_type": "code",
   "execution_count": null,
   "id": "a9f7ac48",
   "metadata": {},
   "outputs": [],
   "source": [
    "bl = True\n",
    "type(bl)"
   ]
  },
  {
   "cell_type": "code",
   "execution_count": null,
   "id": "0965bd81",
   "metadata": {},
   "outputs": [],
   "source": [
    "cml = 10j + 10\n",
    "type(cml)"
   ]
  },
  {
   "cell_type": "code",
   "execution_count": null,
   "id": "aa4c9067",
   "metadata": {},
   "outputs": [],
   "source": [
    "intt = int(flt)\n",
    "float(intt)"
   ]
  },
  {
   "cell_type": "code",
   "execution_count": null,
   "id": "53c4b056",
   "metadata": {},
   "outputs": [],
   "source": [
    "str(intt)"
   ]
  },
  {
   "cell_type": "code",
   "execution_count": null,
   "id": "697e3bb8",
   "metadata": {},
   "outputs": [],
   "source": [
    "str(flt)"
   ]
  },
  {
   "cell_type": "code",
   "execution_count": null,
   "id": "05aec1ed",
   "metadata": {},
   "outputs": [],
   "source": [
    "bool(flt)"
   ]
  },
  {
   "cell_type": "code",
   "execution_count": null,
   "id": "36365b35",
   "metadata": {},
   "outputs": [],
   "source": [
    "b = True\n",
    "complex(b)"
   ]
  },
  {
   "cell_type": "code",
   "execution_count": null,
   "id": "401834e7",
   "metadata": {},
   "outputs": [],
   "source": []
  },
  {
   "cell_type": "markdown",
   "id": "7baf0593",
   "metadata": {},
   "source": [
    "# String manipulation"
   ]
  },
  {
   "cell_type": "code",
   "execution_count": null,
   "id": "d738769c",
   "metadata": {},
   "outputs": [],
   "source": [
    "# Defination of data science\n",
    "data_science = '''DATA science combines math and statistics, specialized programming, advanced analytics,\"\n",
    "artificial intelligence (AI), and \\tmachine learning with specific subject matter expertise to\n",
    "uncover \\tactionable insights hidden in an organization's data.'''"
   ]
  },
  {
   "cell_type": "code",
   "execution_count": null,
   "id": "b7a3a6e6",
   "metadata": {},
   "outputs": [],
   "source": [
    "data_science.capitalize()"
   ]
  },
  {
   "cell_type": "code",
   "execution_count": null,
   "id": "1cf56bac",
   "metadata": {},
   "outputs": [],
   "source": [
    "data_science.upper()"
   ]
  },
  {
   "cell_type": "code",
   "execution_count": null,
   "id": "780304aa",
   "metadata": {},
   "outputs": [],
   "source": [
    "data_science.lower()"
   ]
  },
  {
   "cell_type": "markdown",
   "id": "fbc972c2",
   "metadata": {},
   "source": [
    "variables"
   ]
  },
  {
   "cell_type": "code",
   "execution_count": null,
   "id": "fff3fe4d",
   "metadata": {},
   "outputs": [],
   "source": [
    "data_science.casefold()"
   ]
  },
  {
   "cell_type": "code",
   "execution_count": null,
   "id": "f6c88c9b",
   "metadata": {},
   "outputs": [],
   "source": [
    "data_science.center(5,' ')"
   ]
  },
  {
   "cell_type": "code",
   "execution_count": null,
   "id": "481df854",
   "metadata": {},
   "outputs": [],
   "source": [
    "en = data_science.encode(encoding='ASCII', errors='strict')"
   ]
  },
  {
   "cell_type": "code",
   "execution_count": null,
   "id": "effe3e64",
   "metadata": {},
   "outputs": [],
   "source": [
    "en"
   ]
  },
  {
   "cell_type": "code",
   "execution_count": null,
   "id": "9f45a650",
   "metadata": {},
   "outputs": [],
   "source": [
    "data_science.endswith('/'), data_science.startswith('D')"
   ]
  },
  {
   "cell_type": "code",
   "execution_count": null,
   "id": "23287f9c",
   "metadata": {},
   "outputs": [],
   "source": [
    "indexing = 0... D->0, A-> 1,T->2,A->3"
   ]
  },
  {
   "cell_type": "code",
   "execution_count": null,
   "id": "fb4e991a",
   "metadata": {},
   "outputs": [],
   "source": [
    "len(data_science)"
   ]
  },
  {
   "cell_type": "code",
   "execution_count": null,
   "id": "86ceeb90",
   "metadata": {},
   "outputs": [],
   "source": [
    "data_science.count('a')"
   ]
  },
  {
   "cell_type": "code",
   "execution_count": null,
   "id": "cc25690d",
   "metadata": {},
   "outputs": [],
   "source": [
    "data_science.index('math')"
   ]
  },
  {
   "cell_type": "code",
   "execution_count": null,
   "id": "0e4a799e",
   "metadata": {},
   "outputs": [],
   "source": [
    "data_science.find('math')"
   ]
  },
  {
   "cell_type": "code",
   "execution_count": null,
   "id": "0952b802",
   "metadata": {},
   "outputs": [],
   "source": [
    "dt_split= data_science.split()\n",
    "dt_split"
   ]
  },
  {
   "cell_type": "code",
   "execution_count": null,
   "id": "3572224c",
   "metadata": {},
   "outputs": [],
   "source": [
    "dt_split[0].center(10,'0')"
   ]
  },
  {
   "cell_type": "code",
   "execution_count": null,
   "id": "ea3f59db",
   "metadata": {},
   "outputs": [],
   "source": [
    "dt_split[0].rjust(10,'0')"
   ]
  },
  {
   "cell_type": "code",
   "execution_count": null,
   "id": "fbcb512d",
   "metadata": {},
   "outputs": [],
   "source": [
    "dt_split[0].rjust(10,'0')[0].ljust(10,'0')"
   ]
  },
  {
   "cell_type": "code",
   "execution_count": null,
   "id": "c0ae1c47",
   "metadata": {},
   "outputs": [],
   "source": [
    "dt_split[12].strip('()')"
   ]
  },
  {
   "cell_type": "code",
   "execution_count": null,
   "id": "ecfd1699",
   "metadata": {},
   "outputs": [],
   "source": [
    "dt_split[12].lstrip('()')"
   ]
  },
  {
   "cell_type": "code",
   "execution_count": null,
   "id": "7dcea35e",
   "metadata": {},
   "outputs": [],
   "source": [
    "dt_split[12].rstrip(',')"
   ]
  },
  {
   "cell_type": "code",
   "execution_count": null,
   "id": "489dcf22",
   "metadata": {},
   "outputs": [],
   "source": [
    "str1 = ',data,'"
   ]
  },
  {
   "cell_type": "code",
   "execution_count": null,
   "id": "8a19c2ba",
   "metadata": {},
   "outputs": [],
   "source": [
    "str1.rstrip(',')"
   ]
  },
  {
   "cell_type": "code",
   "execution_count": null,
   "id": "9101ee04",
   "metadata": {},
   "outputs": [],
   "source": [
    "str2 = \"data, data,and ,data, data is everywhere, data science depends on data.\""
   ]
  },
  {
   "cell_type": "code",
   "execution_count": null,
   "id": "9c9e5539",
   "metadata": {},
   "outputs": [],
   "source": [
    "str2.replace('data','science')"
   ]
  },
  {
   "cell_type": "code",
   "execution_count": null,
   "id": "bc073864",
   "metadata": {},
   "outputs": [],
   "source": [
    "data_science.expandtabs(tabsize=30)"
   ]
  },
  {
   "cell_type": "code",
   "execution_count": null,
   "id": "7e62e778",
   "metadata": {},
   "outputs": [],
   "source": [
    "len(data_science)"
   ]
  },
  {
   "cell_type": "code",
   "execution_count": null,
   "id": "399d7b6c",
   "metadata": {},
   "outputs": [],
   "source": [
    "data_science.count('t')"
   ]
  },
  {
   "cell_type": "code",
   "execution_count": null,
   "id": "35aa4dda",
   "metadata": {},
   "outputs": [],
   "source": [
    "data_science.find('a')"
   ]
  },
  {
   "cell_type": "code",
   "execution_count": null,
   "id": "02c9e93c",
   "metadata": {},
   "outputs": [],
   "source": [
    "data_science.index('t')"
   ]
  },
  {
   "cell_type": "code",
   "execution_count": null,
   "id": "9f611fa2",
   "metadata": {},
   "outputs": [],
   "source": [
    "data_science"
   ]
  },
  {
   "cell_type": "code",
   "execution_count": null,
   "id": "cfe0b87b",
   "metadata": {},
   "outputs": [],
   "source": [
    "data_science.split(sep=',')"
   ]
  },
  {
   "cell_type": "code",
   "execution_count": null,
   "id": "dfad7b56",
   "metadata": {},
   "outputs": [],
   "source": [
    "tt = data_science.split()"
   ]
  },
  {
   "cell_type": "code",
   "execution_count": null,
   "id": "dfc6075e",
   "metadata": {},
   "outputs": [],
   "source": [
    "print(tt)"
   ]
  },
  {
   "cell_type": "code",
   "execution_count": null,
   "id": "2a0cbb91",
   "metadata": {},
   "outputs": [],
   "source": [
    "tt[0]"
   ]
  },
  {
   "cell_type": "code",
   "execution_count": null,
   "id": "8ea1b4da",
   "metadata": {},
   "outputs": [],
   "source": [
    "tt[0].center(10,' '), tt[0].rjust(10,'#'),     tt[0].ljust(10,'#')"
   ]
  },
  {
   "cell_type": "code",
   "execution_count": null,
   "id": "e8138acd",
   "metadata": {},
   "outputs": [],
   "source": [
    "r = 'EXCELR'"
   ]
  },
  {
   "cell_type": "code",
   "execution_count": null,
   "id": "17263c38",
   "metadata": {},
   "outputs": [],
   "source": [
    "data_science"
   ]
  },
  {
   "cell_type": "code",
   "execution_count": null,
   "id": "23b9411c",
   "metadata": {},
   "outputs": [],
   "source": [
    "data_science.replace('data',r)"
   ]
  },
  {
   "cell_type": "code",
   "execution_count": null,
   "id": "e617aec3",
   "metadata": {},
   "outputs": [],
   "source": [
    "ff = data_science.swapcase()"
   ]
  },
  {
   "cell_type": "code",
   "execution_count": null,
   "id": "4a0db6d2",
   "metadata": {},
   "outputs": [],
   "source": [
    "ff"
   ]
  },
  {
   "cell_type": "code",
   "execution_count": null,
   "id": "6b8a41f3",
   "metadata": {},
   "outputs": [],
   "source": [
    "ff.swapcase()"
   ]
  },
  {
   "cell_type": "code",
   "execution_count": null,
   "id": "e3dca5ac",
   "metadata": {},
   "outputs": [],
   "source": [
    "t = ff.swapcase()\n",
    "t"
   ]
  },
  {
   "cell_type": "code",
   "execution_count": null,
   "id": "403bc76d",
   "metadata": {},
   "outputs": [],
   "source": [
    "tt[2].upper()"
   ]
  },
  {
   "cell_type": "code",
   "execution_count": null,
   "id": "5e67d5cf",
   "metadata": {},
   "outputs": [],
   "source": [
    "str, int, char, float, double, bool, complex, list, dict, tuple"
   ]
  },
  {
   "cell_type": "code",
   "execution_count": null,
   "id": "6327c248",
   "metadata": {},
   "outputs": [],
   "source": [
    "type(data_science)"
   ]
  },
  {
   "cell_type": "code",
   "execution_count": null,
   "id": "cafdcfb3",
   "metadata": {},
   "outputs": [],
   "source": [
    "age = \n",
    "age."
   ]
  },
  {
   "cell_type": "code",
   "execution_count": null,
   "id": "8d4ad50c",
   "metadata": {},
   "outputs": [],
   "source": [
    "weight = 56.5\n",
    "type(weight)"
   ]
  },
  {
   "cell_type": "code",
   "execution_count": null,
   "id": "ed992d3c",
   "metadata": {},
   "outputs": [],
   "source": [
    "age_w = 10j + 50\n",
    "age_w.real"
   ]
  },
  {
   "cell_type": "markdown",
   "id": "c37ca18c",
   "metadata": {},
   "source": [
    "# Type casting--> convertion of data type                "
   ]
  },
  {
   "cell_type": "code",
   "execution_count": null,
   "id": "1130298c",
   "metadata": {},
   "outputs": [],
   "source": [
    "int(),float(),complex(),str(),bool() = True, False,object()"
   ]
  },
  {
   "cell_type": "code",
   "execution_count": null,
   "id": "617c66cd",
   "metadata": {},
   "outputs": [],
   "source": [
    "age = 25\n",
    "print(age)"
   ]
  },
  {
   "cell_type": "code",
   "execution_count": null,
   "id": "0f160eb5",
   "metadata": {},
   "outputs": [],
   "source": [
    "age_flt = float(age)\n",
    "age_flt"
   ]
  },
  {
   "cell_type": "code",
   "execution_count": null,
   "id": "f3588804",
   "metadata": {},
   "outputs": [],
   "source": [
    "num = 56.6\n",
    "num_int = int(num)\n",
    "num_int"
   ]
  },
  {
   "cell_type": "code",
   "execution_count": null,
   "id": "66ed79ab",
   "metadata": {},
   "outputs": [],
   "source": [
    "weight = '56'\n",
    "type(weight)"
   ]
  },
  {
   "cell_type": "code",
   "execution_count": null,
   "id": "423a9c65",
   "metadata": {},
   "outputs": [],
   "source": [
    "weight_int = int(weight)\n",
    "weight_int"
   ]
  },
  {
   "cell_type": "code",
   "execution_count": null,
   "id": "7e1659e5",
   "metadata": {},
   "outputs": [],
   "source": [
    "weight_flt = float(weight)\n",
    "weight_flt"
   ]
  },
  {
   "cell_type": "code",
   "execution_count": null,
   "id": "37f8fdc3",
   "metadata": {},
   "outputs": [],
   "source": [
    "weight_cmp = complex(weight)\n",
    "weight_cmp"
   ]
  },
  {
   "cell_type": "code",
   "execution_count": null,
   "id": "1462e1b6",
   "metadata": {},
   "outputs": [],
   "source": [
    "cmp = 10+6j\n",
    "type(cmp)"
   ]
  },
  {
   "cell_type": "code",
   "execution_count": null,
   "id": "d37463de",
   "metadata": {},
   "outputs": [],
   "source": [
    "float(cmp)"
   ]
  },
  {
   "cell_type": "code",
   "execution_count": null,
   "id": "ec4b8d43",
   "metadata": {},
   "outputs": [],
   "source": [
    "weight_str = str(weight)\n",
    "weight_str"
   ]
  },
  {
   "cell_type": "code",
   "execution_count": null,
   "id": "197226f1",
   "metadata": {},
   "outputs": [],
   "source": [
    "num = '56.9'\n",
    "float(num)"
   ]
  },
  {
   "cell_type": "code",
   "execution_count": null,
   "id": "3c8d6f87",
   "metadata": {},
   "outputs": [],
   "source": [
    "name = 'a10'\n",
    "name_int = int(name)"
   ]
  },
  {
   "cell_type": "code",
   "execution_count": null,
   "id": "241bb683",
   "metadata": {},
   "outputs": [],
   "source": [
    "weight1 = int(weight)\n",
    "print(weight1)"
   ]
  },
  {
   "cell_type": "code",
   "execution_count": null,
   "id": "ec9a6641",
   "metadata": {},
   "outputs": [],
   "source": [
    "weight1 = complex(weight)\n",
    "print(weight1)"
   ]
  },
  {
   "cell_type": "code",
   "execution_count": null,
   "id": "44e5dafe",
   "metadata": {},
   "outputs": [],
   "source": [
    "t3 = '12'\n",
    "type(int(t3))"
   ]
  },
  {
   "cell_type": "code",
   "execution_count": null,
   "id": "4fd94699",
   "metadata": {},
   "outputs": [],
   "source": [
    "data_science1 ='10'"
   ]
  },
  {
   "cell_type": "code",
   "execution_count": null,
   "id": "96a473e8",
   "metadata": {},
   "outputs": [],
   "source": [
    "type(data_science1)"
   ]
  },
  {
   "cell_type": "code",
   "execution_count": null,
   "id": "e7d3457e",
   "metadata": {},
   "outputs": [],
   "source": [
    "dt1 = int(data_science1)\n",
    "print('converted to string to integer',dt1,type(dt1))"
   ]
  },
  {
   "cell_type": "markdown",
   "id": "29101501",
   "metadata": {},
   "source": [
    "# Task 1: create a two variable, marks1 in floating and marks2 in string type, and Arithmetic operators."
   ]
  },
  {
   "cell_type": "code",
   "execution_count": null,
   "id": "268d1f77",
   "metadata": {},
   "outputs": [],
   "source": [
    "int()\n",
    "str()\n",
    "float()\n",
    "complex()\n",
    "bool()\n",
    "list()\n",
    "dict()\n",
    "tuple()"
   ]
  },
  {
   "cell_type": "code",
   "execution_count": null,
   "id": "ecfaa2b4",
   "metadata": {},
   "outputs": [],
   "source": [
    "f = 10\n",
    "s = 's'\n",
    "f + s"
   ]
  },
  {
   "cell_type": "code",
   "execution_count": null,
   "id": "947c78f3",
   "metadata": {},
   "outputs": [],
   "source": [
    "age = 56.0\n",
    "type(int(age))"
   ]
  },
  {
   "cell_type": "code",
   "execution_count": null,
   "id": "015cfc97",
   "metadata": {},
   "outputs": [],
   "source": [
    "weight = 'datsc' + '2'\n",
    "weight\n"
   ]
  },
  {
   "cell_type": "markdown",
   "id": "955d9a24",
   "metadata": {},
   "source": [
    "# Indexing nd sclicing"
   ]
  },
  {
   "cell_type": "code",
   "execution_count": null,
   "id": "66b9fc0f",
   "metadata": {},
   "outputs": [],
   "source": [
    "data_science"
   ]
  },
  {
   "cell_type": "code",
   "execution_count": null,
   "id": "9ee0fca2",
   "metadata": {},
   "outputs": [],
   "source": [
    "data_science[start: end: step]"
   ]
  },
  {
   "cell_type": "code",
   "execution_count": null,
   "id": "14e1adbe",
   "metadata": {},
   "outputs": [],
   "source": [
    "len(data_science)"
   ]
  },
  {
   "cell_type": "code",
   "execution_count": null,
   "id": "1051e6ea",
   "metadata": {},
   "outputs": [],
   "source": [
    "data_science[0:12:5]"
   ]
  },
  {
   "cell_type": "code",
   "execution_count": null,
   "id": "2cbcc48c",
   "metadata": {},
   "outputs": [],
   "source": [
    "data_science[-5:-1:2]"
   ]
  },
  {
   "cell_type": "code",
   "execution_count": null,
   "id": "263e35a7",
   "metadata": {},
   "outputs": [],
   "source": [
    "data_science[5:]"
   ]
  },
  {
   "cell_type": "code",
   "execution_count": null,
   "id": "adcfad55",
   "metadata": {},
   "outputs": [],
   "source": [
    "data_science[5::6]"
   ]
  },
  {
   "cell_type": "code",
   "execution_count": null,
   "id": "4d0bf731",
   "metadata": {},
   "outputs": [],
   "source": [
    "data_science[:-1:6]"
   ]
  },
  {
   "cell_type": "code",
   "execution_count": null,
   "id": "dfa6cf88",
   "metadata": {},
   "outputs": [],
   "source": [
    "ization's data."
   ]
  },
  {
   "cell_type": "code",
   "execution_count": null,
   "id": "916a749c",
   "metadata": {},
   "outputs": [],
   "source": [
    "data_science[-15:-10:-2]"
   ]
  },
  {
   "cell_type": "code",
   "execution_count": null,
   "id": "e74981e9",
   "metadata": {},
   "outputs": [],
   "source": [
    "data_science[:-1]"
   ]
  },
  {
   "cell_type": "code",
   "execution_count": null,
   "id": "b2be0f5f",
   "metadata": {},
   "outputs": [],
   "source": [
    "data_science[10:50]"
   ]
  },
  {
   "cell_type": "code",
   "execution_count": null,
   "id": "26be9a29",
   "metadata": {},
   "outputs": [],
   "source": [
    "# data science combines math and statistics, specialized \\tprog"
   ]
  },
  {
   "cell_type": "code",
   "execution_count": null,
   "id": "65a74eb3",
   "metadata": {},
   "outputs": [],
   "source": [
    "data_science[::]"
   ]
  },
  {
   "cell_type": "code",
   "execution_count": null,
   "id": "f707027a",
   "metadata": {},
   "outputs": [],
   "source": [
    "data_science[-5:-1:2]"
   ]
  },
  {
   "cell_type": "code",
   "execution_count": null,
   "id": "d6db5f7a",
   "metadata": {},
   "outputs": [],
   "source": [
    "data_science[-10:]"
   ]
  },
  {
   "cell_type": "markdown",
   "id": "b5939254",
   "metadata": {},
   "source": [
    "accessing index:\n",
    "[start:End:Step]\n"
   ]
  },
  {
   "cell_type": "code",
   "execution_count": null,
   "id": "014eab6a",
   "metadata": {},
   "outputs": [],
   "source": [
    "data_science"
   ]
  },
  {
   "cell_type": "code",
   "execution_count": null,
   "id": "7ecc470f",
   "metadata": {},
   "outputs": [],
   "source": [
    "data_science[-10:-1]"
   ]
  },
  {
   "cell_type": "code",
   "execution_count": null,
   "id": "d3bc1de8",
   "metadata": {},
   "outputs": [],
   "source": [
    "data_science[:5:]"
   ]
  },
  {
   "cell_type": "code",
   "execution_count": null,
   "id": "68a87059",
   "metadata": {},
   "outputs": [],
   "source": [
    "data_science[::6]"
   ]
  },
  {
   "cell_type": "code",
   "execution_count": null,
   "id": "ebf51044",
   "metadata": {},
   "outputs": [],
   "source": [
    "print(data_science)"
   ]
  },
  {
   "cell_type": "markdown",
   "id": "e9416c91",
   "metadata": {},
   "source": [
    "# formating using format\n"
   ]
  },
  {
   "cell_type": "code",
   "execution_count": null,
   "id": "53088273",
   "metadata": {},
   "outputs": [],
   "source": [
    "formating--> {},%,.format(), f string"
   ]
  },
  {
   "cell_type": "code",
   "execution_count": null,
   "id": "f55a89f2",
   "metadata": {},
   "outputs": [],
   "source": [
    "str.format()"
   ]
  },
  {
   "cell_type": "code",
   "execution_count": null,
   "id": "b853ee7b",
   "metadata": {},
   "outputs": [],
   "source": [
    "x = 'sam'"
   ]
  },
  {
   "cell_type": "code",
   "execution_count": null,
   "id": "db70ecb8",
   "metadata": {},
   "outputs": [],
   "source": [
    "print(f'my name is {x}, my sisters name ia also {x}, everybody haveing a name of age')"
   ]
  },
  {
   "cell_type": "code",
   "execution_count": null,
   "id": "fcfa645f",
   "metadata": {},
   "outputs": [],
   "source": [
    "print('my name is {}, and my age is {} years'.format(x, age))"
   ]
  },
  {
   "cell_type": "code",
   "execution_count": null,
   "id": "29a7c996",
   "metadata": {},
   "outputs": [],
   "source": []
  },
  {
   "cell_type": "code",
   "execution_count": null,
   "id": "92e0534d",
   "metadata": {},
   "outputs": [],
   "source": [
    "statment = 'my age is {} years, my weight is {}kg.'"
   ]
  },
  {
   "cell_type": "code",
   "execution_count": null,
   "id": "2bb7e76d",
   "metadata": {},
   "outputs": [],
   "source": [
    "statment.format(weight,age)"
   ]
  },
  {
   "cell_type": "code",
   "execution_count": null,
   "id": "041e685d",
   "metadata": {},
   "outputs": [],
   "source": [
    "statment1 = f'My age is {age}, my weight is {weight}.{age},{age + 10}'\n",
    "statment1"
   ]
  },
  {
   "cell_type": "code",
   "execution_count": null,
   "id": "ad15f595",
   "metadata": {},
   "outputs": [],
   "source": [
    "input()"
   ]
  },
  {
   "cell_type": "markdown",
   "id": "08e58aae",
   "metadata": {},
   "source": [
    "# User input funciton\n",
    "input()"
   ]
  },
  {
   "cell_type": "code",
   "execution_count": null,
   "id": "51c8bbd2",
   "metadata": {},
   "outputs": [],
   "source": [
    "Y = input()"
   ]
  },
  {
   "cell_type": "code",
   "execution_count": null,
   "id": "37451238",
   "metadata": {},
   "outputs": [],
   "source": [
    "type(Y)"
   ]
  },
  {
   "cell_type": "code",
   "execution_count": null,
   "id": "8dc5830c",
   "metadata": {},
   "outputs": [],
   "source": [
    "Z = int(input())\n",
    "print(Z)"
   ]
  },
  {
   "cell_type": "code",
   "execution_count": null,
   "id": "6ad3fb07",
   "metadata": {},
   "outputs": [],
   "source": [
    "T = input('Enter your name: ')\n",
    "print(T)"
   ]
  },
  {
   "cell_type": "code",
   "execution_count": null,
   "id": "09715500",
   "metadata": {},
   "outputs": [],
   "source": [
    "Z = int(input())"
   ]
  },
  {
   "cell_type": "code",
   "execution_count": null,
   "id": "e11254ed",
   "metadata": {},
   "outputs": [],
   "source": [
    "print(type(Z))"
   ]
  },
  {
   "cell_type": "code",
   "execution_count": null,
   "id": "dd1b03e5",
   "metadata": {},
   "outputs": [],
   "source": [
    "x1 = input('Please give your age int intger: ')"
   ]
  },
  {
   "cell_type": "code",
   "execution_count": null,
   "id": "7d74b7dd",
   "metadata": {},
   "outputs": [],
   "source": [
    "x1"
   ]
  },
  {
   "cell_type": "code",
   "execution_count": null,
   "id": "a1606440",
   "metadata": {},
   "outputs": [],
   "source": [
    "y = f'my age is two times of {x1}'\n",
    "y"
   ]
  },
  {
   "cell_type": "code",
   "execution_count": null,
   "id": "700994aa",
   "metadata": {},
   "outputs": [],
   "source": [
    "s = f'Data science is the study of data{input()} to extract meaningful insights for business.{input()}'"
   ]
  },
  {
   "cell_type": "code",
   "execution_count": null,
   "id": "600c74b8",
   "metadata": {},
   "outputs": [],
   "source": [
    "s"
   ]
  },
  {
   "cell_type": "code",
   "execution_count": null,
   "id": "d38b5e17",
   "metadata": {},
   "outputs": [],
   "source": [
    "student_details = 'On an average my students atendence is {}, and absence is {}'.format(\n",
    "                                                                {input('please give the present attendece: ')},\n",
    "                                                                {input(\"please give the absent atendence: \")})\n",
    "print(student_details)"
   ]
  },
  {
   "cell_type": "code",
   "execution_count": null,
   "id": "9c08b657",
   "metadata": {},
   "outputs": [],
   "source": [
    "print(int(student_details))"
   ]
  },
  {
   "cell_type": "code",
   "execution_count": null,
   "id": "35a4bc82",
   "metadata": {},
   "outputs": [],
   "source": [
    "a = int(input('enter the value'))"
   ]
  },
  {
   "cell_type": "code",
   "execution_count": null,
   "id": "87ad62a7",
   "metadata": {},
   "outputs": [],
   "source": [
    "import math\n",
    "math.pi,math.e"
   ]
  },
  {
   "cell_type": "code",
   "execution_count": null,
   "id": "82427a5d",
   "metadata": {},
   "outputs": [],
   "source": [
    "d = math.sqrt((x2-x1)**2 + (y2-y1)**2)\n",
    "d"
   ]
  },
  {
   "cell_type": "code",
   "execution_count": null,
   "id": "608a83db",
   "metadata": {},
   "outputs": [],
   "source": [
    "(x1,x2) = 10,15\n",
    "(y1,y2) = 5,10"
   ]
  },
  {
   "cell_type": "markdown",
   "id": "4fa5d39b",
   "metadata": {},
   "source": [
    "## Task 2: create a 3 a variables with r, B,h, taking value by the user input, and calculate the \n",
    "valume spear --> v = 4 * pi * r^3/3 \n",
    "area of triangle --> A = 1/2 bh\n",
    "distance of two points --> d = sqrt((x2 - x1)^2 + (y2 - y1)^2])\n",
    "Slope of line --> m = (y2 - y1) / (x2 - x1)"
   ]
  },
  {
   "cell_type": "code",
   "execution_count": null,
   "id": "d1cc7fb1",
   "metadata": {},
   "outputs": [],
   "source": [
    "r = int(input('Give the radius: '))\n",
    "V = round(4/3 * math.pi * (r**3),2)\n",
    "Volume = f'The volume of the spear is {V}'\n",
    "print(Volume)"
   ]
  },
  {
   "cell_type": "code",
   "execution_count": null,
   "id": "b98a3f1f",
   "metadata": {},
   "outputs": [],
   "source": [
    "b = int(input('Give the breadth: '))\n",
    "h = int(input('Give the hight of triangle: '))\n",
    "area_of_triangle = 1/2 * (b*h)\n",
    "print(f'The area of the traiangle for the given bradth: {b} and hight: {h} is {area_of_triangle}')"
   ]
  },
  {
   "cell_type": "code",
   "execution_count": null,
   "id": "a442c907",
   "metadata": {},
   "outputs": [],
   "source": [
    "(x1,x2) = 10,15\n",
    "(y1,y2) = 5,10"
   ]
  },
  {
   "cell_type": "code",
   "execution_count": null,
   "id": "1165b158",
   "metadata": {},
   "outputs": [],
   "source": [
    "distance = math.sqrt(((x2 - x1)**2 + (y2 - y1)**2))\n",
    "print(f'the Distance of given coordinates are {round(distance,2)}')\n",
    "\n",
    "m = (y2 - y1) / (x2 - x1)\n",
    "print(f'The slope of the coordinates is {m}')"
   ]
  },
  {
   "cell_type": "code",
   "execution_count": null,
   "id": "430ea28b",
   "metadata": {},
   "outputs": [],
   "source": []
  },
  {
   "cell_type": "markdown",
   "id": "6ee91644",
   "metadata": {},
   "source": [
    "# string concatination"
   ]
  },
  {
   "cell_type": "code",
   "execution_count": null,
   "id": "4a4ad7ba",
   "metadata": {},
   "outputs": [],
   "source": [
    "statment1 = 'My DS class is at 9.30 am'\n",
    "statment2 =  'The strength is on an average 50'"
   ]
  },
  {
   "cell_type": "code",
   "execution_count": null,
   "id": "a07cee13",
   "metadata": {},
   "outputs": [],
   "source": [
    "statment1 + statment2"
   ]
  },
  {
   "cell_type": "code",
   "execution_count": null,
   "id": "2080a55c",
   "metadata": {},
   "outputs": [],
   "source": [
    "d = statment1 +'.....'+ statment2\n",
    "d"
   ]
  },
  {
   "cell_type": "code",
   "execution_count": null,
   "id": "9057f25d",
   "metadata": {},
   "outputs": [],
   "source": [
    "s = statment1 * 2\n",
    "print(s)"
   ]
  },
  {
   "cell_type": "code",
   "execution_count": null,
   "id": "dda61f9e",
   "metadata": {},
   "outputs": [],
   "source": [
    "print('sam'.join('\\t'*3))"
   ]
  },
  {
   "cell_type": "code",
   "execution_count": null,
   "id": "cf736626",
   "metadata": {},
   "outputs": [],
   "source": [
    "len(statment1[0:10])"
   ]
  },
  {
   "cell_type": "code",
   "execution_count": null,
   "id": "5937f3e0",
   "metadata": {},
   "outputs": [],
   "source": [
    "len(statment2)"
   ]
  },
  {
   "cell_type": "code",
   "execution_count": null,
   "id": "437b3271",
   "metadata": {},
   "outputs": [],
   "source": [
    "age"
   ]
  },
  {
   "cell_type": "code",
   "execution_count": null,
   "id": "6cdfbfb1",
   "metadata": {},
   "outputs": [],
   "source": [
    "statment1.format(age)"
   ]
  },
  {
   "cell_type": "code",
   "execution_count": null,
   "id": "834abf46",
   "metadata": {},
   "outputs": [],
   "source": [
    "str.format(), f'',input(),len(),type(),math.pi(),math.sqrt(),print(),int(),float(),str(),pow()\n",
    "min(),max(),sum()"
   ]
  },
  {
   "cell_type": "code",
   "execution_count": null,
   "id": "312465f4",
   "metadata": {},
   "outputs": [],
   "source": [
    "import math\n",
    "dir(math.tan.__doc__)"
   ]
  },
  {
   "cell_type": "code",
   "execution_count": null,
   "id": "34bfde68",
   "metadata": {},
   "outputs": [],
   "source": [
    "name = input(\"Please enter the string: \")\n",
    "print(f'The Length of name variable is: {len(name)}')"
   ]
  },
  {
   "cell_type": "markdown",
   "id": "39558666",
   "metadata": {},
   "source": [
    "# List, Dict, Tuple, set"
   ]
  },
  {
   "cell_type": "markdown",
   "id": "f5ba1ad6",
   "metadata": {},
   "source": [
    "list creates using [], it can store int, float, str, time, --> all type of the data type."
   ]
  },
  {
   "cell_type": "code",
   "execution_count": null,
   "id": "1579fb36",
   "metadata": {},
   "outputs": [],
   "source": [
    "list1 = []"
   ]
  },
  {
   "cell_type": "code",
   "execution_count": null,
   "id": "b12d1969",
   "metadata": {},
   "outputs": [],
   "source": [
    "type(list1)"
   ]
  },
  {
   "cell_type": "code",
   "execution_count": null,
   "id": "243c2c47",
   "metadata": {},
   "outputs": [],
   "source": [
    "List1 = [10,11,12,13,14,15,16,15]"
   ]
  },
  {
   "cell_type": "code",
   "execution_count": null,
   "id": "82288919",
   "metadata": {},
   "outputs": [],
   "source": [
    "type(List1)"
   ]
  },
  {
   "cell_type": "code",
   "execution_count": null,
   "id": "c863fd78",
   "metadata": {},
   "outputs": [],
   "source": [
    "print(List1)"
   ]
  },
  {
   "cell_type": "code",
   "execution_count": null,
   "id": "77f25fe1",
   "metadata": {},
   "outputs": [],
   "source": [
    "List2 = [10,11.2,'excelr',10j+12,True]"
   ]
  },
  {
   "cell_type": "code",
   "execution_count": null,
   "id": "36d85864",
   "metadata": {},
   "outputs": [],
   "source": [
    "type(List2)"
   ]
  },
  {
   "cell_type": "code",
   "execution_count": null,
   "id": "60ee8ce9",
   "metadata": {},
   "outputs": [],
   "source": [
    "print(List2)"
   ]
  },
  {
   "cell_type": "code",
   "execution_count": null,
   "id": "30e6da3d",
   "metadata": {},
   "outputs": [],
   "source": [
    "type(List2[4])"
   ]
  },
  {
   "cell_type": "code",
   "execution_count": null,
   "id": "84461332",
   "metadata": {},
   "outputs": [],
   "source": [
    "List1.append(17)"
   ]
  },
  {
   "cell_type": "code",
   "execution_count": null,
   "id": "07f7ef73",
   "metadata": {},
   "outputs": [],
   "source": [
    "List1"
   ]
  },
  {
   "cell_type": "code",
   "execution_count": null,
   "id": "5df18afa",
   "metadata": {},
   "outputs": [],
   "source": [
    "List1.append([18,19])"
   ]
  },
  {
   "cell_type": "code",
   "execution_count": null,
   "id": "65c508d0",
   "metadata": {},
   "outputs": [],
   "source": [
    "List1"
   ]
  },
  {
   "cell_type": "code",
   "execution_count": null,
   "id": "8b7c7588",
   "metadata": {},
   "outputs": [],
   "source": [
    "18,19 in List1"
   ]
  },
  {
   "cell_type": "code",
   "execution_count": null,
   "id": "dfd94e0f",
   "metadata": {},
   "outputs": [],
   "source": [
    "List3 = List1.copy()\n",
    "List3"
   ]
  },
  {
   "cell_type": "code",
   "execution_count": null,
   "id": "3990480a",
   "metadata": {},
   "outputs": [],
   "source": [
    "List3.count([18,19])"
   ]
  },
  {
   "cell_type": "code",
   "execution_count": null,
   "id": "237455f4",
   "metadata": {},
   "outputs": [],
   "source": [
    "List3.extend([21,22,23])"
   ]
  },
  {
   "cell_type": "code",
   "execution_count": null,
   "id": "0d04c009",
   "metadata": {},
   "outputs": [],
   "source": [
    "List3"
   ]
  },
  {
   "cell_type": "code",
   "execution_count": null,
   "id": "a944ecb4",
   "metadata": {},
   "outputs": [],
   "source": [
    "List3.index(15)"
   ]
  },
  {
   "cell_type": "code",
   "execution_count": null,
   "id": "f3106471",
   "metadata": {},
   "outputs": [],
   "source": [
    "List1.insert(5,90)"
   ]
  },
  {
   "cell_type": "code",
   "execution_count": null,
   "id": "6c538303",
   "metadata": {},
   "outputs": [],
   "source": [
    "List3.insert(0,9)\n",
    "List3"
   ]
  },
  {
   "cell_type": "code",
   "execution_count": null,
   "id": "02840638",
   "metadata": {},
   "outputs": [],
   "source": [
    "List3.pop(3)"
   ]
  },
  {
   "cell_type": "code",
   "execution_count": null,
   "id": "dea6dafd",
   "metadata": {},
   "outputs": [],
   "source": [
    "List1.pop(2)"
   ]
  },
  {
   "cell_type": "code",
   "execution_count": null,
   "id": "b868db72",
   "metadata": {},
   "outputs": [],
   "source": [
    "List1"
   ]
  },
  {
   "cell_type": "code",
   "execution_count": null,
   "id": "f7afaab4",
   "metadata": {},
   "outputs": [],
   "source": [
    "List1.remove(15)"
   ]
  },
  {
   "cell_type": "code",
   "execution_count": null,
   "id": "c6825eb6",
   "metadata": {},
   "outputs": [],
   "source": [
    "List1"
   ]
  },
  {
   "cell_type": "code",
   "execution_count": null,
   "id": "f754be9d",
   "metadata": {},
   "outputs": [],
   "source": [
    "List1.clear()"
   ]
  },
  {
   "cell_type": "code",
   "execution_count": null,
   "id": "d987e3c6",
   "metadata": {},
   "outputs": [],
   "source": [
    "List1"
   ]
  },
  {
   "cell_type": "code",
   "execution_count": null,
   "id": "d8be704a",
   "metadata": {},
   "outputs": [],
   "source": [
    "List3.reverse()\n",
    "List3"
   ]
  },
  {
   "cell_type": "code",
   "execution_count": null,
   "id": "a47c5bba",
   "metadata": {},
   "outputs": [],
   "source": [
    "st = [10,23,25,1,0,6,8]\n",
    "st.sort(reverse=True)\n",
    "st"
   ]
  },
  {
   "cell_type": "code",
   "execution_count": null,
   "id": "be1fc3bd",
   "metadata": {},
   "outputs": [],
   "source": [
    "# Arthemetic operator --> +,-,*,/,**,%\n",
    "# logical operator --> and, or, not\n",
    "# membership operator --> is, is not, in, not in\n",
    "# assignment operator --> ==, !=, >,< ,<=,>="
   ]
  },
  {
   "cell_type": "code",
   "execution_count": null,
   "id": "022919b5",
   "metadata": {},
   "outputs": [],
   "source": [
    "List3[0] = 25"
   ]
  },
  {
   "cell_type": "code",
   "execution_count": null,
   "id": "0aa89860",
   "metadata": {},
   "outputs": [],
   "source": [
    "List3[6] = 100"
   ]
  },
  {
   "cell_type": "code",
   "execution_count": null,
   "id": "94170dab",
   "metadata": {},
   "outputs": [],
   "source": [
    "len(List3)"
   ]
  },
  {
   "cell_type": "code",
   "execution_count": null,
   "id": "08b1bc9b",
   "metadata": {},
   "outputs": [],
   "source": [
    "# List3[17]"
   ]
  },
  {
   "cell_type": "code",
   "execution_count": null,
   "id": "de4c9e8a",
   "metadata": {},
   "outputs": [],
   "source": [
    "List2, List3"
   ]
  },
  {
   "cell_type": "code",
   "execution_count": null,
   "id": "921097d2",
   "metadata": {},
   "outputs": [],
   "source": [
    "List3 + List2"
   ]
  },
  {
   "cell_type": "code",
   "execution_count": null,
   "id": "f29d6501",
   "metadata": {},
   "outputs": [],
   "source": [
    "List3 * 3"
   ]
  },
  {
   "cell_type": "code",
   "execution_count": null,
   "id": "f80b1663",
   "metadata": {},
   "outputs": [],
   "source": [
    "sum(List3)"
   ]
  },
  {
   "cell_type": "code",
   "execution_count": null,
   "id": "132bcb1f",
   "metadata": {},
   "outputs": [],
   "source": [
    "len(List3)"
   ]
  },
  {
   "cell_type": "code",
   "execution_count": null,
   "id": "888676d8",
   "metadata": {},
   "outputs": [],
   "source": [
    "avg = sum(List3)/ len(List3)"
   ]
  },
  {
   "cell_type": "code",
   "execution_count": null,
   "id": "4a4808da",
   "metadata": {},
   "outputs": [],
   "source": [
    "round(avg,2)"
   ]
  },
  {
   "cell_type": "code",
   "execution_count": null,
   "id": "9747b3a0",
   "metadata": {},
   "outputs": [],
   "source": [
    "min(List3),max(List3)"
   ]
  },
  {
   "cell_type": "code",
   "execution_count": null,
   "id": "0f2968db",
   "metadata": {},
   "outputs": [],
   "source": [
    "# calculate avarage marks of students.\n",
    "marks = [85,96,78,60,89,75]\n",
    "avg_marks = sum(marks)/len(marks)\n",
    "print(f'The average marks is {round(avg_marks,2)}%')"
   ]
  },
  {
   "cell_type": "code",
   "execution_count": null,
   "id": "b55837eb",
   "metadata": {},
   "outputs": [],
   "source": [
    "L2 = ['Excelr','data','science','text','book']"
   ]
  },
  {
   "cell_type": "code",
   "execution_count": null,
   "id": "7cf18b08",
   "metadata": {},
   "outputs": [],
   "source": [
    "type(L2[0])"
   ]
  },
  {
   "cell_type": "code",
   "execution_count": null,
   "id": "829e4b00",
   "metadata": {},
   "outputs": [],
   "source": [
    "L2[1] = L2[1].upper()\n",
    "L2"
   ]
  },
  {
   "cell_type": "code",
   "execution_count": null,
   "id": "205cf6cd",
   "metadata": {},
   "outputs": [],
   "source": [
    "L2[0] = L2[0].swapcase()\n",
    "L2"
   ]
  },
  {
   "cell_type": "code",
   "execution_count": null,
   "id": "28a39d40",
   "metadata": {},
   "outputs": [],
   "source": [
    "for i in L2:\n",
    "    print(i.startswith('S'))"
   ]
  },
  {
   "cell_type": "code",
   "execution_count": null,
   "id": "4f37588b",
   "metadata": {},
   "outputs": [],
   "source": [
    "16 --> 20, 90-->30"
   ]
  },
  {
   "cell_type": "code",
   "execution_count": null,
   "id": "fc007674",
   "metadata": {},
   "outputs": [],
   "source": [
    "mul_lst = [[10,20,30,[0,1,2]],[15,16,20],[80,90,40]]"
   ]
  },
  {
   "cell_type": "code",
   "execution_count": null,
   "id": "d3be2fb8",
   "metadata": {},
   "outputs": [],
   "source": [
    "type(mul_lst[2])"
   ]
  },
  {
   "cell_type": "code",
   "execution_count": null,
   "id": "eb5fc35b",
   "metadata": {},
   "outputs": [],
   "source": [
    "mul_lst[0][3][0] = 10"
   ]
  },
  {
   "cell_type": "code",
   "execution_count": null,
   "id": "af91a2de",
   "metadata": {},
   "outputs": [],
   "source": [
    "mul_lst[1][1] = 20"
   ]
  },
  {
   "cell_type": "code",
   "execution_count": null,
   "id": "35dd8618",
   "metadata": {},
   "outputs": [],
   "source": [
    "mul_lst[2][1] = 30"
   ]
  },
  {
   "cell_type": "code",
   "execution_count": null,
   "id": "cca4c1ed",
   "metadata": {},
   "outputs": [],
   "source": [
    "mul_lst"
   ]
  },
  {
   "cell_type": "code",
   "execution_count": null,
   "id": "c49c1478",
   "metadata": {},
   "outputs": [],
   "source": [
    "mul_lst[0][3][0]"
   ]
  },
  {
   "cell_type": "code",
   "execution_count": null,
   "id": "abf78d1a",
   "metadata": {},
   "outputs": [],
   "source": [
    "L2.pop(-2)"
   ]
  },
  {
   "cell_type": "code",
   "execution_count": null,
   "id": "c52a52a0",
   "metadata": {},
   "outputs": [],
   "source": [
    "type(L2[2])"
   ]
  },
  {
   "cell_type": "code",
   "execution_count": null,
   "id": "d34e3e5a",
   "metadata": {},
   "outputs": [],
   "source": [
    "type(L2[3])"
   ]
  },
  {
   "cell_type": "code",
   "execution_count": null,
   "id": "350cb4d8",
   "metadata": {},
   "outputs": [],
   "source": [
    "L2[1] = 'Excelr'"
   ]
  },
  {
   "cell_type": "code",
   "execution_count": null,
   "id": "7530adca",
   "metadata": {},
   "outputs": [],
   "source": [
    "L2"
   ]
  },
  {
   "cell_type": "code",
   "execution_count": null,
   "id": "4385a0c1",
   "metadata": {},
   "outputs": [],
   "source": [
    "L2[2] = 4+5j"
   ]
  },
  {
   "cell_type": "code",
   "execution_count": null,
   "id": "0e1bdd4a",
   "metadata": {},
   "outputs": [],
   "source": [
    "L2[2] = "
   ]
  },
  {
   "cell_type": "code",
   "execution_count": null,
   "id": "ff79815d",
   "metadata": {},
   "outputs": [],
   "source": [
    "L2"
   ]
  },
  {
   "cell_type": "raw",
   "id": "0606e1e7",
   "metadata": {},
   "source": [
    "# Data structers\n",
    "1) String\n",
    "2) List\n",
    "3) Set\n",
    "4) Tuple\n",
    "5) Dictionary"
   ]
  },
  {
   "cell_type": "raw",
   "id": "cb050a41",
   "metadata": {},
   "source": [
    "String : Slicing, joining, Concatination,Access,Updation,Deletion, iterating, casting."
   ]
  },
  {
   "cell_type": "markdown",
   "id": "6654b3c9",
   "metadata": {},
   "source": [
    "List: Slicing, access, Updation ,Deleting, iterating, casting."
   ]
  },
  {
   "cell_type": "markdown",
   "id": "771b363e",
   "metadata": {},
   "source": [
    "tuple: Slicing, Access, iterate, Casting."
   ]
  },
  {
   "cell_type": "markdown",
   "id": "b4a1b908",
   "metadata": {},
   "source": [
    "Set: Iterate, Casting, deletion, Set operation(Union, diffrence, Intersection)"
   ]
  },
  {
   "cell_type": "markdown",
   "id": "2d4c165f",
   "metadata": {},
   "source": [
    "Dict : Slicing using fucntion, Access elements using(functions), Deleting , iterating, casting(only useing fuctiion)"
   ]
  },
  {
   "cell_type": "code",
   "execution_count": null,
   "id": "0c0f745f",
   "metadata": {},
   "outputs": [],
   "source": []
  },
  {
   "cell_type": "code",
   "execution_count": null,
   "id": "214c5700",
   "metadata": {},
   "outputs": [],
   "source": [
    "L1 = [10,11,12,13,14,15,16,15]\n",
    "L2 =  [11,15,18,19,16,17,12]\n",
    "L3 = [10,10.2,'Excelr',10j+1,True,False]"
   ]
  },
  {
   "cell_type": "code",
   "execution_count": null,
   "id": "a54d10dc",
   "metadata": {},
   "outputs": [],
   "source": [
    "print(type(L1))\n",
    "print(type(L2))\n",
    "print(type(L3))"
   ]
  },
  {
   "cell_type": "code",
   "execution_count": null,
   "id": "812ced4b",
   "metadata": {},
   "outputs": [],
   "source": [
    "L1 + L2"
   ]
  },
  {
   "cell_type": "code",
   "execution_count": null,
   "id": "2e2e740a",
   "metadata": {},
   "outputs": [],
   "source": [
    "L1 != L2, 15 in L1"
   ]
  },
  {
   "cell_type": "code",
   "execution_count": null,
   "id": "71ac8843",
   "metadata": {},
   "outputs": [],
   "source": [
    "'Excelr' in L3"
   ]
  },
  {
   "cell_type": "markdown",
   "id": "0e8f0840",
   "metadata": {},
   "source": [
    "[start : end : step]"
   ]
  },
  {
   "cell_type": "code",
   "execution_count": null,
   "id": "1c7a3e04",
   "metadata": {},
   "outputs": [],
   "source": [
    "L1 + L2"
   ]
  },
  {
   "cell_type": "code",
   "execution_count": null,
   "id": "f99a5aca",
   "metadata": {},
   "outputs": [],
   "source": [
    "L1 + L3"
   ]
  },
  {
   "cell_type": "code",
   "execution_count": null,
   "id": "a54486cd",
   "metadata": {},
   "outputs": [],
   "source": [
    "L1"
   ]
  },
  {
   "cell_type": "code",
   "execution_count": null,
   "id": "7ae1085d",
   "metadata": {},
   "outputs": [],
   "source": [
    "L1*2"
   ]
  },
  {
   "cell_type": "code",
   "execution_count": null,
   "id": "4bcd764f",
   "metadata": {},
   "outputs": [],
   "source": [
    "L1 * L2"
   ]
  },
  {
   "cell_type": "code",
   "execution_count": null,
   "id": "d5529cdc",
   "metadata": {},
   "outputs": [],
   "source": [
    "print(L1[0] / 3)\n",
    "     \n",
    "     \n",
    "     "
   ]
  },
  {
   "cell_type": "code",
   "execution_count": null,
   "id": "59fe655f",
   "metadata": {},
   "outputs": [],
   "source": [
    "L1, L2"
   ]
  },
  {
   "cell_type": "code",
   "execution_count": null,
   "id": "fc9f7451",
   "metadata": {},
   "outputs": [],
   "source": [
    "L1[7] = L2"
   ]
  },
  {
   "cell_type": "code",
   "execution_count": null,
   "id": "952d22fc",
   "metadata": {},
   "outputs": [],
   "source": [
    "L1"
   ]
  },
  {
   "cell_type": "code",
   "execution_count": null,
   "id": "cd7f13ba",
   "metadata": {},
   "outputs": [],
   "source": [
    "L1[7].append(18)"
   ]
  },
  {
   "cell_type": "code",
   "execution_count": null,
   "id": "6ff33ff1",
   "metadata": {},
   "outputs": [],
   "source": [
    "L1"
   ]
  },
  {
   "cell_type": "code",
   "execution_count": null,
   "id": "ded08676",
   "metadata": {},
   "outputs": [],
   "source": []
  },
  {
   "cell_type": "code",
   "execution_count": null,
   "id": "de11c3df",
   "metadata": {},
   "outputs": [],
   "source": [
    "L4 = L1.copy()\n",
    "L4"
   ]
  },
  {
   "cell_type": "code",
   "execution_count": null,
   "id": "9b3256ce",
   "metadata": {},
   "outputs": [],
   "source": [
    "L4"
   ]
  },
  {
   "cell_type": "code",
   "execution_count": null,
   "id": "311ef054",
   "metadata": {},
   "outputs": [],
   "source": [
    "L3"
   ]
  },
  {
   "cell_type": "code",
   "execution_count": null,
   "id": "16a83d15",
   "metadata": {},
   "outputs": [],
   "source": [
    "L1.count(19)"
   ]
  },
  {
   "cell_type": "code",
   "execution_count": null,
   "id": "c46b064f",
   "metadata": {},
   "outputs": [],
   "source": [
    "L2"
   ]
  },
  {
   "cell_type": "code",
   "execution_count": null,
   "id": "962e3ee9",
   "metadata": {},
   "outputs": [],
   "source": [
    "L3.extend(L2)"
   ]
  },
  {
   "cell_type": "code",
   "execution_count": null,
   "id": "2afa2f41",
   "metadata": {},
   "outputs": [],
   "source": [
    "L3"
   ]
  },
  {
   "cell_type": "code",
   "execution_count": null,
   "id": "fe871897",
   "metadata": {},
   "outputs": [],
   "source": [
    "len(L3)"
   ]
  },
  {
   "cell_type": "code",
   "execution_count": null,
   "id": "b99ee831",
   "metadata": {},
   "outputs": [],
   "source": [
    "L2"
   ]
  },
  {
   "cell_type": "code",
   "execution_count": null,
   "id": "2fbe04ed",
   "metadata": {},
   "outputs": [],
   "source": [
    "L2.index(19)"
   ]
  },
  {
   "cell_type": "code",
   "execution_count": null,
   "id": "5f4315aa",
   "metadata": {},
   "outputs": [],
   "source": [
    "L2.insert(2,20)"
   ]
  },
  {
   "cell_type": "code",
   "execution_count": null,
   "id": "2dcc10aa",
   "metadata": {},
   "outputs": [],
   "source": [
    "L2"
   ]
  },
  {
   "cell_type": "code",
   "execution_count": null,
   "id": "66cb092b",
   "metadata": {},
   "outputs": [],
   "source": [
    "L2.pop()"
   ]
  },
  {
   "cell_type": "code",
   "execution_count": null,
   "id": "ca81c81e",
   "metadata": {},
   "outputs": [],
   "source": [
    "L2"
   ]
  },
  {
   "cell_type": "code",
   "execution_count": null,
   "id": "910fc120",
   "metadata": {},
   "outputs": [],
   "source": [
    "L2.remove(15)"
   ]
  },
  {
   "cell_type": "code",
   "execution_count": null,
   "id": "1cc0bf6f",
   "metadata": {},
   "outputs": [],
   "source": [
    "L2"
   ]
  },
  {
   "cell_type": "code",
   "execution_count": null,
   "id": "5d2cad5c",
   "metadata": {},
   "outputs": [],
   "source": [
    "L2.reverse()"
   ]
  },
  {
   "cell_type": "code",
   "execution_count": null,
   "id": "fb0ca97a",
   "metadata": {},
   "outputs": [],
   "source": [
    "L2"
   ]
  },
  {
   "cell_type": "code",
   "execution_count": null,
   "id": "67aa22fb",
   "metadata": {},
   "outputs": [],
   "source": [
    "L3.remove(19)"
   ]
  },
  {
   "cell_type": "code",
   "execution_count": null,
   "id": "e1d502cf",
   "metadata": {},
   "outputs": [],
   "source": [
    "L3"
   ]
  },
  {
   "cell_type": "code",
   "execution_count": null,
   "id": "22427c70",
   "metadata": {},
   "outputs": [],
   "source": [
    "L2.sort(reverse=True)\n"
   ]
  },
  {
   "cell_type": "code",
   "execution_count": null,
   "id": "e479936a",
   "metadata": {},
   "outputs": [],
   "source": [
    "L1,L2,L3"
   ]
  },
  {
   "cell_type": "code",
   "execution_count": null,
   "id": "7766a63f",
   "metadata": {},
   "outputs": [],
   "source": [
    "L1.clear()"
   ]
  },
  {
   "cell_type": "code",
   "execution_count": null,
   "id": "8be54044",
   "metadata": {},
   "outputs": [],
   "source": [
    "L1"
   ]
  },
  {
   "cell_type": "code",
   "execution_count": null,
   "id": "238a9644",
   "metadata": {},
   "outputs": [],
   "source": [
    "L2"
   ]
  },
  {
   "cell_type": "code",
   "execution_count": null,
   "id": "7d6ee435",
   "metadata": {},
   "outputs": [],
   "source": [
    "L2.append([10,11,15,18,19])"
   ]
  },
  {
   "cell_type": "code",
   "execution_count": null,
   "id": "015c94f5",
   "metadata": {},
   "outputs": [],
   "source": [
    "L2"
   ]
  },
  {
   "cell_type": "code",
   "execution_count": null,
   "id": "2e5facb0",
   "metadata": {},
   "outputs": [],
   "source": [
    "L2[7][0] = 15"
   ]
  },
  {
   "cell_type": "code",
   "execution_count": null,
   "id": "38750ffa",
   "metadata": {},
   "outputs": [],
   "source": [
    "L4 = [8,9,[10,15,14,[5,4,6,[9,10,11]]],[12,17,18],[13,18,19]]"
   ]
  },
  {
   "cell_type": "code",
   "execution_count": null,
   "id": "5e5469a8",
   "metadata": {},
   "outputs": [],
   "source": [
    "L4[2][3][3][1] = 20"
   ]
  },
  {
   "cell_type": "code",
   "execution_count": null,
   "id": "1665da7d",
   "metadata": {},
   "outputs": [],
   "source": [
    "L4[2][3][1] = 8"
   ]
  },
  {
   "cell_type": "code",
   "execution_count": null,
   "id": "6f97df07",
   "metadata": {},
   "outputs": [],
   "source": [
    "L4[4][1]"
   ]
  },
  {
   "cell_type": "code",
   "execution_count": null,
   "id": "b62acc73",
   "metadata": {},
   "outputs": [],
   "source": []
  },
  {
   "cell_type": "code",
   "execution_count": null,
   "id": "ba08133a",
   "metadata": {},
   "outputs": [],
   "source": [
    "L4[1][1] = 80"
   ]
  },
  {
   "cell_type": "code",
   "execution_count": null,
   "id": "0b06fc69",
   "metadata": {},
   "outputs": [],
   "source": [
    "L4"
   ]
  },
  {
   "cell_type": "code",
   "execution_count": null,
   "id": "dcfb6ee2",
   "metadata": {},
   "outputs": [],
   "source": [
    "Extract 0 and 0, change the value to 11,12"
   ]
  },
  {
   "cell_type": "code",
   "execution_count": null,
   "id": "ce161ad5",
   "metadata": {},
   "outputs": [],
   "source": [
    "L7 = [[[10,0,0],[5,4,6]],[12,17,18],[13,18,19]]"
   ]
  },
  {
   "cell_type": "code",
   "execution_count": null,
   "id": "f798c686",
   "metadata": {},
   "outputs": [],
   "source": [
    "L7[0][0][1] = 11"
   ]
  },
  {
   "cell_type": "code",
   "execution_count": null,
   "id": "7ea6b054",
   "metadata": {},
   "outputs": [],
   "source": [
    "L7[0][0][2] = 12"
   ]
  },
  {
   "cell_type": "code",
   "execution_count": null,
   "id": "9f12ad1a",
   "metadata": {},
   "outputs": [],
   "source": [
    "L7"
   ]
  },
  {
   "cell_type": "markdown",
   "id": "e18be287",
   "metadata": {},
   "source": [
    "# Task: create a marks variable with 2 diffrent list data, \n",
    "# then calculate the avearge, use f string to get print the output"
   ]
  },
  {
   "cell_type": "markdown",
   "id": "ac410c43",
   "metadata": {},
   "source": [
    "# Task: create list of string as name, conver to uppercase and update the variable."
   ]
  },
  {
   "cell_type": "code",
   "execution_count": null,
   "id": "cd6ddb46",
   "metadata": {},
   "outputs": [],
   "source": [
    "name = ['Excelr','data']"
   ]
  },
  {
   "cell_type": "code",
   "execution_count": null,
   "id": "6f68dd31",
   "metadata": {},
   "outputs": [],
   "source": [
    "name[0] = name[0].upper()"
   ]
  },
  {
   "cell_type": "code",
   "execution_count": null,
   "id": "b10a5740",
   "metadata": {},
   "outputs": [],
   "source": [
    "name"
   ]
  },
  {
   "cell_type": "code",
   "execution_count": null,
   "id": "9b44b7e8",
   "metadata": {},
   "outputs": [],
   "source": [
    "L7[0][0][2] = 20"
   ]
  },
  {
   "cell_type": "code",
   "execution_count": null,
   "id": "517bbd00",
   "metadata": {},
   "outputs": [],
   "source": [
    "L7[2][1] = 5"
   ]
  },
  {
   "cell_type": "code",
   "execution_count": null,
   "id": "c251e2e1",
   "metadata": {},
   "outputs": [],
   "source": [
    "L7"
   ]
  },
  {
   "cell_type": "markdown",
   "id": "7111185a",
   "metadata": {},
   "source": [
    "# Task2:  create a list of ages, calculate the max of age?  if i increase age as 10 times, then what is age?"
   ]
  },
  {
   "cell_type": "code",
   "execution_count": null,
   "id": "70503a4e",
   "metadata": {},
   "outputs": [],
   "source": [
    "age = [15,53,54,67,87,23]\n",
    "age.sort()\n",
    "highest_age = age[-1]*10\n",
    "print(age)\n",
    "print(highest_age)"
   ]
  },
  {
   "cell_type": "code",
   "execution_count": null,
   "id": "62f1d3c9",
   "metadata": {},
   "outputs": [],
   "source": [
    "max(age) * 10"
   ]
  },
  {
   "cell_type": "markdown",
   "id": "0e3f9731",
   "metadata": {},
   "source": [
    "# Tuple"
   ]
  },
  {
   "cell_type": "markdown",
   "id": "0ec656b0",
   "metadata": {},
   "source": [
    "# Tuple --> (), without braces,immutable."
   ]
  },
  {
   "cell_type": "code",
   "execution_count": null,
   "id": "3d142b6e",
   "metadata": {},
   "outputs": [],
   "source": [
    "tup = ()"
   ]
  },
  {
   "cell_type": "code",
   "execution_count": null,
   "id": "ffe97e25",
   "metadata": {},
   "outputs": [],
   "source": [
    "tup1 = 10,20,30\n",
    "type(tup1)"
   ]
  },
  {
   "cell_type": "code",
   "execution_count": null,
   "id": "723bbffc",
   "metadata": {},
   "outputs": [],
   "source": [
    "tup2 = tuple([10,20,300])"
   ]
  },
  {
   "cell_type": "code",
   "execution_count": null,
   "id": "c1931142",
   "metadata": {},
   "outputs": [],
   "source": [
    "type(tup2)"
   ]
  },
  {
   "cell_type": "code",
   "execution_count": null,
   "id": "87ecc6a7",
   "metadata": {},
   "outputs": [],
   "source": [
    "T1 = (10,'Excelr',10j+1,11,12)"
   ]
  },
  {
   "cell_type": "code",
   "execution_count": null,
   "id": "11f2688c",
   "metadata": {},
   "outputs": [],
   "source": [
    "T1.count(10)"
   ]
  },
  {
   "cell_type": "code",
   "execution_count": null,
   "id": "db0bca8e",
   "metadata": {},
   "outputs": [],
   "source": [
    "T1.index(10)"
   ]
  },
  {
   "cell_type": "code",
   "execution_count": null,
   "id": "91407bfb",
   "metadata": {},
   "outputs": [],
   "source": [
    "T1[0] = 10"
   ]
  },
  {
   "cell_type": "code",
   "execution_count": null,
   "id": "634085da",
   "metadata": {},
   "outputs": [],
   "source": [
    "T1 = list(T1)\n",
    "type(T1)"
   ]
  },
  {
   "cell_type": "code",
   "execution_count": null,
   "id": "7d2e4419",
   "metadata": {},
   "outputs": [],
   "source": [
    "T1[0] = 15"
   ]
  },
  {
   "cell_type": "code",
   "execution_count": null,
   "id": "e2fc456f",
   "metadata": {},
   "outputs": [],
   "source": [
    "T1 = tuple(T1)\n",
    "type(T1)"
   ]
  },
  {
   "cell_type": "code",
   "execution_count": null,
   "id": "595d3d69",
   "metadata": {},
   "outputs": [],
   "source": [
    "T2 = (10,14,15,'hi',10j+1)"
   ]
  },
  {
   "cell_type": "code",
   "execution_count": null,
   "id": "07882a28",
   "metadata": {},
   "outputs": [],
   "source": [
    "type(T2)"
   ]
  },
  {
   "cell_type": "code",
   "execution_count": null,
   "id": "a8b5c455",
   "metadata": {},
   "outputs": [],
   "source": [
    "T2.count(15)"
   ]
  },
  {
   "cell_type": "code",
   "execution_count": null,
   "id": "d54f154e",
   "metadata": {},
   "outputs": [],
   "source": [
    "T2.index(15)"
   ]
  },
  {
   "cell_type": "code",
   "execution_count": null,
   "id": "26ecb88a",
   "metadata": {},
   "outputs": [],
   "source": [
    "T4 = list(T2)\n",
    "type(T4),T4"
   ]
  },
  {
   "cell_type": "code",
   "execution_count": null,
   "id": "884279c8",
   "metadata": {},
   "outputs": [],
   "source": [
    "T4[3] = 18\n",
    "T2 = tuple(T4)\n",
    "print(T2)"
   ]
  },
  {
   "cell_type": "code",
   "execution_count": null,
   "id": "66088496",
   "metadata": {},
   "outputs": [],
   "source": [
    "t3 = ()\n",
    "type(t3)"
   ]
  },
  {
   "cell_type": "code",
   "execution_count": null,
   "id": "7cdcccd7",
   "metadata": {},
   "outputs": [],
   "source": [
    "T1.count(10)"
   ]
  },
  {
   "cell_type": "code",
   "execution_count": null,
   "id": "669af9ba",
   "metadata": {},
   "outputs": [],
   "source": [
    "T2.index(14)"
   ]
  },
  {
   "cell_type": "code",
   "execution_count": null,
   "id": "242fc7e6",
   "metadata": {},
   "outputs": [],
   "source": [
    "T1 = (1,'@',3,'5',6,'4')"
   ]
  },
  {
   "cell_type": "code",
   "execution_count": null,
   "id": "f4bee968",
   "metadata": {},
   "outputs": [],
   "source": [
    "T3 = ('one',2,'Three',4)"
   ]
  },
  {
   "cell_type": "code",
   "execution_count": null,
   "id": "9c89649b",
   "metadata": {},
   "outputs": [],
   "source": [
    "T4 = list(T3)"
   ]
  },
  {
   "cell_type": "code",
   "execution_count": null,
   "id": "91076181",
   "metadata": {},
   "outputs": [],
   "source": [
    "type(T4)\n",
    "print(T4)"
   ]
  },
  {
   "cell_type": "code",
   "execution_count": null,
   "id": "bf581350",
   "metadata": {},
   "outputs": [],
   "source": [
    "T4[0] = 'ONE'"
   ]
  },
  {
   "cell_type": "code",
   "execution_count": null,
   "id": "b19f60c9",
   "metadata": {},
   "outputs": [],
   "source": [
    "T4"
   ]
  },
  {
   "cell_type": "code",
   "execution_count": null,
   "id": "6a96be1e",
   "metadata": {},
   "outputs": [],
   "source": [
    "T3 = tuple(T4)"
   ]
  },
  {
   "cell_type": "code",
   "execution_count": null,
   "id": "a8c098b2",
   "metadata": {},
   "outputs": [],
   "source": [
    "type(T3)"
   ]
  },
  {
   "cell_type": "code",
   "execution_count": null,
   "id": "c9855057",
   "metadata": {},
   "outputs": [],
   "source": [
    "T3"
   ]
  },
  {
   "cell_type": "markdown",
   "id": "a352e926",
   "metadata": {},
   "source": [
    "T3"
   ]
  },
  {
   "cell_type": "code",
   "execution_count": null,
   "id": "56c71813",
   "metadata": {},
   "outputs": [],
   "source": [
    "T3[2] = 2+20j\n"
   ]
  },
  {
   "cell_type": "code",
   "execution_count": null,
   "id": "90a5cf57",
   "metadata": {},
   "outputs": [],
   "source": [
    "T3"
   ]
  },
  {
   "cell_type": "code",
   "execution_count": null,
   "id": "ca1f3dbd",
   "metadata": {},
   "outputs": [],
   "source": [
    "T3 = tuple(T2)"
   ]
  },
  {
   "cell_type": "code",
   "execution_count": null,
   "id": "26660749",
   "metadata": {},
   "outputs": [],
   "source": [
    "type(T3)"
   ]
  },
  {
   "cell_type": "markdown",
   "id": "eb19eee8",
   "metadata": {},
   "source": [
    "# set"
   ]
  },
  {
   "cell_type": "code",
   "execution_count": null,
   "id": "a5cd495a",
   "metadata": {},
   "outputs": [],
   "source": [
    "# It can be created {},set()"
   ]
  },
  {
   "cell_type": "code",
   "execution_count": null,
   "id": "cdc372fd",
   "metadata": {},
   "outputs": [],
   "source": [
    "Set = set()\n",
    "type(Set)"
   ]
  },
  {
   "cell_type": "code",
   "execution_count": null,
   "id": "e6585908",
   "metadata": {},
   "outputs": [],
   "source": [
    "S1 = {101,102,105,108,110,99,88,110,101}\n",
    "type(S1)"
   ]
  },
  {
   "cell_type": "code",
   "execution_count": null,
   "id": "20ecad21",
   "metadata": {},
   "outputs": [],
   "source": [
    "string_set = {'a','c','d','a','e','o'}\n",
    "string_set"
   ]
  },
  {
   "cell_type": "code",
   "execution_count": null,
   "id": "8431bc72",
   "metadata": {},
   "outputs": [],
   "source": [
    "S2 = {201,202,205,208,210,99,88,110,101}\n",
    "S2"
   ]
  },
  {
   "cell_type": "code",
   "execution_count": null,
   "id": "a6319cf9",
   "metadata": {},
   "outputs": [],
   "source": [
    "S1.add(111)"
   ]
  },
  {
   "cell_type": "code",
   "execution_count": null,
   "id": "53c98d08",
   "metadata": {},
   "outputs": [],
   "source": [
    "S3 = S1.copy()\n",
    "S3"
   ]
  },
  {
   "cell_type": "code",
   "execution_count": null,
   "id": "43835292",
   "metadata": {},
   "outputs": [],
   "source": [
    "S1,S3"
   ]
  },
  {
   "cell_type": "code",
   "execution_count": null,
   "id": "6eb41cce",
   "metadata": {},
   "outputs": [],
   "source": [
    "S3.difference(S1)"
   ]
  },
  {
   "cell_type": "code",
   "execution_count": null,
   "id": "52466262",
   "metadata": {},
   "outputs": [],
   "source": [
    "S3,S2"
   ]
  },
  {
   "cell_type": "code",
   "execution_count": null,
   "id": "c2d05dba",
   "metadata": {},
   "outputs": [],
   "source": [
    "print(S3.difference(S2))\n",
    "print(S3)"
   ]
  },
  {
   "cell_type": "code",
   "execution_count": null,
   "id": "0312699e",
   "metadata": {},
   "outputs": [],
   "source": [
    "S3.difference_update(S2)\n",
    "print(S3)"
   ]
  },
  {
   "cell_type": "code",
   "execution_count": null,
   "id": "0c21c087",
   "metadata": {},
   "outputs": [],
   "source": [
    "S1,S3,S2"
   ]
  },
  {
   "cell_type": "code",
   "execution_count": null,
   "id": "b96d4393",
   "metadata": {},
   "outputs": [],
   "source": [
    "S1.update({112,113})"
   ]
  },
  {
   "cell_type": "code",
   "execution_count": null,
   "id": "b2a65f5c",
   "metadata": {},
   "outputs": [],
   "source": [
    "S1"
   ]
  },
  {
   "cell_type": "code",
   "execution_count": null,
   "id": "bf33ff0a",
   "metadata": {},
   "outputs": [],
   "source": [
    "S1.discard(88)"
   ]
  },
  {
   "cell_type": "code",
   "execution_count": null,
   "id": "254ae9f6",
   "metadata": {},
   "outputs": [],
   "source": [
    "S1.pop()"
   ]
  },
  {
   "cell_type": "code",
   "execution_count": null,
   "id": "93b965ce",
   "metadata": {},
   "outputs": [],
   "source": [
    "S1.remove(102)"
   ]
  },
  {
   "cell_type": "code",
   "execution_count": null,
   "id": "28271f52",
   "metadata": {},
   "outputs": [],
   "source": [
    "S1 = {1,2,3,4,5,6,7}"
   ]
  },
  {
   "cell_type": "code",
   "execution_count": null,
   "id": "c6f5f0ee",
   "metadata": {},
   "outputs": [],
   "source": [
    "S1.discard({1,2,3,4,5,6,7})"
   ]
  },
  {
   "cell_type": "code",
   "execution_count": null,
   "id": "34452305",
   "metadata": {},
   "outputs": [],
   "source": [
    "a = {0,1,2}\n",
    "b = a.discard(0)\n",
    "print(b)"
   ]
  },
  {
   "cell_type": "code",
   "execution_count": null,
   "id": "0682ecc6",
   "metadata": {},
   "outputs": [],
   "source": [
    "a.discard(1)"
   ]
  },
  {
   "cell_type": "code",
   "execution_count": null,
   "id": "93f2c250",
   "metadata": {},
   "outputs": [],
   "source": [
    "S3,S2,S1"
   ]
  },
  {
   "cell_type": "code",
   "execution_count": null,
   "id": "2afdad87",
   "metadata": {},
   "outputs": [],
   "source": [
    "S4 = S1.copy()\n",
    "S4.update({8,9,10})"
   ]
  },
  {
   "cell_type": "code",
   "execution_count": null,
   "id": "305e2f7f",
   "metadata": {},
   "outputs": [],
   "source": [
    "S2, S4"
   ]
  },
  {
   "cell_type": "code",
   "execution_count": null,
   "id": "d2c00e3a",
   "metadata": {},
   "outputs": [],
   "source": [
    "S2.intersection(S4)"
   ]
  },
  {
   "cell_type": "code",
   "execution_count": null,
   "id": "c74303df",
   "metadata": {},
   "outputs": [],
   "source": [
    "help(set.intersection) or shift + tab"
   ]
  },
  {
   "cell_type": "code",
   "execution_count": null,
   "id": "c07bd08c",
   "metadata": {},
   "outputs": [],
   "source": [
    "S1, S4"
   ]
  },
  {
   "cell_type": "code",
   "execution_count": null,
   "id": "70db030a",
   "metadata": {},
   "outputs": [],
   "source": [
    "S2.isdisjoint(S4)"
   ]
  },
  {
   "cell_type": "code",
   "execution_count": null,
   "id": "ffa7d16f",
   "metadata": {},
   "outputs": [],
   "source": [
    "A = {1,2,3,4,5,6,7}\n",
    "B = {1,2,3}"
   ]
  },
  {
   "cell_type": "code",
   "execution_count": null,
   "id": "a91fa206",
   "metadata": {},
   "outputs": [],
   "source": [
    "A.issuperset(B),B.issubset(A)"
   ]
  },
  {
   "cell_type": "code",
   "execution_count": null,
   "id": "c677e9cf",
   "metadata": {},
   "outputs": [],
   "source": [
    "A.issubset(B),B.issuperset(A)"
   ]
  },
  {
   "cell_type": "code",
   "execution_count": null,
   "id": "4a29e265",
   "metadata": {},
   "outputs": [],
   "source": [
    "S2, S1"
   ]
  },
  {
   "cell_type": "code",
   "execution_count": null,
   "id": "630c249b",
   "metadata": {},
   "outputs": [],
   "source": [
    "S2.symmetric_difference(S1)"
   ]
  },
  {
   "cell_type": "code",
   "execution_count": null,
   "id": "1ce249d8",
   "metadata": {},
   "outputs": [],
   "source": [
    "S2.union(S1)"
   ]
  },
  {
   "cell_type": "markdown",
   "id": "55bc8e8c",
   "metadata": {},
   "source": [
    "Slicing : No\n",
    "Access: No\n",
    "Update: Yes funtion\n",
    "Delete:yes \n",
    "cast:yes\n"
   ]
  },
  {
   "cell_type": "code",
   "execution_count": null,
   "id": "2808e3a7",
   "metadata": {},
   "outputs": [],
   "source": [
    "S1.add(112)"
   ]
  },
  {
   "cell_type": "code",
   "execution_count": null,
   "id": "1724cff1",
   "metadata": {},
   "outputs": [],
   "source": [
    "S1.add(87)"
   ]
  },
  {
   "cell_type": "code",
   "execution_count": null,
   "id": "7e219ba0",
   "metadata": {},
   "outputs": [],
   "source": [
    "S1"
   ]
  },
  {
   "cell_type": "code",
   "execution_count": null,
   "id": "eb508ef3",
   "metadata": {},
   "outputs": [],
   "source": [
    "S3 = S1.copy()\n",
    "S3"
   ]
  },
  {
   "cell_type": "code",
   "execution_count": null,
   "id": "33c02d41",
   "metadata": {},
   "outputs": [],
   "source": [
    "S3.clear()\n",
    "S3"
   ]
  },
  {
   "cell_type": "code",
   "execution_count": null,
   "id": "94c29720",
   "metadata": {},
   "outputs": [],
   "source": [
    "S1.pop()"
   ]
  },
  {
   "cell_type": "code",
   "execution_count": null,
   "id": "e510f60b",
   "metadata": {},
   "outputs": [],
   "source": [
    "S1.remove(105)"
   ]
  },
  {
   "cell_type": "code",
   "execution_count": null,
   "id": "60a300cf",
   "metadata": {},
   "outputs": [],
   "source": [
    "S1.update({113,114,115})"
   ]
  },
  {
   "cell_type": "code",
   "execution_count": null,
   "id": "94788774",
   "metadata": {},
   "outputs": [],
   "source": [
    "S1,S2"
   ]
  },
  {
   "cell_type": "code",
   "execution_count": null,
   "id": "a46c298c",
   "metadata": {},
   "outputs": [],
   "source": [
    "diff_S1 = S1.difference(S2)\n",
    "diff_S1"
   ]
  },
  {
   "cell_type": "code",
   "execution_count": null,
   "id": "3ab9e1bd",
   "metadata": {},
   "outputs": [],
   "source": [
    "S1.difference_update(S2)"
   ]
  },
  {
   "cell_type": "code",
   "execution_count": null,
   "id": "2e6f1a5d",
   "metadata": {},
   "outputs": [],
   "source": [
    "S1"
   ]
  },
  {
   "cell_type": "code",
   "execution_count": null,
   "id": "cf9136fd",
   "metadata": {},
   "outputs": [],
   "source": [
    "S1"
   ]
  },
  {
   "cell_type": "code",
   "execution_count": null,
   "id": "e1815abb",
   "metadata": {},
   "outputs": [],
   "source": [
    "S1.discard(102)"
   ]
  },
  {
   "cell_type": "code",
   "execution_count": null,
   "id": "7858c6df",
   "metadata": {},
   "outputs": [],
   "source": [
    "S1.discard(108)"
   ]
  },
  {
   "cell_type": "code",
   "execution_count": null,
   "id": "93634fb8",
   "metadata": {},
   "outputs": [],
   "source": [
    "S3 = {88, 99, 101, 110, 201}"
   ]
  },
  {
   "cell_type": "code",
   "execution_count": null,
   "id": "63566eb9",
   "metadata": {},
   "outputs": [],
   "source": [
    "S3,S2"
   ]
  },
  {
   "cell_type": "code",
   "execution_count": null,
   "id": "ef8d9f34",
   "metadata": {},
   "outputs": [],
   "source": [
    "S3.intersection(S2)"
   ]
  },
  {
   "cell_type": "code",
   "execution_count": null,
   "id": "fd705283",
   "metadata": {},
   "outputs": [],
   "source": [
    "S2.intersection_update(S3)"
   ]
  },
  {
   "cell_type": "code",
   "execution_count": null,
   "id": "9d24e11b",
   "metadata": {},
   "outputs": [],
   "source": [
    "S3,S2"
   ]
  },
  {
   "cell_type": "code",
   "execution_count": null,
   "id": "75c4c658",
   "metadata": {},
   "outputs": [],
   "source": [
    "{1,2,3,{1,2,3}}"
   ]
  },
  {
   "cell_type": "code",
   "execution_count": null,
   "id": "1e67f1b0",
   "metadata": {},
   "outputs": [],
   "source": [
    "s1 ,s2= set(),set()"
   ]
  },
  {
   "cell_type": "code",
   "execution_count": null,
   "id": "6171c551",
   "metadata": {},
   "outputs": [],
   "source": [
    "s1.isdisjoint(s2)"
   ]
  },
  {
   "cell_type": "code",
   "execution_count": null,
   "id": "712bf3e1",
   "metadata": {},
   "outputs": [],
   "source": [
    "S2.isdisjoint(S3)"
   ]
  },
  {
   "cell_type": "code",
   "execution_count": null,
   "id": "6e82a890",
   "metadata": {},
   "outputs": [],
   "source": [
    "d1 = {1,2,3,6}\n",
    "d2 = {6}"
   ]
  },
  {
   "cell_type": "code",
   "execution_count": null,
   "id": "4e270bb0",
   "metadata": {},
   "outputs": [],
   "source": [
    "d1.issubset(d2)"
   ]
  },
  {
   "cell_type": "code",
   "execution_count": null,
   "id": "280df175",
   "metadata": {},
   "outputs": [],
   "source": [
    "S3.issubset(S2)"
   ]
  },
  {
   "cell_type": "code",
   "execution_count": null,
   "id": "3f307664",
   "metadata": {},
   "outputs": [],
   "source": [
    "S2.issuperset(S3)"
   ]
  },
  {
   "cell_type": "code",
   "execution_count": null,
   "id": "439a7089",
   "metadata": {},
   "outputs": [],
   "source": [
    "S3 = {10,20}"
   ]
  },
  {
   "cell_type": "code",
   "execution_count": null,
   "id": "82a74d41",
   "metadata": {},
   "outputs": [],
   "source": [
    "S1,S2"
   ]
  },
  {
   "cell_type": "code",
   "execution_count": null,
   "id": "4428b49c",
   "metadata": {},
   "outputs": [],
   "source": [
    "S5 = S1.discard(S2)"
   ]
  },
  {
   "cell_type": "code",
   "execution_count": null,
   "id": "d035307a",
   "metadata": {},
   "outputs": [],
   "source": [
    "S5"
   ]
  },
  {
   "cell_type": "code",
   "execution_count": null,
   "id": "abc09d1d",
   "metadata": {},
   "outputs": [],
   "source": [
    "S5 = S3.discard(S2)"
   ]
  },
  {
   "cell_type": "code",
   "execution_count": null,
   "id": "c4b0ea9f",
   "metadata": {},
   "outputs": [],
   "source": [
    "S5."
   ]
  },
  {
   "cell_type": "code",
   "execution_count": null,
   "id": "b2f77fec",
   "metadata": {},
   "outputs": [],
   "source": [
    "S1,S2"
   ]
  },
  {
   "cell_type": "code",
   "execution_count": null,
   "id": "291c5c69",
   "metadata": {},
   "outputs": [],
   "source": [
    "S2.pop()"
   ]
  },
  {
   "cell_type": "code",
   "execution_count": null,
   "id": "7abcf94f",
   "metadata": {},
   "outputs": [],
   "source": [
    "S2.remove(88)"
   ]
  },
  {
   "cell_type": "code",
   "execution_count": null,
   "id": "1ff87815",
   "metadata": {},
   "outputs": [],
   "source": [
    "S2,S3"
   ]
  },
  {
   "cell_type": "code",
   "execution_count": null,
   "id": "6dd13368",
   "metadata": {},
   "outputs": [],
   "source": [
    "S2.symmetric_difference(S3)"
   ]
  },
  {
   "cell_type": "code",
   "execution_count": null,
   "id": "9417b297",
   "metadata": {},
   "outputs": [],
   "source": [
    "S2.symmetric_difference_update(S3)"
   ]
  },
  {
   "cell_type": "code",
   "execution_count": null,
   "id": "8e04c1ba",
   "metadata": {},
   "outputs": [],
   "source": [
    "S1.intersection_update(S2)"
   ]
  },
  {
   "cell_type": "code",
   "execution_count": null,
   "id": "93a1df45",
   "metadata": {},
   "outputs": [],
   "source": [
    "S2.union(S3)"
   ]
  },
  {
   "cell_type": "code",
   "execution_count": null,
   "id": "66a665ea",
   "metadata": {},
   "outputs": [],
   "source": [
    "S1.update({15})"
   ]
  },
  {
   "cell_type": "code",
   "execution_count": null,
   "id": "c918f027",
   "metadata": {},
   "outputs": [],
   "source": [
    "S1.update(S2)"
   ]
  },
  {
   "cell_type": "code",
   "execution_count": null,
   "id": "708f2126",
   "metadata": {},
   "outputs": [],
   "source": [
    "S1"
   ]
  },
  {
   "cell_type": "code",
   "execution_count": null,
   "id": "44d6dec5",
   "metadata": {},
   "outputs": [],
   "source": [
    "S1.difference_update(S2)"
   ]
  },
  {
   "cell_type": "code",
   "execution_count": null,
   "id": "f0c28a55",
   "metadata": {},
   "outputs": [],
   "source": [
    "S1"
   ]
  },
  {
   "cell_type": "code",
   "execution_count": null,
   "id": "2d61ff16",
   "metadata": {},
   "outputs": [],
   "source": [
    "S1.discard(102)"
   ]
  },
  {
   "cell_type": "code",
   "execution_count": null,
   "id": "ed7bcd74",
   "metadata": {},
   "outputs": [],
   "source": [
    "S1"
   ]
  },
  {
   "cell_type": "code",
   "execution_count": null,
   "id": "bd97139c",
   "metadata": {},
   "outputs": [],
   "source": [
    "S2,S3,S1"
   ]
  },
  {
   "cell_type": "code",
   "execution_count": null,
   "id": "a0ee5bd2",
   "metadata": {},
   "outputs": [],
   "source": [
    "s6 = S1.intersection(S2)\n",
    "s6"
   ]
  },
  {
   "cell_type": "code",
   "execution_count": null,
   "id": "f6e2e242",
   "metadata": {},
   "outputs": [],
   "source": [
    "S3 = {1,2,3,4}\n",
    "S4 = {5,6,7}\n",
    "S5 = {1,2,3,4,6,9}"
   ]
  },
  {
   "cell_type": "code",
   "execution_count": null,
   "id": "740b5b86",
   "metadata": {},
   "outputs": [],
   "source": [
    "S3.isdisjoint(S4)"
   ]
  },
  {
   "cell_type": "code",
   "execution_count": null,
   "id": "b75053f8",
   "metadata": {},
   "outputs": [],
   "source": [
    "S1.isdisjoint(S2)"
   ]
  },
  {
   "cell_type": "code",
   "execution_count": null,
   "id": "7dae52c7",
   "metadata": {},
   "outputs": [],
   "source": [
    "S3.issubset(S5)"
   ]
  },
  {
   "cell_type": "code",
   "execution_count": null,
   "id": "225d7fb9",
   "metadata": {},
   "outputs": [],
   "source": [
    "S4.issubset(S5)"
   ]
  },
  {
   "cell_type": "code",
   "execution_count": null,
   "id": "f985a4a9",
   "metadata": {},
   "outputs": [],
   "source": [
    "S5.issuperset(S3)"
   ]
  },
  {
   "cell_type": "code",
   "execution_count": null,
   "id": "0ba2b035",
   "metadata": {},
   "outputs": [],
   "source": [
    "S3.issuperset(S5)"
   ]
  },
  {
   "cell_type": "code",
   "execution_count": null,
   "id": "bd9bd78c",
   "metadata": {},
   "outputs": [],
   "source": [
    "S4.pop()"
   ]
  },
  {
   "cell_type": "code",
   "execution_count": null,
   "id": "f0f8ebdb",
   "metadata": {},
   "outputs": [],
   "source": [
    "S4"
   ]
  },
  {
   "cell_type": "code",
   "execution_count": null,
   "id": "c5074886",
   "metadata": {},
   "outputs": [],
   "source": [
    "S4.pop()"
   ]
  },
  {
   "cell_type": "code",
   "execution_count": null,
   "id": "01265565",
   "metadata": {},
   "outputs": [],
   "source": [
    "S5.remove(3)"
   ]
  },
  {
   "cell_type": "code",
   "execution_count": null,
   "id": "ac07203d",
   "metadata": {},
   "outputs": [],
   "source": [
    "S5,S4,S3"
   ]
  },
  {
   "cell_type": "code",
   "execution_count": null,
   "id": "d632858c",
   "metadata": {},
   "outputs": [],
   "source": [
    "S3.pop()"
   ]
  },
  {
   "cell_type": "code",
   "execution_count": null,
   "id": "20052744",
   "metadata": {},
   "outputs": [],
   "source": [
    "S3.pop()"
   ]
  },
  {
   "cell_type": "code",
   "execution_count": null,
   "id": "dab4cb08",
   "metadata": {},
   "outputs": [],
   "source": [
    "S3"
   ]
  },
  {
   "cell_type": "code",
   "execution_count": null,
   "id": "b8403796",
   "metadata": {},
   "outputs": [],
   "source": [
    "S5.remove(9)"
   ]
  },
  {
   "cell_type": "code",
   "execution_count": null,
   "id": "b07913a8",
   "metadata": {},
   "outputs": [],
   "source": [
    "S5.symmetric_difference(S3)"
   ]
  },
  {
   "cell_type": "code",
   "execution_count": null,
   "id": "809c78ad",
   "metadata": {},
   "outputs": [],
   "source": [
    "S5.symmetric_difference_update(S3)"
   ]
  },
  {
   "cell_type": "code",
   "execution_count": null,
   "id": "60ef88ce",
   "metadata": {},
   "outputs": [],
   "source": [
    "S5.union(S4)"
   ]
  },
  {
   "cell_type": "code",
   "execution_count": null,
   "id": "2b53c8df",
   "metadata": {},
   "outputs": [],
   "source": [
    "S5.update(S3)"
   ]
  },
  {
   "cell_type": "code",
   "execution_count": null,
   "id": "bdd2998e",
   "metadata": {},
   "outputs": [],
   "source": [
    "S5"
   ]
  },
  {
   "cell_type": "code",
   "execution_count": null,
   "id": "045da8c5",
   "metadata": {},
   "outputs": [],
   "source": [
    "S7 = set(S1)"
   ]
  },
  {
   "cell_type": "code",
   "execution_count": null,
   "id": "0fb337e5",
   "metadata": {},
   "outputs": [],
   "source": [
    "S7"
   ]
  },
  {
   "cell_type": "code",
   "execution_count": null,
   "id": "d47aa3e0",
   "metadata": {},
   "outputs": [],
   "source": [
    "S1.issuperset(S7)"
   ]
  },
  {
   "cell_type": "code",
   "execution_count": null,
   "id": "b786229e",
   "metadata": {},
   "outputs": [],
   "source": [
    "S2.pop()"
   ]
  },
  {
   "cell_type": "code",
   "execution_count": null,
   "id": "2b9b1748",
   "metadata": {},
   "outputs": [],
   "source": [
    "S1,S2"
   ]
  },
  {
   "cell_type": "code",
   "execution_count": null,
   "id": "de83b494",
   "metadata": {},
   "outputs": [],
   "source": [
    "S1.symmetric_difference(S2)"
   ]
  },
  {
   "cell_type": "code",
   "execution_count": null,
   "id": "f76ffe34",
   "metadata": {},
   "outputs": [],
   "source": [
    "S1,S2"
   ]
  },
  {
   "cell_type": "code",
   "execution_count": null,
   "id": "92fbdd50",
   "metadata": {},
   "outputs": [],
   "source": [
    "S1.symmetric_difference_update(S2)"
   ]
  },
  {
   "cell_type": "code",
   "execution_count": null,
   "id": "e8eadb03",
   "metadata": {},
   "outputs": [],
   "source": [
    "S1,S2"
   ]
  },
  {
   "cell_type": "code",
   "execution_count": null,
   "id": "60afd13c",
   "metadata": {},
   "outputs": [],
   "source": [
    "S1.union(S2)"
   ]
  },
  {
   "cell_type": "code",
   "execution_count": null,
   "id": "9eaf203e",
   "metadata": {},
   "outputs": [],
   "source": [
    "S1.update([102])"
   ]
  },
  {
   "cell_type": "code",
   "execution_count": null,
   "id": "76f6f034",
   "metadata": {},
   "outputs": [],
   "source": [
    "S1"
   ]
  },
  {
   "cell_type": "code",
   "execution_count": null,
   "id": "516b09cc",
   "metadata": {},
   "outputs": [],
   "source": [
    "type(S1)"
   ]
  },
  {
   "cell_type": "markdown",
   "id": "740aec12",
   "metadata": {},
   "source": [
    "# Dictionary"
   ]
  },
  {
   "cell_type": "code",
   "execution_count": null,
   "id": "e23da491",
   "metadata": {},
   "outputs": [],
   "source": [
    "\n",
    "# Slicing : no\n",
    "# Access: No using index\n",
    "# {key:value,\n",
    "#  key1:value1}\n",
    "\n",
    "Dict1 = {\n",
    "         1:'S1',\n",
    "         2:'S2', \n",
    "         3:'S3', \n",
    "         4:'S4'\n",
    "}\n",
    "        "
   ]
  },
  {
   "cell_type": "code",
   "execution_count": null,
   "id": "1ec5aa99",
   "metadata": {},
   "outputs": [],
   "source": [
    "type(Dict1)"
   ]
  },
  {
   "cell_type": "code",
   "execution_count": null,
   "id": "5e25f9d1",
   "metadata": {},
   "outputs": [],
   "source": [
    "print(Dict1)"
   ]
  },
  {
   "cell_type": "code",
   "execution_count": null,
   "id": "843c429a",
   "metadata": {},
   "outputs": [],
   "source": [
    "Dict1.keys()"
   ]
  },
  {
   "cell_type": "code",
   "execution_count": null,
   "id": "bb2b1575",
   "metadata": {},
   "outputs": [],
   "source": [
    "Dict1.values()"
   ]
  },
  {
   "cell_type": "code",
   "execution_count": null,
   "id": "f8976947",
   "metadata": {},
   "outputs": [],
   "source": [
    "Dict1.items()"
   ]
  },
  {
   "cell_type": "code",
   "execution_count": null,
   "id": "d254a4d3",
   "metadata": {},
   "outputs": [],
   "source": [
    "Dict1.get(1)"
   ]
  },
  {
   "cell_type": "code",
   "execution_count": null,
   "id": "6ba60237",
   "metadata": {},
   "outputs": [],
   "source": [
    "Dict1[1]"
   ]
  },
  {
   "cell_type": "code",
   "execution_count": null,
   "id": "e7ff5a22",
   "metadata": {},
   "outputs": [],
   "source": [
    "Dict1.pop(1)"
   ]
  },
  {
   "cell_type": "code",
   "execution_count": null,
   "id": "6ce45a9e",
   "metadata": {},
   "outputs": [],
   "source": [
    "Dict1"
   ]
  },
  {
   "cell_type": "code",
   "execution_count": null,
   "id": "460d4ac2",
   "metadata": {},
   "outputs": [],
   "source": [
    "Dict1.popitem()"
   ]
  },
  {
   "cell_type": "code",
   "execution_count": null,
   "id": "fc89a947",
   "metadata": {},
   "outputs": [],
   "source": [
    "Dict1"
   ]
  },
  {
   "cell_type": "code",
   "execution_count": null,
   "id": "44134e09",
   "metadata": {},
   "outputs": [],
   "source": [
    "Dict1.update({4:'S4'})"
   ]
  },
  {
   "cell_type": "code",
   "execution_count": null,
   "id": "024bd7fa",
   "metadata": {},
   "outputs": [],
   "source": [
    "Dict1"
   ]
  },
  {
   "cell_type": "code",
   "execution_count": null,
   "id": "3ca081e8",
   "metadata": {},
   "outputs": [],
   "source": [
    "Dict2= {5:'S1',6:'D2',7:'D3',8:'D4'}"
   ]
  },
  {
   "cell_type": "code",
   "execution_count": null,
   "id": "2cae7047",
   "metadata": {},
   "outputs": [],
   "source": [
    "Dict2[5]"
   ]
  },
  {
   "cell_type": "code",
   "execution_count": null,
   "id": "f70dff9c",
   "metadata": {},
   "outputs": [],
   "source": [
    "Dict2[5] = ['D1','D2','D3']\n",
    "Dict2[6] = ('T1','T2','T3')\n",
    "Dict2[7] = (10,20,30)\n",
    "Dict2[8] = {10.5,11.5,6.3}"
   ]
  },
  {
   "cell_type": "code",
   "execution_count": null,
   "id": "dc882268",
   "metadata": {},
   "outputs": [],
   "source": [
    "Dict2"
   ]
  },
  {
   "cell_type": "code",
   "execution_count": null,
   "id": "6197910f",
   "metadata": {},
   "outputs": [],
   "source": [
    "Dict2[5][2] = 'D55555'"
   ]
  },
  {
   "cell_type": "code",
   "execution_count": null,
   "id": "8bce9c68",
   "metadata": {},
   "outputs": [],
   "source": [
    "Dict2[5][1] = 'DD'"
   ]
  },
  {
   "cell_type": "code",
   "execution_count": null,
   "id": "535d1069",
   "metadata": {},
   "outputs": [],
   "source": [
    "Dict2[8][0] = 20"
   ]
  },
  {
   "cell_type": "code",
   "execution_count": null,
   "id": "cea119af",
   "metadata": {},
   "outputs": [],
   "source": [
    "Student_info = {\n",
    "               'Student_ID':[1,2,3,4,5,6,7,8,9,10],\n",
    "                'Students_ame':['shashank','jay','rahul','azhar','aqib','aditya','swati','kavya','rachana','lakshmi'],\n",
    "                'Marks':[80,90,75,86,78,59,63,82,45,78]\n",
    "               }"
   ]
  },
  {
   "cell_type": "code",
   "execution_count": null,
   "id": "6441cae0",
   "metadata": {},
   "outputs": [],
   "source": [
    "print(Student_info)"
   ]
  },
  {
   "cell_type": "code",
   "execution_count": null,
   "id": "1e87aeba",
   "metadata": {},
   "outputs": [],
   "source": [
    "type(Student_info)"
   ]
  },
  {
   "cell_type": "code",
   "execution_count": null,
   "id": "b7e51ff2",
   "metadata": {},
   "outputs": [],
   "source": [
    "type(Student_info['Student_ID'])"
   ]
  },
  {
   "cell_type": "code",
   "execution_count": null,
   "id": "8e85ff17",
   "metadata": {},
   "outputs": [],
   "source": [
    "type(Student_info['Student_ID'][0])"
   ]
  },
  {
   "cell_type": "code",
   "execution_count": null,
   "id": "9c58c39b",
   "metadata": {},
   "outputs": [],
   "source": [
    "avg_marks_class = sum(Student_info['Marks'])/len(Student_info['Marks'])\n",
    "avg_marks_class"
   ]
  },
  {
   "cell_type": "code",
   "execution_count": null,
   "id": "7135af3e",
   "metadata": {},
   "outputs": [],
   "source": [
    "'shashank','jay','rahul','azhar','aqib',"
   ]
  },
  {
   "cell_type": "code",
   "execution_count": null,
   "id": "1ead4f90",
   "metadata": {},
   "outputs": [],
   "source": [
    "# multi dictionary\n",
    "data = {\n",
    "    'st1':{'Name':'shashank',\n",
    "    'age': 25,\n",
    "    'course':['DA','DS','DE'],\n",
    "    'marks': [80,90,60]},\n",
    "    \n",
    "    'st2':{'Name':'jay',\n",
    "    'age': 27,\n",
    "    'course':['DA','DS','DE'],\n",
    "    'marks': [80,80,60]},\n",
    "    \n",
    "    'st3': {'Name':'rahul',\n",
    "    'age': 25,\n",
    "    'course':['DA','DS','DE'],\n",
    "    'marks': [80,90,60]}\n",
    "    \n",
    "}"
   ]
  },
  {
   "cell_type": "code",
   "execution_count": null,
   "id": "91b9c701",
   "metadata": {},
   "outputs": [],
   "source": [
    "avg_st1 = sum(data['st1']['marks'])/len(data['st1']['marks'])\n",
    "print(avg_st1)"
   ]
  },
  {
   "cell_type": "code",
   "execution_count": null,
   "id": "1c615b40",
   "metadata": {},
   "outputs": [],
   "source": [
    "data_list = [\n",
    "    {'Name':'shashank',\n",
    "    'age': 25,\n",
    "    'course':['DA','DS','DE'],\n",
    "    'marks': [80,90,60]},\n",
    "    \n",
    "    {'Name':'jay',\n",
    "    'age': 27,\n",
    "    'course':['DA','DS','DE'],\n",
    "    'marks': [80,80,60]},\n",
    "    \n",
    "    {'Name':'rahul',\n",
    "    'age': 25,\n",
    "    'course':['DA','DS','DE'],\n",
    "    'marks': [80,90,60]}\n",
    "    \n",
    "]"
   ]
  },
  {
   "cell_type": "code",
   "execution_count": null,
   "id": "49ad6dc1",
   "metadata": {},
   "outputs": [],
   "source": [
    "avg_shashank = sum(data_list[1]['marks'])/len(data_list[1]['marks'])\n",
    "print(avg_shashank)"
   ]
  },
  {
   "cell_type": "code",
   "execution_count": null,
   "id": "2cac1067",
   "metadata": {},
   "outputs": [],
   "source": [
    "Conditional staments\n",
    "--> if\n",
    "--> if else\n",
    "--> if elif else"
   ]
  },
  {
   "cell_type": "code",
   "execution_count": null,
   "id": "3f3c9bce",
   "metadata": {},
   "outputs": [],
   "source": [
    "data_list[0]['age']"
   ]
  },
  {
   "cell_type": "code",
   "execution_count": null,
   "id": "10bac513",
   "metadata": {},
   "outputs": [],
   "source": [
    "avg_shashank"
   ]
  },
  {
   "cell_type": "code",
   "execution_count": null,
   "id": "082a1ac5",
   "metadata": {},
   "outputs": [],
   "source": [
    "if condition:\n",
    "    stetments"
   ]
  },
  {
   "cell_type": "code",
   "execution_count": null,
   "id": "bf4f4d1c",
   "metadata": {},
   "outputs": [],
   "source": [
    "avg_shashank < 80"
   ]
  },
  {
   "cell_type": "code",
   "execution_count": null,
   "id": "592f953c",
   "metadata": {},
   "outputs": [],
   "source": [
    "if avg_shashank > 80:\n",
    "    print('A grade')"
   ]
  },
  {
   "cell_type": "code",
   "execution_count": null,
   "id": "ebbd933e",
   "metadata": {},
   "outputs": [],
   "source": [
    "if avg_shashank < 80:\n",
    "    print('A grade')\n",
    "else:\n",
    "    print('B grade')"
   ]
  },
  {
   "cell_type": "code",
   "execution_count": null,
   "id": "f25263ca",
   "metadata": {},
   "outputs": [],
   "source": [
    "# ternory operator\n",
    "Grade = 'A grade' if avg_shashank < 80 else 'B grade'\n",
    "print(Grade)"
   ]
  },
  {
   "cell_type": "code",
   "execution_count": null,
   "id": "ed5da5d3",
   "metadata": {},
   "outputs": [],
   "source": [
    "avg_marks = int(input('Enter the average marks: '))\n",
    "if avg_marks >80:\n",
    "    print('A+ grade')\n",
    "elif avg_marks <= 80 and avg_marks >60:\n",
    "    print('A grade')\n",
    "elif avg_marks <= 60 and avg_marks >40:\n",
    "    print('B grade')\n",
    "elif avg_marks <= 40 and avg_marks >35:\n",
    "    print('C grade')\n",
    "else:\n",
    "    print('Fail') "
   ]
  },
  {
   "cell_type": "code",
   "execution_count": null,
   "id": "b7dc95a2",
   "metadata": {},
   "outputs": [],
   "source": [
    "if data_list[1]['Name'] == 'jay':\n",
    "    \n",
    "    avg_jay = sum(data_list[1]['marks'])/len(data_list[1]['marks'])\n",
    "    if avg_jay >80:\n",
    "        print('A+ grade')\n",
    "    elif avg_jay <= 80 and avg_jay >60:\n",
    "        print('A grade')\n",
    "    elif avg_jay <= 60 and avg_jay >40:\n",
    "        print('B grade')\n",
    "    elif avg_jay <= 40 and avg_jay >35:\n",
    "        print('C grade')\n",
    "    else:\n",
    "        print('Fail')\n",
    "else:\n",
    "    print('The student is not present')\n",
    "    "
   ]
  },
  {
   "cell_type": "code",
   "execution_count": null,
   "id": "1f7fb6f2",
   "metadata": {},
   "outputs": [],
   "source": [
    "# ternory operator\n",
    "Grade = 'A grade' if avg_shashank < 80 else 'B grade'\n",
    "print(Grade)"
   ]
  },
  {
   "cell_type": "code",
   "execution_count": null,
   "id": "b0f98721",
   "metadata": {},
   "outputs": [],
   "source": [
    "# for and while\n",
    "for i in range():\n",
    "    statments"
   ]
  },
  {
   "cell_type": "code",
   "execution_count": null,
   "id": "2b2c4f60",
   "metadata": {},
   "outputs": [],
   "source": [
    "for i in range(1,11,2):\n",
    "    print(i)"
   ]
  },
  {
   "cell_type": "code",
   "execution_count": null,
   "id": "d8bdadea",
   "metadata": {},
   "outputs": [],
   "source": [
    "for i in range(0,10):\n",
    "    print(i+1)"
   ]
  },
  {
   "cell_type": "code",
   "execution_count": null,
   "id": "00059dce",
   "metadata": {},
   "outputs": [],
   "source": [
    "for i in data_list:\n",
    "    print(i['Name'].upper())"
   ]
  },
  {
   "cell_type": "code",
   "execution_count": null,
   "id": "d02c2a02",
   "metadata": {},
   "outputs": [],
   "source": [
    "for i in range(0,len(data_list)):\n",
    "    print(data_list[i]['Name'])"
   ]
  },
  {
   "cell_type": "code",
   "execution_count": null,
   "id": "f6b169b5",
   "metadata": {},
   "outputs": [],
   "source": [
    "for i in range(10,0,-1):\n",
    "    print(i)"
   ]
  },
  {
   "cell_type": "code",
   "execution_count": null,
   "id": "a7363bf4",
   "metadata": {},
   "outputs": [],
   "source": [
    "for i in range(2,-1,-1):\n",
    "    print(data_list[i]['Name'])"
   ]
  },
  {
   "cell_type": "code",
   "execution_count": null,
   "id": "54b18d53",
   "metadata": {},
   "outputs": [],
   "source": [
    "for i in data_list:\n",
    "    averages = sum(i['marks'])/len(i['marks'])\n",
    "    name = i['Name']\n",
    "    if averages >80:\n",
    "        print(f'{name} --> {averages}% --> A+ grade')\n",
    "    elif avg_jay <= 80 and avg_jay >60:\n",
    "        print(f'{name} --> {averages}% --> A grade')\n",
    "    elif avg_jay <= 60 and avg_jay >40:\n",
    "        print(f'{name} --> {averages}% --> B grade')\n",
    "    elif avg_jay <= 40 and avg_jay >35:\n",
    "        print(f'{name} --> {averages}% --> C grade')\n",
    "    else:\n",
    "        print(f'{name} --> {averages}% --> Fail')"
   ]
  },
  {
   "cell_type": "code",
   "execution_count": null,
   "id": "d56f170b",
   "metadata": {},
   "outputs": [],
   "source": []
  },
  {
   "cell_type": "code",
   "execution_count": null,
   "id": "30cc490a",
   "metadata": {},
   "outputs": [],
   "source": [
    "print(Student_info)"
   ]
  },
  {
   "cell_type": "code",
   "execution_count": null,
   "id": "2d933170",
   "metadata": {},
   "outputs": [],
   "source": [
    "sum(Student_info['IQ'])/len(Student_info['IQ'])"
   ]
  },
  {
   "cell_type": "code",
   "execution_count": null,
   "id": "eac6b04a",
   "metadata": {},
   "outputs": [],
   "source": [
    "avg_IQ = round(sum(Student_info['IQ'])/len(Student_info['IQ']),2)\n",
    "avg_IQ"
   ]
  },
  {
   "cell_type": "code",
   "execution_count": null,
   "id": "3a9e2974",
   "metadata": {},
   "outputs": [],
   "source": [
    "if 'jay' in Student_info['name']:\n",
    "    IQ_jay = Student_info['IQ'][1] > 120\n",
    "    print(IQ_jay)"
   ]
  },
  {
   "cell_type": "code",
   "execution_count": null,
   "id": "63d642ca",
   "metadata": {},
   "outputs": [],
   "source": [
    "STUDENTS_details = {\n",
    "                         'ID1':{'name': 'sam',\n",
    "                                'age': 25,\n",
    "                                'sub':['s1','s2','s3','s4','s5','s6'],\n",
    "                                'marks': [60,40,50,80,90]},\n",
    "                    \n",
    "                   'ID2': {'name': 'pam',\n",
    "                           'age': 25,\n",
    "                           'sub':['s1','s2','s3','s4','s5','s6'],\n",
    "                           'marks': [60,40,50,80,90]},\n",
    "                   }"
   ]
  },
  {
   "cell_type": "code",
   "execution_count": null,
   "id": "46a111c2",
   "metadata": {},
   "outputs": [],
   "source": [
    "STUDENTS_details['ID1']['sub']"
   ]
  },
  {
   "cell_type": "code",
   "execution_count": null,
   "id": "9507271a",
   "metadata": {},
   "outputs": [],
   "source": [
    "STUDENTS_details = [\n",
    "                        {'name': 'sam',\n",
    "                                'age': 25,\n",
    "                                'sub':['s1','s2','s3','s4','s5','s6'],\n",
    "                                'marks': [60,40,50,80,90]},\n",
    "                    \n",
    "               {'name': 'pam',\n",
    "                           'age': 25,\n",
    "                           'sub':['s1','s2','s3','s4','s5','s6'],\n",
    "                           'marks': [60,40,50,80,90]},\n",
    "     {'name': 'pam',\n",
    "                           'age': 25,\n",
    "                           'sub':['s1','s2','s3','s4','s5','s6'],\n",
    "                           'marks': [60,40,50,80,90]},\n",
    "     {'name': 'pam',\n",
    "                           'age': 25,\n",
    "                           'sub':['s1','s2','s3','s4','s5','s6'],\n",
    "                           'marks': [60,40,50,80,90]},\n",
    "     {'name': 'pam',\n",
    "                           'age': 25,\n",
    "                           'sub':['s1','s2','s3','s4','s5','s6'],\n",
    "                           'marks': [60,40,50,80,90]},\n",
    "]"
   ]
  },
  {
   "cell_type": "code",
   "execution_count": null,
   "id": "8ad3e43a",
   "metadata": {},
   "outputs": [],
   "source": [
    "STUDENTS_details[0]['name']"
   ]
  },
  {
   "cell_type": "code",
   "execution_count": null,
   "id": "c67ed099",
   "metadata": {},
   "outputs": [],
   "source": [
    "st1_avg_marks = sum(STUDENTS_details[0]['marks'])/len(STUDENTS_details[0]['marks'])\n",
    "st1_avg_marks"
   ]
  },
  {
   "cell_type": "code",
   "execution_count": null,
   "id": "d9592f48",
   "metadata": {},
   "outputs": [],
   "source": [
    "STUDENTS_details[0]['name'],STUDENTS_details[0]['marks']\n",
    "\n",
    "Task 3: calculate the avergae of the marks.\n",
    "    average marks = sum(marks)/number of marks.\n",
    "    "
   ]
  },
  {
   "attachments": {
    "Screenshot%202023-08-17%20174644.png": {
     "image/png": "[encoded data removed]"
    }
   },
   "cell_type": "markdown",
   "id": "1e215140",
   "metadata": {},
   "source": [
    "Task2: create a dictionary with marks, name, age, subjects with 10 names and 6 subjects. ![Screenshot%202023-08-17%20174644.png](attachment:Screenshot%202023-08-17%20174644.png)"
   ]
  },
  {
   "cell_type": "raw",
   "id": "0a0b6527",
   "metadata": {},
   "source": [
    "# Conditional Statments:\n",
    "IF,\n",
    "IF else,\n",
    "If...elif...else,\n",
    "ternary operator(value if true if condition else value is false)"
   ]
  },
  {
   "cell_type": "raw",
   "id": "ae37516e",
   "metadata": {},
   "source": [
    "Q1: Check the given user input is even/odd?\n",
    "Q2: Check the users age is eligible for voting are not? \n",
    "Q3: Check the given user input is prime number?\n",
    "Q4: Give the fair price of given age of user eg: \n",
    "    if age is 5 price wil be 10, \n",
    "    if age is 6-15 price will be 15,\n",
    "    greater than 15 will have 20 price.\n",
    "Q5: Create a marksheet with grades of marks.\n",
    "    90+ -- A grade\n",
    "    70+ -- B grade\n",
    "    50+ -- C grade\n",
    "    30+ -- D grade\n",
    "    >30 -- fail."
   ]
  },
  {
   "cell_type": "code",
   "execution_count": null,
   "id": "2ee371bb",
   "metadata": {},
   "outputs": [],
   "source": [
    "x = int(input())\n",
    "if x%2 ==0:\n",
    "    print('even')\n",
    "else:\n",
    "    print('odd')"
   ]
  },
  {
   "cell_type": "code",
   "execution_count": null,
   "id": "54015ca0",
   "metadata": {},
   "outputs": [],
   "source": [
    "num = 5\n",
    "if num == 1:\n",
    "    print(num, \"is not a prime number\")\n",
    "elif num > 1:\n",
    "   # check for factors\n",
    "   for i in range(2,num):\n",
    "        if (num % i) == 0:\n",
    "            print(num,\"is not a prime number\")\n",
    "            print(i,\"times\",num//i,\"is\",num)\n",
    "            break\n",
    "        else:\n",
    "            print(num,\"is a prime number\")\n",
    "       \n",
    "# if input number is less than\n",
    "# or equal to 1, it is not prime\n",
    "else:\n",
    "    print(num,\"is not a prime number\")"
   ]
  },
  {
   "cell_type": "code",
   "execution_count": null,
   "id": "fb8e56b1",
   "metadata": {},
   "outputs": [],
   "source": [
    "if condition:\n",
    "    statement"
   ]
  },
  {
   "cell_type": "code",
   "execution_count": null,
   "id": "a8a9a881",
   "metadata": {},
   "outputs": [],
   "source": [
    "age = 8\n",
    "if age == 8:\n",
    "    print('age is  8')"
   ]
  },
  {
   "cell_type": "code",
   "execution_count": null,
   "id": "424949ef",
   "metadata": {},
   "outputs": [],
   "source": [
    "if age > 8:\n",
    "    print('age is greater then 8')"
   ]
  },
  {
   "cell_type": "code",
   "execution_count": null,
   "id": "9b2d622f",
   "metadata": {},
   "outputs": [],
   "source": [
    "ages = [5,4,6,9,8]\n",
    "if 10 in ages:\n",
    "    sum_age = max(ages)\n",
    "    print(sum_age)"
   ]
  },
  {
   "cell_type": "code",
   "execution_count": null,
   "id": "15d41143",
   "metadata": {},
   "outputs": [],
   "source": [
    "weight = 58"
   ]
  },
  {
   "cell_type": "code",
   "execution_count": null,
   "id": "e24ec63a",
   "metadata": {},
   "outputs": [],
   "source": [
    "age, weight"
   ]
  },
  {
   "cell_type": "code",
   "execution_count": null,
   "id": "93c34e35",
   "metadata": {},
   "outputs": [],
   "source": [
    "if age < 5 or weight >= 50:\n",
    "    BMI = age * weight\n",
    "    print(BMI)"
   ]
  },
  {
   "cell_type": "code",
   "execution_count": null,
   "id": "3584e370",
   "metadata": {},
   "outputs": [],
   "source": [
    "if not age < 5 :\n",
    "    BMI = age * weight\n",
    "    print(BMI)"
   ]
  },
  {
   "cell_type": "code",
   "execution_count": null,
   "id": "105d1d5e",
   "metadata": {},
   "outputs": [],
   "source": [
    "if len(STUDENTS_details) == 10:\n",
    "    st1 = STUDENTS_details[0]['name']\n",
    "    st2 = STUDENTS_details[1]['name']\n",
    "    st3 = STUDENTS_details[2]['name']\n",
    "    st4 = STUDENTS_details[3]['name']\n",
    "    st5 = STUDENTS_details[4]['name']\n",
    "    print(st1,st2,st3,st4,st5)\n",
    "else:\n",
    "    print('there are less then 10 students in data')\n"
   ]
  },
  {
   "cell_type": "code",
   "execution_count": null,
   "id": "010520cd",
   "metadata": {},
   "outputs": [],
   "source": []
  },
  {
   "cell_type": "code",
   "execution_count": null,
   "id": "b8164c07",
   "metadata": {},
   "outputs": [],
   "source": []
  },
  {
   "cell_type": "code",
   "execution_count": null,
   "id": "4ee3535d",
   "metadata": {},
   "outputs": [],
   "source": [
    "#if : \n",
    "A = 10\n",
    "B = 20\n",
    "if A == B:\n",
    "    print('A is less then B') \n",
    "else:\n",
    "    print('A and B is not equal')"
   ]
  },
  {
   "cell_type": "code",
   "execution_count": null,
   "id": "7be30bf1",
   "metadata": {},
   "outputs": [],
   "source": [
    "if A != B or B != A:\n",
    "    print('A is less then B')\n",
    "else:\n",
    "    print('A is not less then B')"
   ]
  },
  {
   "cell_type": "code",
   "execution_count": null,
   "id": "d20d2ddd",
   "metadata": {},
   "outputs": [],
   "source": [
    "Student_info['key1']['IQ']"
   ]
  },
  {
   "cell_type": "code",
   "execution_count": null,
   "id": "0a61080a",
   "metadata": {},
   "outputs": [],
   "source": [
    "Student_info['key1']['name']"
   ]
  },
  {
   "cell_type": "code",
   "execution_count": null,
   "id": "0cdbc20f",
   "metadata": {},
   "outputs": [],
   "source": [
    "### True staemnet\n",
    "if 'aditya1' in Student_info['key1']['name']:\n",
    "    avg = sum(Student_info['key1']['IQ'])/len(Student_info['key1']['IQ'])\n",
    "    print(avg)\n",
    "else:\n",
    "    avg_1 = sum(Student_info['key1']['IQ'])/len(Student_info['key1']['IQ'])\n",
    "    print(round(avg_1,2))\n",
    "   "
   ]
  },
  {
   "cell_type": "code",
   "execution_count": null,
   "id": "9f6f6ee7",
   "metadata": {},
   "outputs": [],
   "source": [
    "A,B"
   ]
  },
  {
   "cell_type": "code",
   "execution_count": null,
   "id": "b94cfc62",
   "metadata": {},
   "outputs": [],
   "source": [
    "if st1_avg_marks >= 60:\n",
    "    print('students 1 gets the marks as - A grade')"
   ]
  },
  {
   "cell_type": "code",
   "execution_count": null,
   "id": "f3ebd025",
   "metadata": {},
   "outputs": [],
   "source": [
    "A,B"
   ]
  },
  {
   "cell_type": "code",
   "execution_count": null,
   "id": "64ee098a",
   "metadata": {},
   "outputs": [],
   "source": [
    "if A != 10 or B == 20:\n",
    "    print('Both statemments are True')"
   ]
  },
  {
   "cell_type": "code",
   "execution_count": null,
   "id": "dcf97484",
   "metadata": {},
   "outputs": [],
   "source": [
    "==,!=,>=,<=,><\n",
    "AND, OR ,NOT\n"
   ]
  },
  {
   "cell_type": "code",
   "execution_count": null,
   "id": "e87a44d7",
   "metadata": {},
   "outputs": [],
   "source": [
    "A=40\n",
    "B = 20"
   ]
  },
  {
   "cell_type": "markdown",
   "id": "ec660475",
   "metadata": {},
   "source": [
    "# IF and Else statements"
   ]
  },
  {
   "cell_type": "code",
   "execution_count": null,
   "id": "9f21f98e",
   "metadata": {},
   "outputs": [],
   "source": [
    "if A == 40:\n",
    "    print(A)\n",
    "else:\n",
    "    print('The above statemnets is false')"
   ]
  },
  {
   "cell_type": "code",
   "execution_count": null,
   "id": "28361658",
   "metadata": {},
   "outputs": [],
   "source": [
    "if A != 40:\n",
    "    print(A)\n",
    "else:\n",
    "    print('The above statemnets is false')"
   ]
  },
  {
   "cell_type": "code",
   "execution_count": null,
   "id": "427aea63",
   "metadata": {},
   "outputs": [],
   "source": [
    "if STUDENTS_details[0]['age'] >= 18:\n",
    "    print('Eligible for exmination')\n",
    "else:\n",
    "    print('Not Eligible for exmination')"
   ]
  },
  {
   "cell_type": "code",
   "execution_count": null,
   "id": "67f60379",
   "metadata": {},
   "outputs": [],
   "source": [
    "if A == 10:\n",
    "    A = A+10\n",
    "else:\n",
    "    print('The above statemnets is false')"
   ]
  },
  {
   "cell_type": "code",
   "execution_count": null,
   "id": "c7ef747b",
   "metadata": {},
   "outputs": [],
   "source": [
    "A"
   ]
  },
  {
   "cell_type": "code",
   "execution_count": null,
   "id": "5e371125",
   "metadata": {},
   "outputs": [],
   "source": [
    "Student_info['key2']['name'][2]"
   ]
  },
  {
   "cell_type": "code",
   "execution_count": null,
   "id": "988c8bcc",
   "metadata": {},
   "outputs": [],
   "source": [
    "if type(Student_info['key2']['name']) == list:\n",
    "    st1 = Student_info['key2']['name'][2]\n",
    "    print(f'The 1st student is {st1}')\n",
    "else:\n",
    "    print('The 1st student list is not mentioned')"
   ]
  },
  {
   "cell_type": "code",
   "execution_count": null,
   "id": "43821e24",
   "metadata": {},
   "outputs": [],
   "source": [
    "if type(STUDENTS_details[0]['marks']) == tuple:\n",
    "    avg_marks = sum(STUDENTS_details[0]['marks'])/len(STUDENTS_details[0]['marks'])\n",
    "    print(f'The average marks of 1st students is {avg_marks}')\n",
    "else:\n",
    "    print('the given data is not in the type tuple')"
   ]
  },
  {
   "cell_type": "code",
   "execution_count": null,
   "id": "f38f90b2",
   "metadata": {},
   "outputs": [],
   "source": [
    "if A>B:\n",
    "    print('A is greater then B')\n",
    "else:\n",
    "    print('A is smaller then B')"
   ]
  },
  {
   "cell_type": "code",
   "execution_count": null,
   "id": "eb453f77",
   "metadata": {},
   "outputs": [],
   "source": [
    "if A<B:\n",
    "    print('A is Smaller then B')\n",
    "else:\n",
    "    print('A is greater then B')"
   ]
  },
  {
   "cell_type": "raw",
   "id": "14e8d922",
   "metadata": {},
   "source": [
    "==, !=, <= ,>="
   ]
  },
  {
   "cell_type": "code",
   "execution_count": null,
   "id": "f6fe09f9",
   "metadata": {},
   "outputs": [],
   "source": [
    "# if using logical statement.( and, or, not)"
   ]
  },
  {
   "cell_type": "code",
   "execution_count": null,
   "id": "fa2dc9b3",
   "metadata": {},
   "outputs": [],
   "source": [
    "A == 10 and B != 20"
   ]
  },
  {
   "cell_type": "code",
   "execution_count": null,
   "id": "986bc322",
   "metadata": {},
   "outputs": [],
   "source": [
    "if A < 8 and B >10:\n",
    "    print(' Both the statement are true')"
   ]
  },
  {
   "cell_type": "code",
   "execution_count": null,
   "id": "c9939e29",
   "metadata": {},
   "outputs": [],
   "source": [
    "if A > 8 and B == 10:\n",
    "    print(' Both the statement are true')\n",
    "else: \n",
    "    print(' One statment is false')"
   ]
  },
  {
   "cell_type": "code",
   "execution_count": null,
   "id": "575bd51d",
   "metadata": {},
   "outputs": [],
   "source": [
    "if A < 8 or B == 10:\n",
    "    print(' Both the statement are true')\n",
    "else: \n",
    "    print(' One statment is false')"
   ]
  },
  {
   "cell_type": "code",
   "execution_count": null,
   "id": "1d3aa543",
   "metadata": {},
   "outputs": [],
   "source": [
    "Age = int(input('Please enter your age:'))\n",
    "if Age >= 21:\n",
    "    print('Eligible for interview')\n",
    "else:\n",
    "    print('Not Eligilble for interview')"
   ]
  },
  {
   "cell_type": "code",
   "execution_count": null,
   "id": "92a7c639",
   "metadata": {},
   "outputs": [],
   "source": [
    "if Age >= 20:\n",
    "    X = int(input('Please enter the Age:'))\n",
    "    Name = input('please Enter your name:')\n",
    "    print(f'The given name and age is,{Name} and {X}')\n",
    "else:\n",
    "    print('Age is not eligible')"
   ]
  },
  {
   "cell_type": "code",
   "execution_count": null,
   "id": "191fd216",
   "metadata": {},
   "outputs": [],
   "source": []
  },
  {
   "cell_type": "code",
   "execution_count": null,
   "id": "8ea7e35a",
   "metadata": {},
   "outputs": [],
   "source": []
  },
  {
   "cell_type": "code",
   "execution_count": null,
   "id": "4d543751",
   "metadata": {},
   "outputs": [],
   "source": []
  },
  {
   "cell_type": "code",
   "execution_count": null,
   "id": "6d15577c",
   "metadata": {},
   "outputs": [],
   "source": [
    "if not A == 10:\n",
    "    print(' Both the statement are true')\n",
    "else: \n",
    "    print(' One statment is false')"
   ]
  },
  {
   "cell_type": "markdown",
   "id": "0589be1c",
   "metadata": {},
   "source": [
    "# if, elif, else"
   ]
  },
  {
   "cell_type": "code",
   "execution_count": null,
   "id": "c531fd6a",
   "metadata": {},
   "outputs": [],
   "source": [
    "A = 10\n",
    "B = 20"
   ]
  },
  {
   "cell_type": "code",
   "execution_count": null,
   "id": "6ce14d69",
   "metadata": {},
   "outputs": [],
   "source": [
    "if condition:\n",
    "    statement\n",
    "elif condition:\n",
    "    statment\n",
    "elif condtion:\n",
    "    statemnet"
   ]
  },
  {
   "cell_type": "code",
   "execution_count": null,
   "id": "0ceccc3d",
   "metadata": {},
   "outputs": [],
   "source": [
    "A "
   ]
  },
  {
   "cell_type": "code",
   "execution_count": null,
   "id": "7a858ec0",
   "metadata": {},
   "outputs": [],
   "source": [
    "A = 10\n",
    "if A == 40:\n",
    "    print('A is 40')\n",
    "elif A >10:\n",
    "    print('A is 10')\n",
    "elif A == 20:\n",
    "    print('A3 is not 40')\n",
    "elif A < 10:\n",
    "    print('A1 is not 40')\n",
    "else:\n",
    "    print('nothing true above statements')"
   ]
  },
  {
   "cell_type": "code",
   "execution_count": null,
   "id": "9b6747ec",
   "metadata": {},
   "outputs": [],
   "source": [
    "marks = [95,80,60,70,75,65]\n",
    "percentage = round(sum(marks)/len(marks),2)\n",
    "percentage"
   ]
  },
  {
   "cell_type": "code",
   "execution_count": null,
   "id": "a81e4e7d",
   "metadata": {},
   "outputs": [],
   "source": [
    "if percentage > 90:\n",
    "    print(f'The percentage is {percentage} : A GRADE')\n",
    "elif percentage < 90 and percentage >= 70:\n",
    "    print(f'The percentage is {percentage} : B GRADE')\n",
    "elif percentage < 70 and percentage >= 50:\n",
    "    print(f'The percentage is {percentage} : C GRADE')\n",
    "elif percentage < 50 and percentage >= 35:\n",
    "    print(f'The percentage is {percentage} : D GRADE')\n",
    "else:\n",
    "    print(f'The percentage is {percentage} : Fail')"
   ]
  },
  {
   "cell_type": "code",
   "execution_count": null,
   "id": "953aa5ce",
   "metadata": {},
   "outputs": [],
   "source": [
    "if  A == 8:\n",
    "    print(' 1st statement is true')\n",
    "elif B == 20:\n",
    "    print('the second statement is true')\n",
    "else: \n",
    "    print('statements is false')"
   ]
  },
  {
   "cell_type": "code",
   "execution_count": null,
   "id": "f42239d6",
   "metadata": {},
   "outputs": [],
   "source": [
    "x = int(input('please enter your age:'))\n",
    "if x >= 20:\n",
    "    y = input('enter again the age:')\n",
    "    print(y)\n",
    "    z = input('enter again the 2nd age')\n",
    "    print(z)\n",
    "else:\n",
    "    print('exit')"
   ]
  },
  {
   "cell_type": "code",
   "execution_count": null,
   "id": "d9af6410",
   "metadata": {},
   "outputs": [],
   "source": [
    "hights = [20.5,15.6,18.9,102.6,18.6]\n",
    "\n",
    "if 10 in hights or 18.9 in hights:\n",
    "    avg_hight = sum(hights)/len(hights)\n",
    "    print(f'average hight is {round(avg_hight)}')\n",
    "    "
   ]
  },
  {
   "cell_type": "raw",
   "id": "cbbb7ed9",
   "metadata": {},
   "source": [
    "Q3: Create a marksheet with grades of marks.\n",
    "    90+ -- A grade\n",
    "    70+ -- B grade\n",
    "    50+ -- C grade\n",
    "    30+ -- D grade\n",
    "    >30 -- fail."
   ]
  },
  {
   "cell_type": "code",
   "execution_count": null,
   "id": "bd01ee1b",
   "metadata": {},
   "outputs": [],
   "source": [
    "marks = [50,80,90,70,80]\n",
    "avge_marks = sum(marks)/len(marks)\n",
    "if avge_marks >= 90:\n",
    "    print('A grade')"
   ]
  },
  {
   "cell_type": "code",
   "execution_count": null,
   "id": "76f08b3d",
   "metadata": {},
   "outputs": [],
   "source": [
    "marks = list(input('enter the values:'))\n",
    "print(marks)"
   ]
  },
  {
   "cell_type": "code",
   "execution_count": null,
   "id": "5db3420e",
   "metadata": {},
   "outputs": [],
   "source": [
    "marks.split(',')"
   ]
  },
  {
   "cell_type": "markdown",
   "id": "64f9c64a",
   "metadata": {},
   "source": [
    "# Ternory operator"
   ]
  },
  {
   "cell_type": "code",
   "execution_count": null,
   "id": "7e6cf8ed",
   "metadata": {},
   "outputs": [],
   "source": [
    "# ternary operator\n",
    "var = value_if_true if condition else value_if_flase "
   ]
  },
  {
   "cell_type": "code",
   "execution_count": null,
   "id": "d5909ade",
   "metadata": {},
   "outputs": [],
   "source": [
    "age = 10\n",
    "weight = 50"
   ]
  },
  {
   "cell_type": "code",
   "execution_count": null,
   "id": "a95555fa",
   "metadata": {},
   "outputs": [],
   "source": [
    "if age == weight:\n",
    "    price = 10\n",
    "    print(price)\n",
    "else:\n",
    "    price = 20\n",
    "    print(price)"
   ]
  },
  {
   "cell_type": "code",
   "execution_count": null,
   "id": "3799a5eb",
   "metadata": {},
   "outputs": [],
   "source": [
    "price1 = 10 if age != weight else 20\n",
    "price1"
   ]
  },
  {
   "cell_type": "code",
   "execution_count": null,
   "id": "cc9daf0d",
   "metadata": {},
   "outputs": [],
   "source": [
    "price1 = 'price is very high' if age < weight else 20\n",
    "price1"
   ]
  },
  {
   "cell_type": "code",
   "execution_count": null,
   "id": "71bddb48",
   "metadata": {},
   "outputs": [],
   "source": [
    "price2 = 5 if int(input('Enter the age: ')) < 15 else 20\n",
    "print(price2)"
   ]
  },
  {
   "cell_type": "markdown",
   "id": "903a0bdd",
   "metadata": {},
   "source": [
    "# Looping statments\n",
    "## For, while."
   ]
  },
  {
   "cell_type": "markdown",
   "id": "2727a4f1",
   "metadata": {},
   "source": [
    "# For loops"
   ]
  },
  {
   "cell_type": "code",
   "execution_count": null,
   "id": "ddb87575",
   "metadata": {},
   "outputs": [],
   "source": [
    "# manual looping\n",
    "num = [10,11,12,13,14,15,16,17]\n",
    "# print(num * 2)\n",
    "print(num[0]*2)\n",
    "print(num[1]*2)\n",
    "print(num[2]*2)"
   ]
  },
  {
   "cell_type": "code",
   "execution_count": null,
   "id": "bcd4fec2",
   "metadata": {},
   "outputs": [],
   "source": [
    "num = [10,11,12,13,14,15,16,17]\n",
    "for i in num:\n",
    "    print(i / 2)"
   ]
  },
  {
   "cell_type": "code",
   "execution_count": null,
   "id": "5545dc5a",
   "metadata": {},
   "outputs": [],
   "source": [
    "numbers = [1,2,3,4,5,6,7,8,9,10]\n",
    "for i in numbers:\n",
    "    print(i*i)"
   ]
  },
  {
   "cell_type": "code",
   "execution_count": null,
   "id": "72698d72",
   "metadata": {},
   "outputs": [],
   "source": [
    "for i in numbers:\n",
    "    print(i**3)"
   ]
  },
  {
   "cell_type": "markdown",
   "id": "6566cac4",
   "metadata": {},
   "source": [
    "# range function: range[start, end, step]"
   ]
  },
  {
   "cell_type": "code",
   "execution_count": null,
   "id": "02f055c9",
   "metadata": {},
   "outputs": [],
   "source": [
    "range(10)"
   ]
  },
  {
   "cell_type": "code",
   "execution_count": null,
   "id": "2f5876ac",
   "metadata": {},
   "outputs": [],
   "source": [
    "for i in range(10):\n",
    "    print(i)"
   ]
  },
  {
   "cell_type": "code",
   "execution_count": null,
   "id": "bd59c992",
   "metadata": {},
   "outputs": [],
   "source": [
    "for i in range(1,11):\n",
    "    print(i)"
   ]
  },
  {
   "cell_type": "code",
   "execution_count": null,
   "id": "570c5b43",
   "metadata": {},
   "outputs": [],
   "source": [
    "for i in range(10):\n",
    "    print(i+1)"
   ]
  },
  {
   "cell_type": "code",
   "execution_count": null,
   "id": "dbfe5a32",
   "metadata": {},
   "outputs": [],
   "source": [
    "for i in range(1,11): #[1,2,3,4,5,6,7,8,9,10]\n",
    "    print(i*3)"
   ]
  },
  {
   "cell_type": "code",
   "execution_count": null,
   "id": "b99520e4",
   "metadata": {},
   "outputs": [],
   "source": [
    "for i in range(1,11):\n",
    "    print(i*2)"
   ]
  },
  {
   "cell_type": "code",
   "execution_count": null,
   "id": "809b7e29",
   "metadata": {},
   "outputs": [],
   "source": [
    "for i in range(1,6,4): #[1,2,3,4,5]\n",
    "    print(i)"
   ]
  },
  {
   "cell_type": "markdown",
   "id": "a94aa4af",
   "metadata": {},
   "source": [
    "# Break statement"
   ]
  },
  {
   "cell_type": "code",
   "execution_count": null,
   "id": "02b57efa",
   "metadata": {},
   "outputs": [],
   "source": [
    "for i in range(1,10):\n",
    "    if i == 5:\n",
    "        break \n",
    "    print(i)"
   ]
  },
  {
   "cell_type": "markdown",
   "id": "ea7ce722",
   "metadata": {},
   "source": [
    "# Continue statement"
   ]
  },
  {
   "cell_type": "code",
   "execution_count": null,
   "id": "17ca0582",
   "metadata": {},
   "outputs": [],
   "source": [
    "for i in range(1,11):\n",
    "    if i == 7:\n",
    "        print('i is 7 now')\n",
    "        continue\n",
    "    print(i)"
   ]
  },
  {
   "cell_type": "markdown",
   "id": "83eadefa",
   "metadata": {},
   "source": [
    "# pass statement"
   ]
  },
  {
   "cell_type": "code",
   "execution_count": null,
   "id": "46eee712",
   "metadata": {},
   "outputs": [],
   "source": [
    "for i in range(1,11):\n",
    "    print(i)\n",
    "    if i == 5:\n",
    "        i=i+1\n",
    "        pass\n",
    "    "
   ]
  },
  {
   "cell_type": "code",
   "execution_count": null,
   "id": "01c40507",
   "metadata": {},
   "outputs": [],
   "source": [
    "student_marks = [\n",
    "    {'name':'sam',\n",
    "    'age':25,\n",
    "    'subjects':['Maths','science','CS','Statistics','Phyisics','Bio'],\n",
    "    'Marks':[60,70,80,90,70,60]},\n",
    "    \n",
    "    {'name':'fam',\n",
    "    'age':26,\n",
    "    'subjects':['Maths','science','CS','Statistics','Phyisics','Bio'],\n",
    "    'Marks':[60,70,80,80,70,60]},\n",
    "                 \n",
    "    {'name':'sss',\n",
    "    'age':27,\n",
    "    'subjects':['Maths','science','CS','Statistics','Phyisics','Bio'],\n",
    "    'Marks':[60,50,80,70,70,60]}\n",
    "                ]"
   ]
  },
  {
   "cell_type": "code",
   "execution_count": null,
   "id": "6ce62716",
   "metadata": {},
   "outputs": [],
   "source": [
    "student_marks[1]"
   ]
  },
  {
   "cell_type": "code",
   "execution_count": null,
   "id": "be2843f6",
   "metadata": {},
   "outputs": [],
   "source": [
    "average = round(sum(student_marks[2]['Marks'])/len(student_marks[2]['Marks']),2)\n",
    "average"
   ]
  },
  {
   "cell_type": "code",
   "execution_count": null,
   "id": "516d9382",
   "metadata": {},
   "outputs": [],
   "source": [
    "for i in range(len(student_marks)):\n",
    "    average = round(sum(student_marks[i]['Marks'])/len(student_marks[i]['Marks']),2)\n",
    "    name = student_marks[i]['name']\n",
    "    print(f'Results:{name}: {average}')"
   ]
  },
  {
   "cell_type": "code",
   "execution_count": null,
   "id": "f747bbcc",
   "metadata": {},
   "outputs": [],
   "source": [
    "for i in range(len(student_marks)):\n",
    "    avg = round(sum(student_marks[i]['Marks'])/len(student_marks[i]['Marks']),2)\n",
    "    print('name {} Average marks {}'.format(student_marks[i]['name'], avg))\n",
    "    if avg >= 90:\n",
    "        print('A grade')\n",
    "    elif avg <90 and avg >= 70:\n",
    "        print('B grade')\n",
    "    elif avg < 70 and avg >= 50:\n",
    "        print('C grade')\n",
    "    elif avg <50 and avg >=30:\n",
    "        print('D grade')\n",
    "    else:\n",
    "        print('Fail')"
   ]
  },
  {
   "cell_type": "code",
   "execution_count": null,
   "id": "9c8a2cea",
   "metadata": {},
   "outputs": [],
   "source": [
    "for i in range(len(student_marks)):\n",
    "    name_upper = student_marks[i]['name'].upper()\n",
    "    print(name_upper)"
   ]
  },
  {
   "cell_type": "code",
   "execution_count": null,
   "id": "8098ace3",
   "metadata": {},
   "outputs": [],
   "source": [
    "import statistics as st\n",
    "st.mean(student_marks[0]['Marks'])"
   ]
  },
  {
   "cell_type": "code",
   "execution_count": null,
   "id": "ac27bfde",
   "metadata": {},
   "outputs": [],
   "source": [
    "st.stdev([120,15,16])"
   ]
  },
  {
   "cell_type": "code",
   "execution_count": null,
   "id": "76d472ec",
   "metadata": {},
   "outputs": [],
   "source": [
    "i = 2\n",
    "i = i + 2\n",
    "print(i)"
   ]
  },
  {
   "cell_type": "code",
   "execution_count": null,
   "id": "c81270cd",
   "metadata": {},
   "outputs": [],
   "source": [
    "i = i + 2#  i += 2\n",
    "print(i)"
   ]
  },
  {
   "cell_type": "markdown",
   "id": "121ef066",
   "metadata": {},
   "source": [
    "increament and decreament operator using for loop +=, -=, *=, /="
   ]
  },
  {
   "cell_type": "code",
   "execution_count": null,
   "id": "1a7c9b94",
   "metadata": {},
   "outputs": [],
   "source": [
    "# Increment of values.\n",
    "for i in range(0,6):\n",
    "#     print(i)\n",
    "    i+=1  #--> i = i+1\n",
    "    print(i)"
   ]
  },
  {
   "cell_type": "code",
   "execution_count": null,
   "id": "a64dd61a",
   "metadata": {},
   "outputs": [],
   "source": [
    "# multiplication\n",
    "for i in range(1,11):\n",
    "    i*=3 # --> i = i*2\n",
    "    print(i)"
   ]
  },
  {
   "cell_type": "code",
   "execution_count": null,
   "id": "c1cac084",
   "metadata": {},
   "outputs": [],
   "source": [
    "# Decrementation\n",
    "for a in range(10,0,-1):\n",
    "#     print(a)\n",
    "    a -= 1\n",
    "    print(a)"
   ]
  },
  {
   "cell_type": "code",
   "execution_count": null,
   "id": "12eacd96",
   "metadata": {},
   "outputs": [],
   "source": [
    "# multiplication\n",
    "for i in range(1,11):\n",
    "    i*=2\n",
    "    print(i)"
   ]
  },
  {
   "cell_type": "code",
   "execution_count": null,
   "id": "e7536f33",
   "metadata": {},
   "outputs": [],
   "source": [
    "n = int(input('Give a table for:' ))\n",
    "for i in range(1,11):\n",
    "    i *= n\n",
    "    print(i)              "
   ]
  },
  {
   "cell_type": "code",
   "execution_count": null,
   "id": "c4587b59",
   "metadata": {},
   "outputs": [],
   "source": [
    "sum1 = 0 # --> global variable\n",
    "for k in range(5):#[0,1,2,3,4]\n",
    "    sum1 += 2 # sum1 = sum1 + 2\n",
    "    m = 10 # --> m local varuable\n",
    "#     print(sum1)\n",
    "print('total sum of natural number',sum1)"
   ]
  },
  {
   "cell_type": "code",
   "execution_count": null,
   "id": "9f4f1fbb",
   "metadata": {},
   "outputs": [],
   "source": [
    "print(sum1)"
   ]
  },
  {
   "cell_type": "markdown",
   "id": "43f23bb8",
   "metadata": {},
   "source": [
    "### sum of integer"
   ]
  },
  {
   "cell_type": "code",
   "execution_count": null,
   "id": "af5bc272",
   "metadata": {},
   "outputs": [],
   "source": [
    "sum1 = [0,1,2,3,4,5]\n",
    "sum2 = 0\n",
    "for k in sum1:\n",
    "    sum2 += k #[0+1+2+3+4+5]\n",
    "print(sum2)"
   ]
  },
  {
   "cell_type": "code",
   "execution_count": null,
   "id": "9c0fa6e3",
   "metadata": {},
   "outputs": [],
   "source": [
    "data = [50,12.5,20,30,50,60]\n",
    "# sum(data)"
   ]
  },
  {
   "cell_type": "code",
   "execution_count": null,
   "id": "0a24d664",
   "metadata": {},
   "outputs": [],
   "source": [
    "# 1^2 + 2^2 + 3^2+......n^2\n",
    "total = 0\n",
    "for i in sum1:\n",
    "    total = total + i ** 2\n",
    "print(total)"
   ]
  },
  {
   "cell_type": "markdown",
   "id": "c57ee86c",
   "metadata": {},
   "source": [
    "### product of values"
   ]
  },
  {
   "cell_type": "code",
   "execution_count": null,
   "id": "af31fde4",
   "metadata": {},
   "outputs": [],
   "source": [
    "prod1 = 1\n",
    "for k in range(10):\n",
    "    prod1 *= 2\n",
    "#     print(prod1)\n",
    "print('the product of 10 values are:',prod1)"
   ]
  },
  {
   "cell_type": "code",
   "execution_count": null,
   "id": "e3114ee4",
   "metadata": {},
   "outputs": [],
   "source": [
    "# prod1 = 1\n",
    "for k in range(1,11):\n",
    "    prod1 = k * k\n",
    "    print(prod1)\n",
    "print('the product of 10 values are:',prod1)"
   ]
  },
  {
   "cell_type": "code",
   "execution_count": null,
   "id": "3877d6e5",
   "metadata": {},
   "outputs": [],
   "source": [
    "2*4*5*6"
   ]
  },
  {
   "cell_type": "code",
   "execution_count": null,
   "id": "82b064f5",
   "metadata": {},
   "outputs": [],
   "source": [
    "v = [2,4,5,6]\n",
    "u = 1\n",
    "for k in v:\n",
    "    u *= k\n",
    "print(u)"
   ]
  },
  {
   "cell_type": "code",
   "execution_count": null,
   "id": "53a92bdf",
   "metadata": {},
   "outputs": [],
   "source": [
    "num = [10,11,12,13,14,15,16,17,20,26,25,28,29]\n",
    "len(num)"
   ]
  },
  {
   "cell_type": "code",
   "execution_count": null,
   "id": "1f373a57",
   "metadata": {},
   "outputs": [],
   "source": [
    "count = 0\n",
    "for i in num:\n",
    "    count = count + 1\n",
    "print(count)"
   ]
  },
  {
   "cell_type": "code",
   "execution_count": null,
   "id": "f219cb3d",
   "metadata": {},
   "outputs": [],
   "source": [
    "names = ['babu','Ajay','akshay','chinmay','mahalakshmi','muskan','naveen',None,\n",
    "         'spoorthi','ramnathan','suraj','babu','Ajay','akshay','chinmay','mahalakshmi',None,\n",
    "         'muskan','ramnathan','suraj','babu','Ajay','akshay','chinmay','mahalakshmi','muskan','naveen','spoorthi']"
   ]
  },
  {
   "cell_type": "raw",
   "id": "ecc74994",
   "metadata": {},
   "source": [
    "Number of participants = 26\n",
    "unique participants = 10\n"
   ]
  },
  {
   "cell_type": "code",
   "execution_count": null,
   "id": "7527ba85",
   "metadata": {},
   "outputs": [],
   "source": [
    "count = 0\n",
    "for i in names:\n",
    "    count = count + 1\n",
    "print(count)"
   ]
  },
  {
   "cell_type": "code",
   "execution_count": null,
   "id": "fb237087",
   "metadata": {},
   "outputs": [],
   "source": [
    "count = 0\n",
    "for i in set(names):\n",
    "    count = count + 1\n",
    "print(count)"
   ]
  },
  {
   "cell_type": "code",
   "execution_count": null,
   "id": "51167412",
   "metadata": {},
   "outputs": [],
   "source": [
    "count = 0\n",
    "for i in names:\n",
    "    if i == None:\n",
    "        print('There is NA value')\n",
    "        break\n",
    "    else:\n",
    "        count = count + 1\n",
    "print(count)"
   ]
  },
  {
   "cell_type": "code",
   "execution_count": null,
   "id": "1be10ff4",
   "metadata": {},
   "outputs": [],
   "source": [
    "x = None\n",
    "if x == None:\n",
    "    print('true')"
   ]
  },
  {
   "cell_type": "code",
   "execution_count": null,
   "id": "ff5a0343",
   "metadata": {},
   "outputs": [],
   "source": [
    "num = [10,11,12,13,14,15,16,17] # 10^2,11^2.....\n",
    "for i in num:\n",
    "    print(i*i)\n"
   ]
  },
  {
   "cell_type": "code",
   "execution_count": null,
   "id": "9d9c8e41",
   "metadata": {},
   "outputs": [],
   "source": [
    "num = [10,11,12,13,14,15,16,17] # 10^3,11^3.....\n",
    "for i in num:\n",
    "    print(i*i*i)"
   ]
  },
  {
   "cell_type": "code",
   "execution_count": null,
   "id": "fd0953e8",
   "metadata": {},
   "outputs": [],
   "source": [
    "a=[1,2,3,4,5,6,7,8,9,10]\n",
    "b=int(input(\"Enter which table do you need: \"))\n",
    "c=[]\n",
    "for i in range(0,len(a)):\n",
    "    j = b*a[i]\n",
    "    c.append(j)\n",
    "    print(b*a[i])\n",
    "    \n",
    "    #print(\"{0} * {1}=\".format(b,a[i]),b*a[i])"
   ]
  },
  {
   "cell_type": "markdown",
   "id": "26641c67",
   "metadata": {},
   "source": [
    "# nested for loop"
   ]
  },
  {
   "cell_type": "code",
   "execution_count": null,
   "id": "e60c57b8",
   "metadata": {},
   "outputs": [],
   "source": [
    "i = 2\n",
    "j = 3\n",
    "for k in range(3):\n",
    "    print('*','%',sep = '$$$$', end = ' ')\n",
    "    for l in range(j): #---> [0,1,2]\n",
    "        print('#',end = ' ')\n",
    "        for m in range(i):\n",
    "            print('@',end = '')\n",
    "    print()\n",
    "            "
   ]
  },
  {
   "cell_type": "code",
   "execution_count": null,
   "id": "e39e05f0",
   "metadata": {},
   "outputs": [],
   "source": [
    "print(i,j,i,j,i,j,sep = '$',)\n",
    "print('******',end = '')"
   ]
  },
  {
   "cell_type": "code",
   "execution_count": null,
   "id": "8081b405",
   "metadata": {},
   "outputs": [],
   "source": [
    "# nested for loop\n",
    "n = [int(input('Enter the value to print the table: '))]\n",
    "for i in n:\n",
    "    for j in range(1,11): ## 1--10\n",
    "        mul = i*j\n",
    "        print(mul)\n",
    "      "
   ]
  },
  {
   "cell_type": "code",
   "execution_count": null,
   "id": "e50d361a",
   "metadata": {},
   "outputs": [],
   "source": [
    "for i in range(5):\n",
    "    print(i,i,sep = '-->',end = ' ' )\n",
    "    for j in range(5):\n",
    "        print(j, end = '')\n",
    "    print()"
   ]
  },
  {
   "cell_type": "code",
   "execution_count": null,
   "id": "20550c11",
   "metadata": {},
   "outputs": [],
   "source": [
    "Veggies = ['tomato','brinjal','spinach','cucumber','pumpkin']\n",
    "for i in range(len(Veggies)):\n",
    "    Veggies[i] += f'--#1{i+1}'\n",
    "    print(Veggies[i])"
   ]
  },
  {
   "cell_type": "code",
   "execution_count": null,
   "id": "51fbd9d6",
   "metadata": {},
   "outputs": [],
   "source": [
    "'tomato' +' #11'"
   ]
  },
  {
   "cell_type": "markdown",
   "id": "98fc0617",
   "metadata": {},
   "source": [
    "# patterns using loop"
   ]
  },
  {
   "cell_type": "raw",
   "id": "c3fef630",
   "metadata": {},
   "source": [
    "1\n",
    "1,2\n",
    "1,2,3\n",
    "1,2,3,4\n",
    "1,2,3,4,5"
   ]
  },
  {
   "cell_type": "code",
   "execution_count": null,
   "id": "2847b10f",
   "metadata": {
    "scrolled": true
   },
   "outputs": [],
   "source": [
    "# create a pattern\n",
    "n = 5\n",
    "for i in range(n): # 0,1,2,3,4\n",
    "    for m in range(i+1):\n",
    "        print(m+1,end = ' ')\n",
    "    print()"
   ]
  },
  {
   "cell_type": "code",
   "execution_count": null,
   "id": "f0ba53be",
   "metadata": {},
   "outputs": [],
   "source": [
    "# create a pattern\n",
    "n = 5\n",
    "for i in range(n): # 0,1,2,3,4\n",
    "    for m in range(i+1):\n",
    "        print(i+1,end = ' ')\n",
    "    print()"
   ]
  },
  {
   "cell_type": "code",
   "execution_count": null,
   "id": "9c716648",
   "metadata": {},
   "outputs": [],
   "source": [
    "# create a pattern\n",
    "n = 5\n",
    "for n in range(n+1,0,-1):\n",
    "    for m in range(n):\n",
    "        print(m,end = ' ')\n",
    "    print()\n"
   ]
  },
  {
   "cell_type": "code",
   "execution_count": null,
   "id": "264edd5b",
   "metadata": {},
   "outputs": [],
   "source": [
    "n = 5\n",
    "for i in range(n):\n",
    "    for m in range(i+1):\n",
    "        print(i+1,end = ' ')\n",
    "    print()\n",
    "for n in range(n+1,0,-1):\n",
    "    for m in range(n):\n",
    "        print(n,end = ' ')\n",
    "    print()"
   ]
  },
  {
   "cell_type": "code",
   "execution_count": null,
   "id": "972b04e5",
   "metadata": {},
   "outputs": [],
   "source": [
    "#1,2,3,4,5,6,9,10\n",
    "for i in range(1,11):\n",
    "    for j in range(i):\n",
    "        print('*',end = ' ')\n",
    "    print('-->',i)\n",
    "    print()"
   ]
  },
  {
   "cell_type": "markdown",
   "id": "afa6f274",
   "metadata": {},
   "source": [
    "# TASK6: calculate the descriptive statistics(mean, median, mode, var, std, sk, kurtosis.)\n",
    "# utilize the statistics module.[[40,43,19,17,18,53,17],[19,16,17,12,18,70,80,60]]"
   ]
  },
  {
   "cell_type": "code",
   "execution_count": null,
   "id": "3a8f0ff6",
   "metadata": {},
   "outputs": [],
   "source": [
    "data = [[40,43,19,17,18,53,17],[19,16,17,12,18,70,80,60]]"
   ]
  },
  {
   "cell_type": "code",
   "execution_count": null,
   "id": "3cba0112",
   "metadata": {},
   "outputs": [],
   "source": [
    "import statistics as st\n",
    "import scipy.stats as sc\n",
    "for i in data:\n",
    "    avg = sum(i)/len(i)\n",
    "    median = st.median(i)\n",
    "    skw = sc.skew(i)\n",
    "    kut = sc.kurtosis(i)\n",
    "    result = {'Mean':avg,\n",
    "             'Median': median,\n",
    "             'Skewness':skw,\n",
    "              'kurtosis':kut\n",
    "             }\n",
    "    print(result)"
   ]
  },
  {
   "cell_type": "code",
   "execution_count": null,
   "id": "48ef4420",
   "metadata": {},
   "outputs": [],
   "source": [
    "!pip install scipy"
   ]
  },
  {
   "cell_type": "code",
   "execution_count": null,
   "id": "b19ca4fb",
   "metadata": {},
   "outputs": [],
   "source": [
    "data[0].sort()"
   ]
  },
  {
   "cell_type": "code",
   "execution_count": null,
   "id": "f5420c01",
   "metadata": {},
   "outputs": [],
   "source": [
    "data[0]"
   ]
  },
  {
   "cell_type": "code",
   "execution_count": null,
   "id": "31921044",
   "metadata": {},
   "outputs": [],
   "source": [
    "len(data[0])/2"
   ]
  },
  {
   "cell_type": "code",
   "execution_count": null,
   "id": "82636444",
   "metadata": {},
   "outputs": [],
   "source": []
  },
  {
   "cell_type": "code",
   "execution_count": null,
   "id": "0824fa04",
   "metadata": {},
   "outputs": [],
   "source": []
  },
  {
   "cell_type": "code",
   "execution_count": null,
   "id": "014a1b25",
   "metadata": {},
   "outputs": [],
   "source": []
  },
  {
   "cell_type": "code",
   "execution_count": null,
   "id": "9b50235e",
   "metadata": {},
   "outputs": [],
   "source": []
  },
  {
   "cell_type": "code",
   "execution_count": null,
   "id": "51a46840",
   "metadata": {},
   "outputs": [],
   "source": [
    "!pip install scipy"
   ]
  },
  {
   "cell_type": "code",
   "execution_count": null,
   "id": "f428baf1",
   "metadata": {},
   "outputs": [],
   "source": [
    "import statistics as st\n",
    "from scipy.stats import skew, kurtosis "
   ]
  },
  {
   "cell_type": "code",
   "execution_count": null,
   "id": "cb6c856b",
   "metadata": {},
   "outputs": [],
   "source": [
    "import statistics as st\n",
    "from scipy.stats import skew, kurtosis \n",
    "\n",
    "l= [[40,43,19,17,18,53,17],[19,16,17,12,18,70,80,60]]\n",
    "\n",
    "for i in range(len(l)):\n",
    "    mean = round(st.mean(l[i]))\n",
    "    medain = round(st.median(l[i]))\n",
    "    mode = st.mode(l[i])\n",
    "    var = round(st.variance(l[i]))\n",
    "    std = round(st.stdev(l[i]))\n",
    "    sk = round(skew(l[i]))\n",
    "    kurt = round(kurtosis(l[i]))\n",
    "\n",
    "    print(f'{i}', {'Mean':mean,\n",
    "                   'Median':medain,\n",
    "                   'Mode':mode,\n",
    "                   'Variance':var,\n",
    "                   'STD':std,\n",
    "                   'Skewness':sk,\n",
    "                   'Kurtosis':kurt})"
   ]
  },
  {
   "cell_type": "code",
   "execution_count": null,
   "id": "5f73524e",
   "metadata": {},
   "outputs": [],
   "source": [
    "!pip install numpy"
   ]
  },
  {
   "cell_type": "code",
   "execution_count": null,
   "id": "91a528e6",
   "metadata": {},
   "outputs": [],
   "source": [
    "import statistics as st"
   ]
  },
  {
   "cell_type": "markdown",
   "id": "7cc4b8ad",
   "metadata": {},
   "source": [
    "# while loop"
   ]
  },
  {
   "cell_type": "code",
   "execution_count": null,
   "id": "4aa3cb2c",
   "metadata": {},
   "outputs": [],
   "source": [
    "init\n",
    "condition\n",
    "increment/decrement"
   ]
  },
  {
   "cell_type": "code",
   "execution_count": null,
   "id": "32c01a4b",
   "metadata": {},
   "outputs": [],
   "source": [
    "i = 0\n",
    "while(i<=11):\n",
    "#     print(i)\n",
    "    i +=1\n",
    "    print(i)"
   ]
  },
  {
   "cell_type": "code",
   "execution_count": null,
   "id": "f8a8433a",
   "metadata": {},
   "outputs": [],
   "source": [
    "i = 10\n",
    "while(i>=0):\n",
    "    print(i)\n",
    "    i -= 1 # i = i-1"
   ]
  },
  {
   "cell_type": "code",
   "execution_count": null,
   "id": "65094b00",
   "metadata": {},
   "outputs": [],
   "source": [
    "# # Nested while loop\n",
    "i = 2\n",
    "while (i <= 10):\n",
    "    j = 1\n",
    "    while (j <= i):\n",
    "        print(i, end = ' ')\n",
    "        j = j+2\n",
    "    print()\n",
    "    i = i+2"
   ]
  },
  {
   "cell_type": "code",
   "execution_count": null,
   "id": "e157e44f",
   "metadata": {},
   "outputs": [],
   "source": [
    "i = 1\n",
    "while i<= 5:\n",
    "    j = 1\n",
    "    while j<=i:\n",
    "        print(i, end = ' ')\n",
    "        j = j+1\n",
    "    print()\n",
    "    i = i+1"
   ]
  },
  {
   "cell_type": "code",
   "execution_count": null,
   "id": "64cdcd5c",
   "metadata": {},
   "outputs": [],
   "source": [
    "i = 1\n",
    "while i<= 5:\n",
    "    j = 1\n",
    "    while j<=i:\n",
    "        print(j, end = ' ')\n",
    "        j = j+1\n",
    "    print()\n",
    "    i = i+1"
   ]
  },
  {
   "cell_type": "code",
   "execution_count": null,
   "id": "9004b669",
   "metadata": {},
   "outputs": [],
   "source": [
    "i = 1 # 2 3 4 5 6\n",
    "while (i <= 5):\n",
    "    j = 1 # 2 <= 3\n",
    "    while j <= 5-i:\n",
    "        print(' ',end = '')\n",
    "        j = j+1\n",
    "    k = 1 # 2 <= 2\n",
    "    while k <= i:\n",
    "        print('*',end = ' ')\n",
    "        k = k+1\n",
    "    print()\n",
    "    i = i+1"
   ]
  },
  {
   "cell_type": "code",
   "execution_count": null,
   "id": "8f0ebcf6",
   "metadata": {},
   "outputs": [],
   "source": [
    "i = 4\n",
    "while i >= 0:\n",
    "    j = 1 # 2 <= 3\n",
    "    while j <= 5-i:\n",
    "        print(' ',end = '')\n",
    "        j = j+1\n",
    "    k = 1 # 2 <= 2\n",
    "    while k <= i:\n",
    "        print('*',end = ' ')\n",
    "        k = k+1\n",
    "    print()\n",
    "    i = i-1"
   ]
  },
  {
   "cell_type": "code",
   "execution_count": null,
   "id": "dbcc213d",
   "metadata": {},
   "outputs": [],
   "source": [
    "i = 1 # 2 3 4 5 6\n",
    "while (i <= 5):\n",
    "    j = 1 # 2 <= 3\n",
    "    while j <= 5-i:\n",
    "        print(' ',end = '')\n",
    "        j = j+1\n",
    "    k = 1 # 2 <= 2\n",
    "    while k <= i:\n",
    "        print('*',end = ' ')\n",
    "        k = k+1\n",
    "    print()\n",
    "    i = i+1\n",
    "i = 4\n",
    "while i >= 0:\n",
    "    j = 1 # 2 <= 3\n",
    "    while j <= 5-i:\n",
    "        print(' ',end = '')\n",
    "        j = j+1\n",
    "    k = 1 # 2 <= 2\n",
    "    while k <= i:\n",
    "        print('*',end = ' ')\n",
    "        k = k+1\n",
    "    print()\n",
    "    i = i-1"
   ]
  },
  {
   "cell_type": "code",
   "execution_count": null,
   "id": "a65d4595",
   "metadata": {},
   "outputs": [],
   "source": [
    "i = 1\n",
    "while i<= 5:\n",
    "    j = 1\n",
    "    while j<=5-i:\n",
    "        print(' ',end = '')\n",
    "        j = j+1\n",
    "    k = 1\n",
    "    while k<=i:\n",
    "        print(k, end = ' ')\n",
    "        k = k+1\n",
    "    print()\n",
    "    i = i+1"
   ]
  },
  {
   "cell_type": "code",
   "execution_count": null,
   "id": "dba1ffb5",
   "metadata": {},
   "outputs": [],
   "source": [
    "i = 1\n",
    "while i<= 5:\n",
    "    j = 1\n",
    "    while j<=5-i:\n",
    "        print(' ',end = '')\n",
    "        j = j+1\n",
    "    k = 1\n",
    "    while k<=i:\n",
    "        print(j, end = ' ')\n",
    "        k = k+1\n",
    "    print()\n",
    "    i = i+1"
   ]
  },
  {
   "cell_type": "code",
   "execution_count": null,
   "id": "229d2191",
   "metadata": {},
   "outputs": [],
   "source": [
    "i = 1\n",
    "while i<= 5:\n",
    "    j = 1\n",
    "    while j<=5-i:\n",
    "        print(' ',end = '')\n",
    "        j = j+1\n",
    "    k = 1\n",
    "    while k<=i:\n",
    "        print(k, end = ' ')\n",
    "        k = k+1\n",
    "    print()\n",
    "    i = i+1"
   ]
  },
  {
   "cell_type": "code",
   "execution_count": null,
   "id": "16acfaf3",
   "metadata": {},
   "outputs": [],
   "source": [
    "for i in range(5):\n",
    "    b = 1\n",
    "    for b in range(5-i):\n",
    "        print(' ',end= ' ')\n",
    "    j = 1\n",
    "    for j in range(i):\n",
    "        print('*',end = ' ')\n",
    "        j = j+1\n",
    "    print()"
   ]
  },
  {
   "cell_type": "markdown",
   "id": "603f0bcc",
   "metadata": {},
   "source": [
    "# Functions"
   ]
  },
  {
   "cell_type": "code",
   "execution_count": null,
   "id": "54367ee0",
   "metadata": {},
   "outputs": [],
   "source": [
    "print, input, type, range, sum, min, max......................... mean, median, add, sub, "
   ]
  },
  {
   "cell_type": "code",
   "execution_count": null,
   "id": "10301444",
   "metadata": {},
   "outputs": [],
   "source": [
    "help(print)"
   ]
  },
  {
   "cell_type": "code",
   "execution_count": null,
   "id": "7d666a2e",
   "metadata": {},
   "outputs": [],
   "source": [
    "help(input)"
   ]
  },
  {
   "cell_type": "code",
   "execution_count": null,
   "id": "c79c31da",
   "metadata": {},
   "outputs": [],
   "source": [
    "def hello():\n",
    "    print('hello world')"
   ]
  },
  {
   "cell_type": "code",
   "execution_count": null,
   "id": "a870e412",
   "metadata": {},
   "outputs": [],
   "source": [
    "hello()"
   ]
  },
  {
   "cell_type": "code",
   "execution_count": null,
   "id": "0aa46036",
   "metadata": {},
   "outputs": [],
   "source": [
    "# functions\n",
    "\n",
    "Defining a Python function\n",
    "\n",
    "def greet():\n",
    "    \"\"\" Display a greeting to users \"\"\"\n",
    "    print('Hi')\n",
    "1) Function definition\n",
    "\n",
    "A function definition starts with the def keyword and the name of the function (greet)\n",
    "\n",
    "2) Function body\n",
    "All the indented lines that follow the function definition make up the function’s body\n",
    "\n",
    "Calling a function\n",
    "greet()"
   ]
  },
  {
   "cell_type": "code",
   "execution_count": null,
   "id": "299085c0",
   "metadata": {},
   "outputs": [],
   "source": [
    "# adding a fucntion\n",
    "def addition(a,b):\n",
    "    c = a+b\n",
    "    print(c)"
   ]
  },
  {
   "cell_type": "code",
   "execution_count": null,
   "id": "b3b1c3f1",
   "metadata": {},
   "outputs": [],
   "source": [
    "def subtraction(a,b):\n",
    "    c = a-b\n",
    "    print(c)"
   ]
  },
  {
   "cell_type": "code",
   "execution_count": null,
   "id": "9e64b7a4",
   "metadata": {},
   "outputs": [],
   "source": [
    "def multiplication(a,b):\n",
    "    c = a * b\n",
    "    print(c)"
   ]
  },
  {
   "cell_type": "code",
   "execution_count": null,
   "id": "d0010c18",
   "metadata": {},
   "outputs": [],
   "source": [
    "def square(a):\n",
    "    c = a ** 2\n",
    "    print(c)"
   ]
  },
  {
   "cell_type": "code",
   "execution_count": null,
   "id": "09999be8",
   "metadata": {},
   "outputs": [],
   "source": [
    "addition(19,70)\n",
    "subtraction(19,70)\n",
    "multiplication(4,5)\n",
    "square(5)"
   ]
  },
  {
   "cell_type": "code",
   "execution_count": null,
   "id": "29ca8cbe",
   "metadata": {},
   "outputs": [],
   "source": [
    "def Arthmetic_op(a,b):\n",
    "    add = a+b\n",
    "    sub = a-b\n",
    "    div = a/b\n",
    "    mul = a * b\n",
    "    sqr_a = a ** 2\n",
    "    sqr_b = b**2\n",
    "    result = {'add':add,\n",
    "             'sub':sub,\n",
    "             'div':div,\n",
    "             'mul':mul,\n",
    "             'sqr_a':sqr_a,\n",
    "             'sqr_b':sqr_b}\n",
    "    print(result)\n",
    "    "
   ]
  },
  {
   "cell_type": "code",
   "execution_count": null,
   "id": "43c4af23",
   "metadata": {},
   "outputs": [],
   "source": [
    "Arthmetic_op(10,5)"
   ]
  },
  {
   "cell_type": "code",
   "execution_count": null,
   "id": "9b2a2be7",
   "metadata": {},
   "outputs": [],
   "source": [
    "# defualt arguments\n",
    "def student_name(name, prefix = 'Mrs'):\n",
    "    name = prefix +' '+name\n",
    "    print(name)"
   ]
  },
  {
   "cell_type": "code",
   "execution_count": null,
   "id": "0f8cd045",
   "metadata": {},
   "outputs": [],
   "source": [
    "student_name('syeda','Miss')"
   ]
  },
  {
   "cell_type": "code",
   "execution_count": null,
   "id": "21d8ae79",
   "metadata": {},
   "outputs": [],
   "source": [
    "def discounted_price(price, discount = 5):\n",
    "    discount1 = round(price * discount/100,2)\n",
    "    total_price = price - discount1\n",
    "    print(f'Discount: {discount}%,\\nFinal Price:{total_price}')   "
   ]
  },
  {
   "cell_type": "code",
   "execution_count": null,
   "id": "a89032ce",
   "metadata": {},
   "outputs": [],
   "source": [
    "discounted_price(1500,20)"
   ]
  },
  {
   "cell_type": "code",
   "execution_count": null,
   "id": "c4abd97b",
   "metadata": {},
   "outputs": [],
   "source": []
  },
  {
   "cell_type": "code",
   "execution_count": null,
   "id": "037db17a",
   "metadata": {},
   "outputs": [],
   "source": [
    "square(80)"
   ]
  },
  {
   "cell_type": "code",
   "execution_count": null,
   "id": "1eb8476a",
   "metadata": {},
   "outputs": [],
   "source": [
    "# two positional arguments\n",
    "def add(a,b):\n",
    "    c = a + b\n",
    "    return c"
   ]
  },
  {
   "cell_type": "code",
   "execution_count": null,
   "id": "ac6b230e",
   "metadata": {},
   "outputs": [],
   "source": [
    "add(15,85)"
   ]
  },
  {
   "cell_type": "markdown",
   "id": "dba92f99",
   "metadata": {},
   "source": [
    "# Create a Arthemetic calcualtor function."
   ]
  },
  {
   "cell_type": "code",
   "execution_count": null,
   "id": "89d5a56e",
   "metadata": {},
   "outputs": [],
   "source": [
    "def percentage_mark(avg, perc = 100):\n",
    "    per = (avg // 10) * perc\n",
    "    return per"
   ]
  },
  {
   "cell_type": "code",
   "execution_count": null,
   "id": "22018def",
   "metadata": {},
   "outputs": [],
   "source": [
    "percentage_mark(perc = 10,avg = 20)"
   ]
  },
  {
   "cell_type": "code",
   "execution_count": null,
   "id": "20359736",
   "metadata": {},
   "outputs": [],
   "source": [
    "def get_net_price(a, price, discount = 0.15):\n",
    "    return a+ price * (1-discount)"
   ]
  },
  {
   "cell_type": "code",
   "execution_count": null,
   "id": "a9e7b383",
   "metadata": {},
   "outputs": [],
   "source": [
    "get_net_price(150,500,0.25)"
   ]
  },
  {
   "cell_type": "code",
   "execution_count": null,
   "id": "9d3b4f1a",
   "metadata": {},
   "outputs": [],
   "source": [
    "valume spear --> v = 4 * pi * r^3/3 \n",
    "area of triangle --> A = 1/2 bh"
   ]
  },
  {
   "cell_type": "markdown",
   "id": "487eb4c7",
   "metadata": {},
   "source": [
    "# create a function calculate the area of triangle\n",
    "# create a function to clculate the Volume of sphere\n",
    "# create a function to calculate angle of triangle."
   ]
  },
  {
   "cell_type": "code",
   "execution_count": null,
   "id": "617b05a5",
   "metadata": {},
   "outputs": [],
   "source": [
    "import math\n",
    "math.pi"
   ]
  },
  {
   "cell_type": "code",
   "execution_count": null,
   "id": "107af6a6",
   "metadata": {},
   "outputs": [],
   "source": []
  },
  {
   "cell_type": "code",
   "execution_count": null,
   "id": "c1d643b2",
   "metadata": {},
   "outputs": [],
   "source": []
  },
  {
   "cell_type": "code",
   "execution_count": null,
   "id": "f6e4f0b4",
   "metadata": {},
   "outputs": [],
   "source": [
    "#Python functions with multiple parameters\n",
    "def sum(a, b, d, c):\n",
    "    return a + b +c + d"
   ]
  },
  {
   "cell_type": "code",
   "execution_count": null,
   "id": "666e71e4",
   "metadata": {},
   "outputs": [],
   "source": [
    "sum(10,20,30)"
   ]
  },
  {
   "cell_type": "code",
   "execution_count": null,
   "id": "4387f629",
   "metadata": {},
   "outputs": [],
   "source": [
    "*args --> many arguments"
   ]
  },
  {
   "cell_type": "code",
   "execution_count": null,
   "id": "dc95c31c",
   "metadata": {},
   "outputs": [],
   "source": [
    "def many_value(*a):\n",
    "    print(*a)"
   ]
  },
  {
   "cell_type": "code",
   "execution_count": null,
   "id": "91edb524",
   "metadata": {},
   "outputs": [],
   "source": [
    "many_value(1,2,3,6)"
   ]
  },
  {
   "cell_type": "code",
   "execution_count": null,
   "id": "cf509e50",
   "metadata": {},
   "outputs": [],
   "source": [
    "def many_values(*a):\n",
    "    return a"
   ]
  },
  {
   "cell_type": "code",
   "execution_count": null,
   "id": "d6c008d2",
   "metadata": {},
   "outputs": [],
   "source": [
    "many_values(2,5,6,7,8,9)"
   ]
  },
  {
   "cell_type": "code",
   "execution_count": null,
   "id": "39a98d65",
   "metadata": {},
   "outputs": [],
   "source": [
    "a,*b,c = 10,11,12,13,14,15"
   ]
  },
  {
   "cell_type": "code",
   "execution_count": null,
   "id": "ffe491fd",
   "metadata": {},
   "outputs": [],
   "source": [
    "print(c)"
   ]
  },
  {
   "cell_type": "code",
   "execution_count": null,
   "id": "6f272e69",
   "metadata": {},
   "outputs": [],
   "source": [
    "many_values(1,2,3,5,6,9,8,10,12,13,15)"
   ]
  },
  {
   "cell_type": "code",
   "execution_count": null,
   "id": "1b0a4e71",
   "metadata": {},
   "outputs": [],
   "source": [
    "**kwargs --> many key word arguments"
   ]
  },
  {
   "cell_type": "code",
   "execution_count": null,
   "id": "5a8b3ef2",
   "metadata": {},
   "outputs": [],
   "source": [
    "def kwargs(**a):\n",
    "    print(a)"
   ]
  },
  {
   "cell_type": "code",
   "execution_count": null,
   "id": "503bd170",
   "metadata": {},
   "outputs": [],
   "source": [
    "kwargs(key1 = [10,10,20,30],key2 = 20,key3 = 'st',key4 = '3360')"
   ]
  },
  {
   "cell_type": "code",
   "execution_count": null,
   "id": "1a6be96e",
   "metadata": {},
   "outputs": [],
   "source": [
    "def funtionname(PS,DA,*args, **kwargs)"
   ]
  },
  {
   "cell_type": "code",
   "execution_count": null,
   "id": "48b49f16",
   "metadata": {},
   "outputs": [],
   "source": [
    "import statistics as st\n",
    "st.linear_regression()"
   ]
  },
  {
   "cell_type": "code",
   "execution_count": null,
   "id": "0a399de1",
   "metadata": {},
   "outputs": [],
   "source": [
    "sum(10,30,14)"
   ]
  },
  {
   "cell_type": "code",
   "execution_count": null,
   "id": "931c5b91",
   "metadata": {},
   "outputs": [],
   "source": [
    "def greet(greet,name = 'excelr'):\n",
    "    print('hi')"
   ]
  },
  {
   "cell_type": "code",
   "execution_count": null,
   "id": "18f2b4fb",
   "metadata": {},
   "outputs": [],
   "source": [
    "Python default parameters in functions\n",
    "\n",
    "def function_name(param1, param2=value2, param3=value3, ...):\n",
    "\n",
    "When you define a function, you can specify a default value for each parameter\n",
    "\n",
    "def greet(name, message='Hi'):\n",
    "    return f\"{message} {name}\""
   ]
  },
  {
   "cell_type": "markdown",
   "id": "3833436b",
   "metadata": {},
   "source": [
    "Lambda function:\n",
    "Python lambda expressions allow you to define anonymous functions.\n",
    "\n",
    "Anonymous functions are functions without names. The anonymous functions are useful when you need to use them once.\n",
    "lambda parameters: expression\n",
    "\n",
    "def anonymous(parameters):\n",
    "    return expression"
   ]
  },
  {
   "cell_type": "code",
   "execution_count": null,
   "id": "8b575b88",
   "metadata": {},
   "outputs": [],
   "source": [
    "# docstring\n",
    "# help(print)\n",
    "\n",
    "def add(a, b):\n",
    "    \"Return the sum of two arguments\"\n",
    "    return a + b\n"
   ]
  },
  {
   "cell_type": "code",
   "execution_count": null,
   "id": "044a2b9e",
   "metadata": {},
   "outputs": [],
   "source": [
    "help(add)"
   ]
  },
  {
   "cell_type": "code",
   "execution_count": null,
   "id": "2c5ff1cc",
   "metadata": {},
   "outputs": [],
   "source": [
    "def add(a, b):\n",
    "    \"\"\" Add two arguments\n",
    "    Arguments:\n",
    "        a: an integer\n",
    "        b: an integer\n",
    "        \n",
    "    Returns:\n",
    "        The sum of the two arguments\n",
    "    \"\"\"\n",
    "    return a + b"
   ]
  },
  {
   "cell_type": "code",
   "execution_count": null,
   "id": "380ab51e",
   "metadata": {},
   "outputs": [],
   "source": [
    "help(add)"
   ]
  },
  {
   "cell_type": "code",
   "execution_count": null,
   "id": "e3569bd2",
   "metadata": {},
   "outputs": [],
   "source": [
    "Parameters, arguments, keyword_arguments, default_paremets,docs_strings."
   ]
  },
  {
   "cell_type": "code",
   "execution_count": null,
   "id": "83b42203",
   "metadata": {},
   "outputs": [],
   "source": [
    "def message():\n",
    "    print('hello there')"
   ]
  },
  {
   "cell_type": "code",
   "execution_count": null,
   "id": "82195af7",
   "metadata": {},
   "outputs": [],
   "source": [
    "#Passing information to Python functions\n",
    "\n",
    "def greeting(name): # name is parameter.\n",
    "    print(f\"Hello good evening {name}\")"
   ]
  },
  {
   "cell_type": "code",
   "execution_count": null,
   "id": "d3c656ed",
   "metadata": {},
   "outputs": [],
   "source": [
    "greeting(name = 'sam')"
   ]
  },
  {
   "cell_type": "code",
   "execution_count": null,
   "id": "49b41586",
   "metadata": {},
   "outputs": [],
   "source": [
    "mess = greeting('sam')\n",
    "print(mess)"
   ]
  },
  {
   "cell_type": "code",
   "execution_count": null,
   "id": "a9ddff73",
   "metadata": {},
   "outputs": [],
   "source": [
    "Parameters vs. Arguments\n",
    "\n",
    "A parameter is a piece of information that a function needs. And you specify the parameter in the function definition\n",
    "\n",
    "greet() function has a parameter called name\n",
    "\n",
    "An argument is a piece of data that you pass into the function.\n",
    "\n",
    "the text string 'sam' or the variable jane is the function argument"
   ]
  },
  {
   "cell_type": "code",
   "execution_count": null,
   "id": "1f926487",
   "metadata": {},
   "outputs": [],
   "source": [
    "#Returning a value\n",
    "To return a value from a function, you use the return statement inside the function body.\n"
   ]
  },
  {
   "cell_type": "code",
   "execution_count": null,
   "id": "2cf28e8f",
   "metadata": {},
   "outputs": [],
   "source": [
    "def greeting(name):\n",
    "    return f\"Hi {name}\""
   ]
  },
  {
   "cell_type": "code",
   "execution_count": null,
   "id": "2e24b312",
   "metadata": {},
   "outputs": [],
   "source": [
    "def add(a,b):\n",
    "    return a+b"
   ]
  },
  {
   "cell_type": "code",
   "execution_count": null,
   "id": "a641b224",
   "metadata": {},
   "outputs": [],
   "source": [
    "add(b = 10,a = 15)"
   ]
  },
  {
   "cell_type": "code",
   "execution_count": null,
   "id": "e16dec49",
   "metadata": {},
   "outputs": [],
   "source": [
    "Print() --> function, return is keyword."
   ]
  },
  {
   "cell_type": "code",
   "execution_count": null,
   "id": "437b7cbb",
   "metadata": {},
   "outputs": [],
   "source": [
    "greeting(name = 'lilly')"
   ]
  },
  {
   "cell_type": "code",
   "execution_count": null,
   "id": "37218e05",
   "metadata": {},
   "outputs": [],
   "source": [
    "defualt parameters -- > \n",
    "print()"
   ]
  },
  {
   "cell_type": "code",
   "execution_count": null,
   "id": "e5e1ca01",
   "metadata": {},
   "outputs": [],
   "source": [
    "sum(10,20)"
   ]
  },
  {
   "cell_type": "markdown",
   "id": "3b1cfcd5",
   "metadata": {},
   "source": [
    "Python default parameters"
   ]
  },
  {
   "cell_type": "code",
   "execution_count": null,
   "id": "1689cc38",
   "metadata": {},
   "outputs": [],
   "source": [
    "def function_name(param1, param2=value2, param3=value3, ...):"
   ]
  },
  {
   "cell_type": "code",
   "execution_count": null,
   "id": "658943b8",
   "metadata": {},
   "outputs": [],
   "source": [
    "def greet(name, message='Hi'):\n",
    "    return f\"{message} {name}\""
   ]
  },
  {
   "cell_type": "code",
   "execution_count": null,
   "id": "02caedcc",
   "metadata": {},
   "outputs": [],
   "source": [
    "greet('sam')"
   ]
  },
  {
   "cell_type": "markdown",
   "id": "6aa3014c",
   "metadata": {},
   "source": [
    "Python keyword arguments\n",
    "\n",
    "fn(parameter1=value1,parameter2=value2)"
   ]
  },
  {
   "cell_type": "code",
   "execution_count": null,
   "id": "7d17f18c",
   "metadata": {},
   "outputs": [],
   "source": [
    "def get_net_price(a,b, price, discount):\n",
    "    return a+ price * (1-discount)\n",
    "*args\n",
    "**kwargs"
   ]
  },
  {
   "cell_type": "code",
   "execution_count": null,
   "id": "e9c53030",
   "metadata": {},
   "outputs": [],
   "source": [
    "net_price = get_net_price(a = 10, b = 8, price=100, discount=0.1)\n",
    "net_price"
   ]
  },
  {
   "cell_type": "code",
   "execution_count": null,
   "id": "acd4be27",
   "metadata": {},
   "outputs": [],
   "source": [
    "get_net_price(b = 10, price=100, discount=0.1)"
   ]
  },
  {
   "cell_type": "code",
   "execution_count": null,
   "id": "2ab3592b",
   "metadata": {},
   "outputs": [],
   "source": [
    "get_net_price(price = 100,discount=0.01)"
   ]
  },
  {
   "cell_type": "code",
   "execution_count": null,
   "id": "ad923b4d",
   "metadata": {},
   "outputs": [],
   "source": [
    "# keyword arguments and defualt parameters\n",
    "def get_net_price(price, tax=0.07, discount=0.05):\n",
    "    return price * (1 + tax - discount)"
   ]
  },
  {
   "cell_type": "markdown",
   "id": "5d9c2c54",
   "metadata": {},
   "source": [
    "# create a function wich gives the values for 1-10 eg: num(10) --> \n",
    "# create a function for BMI calculation.\n",
    "# create a function to calculate mean, median, mode.\n",
    "# create a function for calculator."
   ]
  },
  {
   "cell_type": "code",
   "execution_count": null,
   "id": "e462e230",
   "metadata": {},
   "outputs": [],
   "source": [
    "def BMI(w,h):\n",
    "    return ((w/(h*h)*10000))"
   ]
  },
  {
   "cell_type": "code",
   "execution_count": null,
   "id": "d4316c2f",
   "metadata": {},
   "outputs": [],
   "source": [
    "BMI(82,6)"
   ]
  },
  {
   "cell_type": "code",
   "execution_count": null,
   "id": "b94ba4c4",
   "metadata": {},
   "outputs": [],
   "source": [
    "def num(n):\n",
    "    i = 1\n",
    "    while(i<=n):\n",
    "        print(i)\n",
    "        i+=1"
   ]
  },
  {
   "cell_type": "code",
   "execution_count": null,
   "id": "bb2cf65d",
   "metadata": {},
   "outputs": [],
   "source": [
    "num(20)"
   ]
  },
  {
   "cell_type": "code",
   "execution_count": null,
   "id": "46f8c146",
   "metadata": {},
   "outputs": [],
   "source": [
    "BMI(50,146)"
   ]
  },
  {
   "cell_type": "code",
   "execution_count": null,
   "id": "1c2685c1",
   "metadata": {},
   "outputs": [],
   "source": [
    "def pr(n):\n",
    "    for i in range(1,n+1):\n",
    "        return pr(n)\n",
    "pr(20)"
   ]
  },
  {
   "cell_type": "code",
   "execution_count": 35,
   "id": "9a2791b4",
   "metadata": {},
   "outputs": [
    {
     "name": "stdout",
     "output_type": "stream",
     "text": [
      "285\n",
      "5955\n"
     ]
    }
   ],
   "source": [
    "# m = N Σ(xy) − Σx Σy/N Σ(x2) − (Σx)2\n",
    "x = [1,2,3,4,5,6,7,8,9]\n",
    "y = [100,120,140,145,150,100,120,140,145]\n",
    "sum_x = sum(x)\n",
    "sum_y = sum(y)\n",
    "sum_xy = []\n",
    "sum_x2 = []\n",
    "for i,j in enumerate(x):\n",
    "    prod = j * y[i]\n",
    "    x2 = j*j\n",
    "    sum_x2.append(x2)\n",
    "    sum_xy.append(prod)\n",
    "    \n",
    "Sum_xy = sum(sum_xy)\n",
    "X2 = sum(sum_x2)\n",
    "print(X2)\n",
    "print(Sum_xy)\n",
    "\n",
    "\n",
    "N =len(x)\n",
    "m = ((N*Sum_xy) - (sum_x*sum_y))/(N*X2 -(sum_x**2))\n",
    "print(m)"
   ]
  },
  {
   "cell_type": "code",
   "execution_count": 36,
   "id": "e0146209",
   "metadata": {},
   "outputs": [
    {
     "name": "stdout",
     "output_type": "stream",
     "text": [
      "2.5833333333333335\n"
     ]
    }
   ],
   "source": [
    "N =len(x)\n",
    "m = ((N*Sum_xy) - (sum_x*sum_y))/(N*X2 -(sum_x**2))\n",
    "print(m)"
   ]
  },
  {
   "cell_type": "code",
   "execution_count": 15,
   "id": "cee522fe",
   "metadata": {},
   "outputs": [
    {
     "data": {
      "text/plain": [
       "(9, 9)"
      ]
     },
     "execution_count": 15,
     "metadata": {},
     "output_type": "execute_result"
    }
   ],
   "source": [
    "len(x),len(y)"
   ]
  },
  {
   "cell_type": "markdown",
   "id": "e97323ab",
   "metadata": {},
   "source": [
    "# Lambda Expressions"
   ]
  },
  {
   "cell_type": "code",
   "execution_count": null,
   "id": "c903b650",
   "metadata": {},
   "outputs": [],
   "source": [
    "Python lambda expressions allow you to define anonymous functions.\n",
    "\n",
    "lambda parameters: expression\n",
    "\n",
    "similar\n",
    "def anonymous(parameters):\n",
    "    return expression"
   ]
  },
  {
   "cell_type": "code",
   "execution_count": 49,
   "id": "baf3f1c4",
   "metadata": {},
   "outputs": [
    {
     "data": {
      "text/plain": [
       "100"
      ]
     },
     "execution_count": 49,
     "metadata": {},
     "output_type": "execute_result"
    }
   ],
   "source": [
    "x = lambda k: k ** 2 \n",
    "x(150)\n",
    "x(10)"
   ]
  },
  {
   "cell_type": "code",
   "execution_count": 47,
   "id": "b6616ce6",
   "metadata": {},
   "outputs": [],
   "source": [
    "area_of_trainagle = lambda b,h: 1/2 *(b*h)"
   ]
  },
  {
   "cell_type": "code",
   "execution_count": 48,
   "id": "496786db",
   "metadata": {},
   "outputs": [
    {
     "data": {
      "text/plain": [
       "1525.0"
      ]
     },
     "execution_count": 48,
     "metadata": {},
     "output_type": "execute_result"
    }
   ],
   "source": [
    "area_of_trainagle(50,61)"
   ]
  },
  {
   "cell_type": "code",
   "execution_count": 50,
   "id": "4cb114d9",
   "metadata": {},
   "outputs": [],
   "source": [
    "n = 4\n",
    "t = lambda y,x=100: x * y"
   ]
  },
  {
   "cell_type": "code",
   "execution_count": 52,
   "id": "5b5f8708",
   "metadata": {},
   "outputs": [
    {
     "data": {
      "text/plain": [
       "500"
      ]
     },
     "execution_count": 52,
     "metadata": {},
     "output_type": "execute_result"
    }
   ],
   "source": [
    "t(10,50)"
   ]
  },
  {
   "cell_type": "code",
   "execution_count": null,
   "id": "bf1c5d2f",
   "metadata": {},
   "outputs": [],
   "source": [
    "s = lambda x: x*2\n",
    "print(s(5))"
   ]
  },
  {
   "cell_type": "code",
   "execution_count": null,
   "id": "c431fe3c",
   "metadata": {},
   "outputs": [],
   "source": [
    "prod = lambda a, b : a * b\n",
    "print(prod(5, 7))"
   ]
  },
  {
   "cell_type": "code",
   "execution_count": null,
   "id": "7cd650ea",
   "metadata": {},
   "outputs": [],
   "source": [
    "y = lambda a, b, c : a + b + c\n",
    "print(y(5, 6, 2))"
   ]
  },
  {
   "cell_type": "code",
   "execution_count": null,
   "id": "f01e299f",
   "metadata": {},
   "outputs": [],
   "source": [
    "#the help() function\n",
    "\n",
    "help(print)"
   ]
  },
  {
   "cell_type": "code",
   "execution_count": null,
   "id": "08e6ff30",
   "metadata": {},
   "outputs": [],
   "source": [
    "help(print)"
   ]
  },
  {
   "cell_type": "code",
   "execution_count": null,
   "id": "30526a06",
   "metadata": {},
   "outputs": [],
   "source": [
    "# Using docstrings to document functions\n",
    "# The PEP 257 provides the docstring conventions.\n",
    "# Python stores the docstrings in the __doc__ property of the function.\n",
    "\n",
    "def add(a, b):\n",
    "    \"Return the sum of two arguments\"\n",
    "    return a + b\n",
    "help(add)"
   ]
  },
  {
   "cell_type": "code",
   "execution_count": null,
   "id": "4ea12074",
   "metadata": {},
   "outputs": [],
   "source": [
    "def add(a, b):\n",
    "    \"\"\" Add two arguments\n",
    "    Arguments:\n",
    "        a: an integer\n",
    "        b: an integer\n",
    "    Returns:\n",
    "        The sum of the two arguments\n",
    "    \"\"\"\n",
    "    return a + b\n",
    "add.__doc__"
   ]
  },
  {
   "cell_type": "code",
   "execution_count": null,
   "id": "5e0a6e78",
   "metadata": {},
   "outputs": [],
   "source": [
    "help(add)"
   ]
  },
  {
   "cell_type": "code",
   "execution_count": null,
   "id": "f70c6e74",
   "metadata": {},
   "outputs": [],
   "source": [
    "# Python *args\n",
    "#The following unpacks a tuple into two variables:\n",
    "    \n",
    "(x,y) = 10,20"
   ]
  },
  {
   "cell_type": "code",
   "execution_count": null,
   "id": "23a38ddc",
   "metadata": {},
   "outputs": [],
   "source": [
    "x,y"
   ]
  },
  {
   "cell_type": "code",
   "execution_count": null,
   "id": "9d61858f",
   "metadata": {},
   "outputs": [],
   "source": [
    "i,j,*k = (10,20,30,40,50)\n",
    "print(k)"
   ]
  },
  {
   "cell_type": "code",
   "execution_count": null,
   "id": "3909c8f2",
   "metadata": {},
   "outputs": [],
   "source": [
    "def add(x, *args):\n",
    "    sum = args, x\n",
    "    return sum\n",
    "\n",
    "\n",
    "add(10, 20,30)"
   ]
  },
  {
   "cell_type": "code",
   "execution_count": null,
   "id": "d362b507",
   "metadata": {},
   "outputs": [],
   "source": [
    "x, y, *z = 10, 20, 30, 40\n",
    "\n",
    "print(x)\n",
    "print(y)\n",
    "print(z)\n",
    "print(type(z))"
   ]
  },
  {
   "cell_type": "code",
   "execution_count": null,
   "id": "c4e468ce",
   "metadata": {},
   "outputs": [],
   "source": [
    "sum(10,20,30)"
   ]
  },
  {
   "cell_type": "code",
   "execution_count": null,
   "id": "d8e1beb3",
   "metadata": {},
   "outputs": [],
   "source": [
    "sum_total = 0\n",
    "value = [10,20,30,60,80,90]\n",
    "for i in value:\n",
    "    sum_total = sum_total+i\n",
    "print(sum_total)"
   ]
  },
  {
   "cell_type": "code",
   "execution_count": null,
   "id": "b5c97e0f",
   "metadata": {},
   "outputs": [],
   "source": [
    "def summation(*values):\n",
    "    total = 0\n",
    "    for arg in values:\n",
    "        total += arg\n",
    "    return total"
   ]
  },
  {
   "cell_type": "code",
   "execution_count": null,
   "id": "7eb43c92",
   "metadata": {},
   "outputs": [],
   "source": [
    "result = summation(10, 20,30,40,80,90,60,70,50,60,80,90,30,50)\n",
    "print(result)"
   ]
  },
  {
   "cell_type": "code",
   "execution_count": null,
   "id": "6ab88bb3",
   "metadata": {},
   "outputs": [],
   "source": [
    "var1 = []\n",
    "for i in range(10):\n",
    "    var = int(input())\n",
    "    var1.append(var)\n",
    "    print(var)"
   ]
  },
  {
   "cell_type": "code",
   "execution_count": null,
   "id": "3d90d0fe",
   "metadata": {},
   "outputs": [],
   "source": [
    "print(var1)"
   ]
  },
  {
   "cell_type": "code",
   "execution_count": null,
   "id": "bbb4a029",
   "metadata": {},
   "outputs": [],
   "source": [
    "# product of given values\n",
    "def product(*values):\n",
    "    '''The function gives the product of values'''\n",
    "    total = 1\n",
    "    var = list(int(input()))\n",
    "    for arg in values:\n",
    "        total *= arg\n",
    "    return total"
   ]
  },
  {
   "cell_type": "code",
   "execution_count": null,
   "id": "26f555ce",
   "metadata": {},
   "outputs": [],
   "source": [
    "product.__doc__"
   ]
  },
  {
   "cell_type": "code",
   "execution_count": null,
   "id": "24b050e8",
   "metadata": {},
   "outputs": [],
   "source": [
    "product(1,5,6,9,7)"
   ]
  },
  {
   "cell_type": "code",
   "execution_count": null,
   "id": "c443267c",
   "metadata": {},
   "outputs": [],
   "source": [
    "help(sum)"
   ]
  },
  {
   "cell_type": "code",
   "execution_count": null,
   "id": "dd3c3394",
   "metadata": {},
   "outputs": [],
   "source": [
    "def average(*values):\n",
    "    '''*values: Average function takes multiple values\n",
    "    calculates sum of values\n",
    "    calculates the length of values\n",
    "    and calculates mean of values in the float.\n",
    "    \n",
    "    Results: an float'''\n",
    "    summ = 0\n",
    "    count = 0\n",
    "    for arg in values:\n",
    "        summ += arg\n",
    "        count += 1\n",
    "    average = summ/count\n",
    "    return average"
   ]
  },
  {
   "cell_type": "code",
   "execution_count": null,
   "id": "d07a23bc",
   "metadata": {},
   "outputs": [],
   "source": [
    "average(80,90,50,70,100,150,200)"
   ]
  },
  {
   "cell_type": "code",
   "execution_count": null,
   "id": "b8904fcb",
   "metadata": {},
   "outputs": [],
   "source": [
    "help(average)"
   ]
  },
  {
   "cell_type": "code",
   "execution_count": null,
   "id": "b307def0",
   "metadata": {},
   "outputs": [],
   "source": [
    "average.__doc__"
   ]
  },
  {
   "cell_type": "code",
   "execution_count": null,
   "id": "eca41f89",
   "metadata": {},
   "outputs": [],
   "source": []
  },
  {
   "cell_type": "code",
   "execution_count": null,
   "id": "95447c21",
   "metadata": {},
   "outputs": [],
   "source": [
    "average()"
   ]
  },
  {
   "cell_type": "code",
   "execution_count": null,
   "id": "4d9e318a",
   "metadata": {},
   "outputs": [],
   "source": [
    "def add(*args):\n",
    "    print(args)\n",
    "\n",
    "\n",
    "add(10,20,30,40,)"
   ]
  },
  {
   "cell_type": "code",
   "execution_count": null,
   "id": "a232c7c1",
   "metadata": {},
   "outputs": [],
   "source": [
    "def add(*args):\n",
    "    total = 0\n",
    "    for arg in args:\n",
    "        total += arg\n",
    "    return total\n",
    "\n",
    "\n",
    "total = add(1, 2, 3,5,6,7)\n",
    "print(total)"
   ]
  },
  {
   "cell_type": "code",
   "execution_count": null,
   "id": "42a28820",
   "metadata": {},
   "outputs": [],
   "source": [
    "Python *args argument exhausts positional arguments"
   ]
  },
  {
   "cell_type": "code",
   "execution_count": null,
   "id": "dc734d2f",
   "metadata": {},
   "outputs": [],
   "source": [
    "# Python **kwargs parameters\n",
    "The **kwargs is called a keyword parameter."
   ]
  },
  {
   "cell_type": "code",
   "execution_count": null,
   "id": "19874af2",
   "metadata": {},
   "outputs": [],
   "source": [
    "def connect(**kwargs):\n",
    "    print(type(kwargs))\n",
    "    print(kwargs)"
   ]
  },
  {
   "cell_type": "code",
   "execution_count": null,
   "id": "3db00364",
   "metadata": {},
   "outputs": [],
   "source": [
    "type(connect())\n",
    "connect(one = 10, password = 'Sam$12')"
   ]
  },
  {
   "cell_type": "code",
   "execution_count": null,
   "id": "c657c071",
   "metadata": {},
   "outputs": [],
   "source": [
    "connect(server='localhost', port=3306, user='root', password='Akaksh@123')"
   ]
  },
  {
   "cell_type": "code",
   "execution_count": null,
   "id": "9e1ba170",
   "metadata": {},
   "outputs": [],
   "source": [
    "import os"
   ]
  },
  {
   "cell_type": "code",
   "execution_count": null,
   "id": "ef942754",
   "metadata": {},
   "outputs": [],
   "source": [
    "os.getcwd()"
   ]
  },
  {
   "cell_type": "code",
   "execution_count": null,
   "id": "92c4bde1",
   "metadata": {},
   "outputs": [],
   "source": [
    "os.listdir()"
   ]
  },
  {
   "cell_type": "code",
   "execution_count": null,
   "id": "63767f74",
   "metadata": {},
   "outputs": [],
   "source": [
    "os.chdir('C:\\\\Users\\\\excel\\\\DATA Science\\\\Python_programming\\\\Deep_learning')"
   ]
  },
  {
   "cell_type": "code",
   "execution_count": null,
   "id": "9b497d5f",
   "metadata": {},
   "outputs": [],
   "source": [
    "os.getcwd()"
   ]
  },
  {
   "cell_type": "markdown",
   "id": "92e77c1a",
   "metadata": {},
   "source": [
    "# FILE input/output in python"
   ]
  },
  {
   "cell_type": "code",
   "execution_count": null,
   "id": "74b74559",
   "metadata": {},
   "outputs": [],
   "source": [
    "Python Read Text File\n",
    "1) open() function\n",
    "\n",
    "open(path_to_file, mode)"
   ]
  },
  {
   "cell_type": "code",
   "execution_count": null,
   "id": "de4bc395",
   "metadata": {},
   "outputs": [],
   "source": [
    " f = open('','r')"
   ]
  },
  {
   "cell_type": "code",
   "execution_count": null,
   "id": "f7029f2d",
   "metadata": {},
   "outputs": [],
   "source": [
    "2) Reading text methods\n",
    "The file object provides you with three methods for reading text from a text file:\n",
    "\n",
    "read(size) – read some contents of a file based on the optional size and return the contents as a string. \n",
    "If you omit the size, the read() method reads from where it left off till the end of the file. \n",
    "If the end of a file has been reached, the read() method returns an empty string.\n",
    "\n",
    "readline() – read a single line from a text file and return the line as a string. \n",
    "If the end of a file has been reached, the readline() returns an empty string.\n",
    "\n",
    "readlines() – read all the lines of the text file into a list of strings.\n",
    "This method is useful if you have a small file and you want to manipulate the whole text of that file"
   ]
  },
  {
   "cell_type": "code",
   "execution_count": null,
   "id": "188fcbbb",
   "metadata": {},
   "outputs": [],
   "source": [
    "import os\n",
    "os.getcwd()"
   ]
  },
  {
   "cell_type": "code",
   "execution_count": null,
   "id": "a6cc83c1",
   "metadata": {},
   "outputs": [],
   "source": [
    "os.chdir('C:\\\\Users\\\\excel\\\\DATA Science\\\\NEW_FOLDER_DS')"
   ]
  },
  {
   "cell_type": "code",
   "execution_count": null,
   "id": "cce9fe21",
   "metadata": {},
   "outputs": [],
   "source": [
    "os.getcwd()"
   ]
  },
  {
   "cell_type": "code",
   "execution_count": null,
   "id": "688cc268",
   "metadata": {},
   "outputs": [],
   "source": [
    "os.listdir()"
   ]
  },
  {
   "cell_type": "code",
   "execution_count": null,
   "id": "90854650",
   "metadata": {},
   "outputs": [],
   "source": [
    "3) close() method\n",
    "f.close()"
   ]
  },
  {
   "cell_type": "code",
   "execution_count": null,
   "id": "c83af2f3",
   "metadata": {},
   "outputs": [],
   "source": [
    "\"D:\\DS-Batch1\\DS material\\Introduction to Python programming.txt\""
   ]
  },
  {
   "cell_type": "code",
   "execution_count": 21,
   "id": "493ff909",
   "metadata": {
    "collapsed": true
   },
   "outputs": [
    {
     "name": "stdout",
     "output_type": "stream",
     "text": [
      "Introduction to Python programming\n",
      "Syntax\n",
      "Commenting (using #, '')\n",
      "variable \n",
      "nameing variable: \n",
      "eg: \n",
      "myvar = \"John\"\n",
      "my_var = \"John\"\n",
      "_my_var = \"John\"\n",
      "myVar = \"John\"\n",
      "MYVAR = \"John\"\n",
      "myvar2 = \"John\"\n",
      "\n",
      "Assigning variable\n",
      "Output variables\n",
      "Global variables\n",
      "\n",
      "\n",
      "data types:\n",
      "Text Type:\tstr\n",
      "Numeric Types:\tint, float, complex\n",
      "Sequence Types:\tlist, tuple, range\n",
      "Mapping Type:\tdict\n",
      "Set Types:\tset, frozenset\n",
      "Boolean Type:\tbool\n",
      "Binary Types:\tbytes, bytearray, memoryview\n",
      "None Type:\tNoneType\n",
      "\n",
      "\n",
      "data type casting:\n",
      "int()\n",
      "float()\n",
      "str()\n",
      "list()\n",
      "dict()\n",
      "tuple()\n",
      "\n",
      "Python string\n",
      "''\n",
      "\"\"\n",
      "'''''\n",
      "\n",
      "operators\n",
      "Arithmetic operators\n",
      "Assignment operators\n",
      "Comparison operators\n",
      "Logical operators\n",
      "Identity operators\n",
      "Membership operators\n",
      "Bitwise operators\n",
      "\n",
      "data structures type:\n",
      "List, tuple, dictionary, set.\n",
      "\n",
      "Statments:\n",
      "logical statements\n",
      "conditional statements\n",
      "\n",
      "Python data sctructure:\n",
      "List\n",
      "string\n",
      "tuple\n",
      "dictionary\n",
      "set\n",
      "\n",
      "Python data manipulation\n",
      "Slicing\n",
      "Indexing\n",
      "Updating\n",
      "Removing\n",
      "Deleting\n"
     ]
    }
   ],
   "source": [
    "file = open(r\"D:\\DS-Batch1\\DS material\\Introduction to Python programming.txt\",mode = 'r')\n",
    "print(file.read())\n",
    "file.close()"
   ]
  },
  {
   "cell_type": "code",
   "execution_count": 22,
   "id": "6522dae0",
   "metadata": {},
   "outputs": [
    {
     "name": "stdout",
     "output_type": "stream",
     "text": [
      "Introduction to Python programming\n",
      "\n"
     ]
    }
   ],
   "source": [
    "file = open(r\"D:\\DS-Batch1\\DS material\\Introduction to Python programming.txt\",mode = 'r')\n",
    "print(file.readline())\n",
    "file.close()"
   ]
  },
  {
   "cell_type": "code",
   "execution_count": 23,
   "id": "fc9e1633",
   "metadata": {
    "collapsed": true
   },
   "outputs": [
    {
     "name": "stdout",
     "output_type": "stream",
     "text": [
      "['The Python Tutorial\\n', 'Python is an easy to learn, powerful programming language. It has efficient high-level data structures and a simple but effective approach to object-oriented programming. Pythonâ€™s elegant syntax and dynamic typing, together with its interpreted nature, make it an ideal language for scripting and rapid application development in many areas on most platforms.\\n', '\\n', 'The Python interpreter and the extensive standard library are freely available in source or binary form for all major platforms from the Python web site, https://www.python.org/, and may be freely distributed. The same site also contains distributions of and pointers to many free third party Python modules, programs and tools, and additional documentation.\\n', '\\n', 'The Python interpreter is easily extended with new functions and data types implemented in C or C++ (or other languages callable from C). Python is also suitable as an extension language for customizable applications.\\n', '\\n', 'This tutorial introduces the reader informally to the basic concepts and features of the Python language and system. It helps to have a Python interpreter handy for hands-on experience, but all examples are self-contained, so the tutorial can be read off-line as well.\\n', '\\n', 'For a description of standard objects and modules, see The Python Standard Library. The Python Language Reference gives a more formal definition of the language. To write extensions in C or C++, read Extending and Embedding the Python Interpreter and Python/C API Reference Manual. There are also several books covering Python in depth.\\n', '\\n', 'This tutorial does not attempt to be comprehensive and cover every single feature, or even every commonly used feature. Instead, it introduces many of Pythonâ€™s most noteworthy features, and will give you a good idea of the languageâ€™s flavor and style. After reading it, you will be able to read and write Python modules and programs, and you will be ready to learn more about the various Python library modules described in The Python Standard Library.']\n"
     ]
    },
    {
     "ename": "NameError",
     "evalue": "name 'close' is not defined",
     "output_type": "error",
     "traceback": [
      "\u001b[1;31m---------------------------------------------------------------------------\u001b[0m",
      "\u001b[1;31mNameError\u001b[0m                                 Traceback (most recent call last)",
      "Cell \u001b[1;32mIn[23], line 3\u001b[0m\n\u001b[0;32m      1\u001b[0m file \u001b[38;5;241m=\u001b[39m \u001b[38;5;28mopen\u001b[39m(\u001b[38;5;124mr\u001b[39m\u001b[38;5;124m\"\u001b[39m\u001b[38;5;124mC:\u001b[39m\u001b[38;5;124m\\\u001b[39m\u001b[38;5;124mUsers\u001b[39m\u001b[38;5;124m\\\u001b[39m\u001b[38;5;124mexcel\u001b[39m\u001b[38;5;124m\\\u001b[39m\u001b[38;5;124mDATA Science\u001b[39m\u001b[38;5;124m\\\u001b[39m\u001b[38;5;124mNEW_FOLDER_DS\u001b[39m\u001b[38;5;124m\\\u001b[39m\u001b[38;5;124mpython_intro.txt\u001b[39m\u001b[38;5;124m\"\u001b[39m,mode \u001b[38;5;241m=\u001b[39m \u001b[38;5;124m'\u001b[39m\u001b[38;5;124mr\u001b[39m\u001b[38;5;124m'\u001b[39m)\n\u001b[0;32m      2\u001b[0m \u001b[38;5;28mprint\u001b[39m(file\u001b[38;5;241m.\u001b[39mreadlines())\n\u001b[1;32m----> 3\u001b[0m file,close()\n",
      "\u001b[1;31mNameError\u001b[0m: name 'close' is not defined"
     ]
    }
   ],
   "source": [
    "file = open(r\"C:\\Users\\excel\\DATA Science\\NEW_FOLDER_DS\\python_intro.txt\",mode = 'r')\n",
    "print(file.readlines())\n",
    "file.close()"
   ]
  },
  {
   "cell_type": "code",
   "execution_count": 24,
   "id": "95e8befa",
   "metadata": {
    "collapsed": true
   },
   "outputs": [
    {
     "name": "stdout",
     "output_type": "stream",
     "text": [
      "Read BeginnersGuide/Overview for a short explanation of what Python is.\n",
      "\n",
      "Getting Python\n",
      "Next, install the Python 3 interpreter on your computer. This is the program that reads Python programs and carries out their instructions; you need it before you can do any Python programming. Mac and Linux distributions may include an outdated version of Python (Python 2), but you should install an updated one (Python 3). See BeginnersGuide/Download for instructions to download the correct version of Python.\n",
      "\n",
      "There are also Python interpreter and IDE bundles available, such as Thonny. Other options can be found at IntegratedDevelopmentEnvironments.\n",
      "\n",
      "At some stage, you'll want to edit and save your program code. Take a look at HowToEditPythonCode for some advice and recommendations.\n",
      "\n",
      "Learning Python\n",
      "Next, read a tutorial and try some simple experiments with your new Python interpreter.\n",
      "\n",
      "If you have never programmed before, see BeginnersGuide/NonProgrammers for a list of suitable tutorials.\n",
      "\n",
      "If you have previous programming experience, consult BeginnersGuide/Programmers, which lists more advanced tutorials.\n",
      "\n",
      "If English isn't your first language, you might be more comfortable with a tutorial that's been translated into your language. Consult python.org's list of Non-English resources.\n",
      "\n",
      "Most tutorials assume that you know how to run a program on your computer. If you are using Windows and need help with this, see How do I Run a Program Under Windows.\n",
      "\n",
      "Some sites offer in-browser coding for those who want to learn Python:\n",
      "\n",
      "\n",
      "CodÃ©dex\n",
      "\n",
      "Codecademy\n",
      "\n",
      "Coding Bootcamps\n",
      "\n",
      "DataCamp\n",
      "\n",
      "Dataquest for Python for data science.\n",
      "\n",
      "HackInScience free and open source platform.\n",
      "\n",
      "High School Technology Services for general Python\n",
      "\n",
      "Python Land: A completely free beginners tutorial with interactive, editable code examples\n"
     ]
    }
   ],
   "source": [
    "file = open(r\"C:\\Users\\excel\\OneDrive\\Desktop\\inclass_exercise\\intro_python.txt\",mode = 'r')\n",
    "for i in file:\n",
    "    T = file.read()\n",
    "    print(T)\n",
    "file.close()"
   ]
  },
  {
   "cell_type": "code",
   "execution_count": 25,
   "id": "4733ae42",
   "metadata": {
    "collapsed": true
   },
   "outputs": [
    {
     "name": "stdout",
     "output_type": "stream",
     "text": [
      "Read BeginnersGuide/Overview for a short explanation of what Python is.\n",
      "\n",
      "Getting Python\n",
      "\n",
      "\n",
      "\n",
      "\n",
      "\n",
      "\n",
      "\n",
      "Next, read a tutorial and try some simple experiments with your new Python interpreter.\n",
      "\n",
      "If you have never programmed before, see BeginnersGuide/NonProgrammers for a list of suitable tutorials.\n",
      "\n",
      "If you have previous programming experience, consult BeginnersGuide/Programmers, which lists more advanced tutorials.\n",
      "\n",
      "If English isn't your first language, you might be more comfortable with a tutorial that's been translated into your language. Consult python.org's list of Non-English resources.\n",
      "\n",
      "Most tutorials assume that you know how to run a program on your computer. If you are using Windows and need help with this, see How do I Run a Program Under Windows.\n",
      "\n",
      "Some sites offer in-browser coding for those who want to learn Python:\n",
      "\n",
      "\n",
      "\n",
      "\n",
      "\n",
      "\n",
      "\n",
      "\n",
      "\n",
      "\n",
      "\n",
      "\n",
      "\n",
      "\n",
      "\n",
      "\n",
      "\n",
      "\n",
      "None\n"
     ]
    }
   ],
   "source": [
    "file = open(r\"C:\\Users\\excel\\OneDrive\\Desktop\\inclass_exercise\\intro_python.txt\",mode = 'r')\n",
    "for line in file:\n",
    "    file1 = file.readline()\n",
    "    print(file1)\n",
    "print(file.close())"
   ]
  },
  {
   "cell_type": "code",
   "execution_count": null,
   "id": "5ff6dd40",
   "metadata": {},
   "outputs": [],
   "source": [
    "To close the file automatically without calling the close() method, you use the with statement like this:\n",
    "with open(path_to_file) as f:\n",
    "    contents = f.readlines()"
   ]
  },
  {
   "cell_type": "code",
   "execution_count": null,
   "id": "896dcbca",
   "metadata": {},
   "outputs": [],
   "source": [
    "with open(r\"C:\\Users\\excel\\DATA Science\\NEW_FOLDER_DS\\python_intro.txt\",mode = 'r') as file:\n",
    "    contents = file.readlines()\n",
    "    print(contents)"
   ]
  },
  {
   "cell_type": "code",
   "execution_count": 30,
   "id": "5e8a9127",
   "metadata": {},
   "outputs": [],
   "source": [
    "with open(r\"C:\\Users\\excel\\DATA Science\\NEW_FOLDER_DS\\python_intro.txt\") as f:\n",
    "    while True:\n",
    "        line = f.readline()\n",
    "        if 'Python' not in line:\n",
    "            print(f'The python is present on {line} line')\n",
    "            continue\n",
    "        else:\n",
    "            break\n",
    "#         print(line.strip())"
   ]
  },
  {
   "cell_type": "code",
   "execution_count": 29,
   "id": "f737dee8",
   "metadata": {
    "collapsed": true
   },
   "outputs": [
    {
     "name": "stdout",
     "output_type": "stream",
     "text": [
      "The JAVA Tutorial\n",
      "JAVA is an easy to learn, powerful programming language. It has efficient high-level data structures and a simple but effective approach to object-oriented programming. JAVAâ€™s elegant syntax and dynamic typing, together with its interpreted nature, make it an ideal language for scripting and rapid application development in many areas on most platforms.\n",
      "\n",
      "The JAVA interpreter and the extensive standard library are freely available in source or binary form for all major platforms from the JAVA web site, https://www.python.org/, and may be freely distributed. The same site also contains distributions of and pointers to many free third party JAVA modules, programs and tools, and additional documentation.\n",
      "\n",
      "The JAVA interpreter is easily extended with new functions and data types implemented in C or C++ (or other languages callable from C). JAVA is also suitable as an extension language for customizable applications.\n",
      "\n",
      "This tutorial introduces the reader informally to the basic concepts and features of the JAVA language and system. It helps to have a JAVA interpreter handy for hands-on experience, but all examples are self-contained, so the tutorial can be read off-line as well.\n",
      "\n",
      "For a description of standard objects and modules, see The JAVA Standard Library. The JAVA Language Reference gives a more formal definition of the language. To write extensions in C or C++, read Extending and Embedding the JAVA Interpreter and JAVA/C API Reference Manual. There are also several books covering JAVA in depth.\n",
      "\n",
      "This tutorial does not attempt to be comprehensive and cover every single feature, or even every commonly used feature. Instead, it introduces many of JAVAâ€™s most noteworthy features, and will give you a good idea of the languageâ€™s flavor and style. After reading it, you will be able to read and write JAVA modules and programs, and you will be ready to learn more about the various JAVA library modules described in The JAVA Standard Library.\n"
     ]
    }
   ],
   "source": [
    "with open(r\"C:\\Users\\excel\\DATA Science\\NEW_FOLDER_DS\\python_intro.txt\") as f:\n",
    "    for line in f.readlines():\n",
    "        line = line.strip()\n",
    "        line = line.replace('Python','JAVA')\n",
    "        print(line)"
   ]
  },
  {
   "cell_type": "code",
   "execution_count": null,
   "id": "a18dcd92",
   "metadata": {},
   "outputs": [],
   "source": [
    "'r'       open for reading (default)\n",
    "'w'       open for writing, truncating the file first\n",
    "'x'       create a new file and open it for writing\n",
    "'a'       open for writing, appending to the end of the file if it exists\n",
    "'b'       binary mode\n",
    "'t'       text mode (default)\n",
    "'+'       open a disk file for updating (reading and writing)"
   ]
  },
  {
   "cell_type": "markdown",
   "id": "f9102024",
   "metadata": {},
   "source": [
    "# Python Write Text File"
   ]
  },
  {
   "cell_type": "code",
   "execution_count": null,
   "id": "5c7719eb",
   "metadata": {},
   "outputs": [],
   "source": [
    "f = open(file, mode)\n",
    "f.write('\\n')\n",
    "f.writelines('\\n')"
   ]
  },
  {
   "cell_type": "code",
   "execution_count": 31,
   "id": "8da1de25",
   "metadata": {},
   "outputs": [
    {
     "data": {
      "text/plain": [
       "'C:\\\\Users\\\\excel\\\\DATA Science\\\\Python_programming'"
      ]
     },
     "execution_count": 31,
     "metadata": {},
     "output_type": "execute_result"
    }
   ],
   "source": [
    "import os\n",
    "os.getcwd()"
   ]
  },
  {
   "cell_type": "code",
   "execution_count": 32,
   "id": "5921a962",
   "metadata": {},
   "outputs": [],
   "source": [
    "lines = 'Readme, How to write text files in Python, will be writing the file in the new file, on same location'\n",
    "with open('newfile.txt', mode = 'w') as f:\n",
    "    f.write(lines)  "
   ]
  },
  {
   "cell_type": "code",
   "execution_count": 34,
   "id": "7ef6857e",
   "metadata": {
    "collapsed": true
   },
   "outputs": [
    {
     "data": {
      "text/plain": [
       "['.ipynb_checkpoints',\n",
       " 'countries.csv',\n",
       " 'country.csv',\n",
       " 'country1.csv',\n",
       " 'country3.csv',\n",
       " 'couuntry.csv',\n",
       " 'Deep_learning',\n",
       " 'file.npz',\n",
       " 'file1.npy',\n",
       " 'file2.npz',\n",
       " 'Intermediate Numpy .ipynb',\n",
       " 'intermediate Python.ipynb',\n",
       " 'Introduction to python-Copy1.ipynb',\n",
       " 'Introduction_to_python.ipynb',\n",
       " 'losalry.npy',\n",
       " 'Marks.csv',\n",
       " 'Matplotlib and Seaborn.ipynb',\n",
       " 'newfile.txt',\n",
       " 'Python Interview Questions.docx',\n",
       " 'Python matplotlib library.ipynb',\n",
       " 'Python Numpy  library.ipynb',\n",
       " 'Python Pandas library.ipynb',\n",
       " 'Python pandas numpy .ipynb',\n",
       " 'Python_interview_questions.ipynb',\n",
       " 'results.csv',\n",
       " 'Results1.csv',\n",
       " 'testfile',\n",
       " 'USERDATA.csv']"
      ]
     },
     "execution_count": 34,
     "metadata": {},
     "output_type": "execute_result"
    }
   ],
   "source": [
    "os.listdir()"
   ]
  },
  {
   "cell_type": "code",
   "execution_count": 35,
   "id": "0a422fde",
   "metadata": {},
   "outputs": [],
   "source": [
    "data = ['Readme', 'How to write text files in Python', 'will be writing the file in the new file', 'on same location']\n",
    "with open('newfile.txt', 'w') as f:\n",
    "    f.writelines(data)"
   ]
  },
  {
   "cell_type": "code",
   "execution_count": 38,
   "id": "bf640bc7",
   "metadata": {},
   "outputs": [],
   "source": [
    "data = ['Readme', 'How to write text files in Python', 'will be writing the file in the new file', 'on same location']\n",
    "with open('newfile1.txt', 'w') as f:\n",
    "    for i in data:\n",
    "        f.write(i)\n",
    "        f.write('\\n')"
   ]
  },
  {
   "cell_type": "code",
   "execution_count": 44,
   "id": "dd79752f",
   "metadata": {},
   "outputs": [],
   "source": [
    "data = ['User ID', 'Gender', 'Age', 'EstimatedSalary', 'Purchased']\n",
    "with open('users_data.csv', 'w') as file:\n",
    "    for i in data:\n",
    "        file.write(i)\n",
    "        file.write(',')"
   ]
  },
  {
   "cell_type": "markdown",
   "id": "506380f6",
   "metadata": {},
   "source": [
    "# appending a text file"
   ]
  },
  {
   "cell_type": "code",
   "execution_count": 45,
   "id": "269b7033",
   "metadata": {},
   "outputs": [],
   "source": [
    "data = ['01', 'male', '25', '50000', 'yes']\n",
    "#         ['01', 'Female', '26', '50000', 'yes'],\n",
    "#         ['01', 'male', '25', '50000', 'yes']]\n",
    "\n",
    "with open('users_data.csv', 'a') as file:\n",
    "    file.write('\\n')\n",
    "    for i in data:\n",
    "        file.write(i)\n",
    "        file.write(',')"
   ]
  },
  {
   "cell_type": "markdown",
   "id": "6c88cc97",
   "metadata": {},
   "source": [
    "# Task:  write output of grades in a file using previouse code."
   ]
  },
  {
   "cell_type": "markdown",
   "id": "355fb300",
   "metadata": {},
   "source": [
    "# Create dictionary data of students details and store in students_info.csv file, load using dictreader method. calculate the average marks and grades for data, results stored in result.txt text file.\n",
    " students_data.py have to share the python scripting file."
   ]
  },
  {
   "cell_type": "code",
   "execution_count": 46,
   "id": "d7720de1",
   "metadata": {},
   "outputs": [],
   "source": [
    "import csv\n",
    "# csv header\n",
    "fieldnames = ['name', 'area', 'country_code2', 'country_code3']\n",
    "# csv data\n",
    "rows = [\n",
    "    {'name': 'Albania',\n",
    "    'area': 28748,\n",
    "    'country_code2': 'AL',\n",
    "    'country_code3': 'ALB'},\n",
    "    {'name': 'Algeria',\n",
    "    'area': 2381741,\n",
    "    'country_code2': 'DZ',\n",
    "    'country_code3': 'DZA'},\n",
    "    {'name': 'American Samoa',\n",
    "    'area': 199,\n",
    "    'country_code2': 'AS',\n",
    "    'country_code3': 'ASM'} ]\n",
    "\n",
    "with open('countries.csv', 'w', encoding='UTF8', newline='') as f:\n",
    "    writer = csv.DictWriter(f, fieldnames=fieldnames)\n",
    "    writer.writeheader()\n",
    "    writer.writerows(rows)"
   ]
  },
  {
   "cell_type": "code",
   "execution_count": 58,
   "id": "76e51aaf",
   "metadata": {},
   "outputs": [
    {
     "name": "stdout",
     "output_type": "stream",
     "text": [
      "country_code2\n",
      "AL\n",
      "DZ\n",
      "AS\n"
     ]
    }
   ],
   "source": [
    "# reading a csv file\n",
    "with open('countries.csv') as f:\n",
    "    writer = csv.reader(f)\n",
    "    for i in writer:\n",
    "        print(i[2])"
   ]
  },
  {
   "cell_type": "code",
   "execution_count": null,
   "id": "718feeb8",
   "metadata": {},
   "outputs": [],
   "source": []
  },
  {
   "cell_type": "code",
   "execution_count": null,
   "id": "b626fdb3",
   "metadata": {},
   "outputs": [],
   "source": []
  },
  {
   "cell_type": "code",
   "execution_count": null,
   "id": "f9a98ad3",
   "metadata": {},
   "outputs": [],
   "source": [
    "f = open('average_marks.txt','r')\n",
    "f.readlines()"
   ]
  },
  {
   "cell_type": "code",
   "execution_count": null,
   "id": "2fb9aae8",
   "metadata": {},
   "outputs": [],
   "source": [
    "os.listdir()"
   ]
  },
  {
   "cell_type": "code",
   "execution_count": null,
   "id": "65a39b94",
   "metadata": {},
   "outputs": [],
   "source": [
    "lines = ['Readme', 'How to write text files in Python programming']\n",
    "with open('readme.txt', 'wa+') as f:\n",
    "    f.write('\\n'.join(lines))"
   ]
  },
  {
   "cell_type": "code",
   "execution_count": null,
   "id": "59b04434",
   "metadata": {},
   "outputs": [],
   "source": [
    "f = open('readme.txt','r')\n",
    "f.readlines()"
   ]
  },
  {
   "cell_type": "code",
   "execution_count": null,
   "id": "4b1b99e8",
   "metadata": {},
   "outputs": [],
   "source": [
    "more_lines = ['', 'Append text files', 'The End']\n",
    "\n",
    "with open('readme.txt', 'a') as f:\n",
    "    f.write('\\n'.join(more_lines))"
   ]
  },
  {
   "cell_type": "code",
   "execution_count": null,
   "id": "4ac2b9be",
   "metadata": {},
   "outputs": [],
   "source": [
    "Create Text File\n",
    "\n",
    "with open('readme.txt', 'w') as f:\n",
    "    f.write('Create a new text file!')"
   ]
  },
  {
   "cell_type": "code",
   "execution_count": null,
   "id": "e56f1be2",
   "metadata": {},
   "outputs": [],
   "source": [
    "os.listdir()"
   ]
  },
  {
   "cell_type": "markdown",
   "id": "4a5f53c6",
   "metadata": {},
   "source": [
    "# Read CSV File"
   ]
  },
  {
   "cell_type": "code",
   "execution_count": 76,
   "id": "0a368cce",
   "metadata": {},
   "outputs": [
    {
     "name": "stdout",
     "output_type": "stream",
     "text": [
      "The average salary of users is 69742\n"
     ]
    }
   ],
   "source": [
    "# f = open('path/to/csv_file')\n",
    "import csv\n",
    "from statistics import mean\n",
    "f = open(r\"C:\\Users\\excel\\DATA Science\\Datasets\\User_Data.csv\", encoding='UTF8')\n",
    "csv_reader = csv.reader(f)\n",
    "salary = []\n",
    "for line in csv_reader:\n",
    "    salary.append(line[3])\n",
    "int_salary = []\n",
    "for i in salary[1:]:\n",
    "    int_salary.append(int(i))\n",
    "# print(int_salary)\n",
    "print(f'The average salary of users is {round(sum(int_salary)/len(int_salary))}')\n",
    "f.close()"
   ]
  },
  {
   "cell_type": "code",
   "execution_count": 82,
   "id": "58f5e9cf",
   "metadata": {},
   "outputs": [
    {
     "name": "stdout",
     "output_type": "stream",
     "text": [
      "[19000, 20000, 43000, 57000, 76000, 58000, 84000, 150000, 33000, 65000, 80000, 52000, 86000, 18000, 82000, 80000, 25000, 26000, 28000, 29000, 22000, 49000, 41000, 22000, 23000, 20000, 28000, 30000, 43000, 18000, 74000, 137000, 16000, 44000, 90000, 27000, 28000, 49000, 72000, 31000, 17000, 51000, 108000, 15000, 84000, 20000, 79000, 54000, 135000, 89000, 32000, 44000, 83000, 23000, 58000, 55000, 48000, 79000, 18000, 117000, 20000, 87000, 66000, 120000, 83000, 58000, 19000, 82000, 63000, 68000, 80000, 27000, 23000, 113000, 18000, 112000, 52000, 27000, 87000, 17000, 80000, 42000, 49000, 88000, 62000, 118000, 55000, 85000, 81000, 50000, 81000, 116000, 15000, 28000, 83000, 44000, 25000, 123000, 73000, 37000, 88000, 59000, 86000, 149000, 21000, 72000, 35000, 89000, 86000, 80000, 71000, 71000, 61000, 55000, 80000, 57000, 75000, 52000, 59000, 59000, 75000, 72000, 75000, 53000, 51000, 61000, 65000, 32000, 17000, 84000, 58000, 31000, 87000, 68000, 55000, 63000, 82000, 107000, 59000, 25000, 85000, 68000, 59000, 89000, 25000, 89000, 96000, 30000, 61000, 74000, 15000, 45000, 76000, 50000, 47000, 15000, 59000, 75000, 30000, 135000, 100000, 90000, 33000, 38000, 69000, 86000, 55000, 71000, 148000, 47000, 88000, 115000, 118000, 43000, 72000, 28000, 47000, 22000, 23000, 34000, 16000, 71000, 117000, 43000, 60000, 66000, 82000, 41000, 72000, 32000, 84000, 26000, 43000, 70000, 89000, 43000, 79000, 36000, 80000, 22000, 39000, 74000, 134000, 71000, 101000, 47000, 130000, 114000, 142000, 22000, 96000, 150000, 42000, 58000, 43000, 108000, 65000, 78000, 96000, 143000, 80000, 91000, 144000, 102000, 60000, 53000, 126000, 133000, 72000, 80000, 147000, 42000, 107000, 86000, 112000, 79000, 57000, 80000, 82000, 143000, 149000, 59000, 88000, 104000, 72000, 146000, 50000, 122000, 52000, 97000, 39000, 52000, 134000, 146000, 44000, 90000, 72000, 57000, 95000, 131000, 77000, 144000, 125000, 72000, 90000, 108000, 75000, 74000, 144000, 61000, 133000, 76000, 42000, 106000, 26000, 74000, 71000, 88000, 38000, 36000, 88000, 61000, 70000, 21000, 141000, 93000, 62000, 138000, 79000, 78000, 134000, 89000, 39000, 77000, 57000, 63000, 73000, 112000, 79000, 117000, 38000, 74000, 137000, 79000, 60000, 54000, 134000, 113000, 125000, 50000, 70000, 96000, 50000, 141000, 79000, 75000, 104000, 55000, 32000, 60000, 138000, 82000, 52000, 30000, 131000, 60000, 72000, 75000, 118000, 107000, 51000, 119000, 65000, 65000, 60000, 54000, 144000, 79000, 55000, 122000, 104000, 75000, 65000, 51000, 105000, 63000, 72000, 108000, 77000, 61000, 113000, 75000, 90000, 57000, 99000, 34000, 70000, 72000, 71000, 54000, 129000, 34000, 50000, 79000, 104000, 29000, 47000, 88000, 71000, 26000, 46000, 83000, 73000, 130000, 80000, 32000, 74000, 53000, 87000, 23000, 64000, 33000, 139000, 28000, 33000, 60000, 39000, 71000, 34000, 35000, 33000, 23000, 45000, 42000, 59000, 41000, 23000, 20000, 33000, 36000]\n",
      "The average salary of users is 69742\n"
     ]
    }
   ],
   "source": [
    "with open(r\"C:\\Users\\excel\\DATA Science\\Datasets\\User_Data.csv\", encoding='UTF8') as f:\n",
    "    file = csv.reader(f)\n",
    "    salary = []\n",
    "    for i in file:\n",
    "        i = i[3]\n",
    "        salary.append(i)\n",
    "    intg_salary = []\n",
    "    for j in salary[1:]:\n",
    "        intg_salary.append(int(j))\n",
    "    print(intg_salary)\n",
    "    print(f'The average salary of users is {round(sum(intg_salary)/len(intg_salary))}')   "
   ]
  },
  {
   "cell_type": "code",
   "execution_count": null,
   "id": "2cfba2c6",
   "metadata": {},
   "outputs": [],
   "source": [
    "sum(int_salary)/len(int_salary)"
   ]
  },
  {
   "cell_type": "markdown",
   "id": "0285b1fc",
   "metadata": {},
   "source": [
    "# Avg male and female salary."
   ]
  },
  {
   "cell_type": "code",
   "execution_count": null,
   "id": "471a5bd5",
   "metadata": {},
   "outputs": [],
   "source": [
    "import statistics\n",
    "f = open(r\"C:\\Users\\excel\\DATA Science\\Datasets\\User_Data.csv\", encoding='UTF8')\n",
    "csv_reader = csv.reader(f)\n",
    "\n",
    "male_salary = []\n",
    "female_salary = []\n",
    "\n",
    "for gender in csv_reader:\n",
    "    if gender[1] == 'Male':\n",
    "        male_salary.append(int(gender[3]))\n",
    "print('------------------------------------')\n",
    "    elif gender[1] == 'Female':\n",
    "         female_salary.append(int(gender[3]))\n",
    "\n",
    "print(f'Average Male salary is {round(statistics.mean(male_salary),2)}')\n",
    "print(f'Average Female slary is {round(statistics.mean(female_salary),2)}')"
   ]
  },
  {
   "cell_type": "code",
   "execution_count": null,
   "id": "be517d1c",
   "metadata": {},
   "outputs": [],
   "source": [
    "\n",
    "sale_price = []\n",
    "for line in csv_reader:\n",
    "    sale_price.append(line[4])\n",
    "# print(sale_price)\n",
    "price = sale_price[1:]\n",
    "values = []\n",
    "for i in price:\n",
    "    price = int(i)\n",
    "    values.append(price)\n",
    "print(round(statistics.mean(values),2))\n",
    "\n",
    "    \n",
    "# print(price)\n",
    "\n",
    "f.close() "
   ]
  },
  {
   "cell_type": "code",
   "execution_count": null,
   "id": "16f97ebc",
   "metadata": {},
   "outputs": [],
   "source": []
  },
  {
   "cell_type": "code",
   "execution_count": null,
   "id": "2e64f975",
   "metadata": {},
   "outputs": [],
   "source": [
    "import csv\n",
    "with open(r\"C:\\Users\\excel\\DATA Science\\Datasets\\User_Data.csv\") as f:\n",
    "    csv_reader = csv.reader(f)\n",
    "    for line in csv_reader:\n",
    "        print(line)\n"
   ]
  },
  {
   "cell_type": "markdown",
   "id": "d22d9da9",
   "metadata": {},
   "source": [
    "# writing csv file"
   ]
  },
  {
   "cell_type": "code",
   "execution_count": null,
   "id": "89d5e194",
   "metadata": {},
   "outputs": [],
   "source": [
    "import csv\n",
    "fieldnames = ['User ID', 'Gender', 'Age', 'EstimatedSalary', 'Purchased']\n",
    "\n",
    "row = [['15624510', 'Male', '19', '19000', '0'],\n",
    "      ['15810944', 'Male', '35', '20000', '0'],\n",
    "        ['15668575', 'Female', '26', '43000', '0'],\n",
    "        ['15603246', 'Female', '27', '57000', '0'],\n",
    "        ['15804002', 'Male', '19', '76000', '0'],\n",
    "        ['15728773', 'Male', '27', '58000', '0'],\n",
    "        ['15598044', 'Female', '27', '84000', '0']]\n",
    "\n",
    "with open('USERDATA.csv', mode = 'w',newline='') as f:\n",
    "    csv_writer = csv.writer(f)\n",
    "    # write the header\n",
    "    csv_writer.writerow(fieldnames)\n",
    "    # write all the data\n",
    "    csv_writer.writerows(row)\n",
    "   \n"
   ]
  },
  {
   "cell_type": "code",
   "execution_count": null,
   "id": "ea3ce557",
   "metadata": {},
   "outputs": [],
   "source": [
    "import os\n",
    "os.getcwd()"
   ]
  },
  {
   "cell_type": "code",
   "execution_count": null,
   "id": "b9c89fde",
   "metadata": {},
   "outputs": [],
   "source": []
  },
  {
   "cell_type": "code",
   "execution_count": null,
   "id": "041bb6a4",
   "metadata": {},
   "outputs": [],
   "source": [
    "import csv\n",
    "\n",
    "header = ['name', 'area', 'country_code2', 'country_code3']\n",
    "data = ['Afghanistan', 652090, 'AF', 'AFG']\n",
    "\n",
    "\n",
    "with open('countries.csv', 'w', encoding='UTF8', newline='') as f:\n",
    "    writer = csv.writer(f)\n",
    "\n",
    "    # write the header\n",
    "    writer.writerow(header)\n",
    "\n",
    "    # write the data\n",
    "    writer.writerow(data)"
   ]
  },
  {
   "cell_type": "code",
   "execution_count": null,
   "id": "94aaf25d",
   "metadata": {},
   "outputs": [],
   "source": [
    "os.listdir()"
   ]
  },
  {
   "cell_type": "code",
   "execution_count": null,
   "id": "2bee1d2e",
   "metadata": {},
   "outputs": [],
   "source": [
    "import csv\n",
    "\n",
    "header = ['name', 'area', 'country_code2', 'country_code3']\n",
    "data = [\n",
    "    ['Albania', 28748, 'AL', 'ALB'],\n",
    "    ['Algeria', 2381741, 'DZ', 'DZA'],\n",
    "    ['American Samoa', 199, 'AS', 'ASM'],\n",
    "    ['Andorra', 468, 'AD', 'AND'],\n",
    "    ['Angola', 1246700, 'AO', 'AGO']\n",
    "]\n",
    "\n",
    "with open('countries1.csv', 'w', encoding='UTF8', newline='') as f:\n",
    "    writer = csv.writer(f)\n",
    "\n",
    "    # write the header\n",
    "    writer.writerow(header)\n",
    "\n",
    "    # write multiple rows\n",
    "    writer.writerows(data)\n"
   ]
  },
  {
   "cell_type": "code",
   "execution_count": null,
   "id": "feb271fd",
   "metadata": {},
   "outputs": [],
   "source": [
    "os.listdir()"
   ]
  },
  {
   "cell_type": "markdown",
   "id": "56aa1e5d",
   "metadata": {},
   "source": [
    "# using dictwriter"
   ]
  },
  {
   "cell_type": "code",
   "execution_count": null,
   "id": "dbe1b0ef",
   "metadata": {},
   "outputs": [],
   "source": [
    "{key:value}"
   ]
  },
  {
   "cell_type": "code",
   "execution_count": null,
   "id": "264b7d1b",
   "metadata": {},
   "outputs": [],
   "source": [
    "import csv\n",
    "file = csv."
   ]
  },
  {
   "cell_type": "code",
   "execution_count": 47,
   "id": "96df0d7c",
   "metadata": {
    "collapsed": true
   },
   "outputs": [
    {
     "data": {
      "text/plain": [
       "['.ipynb_checkpoints',\n",
       " 'countries.csv',\n",
       " 'country.csv',\n",
       " 'country1.csv',\n",
       " 'country3.csv',\n",
       " 'couuntry.csv',\n",
       " 'Deep_learning',\n",
       " 'file.npz',\n",
       " 'file1.npy',\n",
       " 'file2.npz',\n",
       " 'Intermediate Numpy .ipynb',\n",
       " 'intermediate Python.ipynb',\n",
       " 'Introduction to python-Copy1.ipynb',\n",
       " 'Introduction_to_python.ipynb',\n",
       " 'losalry.npy',\n",
       " 'Marks.csv',\n",
       " 'Matplotlib and Seaborn.ipynb',\n",
       " 'newfile.txt',\n",
       " 'newfile1.txt',\n",
       " 'Python Interview Questions.docx',\n",
       " 'Python matplotlib library.ipynb',\n",
       " 'Python Numpy  library.ipynb',\n",
       " 'Python Pandas library.ipynb',\n",
       " 'Python pandas numpy .ipynb',\n",
       " 'Python_interview_questions.ipynb',\n",
       " 'results.csv',\n",
       " 'Results1.csv',\n",
       " 'testfile',\n",
       " 'USERDATA.csv',\n",
       " 'users_data.csv',\n",
       " 'users_data.txt']"
      ]
     },
     "execution_count": 47,
     "metadata": {},
     "output_type": "execute_result"
    }
   ],
   "source": [
    "os.listdir()"
   ]
  },
  {
   "cell_type": "code",
   "execution_count": null,
   "id": "fb362286",
   "metadata": {},
   "outputs": [],
   "source": [
    "columns = ['name','age','subjects','Marks']\n",
    "student_marks = [\n",
    "    {'name':'sam',\n",
    "    'age':25,\n",
    "    'subjects':['Maths','science','CS','Statistics','Phyisics','Bio'],\n",
    "    'Marks':[60,70,80,90,70,60]},\n",
    "    \n",
    "    {'name':'jack',\n",
    "    'age':26,\n",
    "    'subjects':['Maths','science','CS','Statistics','Phyisics','Bio'],\n",
    "    'Marks':[60,70,80,80,70,60]},\n",
    "                 \n",
    "    {'name':'syeda',\n",
    "    'age':27,\n",
    "    'subjects':['Maths','science','CS','Statistics','Phyisics','Bio'],\n",
    "    'Marks':[60,50,80,70,70,60]}\n",
    "                ]\n",
    "with open('Marks.csv', 'w', encoding='UTF8', newline='') as f:\n",
    "    writer = csv.DictWriter(f, fieldnames=columns)\n",
    "    writer.writeheader()\n",
    "    writer.writerows(student_marks)\n",
    "\n",
    "with open('results.csv','w') as f:\n",
    "    column = ['Students_name','Students_age','Average_marks','Grade']\n",
    "    writer = csv.DictWriter(f, fieldnames=column)\n",
    "    writer.writeheader()\n",
    "    for i in student_marks:\n",
    "        avg = sum(i['Marks'])/len(i['Marks'])\n",
    "        if avg >= 90:\n",
    "            Grade = \"A Grade\"\n",
    "        elif avg <90 and avg >= 70:\n",
    "            Grade = \"B Grade\"\n",
    "        elif avg < 70 and avg >= 50:\n",
    "            Grade = \"C Grade\"\n",
    "        elif avg <50 and avg >=30:\n",
    "            Grade = \"D Grade\"\n",
    "        else:\n",
    "            Grade = \"Fail\"\n",
    "        data = [{'Students_name':i['name'],\n",
    "                 'Students_age':i['age'],\n",
    "                 'Average_marks':avg,\n",
    "                 'Grade':Grade}]\n",
    "        writer.writerows(data)"
   ]
  },
  {
   "cell_type": "code",
   "execution_count": null,
   "id": "fd37b1d9",
   "metadata": {},
   "outputs": [],
   "source": [
    "with open('results.csv','w') as f:\n",
    "    column = ['Students_name','Students_age','Average_marks','Grade']\n",
    "    writer = csv.DictWriter(f, fieldnames=column)\n",
    "    writer.writeheader()\n",
    "    for i in student_marks:\n",
    "        avg = sum(i['Marks'])/len(i['Marks'])\n",
    "        if avg >= 90:\n",
    "            Grade = \"A Grade\"\n",
    "        elif avg <90 and avg >= 70:\n",
    "            Grade = \"B Grade\"\n",
    "        elif avg < 70 and avg >= 50:\n",
    "            Grade = \"C Grade\"\n",
    "        elif avg <50 and avg >=30:\n",
    "            Grade = \"D Grade\"\n",
    "        else:\n",
    "            Grade = \"Fail\"\n",
    "        data = [{'Students_name':i['name'],\n",
    "                 'Students_age':i['age'],\n",
    "                 'Average_marks':avg,\n",
    "                 'Grade':Grade}]\n",
    "        writer.writerows(data)          "
   ]
  },
  {
   "cell_type": "code",
   "execution_count": null,
   "id": "b6a9202c",
   "metadata": {},
   "outputs": [],
   "source": []
  },
  {
   "cell_type": "code",
   "execution_count": null,
   "id": "7a1bfb9d",
   "metadata": {},
   "outputs": [],
   "source": [
    "f = open('countries.csv')\n",
    "f.read()"
   ]
  },
  {
   "cell_type": "code",
   "execution_count": null,
   "id": "46c0281a",
   "metadata": {},
   "outputs": [],
   "source": [
    "indexError, nameerror, syntax error,"
   ]
  },
  {
   "cell_type": "markdown",
   "id": "82cdd0bd",
   "metadata": {},
   "source": [
    "# Exception handling."
   ]
  },
  {
   "cell_type": "code",
   "execution_count": null,
   "id": "25af0c9a",
   "metadata": {},
   "outputs": [],
   "source": [
    "syntax error : can not handled\n",
    "run time error: "
   ]
  },
  {
   "cell_type": "code",
   "execution_count": null,
   "id": "3649e47d",
   "metadata": {},
   "outputs": [],
   "source": [
    "'10'"
   ]
  },
  {
   "cell_type": "code",
   "execution_count": null,
   "id": "e9ec8fdb",
   "metadata": {},
   "outputs": [],
   "source": [
    "Try...except\n",
    "try...... except...... finally\n",
    "try......... except....... else"
   ]
  },
  {
   "cell_type": "code",
   "execution_count": null,
   "id": "e3d10917",
   "metadata": {},
   "outputs": [],
   "source": [
    "Two types of error\n",
    "1) Syntax error\n",
    "When you write an invalid Python code, you’ll get a syntax error.\n",
    "\n",
    "2) Exceptional error\n",
    "Even though when your code has valid syntax, it may cause an error during execution.\n",
    "\n",
    "eg: TypeError, NameError,valueError\n",
    "    \n",
    "Reading a file that doesn’t exist.\n",
    "Connecting to a remote server that is offline.\n",
    "Bad user inputs."
   ]
  },
  {
   "cell_type": "code",
   "execution_count": 54,
   "id": "c6cc82f6",
   "metadata": {},
   "outputs": [
    {
     "name": "stdout",
     "output_type": "stream",
     "text": [
      "There is an error\n",
      "10\n"
     ]
    }
   ],
   "source": [
    "a= 10\n",
    "b = 0\n",
    "\n",
    "try:\n",
    "    c = a/b\n",
    "except ZeroDivisionError:\n",
    "    print('There is an error')\n",
    "d = a + b\n",
    "print(d)"
   ]
  },
  {
   "cell_type": "code",
   "execution_count": 58,
   "id": "76209fbd",
   "metadata": {},
   "outputs": [
    {
     "name": "stdout",
     "output_type": "stream",
     "text": [
      "There is an error invalid literal for int() with base 10: 'a'\n"
     ]
    }
   ],
   "source": [
    "t = 'a'\n",
    "try:\n",
    "    c = int(t)\n",
    "except Exception as e:\n",
    "    print('There is an error',e)"
   ]
  },
  {
   "cell_type": "code",
   "execution_count": null,
   "id": "c4f18d45",
   "metadata": {},
   "outputs": [],
   "source": []
  },
  {
   "cell_type": "code",
   "execution_count": null,
   "id": "da462d95",
   "metadata": {},
   "outputs": [],
   "source": []
  },
  {
   "cell_type": "code",
   "execution_count": null,
   "id": "de16cae0",
   "metadata": {},
   "outputs": [],
   "source": [
    "try:\n",
    "     with open(filename,'r').. # First executes\n",
    "     ....\n",
    "except:\n",
    "     # handling exception"
   ]
  },
  {
   "cell_type": "code",
   "execution_count": 59,
   "id": "979b9696",
   "metadata": {},
   "outputs": [
    {
     "data": {
      "text/plain": [
       "'C:\\\\Users\\\\excel\\\\DATA Science\\\\Python_programming'"
      ]
     },
     "execution_count": 59,
     "metadata": {},
     "output_type": "execute_result"
    }
   ],
   "source": [
    "import os\n",
    "os.getcwd()"
   ]
  },
  {
   "cell_type": "code",
   "execution_count": 60,
   "id": "0820e603",
   "metadata": {
    "collapsed": true
   },
   "outputs": [
    {
     "data": {
      "text/plain": [
       "['.ipynb_checkpoints',\n",
       " 'countries.csv',\n",
       " 'country.csv',\n",
       " 'country1.csv',\n",
       " 'country3.csv',\n",
       " 'couuntry.csv',\n",
       " 'Deep_learning',\n",
       " 'file.npz',\n",
       " 'file1.npy',\n",
       " 'file2.npz',\n",
       " 'Intermediate Numpy .ipynb',\n",
       " 'intermediate Python.ipynb',\n",
       " 'Introduction to python-Copy1.ipynb',\n",
       " 'Introduction_to_python.ipynb',\n",
       " 'losalry.npy',\n",
       " 'Marks.csv',\n",
       " 'Matplotlib and Seaborn.ipynb',\n",
       " 'newfile.txt',\n",
       " 'newfile1.txt',\n",
       " 'Python Interview Questions.docx',\n",
       " 'Python matplotlib library.ipynb',\n",
       " 'Python Numpy  library.ipynb',\n",
       " 'Python Pandas library.ipynb',\n",
       " 'Python pandas numpy .ipynb',\n",
       " 'Python_interview_questions.ipynb',\n",
       " 'results.csv',\n",
       " 'Results1.csv',\n",
       " 'testfile',\n",
       " 'USERDATA.csv',\n",
       " 'users_data.csv',\n",
       " 'users_data.txt']"
      ]
     },
     "execution_count": 60,
     "metadata": {},
     "output_type": "execute_result"
    }
   ],
   "source": [
    "os.listdir()"
   ]
  },
  {
   "cell_type": "code",
   "execution_count": null,
   "id": "9c6f6008",
   "metadata": {},
   "outputs": [],
   "source": [
    "os.chdir()"
   ]
  },
  {
   "cell_type": "code",
   "execution_count": 68,
   "id": "5012f4a7",
   "metadata": {},
   "outputs": [
    {
     "name": "stdout",
     "output_type": "stream",
     "text": [
      "Hello\n"
     ]
    }
   ],
   "source": [
    "try:\n",
    "    f = open('file1.csv','r')\n",
    "    print(f.read())\n",
    "except:\n",
    "    f = open('file1.csv','w')\n",
    "    f.write('Hello')\n",
    "    print('file created succesfully')"
   ]
  },
  {
   "cell_type": "code",
   "execution_count": 67,
   "id": "2e621841",
   "metadata": {},
   "outputs": [
    {
     "data": {
      "text/plain": [
       "'Hello'"
      ]
     },
     "execution_count": 67,
     "metadata": {},
     "output_type": "execute_result"
    }
   ],
   "source": [
    "f = open('file.csv','r')\n",
    "f.read()"
   ]
  },
  {
   "cell_type": "code",
   "execution_count": 69,
   "id": "7e1332a5",
   "metadata": {
    "collapsed": true
   },
   "outputs": [
    {
     "ename": "FileNotFoundError",
     "evalue": "[Errno 2] No such file or directory: 'data.csv'",
     "output_type": "error",
     "traceback": [
      "\u001b[1;31m---------------------------------------------------------------------------\u001b[0m",
      "\u001b[1;31mFileNotFoundError\u001b[0m                         Traceback (most recent call last)",
      "Cell \u001b[1;32mIn[69], line 1\u001b[0m\n\u001b[1;32m----> 1\u001b[0m f \u001b[38;5;241m=\u001b[39m \u001b[38;5;28mopen\u001b[39m(\u001b[38;5;124m'\u001b[39m\u001b[38;5;124mdata.csv\u001b[39m\u001b[38;5;124m'\u001b[39m,\u001b[38;5;124m'\u001b[39m\u001b[38;5;124mr\u001b[39m\u001b[38;5;124m'\u001b[39m)\n\u001b[0;32m      2\u001b[0m f\u001b[38;5;241m.\u001b[39mwrite(\u001b[38;5;124m'\u001b[39m\u001b[38;5;124msjhdjashdh\u001b[39m\u001b[38;5;124m'\u001b[39m)\n",
      "File \u001b[1;32mC:\\ProgramData\\anaconda3\\New folder\\Lib\\site-packages\\IPython\\core\\interactiveshell.py:286\u001b[0m, in \u001b[0;36m_modified_open\u001b[1;34m(file, *args, **kwargs)\u001b[0m\n\u001b[0;32m    279\u001b[0m \u001b[38;5;28;01mif\u001b[39;00m file \u001b[38;5;129;01min\u001b[39;00m {\u001b[38;5;241m0\u001b[39m, \u001b[38;5;241m1\u001b[39m, \u001b[38;5;241m2\u001b[39m}:\n\u001b[0;32m    280\u001b[0m     \u001b[38;5;28;01mraise\u001b[39;00m \u001b[38;5;167;01mValueError\u001b[39;00m(\n\u001b[0;32m    281\u001b[0m         \u001b[38;5;124mf\u001b[39m\u001b[38;5;124m\"\u001b[39m\u001b[38;5;124mIPython won\u001b[39m\u001b[38;5;124m'\u001b[39m\u001b[38;5;124mt let you open fd=\u001b[39m\u001b[38;5;132;01m{\u001b[39;00mfile\u001b[38;5;132;01m}\u001b[39;00m\u001b[38;5;124m by default \u001b[39m\u001b[38;5;124m\"\u001b[39m\n\u001b[0;32m    282\u001b[0m         \u001b[38;5;124m\"\u001b[39m\u001b[38;5;124mas it is likely to crash IPython. If you know what you are doing, \u001b[39m\u001b[38;5;124m\"\u001b[39m\n\u001b[0;32m    283\u001b[0m         \u001b[38;5;124m\"\u001b[39m\u001b[38;5;124myou can use builtins\u001b[39m\u001b[38;5;124m'\u001b[39m\u001b[38;5;124m open.\u001b[39m\u001b[38;5;124m\"\u001b[39m\n\u001b[0;32m    284\u001b[0m     )\n\u001b[1;32m--> 286\u001b[0m \u001b[38;5;28;01mreturn\u001b[39;00m io_open(file, \u001b[38;5;241m*\u001b[39margs, \u001b[38;5;241m*\u001b[39m\u001b[38;5;241m*\u001b[39mkwargs)\n",
      "\u001b[1;31mFileNotFoundError\u001b[0m: [Errno 2] No such file or directory: 'data.csv'"
     ]
    }
   ],
   "source": [
    "f = open('data.csv','r')\n",
    "f.write('sjhdjashdh')"
   ]
  },
  {
   "cell_type": "code",
   "execution_count": 78,
   "id": "90bfa883",
   "metadata": {},
   "outputs": [
    {
     "name": "stdout",
     "output_type": "stream",
     "text": [
      "Content written successfully\n"
     ]
    }
   ],
   "source": [
    "try:\n",
    "    f = open('data.csv','w')\n",
    "    f.write('data: 10')\n",
    "except FileNotFoundError:\n",
    "    # This will only check for an IOError exception and then execute this print statement\n",
    "    print(\"Error: File is mode is writable\")\n",
    "except (IOError,ValueError):\n",
    "    # This will only check for an IOError exception and then execute this print statement\n",
    "    print(\"Error:\")\n",
    "else: # this else block will execute if try block does not raise an exception\n",
    "    print(\"Content written successfully\")\n",
    "    f.close()"
   ]
  },
  {
   "cell_type": "code",
   "execution_count": 79,
   "id": "98148d8c",
   "metadata": {},
   "outputs": [
    {
     "name": "stdout",
     "output_type": "stream",
     "text": [
      "There is type error\n"
     ]
    }
   ],
   "source": [
    "try:\n",
    "    f = open('countries.csv','w')\n",
    "    f.write(456)\n",
    "except (TypeError,FileNotFoundError,IOError,ValueError):\n",
    "    print(\"There is type error\")"
   ]
  },
  {
   "cell_type": "code",
   "execution_count": null,
   "id": "c4d6783f",
   "metadata": {},
   "outputs": [],
   "source": []
  },
  {
   "cell_type": "code",
   "execution_count": null,
   "id": "ef54df03",
   "metadata": {},
   "outputs": [],
   "source": []
  },
  {
   "cell_type": "code",
   "execution_count": null,
   "id": "ab3a3ab3",
   "metadata": {},
   "outputs": [],
   "source": [
    "os.listdir()"
   ]
  },
  {
   "cell_type": "code",
   "execution_count": null,
   "id": "c2769518",
   "metadata": {},
   "outputs": [],
   "source": [
    "f = open('demo_file','r')\n",
    "f.write('Test write this')\n",
    "print(\"fsfsfsfsf\")"
   ]
  },
  {
   "cell_type": "code",
   "execution_count": null,
   "id": "541e18fb",
   "metadata": {},
   "outputs": [],
   "source": [
    "try:\n",
    "    f = open('demo_file','r')\n",
    "    f.write('Test write this')\n",
    "except IOError:\n",
    "    # This will only check for an IOError exception and then execute this print statement\n",
    "   print(\"Error: Could not find file or read data\")\n",
    "else:\n",
    "   print(\"Content written successfully\")\n",
    "   f.close()"
   ]
  },
  {
   "cell_type": "code",
   "execution_count": null,
   "id": "00c2ec14",
   "metadata": {},
   "outputs": [],
   "source": [
    "import os \n",
    "os.listdir()"
   ]
  },
  {
   "cell_type": "code",
   "execution_count": null,
   "id": "92dd2dff",
   "metadata": {},
   "outputs": [],
   "source": [
    "try:\n",
    "    f = open('testfile','w')\n",
    "    f.write('Test write this')\n",
    "except Exception as e:\n",
    "    # This will check for any exception and then execute this print statement\n",
    "    print(e)\n",
    "else:\n",
    "    print(\"Content written successfully\")\n",
    "    f.close()"
   ]
  },
  {
   "cell_type": "code",
   "execution_count": null,
   "id": "f8396a68",
   "metadata": {},
   "outputs": [],
   "source": [
    "try:\n",
    "    f = open('testfile','w')\n",
    "    f.read()\n",
    "#     print(f)\n",
    "except Exception as e:\n",
    "    # This will check for any exception and then execute this print statement\n",
    "    print(e)\n",
    "else:\n",
    "    print(\"Content written successfully\")\n",
    "    f.close()"
   ]
  },
  {
   "cell_type": "markdown",
   "id": "32b2d9c7",
   "metadata": {},
   "source": [
    "finally\n",
    "The finally: Block of code will always be run regardless if there was an exception in the try code block. \n",
    "\n",
    "The syntax is:\n",
    "\n",
    "try:\n",
    "   Code block here\n",
    "   ...\n",
    "   Due to any exception, this code may be skipped!\n",
    "finally:\n",
    "   This code block would always be executed.\n",
    "For example:"
   ]
  },
  {
   "cell_type": "code",
   "execution_count": 82,
   "id": "4020d202",
   "metadata": {
    "collapsed": true
   },
   "outputs": [
    {
     "name": "stdout",
     "output_type": "stream",
     "text": [
      "Error\n",
      "Always execute finally code blocks\n"
     ]
    }
   ],
   "source": [
    "try:\n",
    "    f = open(\"testfile5\", \"r\")\n",
    "    f.write(\"Test write statement\")\n",
    "except:\n",
    "    print('Error')\n",
    "finally:\n",
    "    print(\"Always execute finally code blocks\")\n",
    "    f = open(\"testfile5\", \"w\")\n",
    "    f.write(\"Test write statement\")\n",
    "    f.close()\n",
    "    "
   ]
  },
  {
   "cell_type": "code",
   "execution_count": 83,
   "id": "de2fd430",
   "metadata": {},
   "outputs": [
    {
     "name": "stdout",
     "output_type": "stream",
     "text": [
      "Always execute finally code blocks\n"
     ]
    }
   ],
   "source": [
    "try:\n",
    "    f = open(\"testfile\", \"w\")\n",
    "    f.write(\"Test write statement\")\n",
    "    \n",
    "except:\n",
    "    print('Error')\n",
    "    \n",
    "finally:\n",
    "    print(\"Always execute finally code blocks\")"
   ]
  },
  {
   "cell_type": "code",
   "execution_count": 93,
   "id": "49d0ce88",
   "metadata": {},
   "outputs": [],
   "source": [
    "def askint():\n",
    "        try:\n",
    "            val = int(input('plase enter the value: '))\n",
    "            print(val)\n",
    "        except:\n",
    "            print(\"Looks like you did not enter an integer!\")           \n",
    "        finally:\n",
    "            print(\"this excecuted\")"
   ]
  },
  {
   "cell_type": "code",
   "execution_count": 95,
   "id": "a754cd48",
   "metadata": {},
   "outputs": [
    {
     "name": "stdout",
     "output_type": "stream",
     "text": [
      "plase enter the value: hi\n",
      "Looks like you did not enter an integer!\n",
      "this excecuted\n"
     ]
    }
   ],
   "source": [
    "askint()"
   ]
  },
  {
   "cell_type": "code",
   "execution_count": null,
   "id": "daf911ee",
   "metadata": {},
   "outputs": [],
   "source": [
    "# Program to handle multiple errors with one# except statement# Python 3\n",
    "def fun(a):\n",
    "    if a < 4:\n",
    "        b = a/(a-3)               # throws ZeroDivisionError for a = 3\n",
    "        print(\"Value of b = \", b)   # throws NameError if a >= 4"
   ]
  },
  {
   "cell_type": "code",
   "execution_count": null,
   "id": "82edf64c",
   "metadata": {},
   "outputs": [],
   "source": [
    "def fun(a):\n",
    "    try:\n",
    "        if a <= 4:\n",
    "            b = a/(a-3)               # throws ZeroDivisionError for a = 3\n",
    "            print(\"Value of b = \", b)\n",
    "    except ZeroDivisionError:\n",
    "        print(\"Division error\")\n",
    "    except NameError:\n",
    "        print(\"Name Error\")\n",
    "    except TypeError:\n",
    "        print(\"TypeError\")\n",
    "   "
   ]
  },
  {
   "cell_type": "code",
   "execution_count": null,
   "id": "fdd18a79",
   "metadata": {},
   "outputs": [],
   "source": [
    "fun('p')"
   ]
  },
  {
   "cell_type": "code",
   "execution_count": null,
   "id": "77c0a6be",
   "metadata": {},
   "outputs": [],
   "source": [
    "try:\n",
    "    fun('a')\n",
    "except (ZeroDivisionError,UnboundLocalError,TypeError,NameError):\n",
    "    print('Error')"
   ]
  },
  {
   "cell_type": "code",
   "execution_count": null,
   "id": "ebc0cfb9",
   "metadata": {},
   "outputs": [],
   "source": []
  },
  {
   "cell_type": "code",
   "execution_count": null,
   "id": "d0bd70f1",
   "metadata": {},
   "outputs": [],
   "source": []
  },
  {
   "cell_type": "code",
   "execution_count": null,
   "id": "3a4bc90f",
   "metadata": {},
   "outputs": [],
   "source": [
    "try:\n",
    "    fun('a')\n",
    "except (ZeroDivisionError,UnboundLocalError,TypeError):\n",
    "    print('Error')\n"
   ]
  },
  {
   "cell_type": "code",
   "execution_count": null,
   "id": "128b633f",
   "metadata": {},
   "outputs": [],
   "source": [
    "try:\n",
    "    fun(2)\n",
    "    fun('a')\n",
    " \n",
    "#note that braces () are necessary here for\n",
    "# multiple exceptions\n",
    "except (ZeroDivisionError,NameError,UnboundLocalError,TypeError):\n",
    "    print(f\"{0 or 1 or 2 or 3} Occurred and Handled\")\n"
   ]
  },
  {
   "cell_type": "markdown",
   "id": "450035c1",
   "metadata": {},
   "source": [
    "# # Task : create a function which gives the multiplication table and handle the exception."
   ]
  },
  {
   "cell_type": "code",
   "execution_count": null,
   "id": "61182be5",
   "metadata": {},
   "outputs": [],
   "source": [
    "n = input(\"enter the value: \")\n",
    "def mul(n):\n",
    "    try:\n",
    "        for i in range(1,11):\n",
    "            print(i * int(n))\n",
    "    except ValueError:\n",
    "        print(\"enter the number only\")\n",
    "    "
   ]
  },
  {
   "cell_type": "code",
   "execution_count": null,
   "id": "3b2c206f",
   "metadata": {},
   "outputs": [],
   "source": [
    "mul(n)"
   ]
  },
  {
   "cell_type": "code",
   "execution_count": null,
   "id": "0f4cbc19",
   "metadata": {},
   "outputs": [],
   "source": [
    "\n",
    "# Python program to demonstrate finally\n",
    " \n",
    "# No exception Exception raised in try block\n",
    "try:\n",
    "    k = 5//0  # raises divide by zero exception.\n",
    "    print(k)\n",
    "# handles zerodivision exception\n",
    "except ZeroDivisionError:\n",
    "    print(\"Can't divide by zero\")\n",
    "finally:\n",
    "    # this block is always executed\n",
    "    # regardless of exception generation.\n",
    "    print('This is always executed')"
   ]
  },
  {
   "cell_type": "markdown",
   "id": "fb722f6c",
   "metadata": {},
   "source": [
    "# raising Error"
   ]
  },
  {
   "cell_type": "code",
   "execution_count": 110,
   "id": "30dc1e42",
   "metadata": {
    "collapsed": true
   },
   "outputs": [
    {
     "name": "stdout",
     "output_type": "stream",
     "text": [
      "Give your age: -2\n",
      "-2\n"
     ]
    },
    {
     "ename": "Exception",
     "evalue": "Sorry, no numbers greater then 100 and below 0",
     "output_type": "error",
     "traceback": [
      "\u001b[1;31m---------------------------------------------------------------------------\u001b[0m",
      "\u001b[1;31mException\u001b[0m                                 Traceback (most recent call last)",
      "Cell \u001b[1;32mIn[110], line 5\u001b[0m\n\u001b[0;32m      3\u001b[0m \u001b[38;5;28;01mif\u001b[39;00m age \u001b[38;5;241m>\u001b[39m \u001b[38;5;241m100\u001b[39m \u001b[38;5;129;01mor\u001b[39;00m age \u001b[38;5;241m<\u001b[39m\u001b[38;5;241m0\u001b[39m:\n\u001b[0;32m      4\u001b[0m     \u001b[38;5;28mprint\u001b[39m(age)\n\u001b[1;32m----> 5\u001b[0m     \u001b[38;5;28;01mraise\u001b[39;00m \u001b[38;5;167;01mException\u001b[39;00m(\u001b[38;5;124m\"\u001b[39m\u001b[38;5;124mSorry, no numbers greater then 100 and below 0\u001b[39m\u001b[38;5;124m\"\u001b[39m)\n",
      "\u001b[1;31mException\u001b[0m: Sorry, no numbers greater then 100 and below 0"
     ]
    }
   ],
   "source": [
    "age = int(input('Give your age: '))\n",
    "\n",
    "if age > 100 or age <0:\n",
    "    print(age)\n",
    "    raise Exception(\"\")"
   ]
  },
  {
   "cell_type": "code",
   "execution_count": 109,
   "id": "9aab9df3",
   "metadata": {
    "collapsed": true
   },
   "outputs": [
    {
     "name": "stdout",
     "output_type": "stream",
     "text": [
      "Enter the value6\n"
     ]
    },
    {
     "ename": "TypeError",
     "evalue": "Only integers are allowed",
     "output_type": "error",
     "traceback": [
      "\u001b[1;31m---------------------------------------------------------------------------\u001b[0m",
      "\u001b[1;31mTypeError\u001b[0m                                 Traceback (most recent call last)",
      "Cell \u001b[1;32mIn[109], line 4\u001b[0m\n\u001b[0;32m      1\u001b[0m x \u001b[38;5;241m=\u001b[39m \u001b[38;5;28minput\u001b[39m(\u001b[38;5;124m\"\u001b[39m\u001b[38;5;124mEnter the value\u001b[39m\u001b[38;5;124m\"\u001b[39m)\n\u001b[0;32m      3\u001b[0m \u001b[38;5;28;01mif\u001b[39;00m \u001b[38;5;129;01mnot\u001b[39;00m \u001b[38;5;28mtype\u001b[39m(x) \u001b[38;5;129;01mis\u001b[39;00m \u001b[38;5;28mint\u001b[39m:\n\u001b[1;32m----> 4\u001b[0m     \u001b[38;5;28;01mraise\u001b[39;00m \u001b[38;5;167;01mTypeError\u001b[39;00m(\u001b[38;5;124m\"\u001b[39m\u001b[38;5;124mOnly integers are allowed\u001b[39m\u001b[38;5;124m\"\u001b[39m)\n",
      "\u001b[1;31mTypeError\u001b[0m: Only integers are allowed"
     ]
    }
   ],
   "source": [
    "x = input(\"Enter the value\")\n",
    "\n",
    "if not type(x) is int:\n",
    "    raise TypeError(\"Only integers are allowed\")"
   ]
  },
  {
   "cell_type": "code",
   "execution_count": 111,
   "id": "78fe3390",
   "metadata": {},
   "outputs": [
    {
     "name": "stdout",
     "output_type": "stream",
     "text": [
      "An exception\n"
     ]
    }
   ],
   "source": [
    "# Program to depict Raising Exception\n",
    "try:\n",
    "    raise NameError(\"Hi there\")  # Raise Error\n",
    "except NameError:\n",
    "    print (\"An exception\")\n",
    "#     raise  # To determine whether the exception was raised or not"
   ]
  },
  {
   "cell_type": "code",
   "execution_count": 124,
   "id": "f10f21f4",
   "metadata": {},
   "outputs": [
    {
     "name": "stdout",
     "output_type": "stream",
     "text": [
      "Enter the net sales for\n",
      "- Prior period:0\n",
      "- Current period:120\n"
     ]
    },
    {
     "ename": "ZeroDivisionError",
     "evalue": "float division by zero",
     "output_type": "error",
     "traceback": [
      "\u001b[1;31m---------------------------------------------------------------------------\u001b[0m",
      "\u001b[1;31mZeroDivisionError\u001b[0m                         Traceback (most recent call last)",
      "Cell \u001b[1;32mIn[124], line 10\u001b[0m\n\u001b[0;32m      7\u001b[0m current \u001b[38;5;241m=\u001b[39m \u001b[38;5;28mfloat\u001b[39m(\u001b[38;5;28minput\u001b[39m(\u001b[38;5;124m'\u001b[39m\u001b[38;5;124m- Current period:\u001b[39m\u001b[38;5;124m'\u001b[39m))\n\u001b[0;32m      9\u001b[0m \u001b[38;5;66;03m# calculate the change in percentage\u001b[39;00m\n\u001b[1;32m---> 10\u001b[0m change \u001b[38;5;241m=\u001b[39m (current \u001b[38;5;241m-\u001b[39m previous) \u001b[38;5;241m*\u001b[39m \u001b[38;5;241m100\u001b[39m \u001b[38;5;241m/\u001b[39m previous\n\u001b[0;32m     12\u001b[0m \u001b[38;5;66;03m# show the result\u001b[39;00m\n\u001b[0;32m     13\u001b[0m \u001b[38;5;28;01mif\u001b[39;00m change \u001b[38;5;241m>\u001b[39m \u001b[38;5;241m0\u001b[39m:\n",
      "\u001b[1;31mZeroDivisionError\u001b[0m: float division by zero"
     ]
    }
   ],
   "source": [
    "#Catching specific exceptions\n",
    "try:\n",
    "    # get input net sales\n",
    "    print('Enter the net sales for')\n",
    "\n",
    "    previous = float(input('- Prior period:'))\n",
    "    current = float(input('- Current period:'))\n",
    "\n",
    "    # calculate the change in percentage\n",
    "    change = (current - previous) * 100 / previous\n",
    "\n",
    "    # show the result\n",
    "    if change > 0:\n",
    "        result = f'Sales increase {abs(change)}%'\n",
    "    else:\n",
    "        result = f'Sales decrease {abs(change)}%' \n",
    "        print(result)\n",
    "except (ValueError, TypeError,ZeroDivisionError):\n",
    "     print('Error! Please enter a number for net sales.')\n",
    "finally:\n",
    "    if previous < 0 and current < previous:\n",
    "        raise ValueError(\"Value should be less then current\")\n"
   ]
  },
  {
   "cell_type": "markdown",
   "id": "99d40e08",
   "metadata": {},
   "source": [
    "# Handling multiple exceptions"
   ]
  },
  {
   "cell_type": "code",
   "execution_count": null,
   "id": "dee24dba",
   "metadata": {},
   "outputs": [],
   "source": [
    "try:\n",
    "    # code that may cause an exception\n",
    "except Exception1 as e1:\n",
    "    # handle exception\n",
    "except Exception2 as e2:\n",
    "    # handle exception\n",
    "except Exception3 as e3:\n",
    "    # handle exception "
   ]
  },
  {
   "cell_type": "code",
   "execution_count": null,
   "id": "f3ef8efa",
   "metadata": {},
   "outputs": [],
   "source": [
    "try:\n",
    "    # get input net sales\n",
    "    print('Enter the net sales for')\n",
    "\n",
    "    previous = float(input('- Prior period:'))\n",
    "    current = float(input('- Current period:'))\n",
    "\n",
    "    # calculate the change in percentage\n",
    "    change = (current - previous) * 100 / previous\n",
    "\n",
    "    # show the result\n",
    "    if change > 0:\n",
    "        result = f'Sales increase {abs(change)}%'\n",
    "    else:\n",
    "        result = f'Sales decrease {abs(change)}%'\n",
    "\n",
    "    print(result)\n",
    "except ValueError:\n",
    "    print('Error! Please enter a number for net sales.')\n",
    "except ZeroDivisionError:\n",
    "    print('Error! The prior net sales cannot be zero.')\n"
   ]
  },
  {
   "cell_type": "code",
   "execution_count": null,
   "id": "2f682564",
   "metadata": {},
   "outputs": [],
   "source": [
    "try:\n",
    "    # get input net sales\n",
    "    print('Enter the net sales for')\n",
    "\n",
    "    previous = float(input('- Prior period:'))\n",
    "    current = float(input('- Current period:'))\n",
    "\n",
    "    # calculate the change in percentage\n",
    "    change = (current - previous) * 100 / previous\n",
    "\n",
    "    # show the result\n",
    "    if change > 0:\n",
    "        result = f'Sales increase {abs(change)}%'\n",
    "    else:\n",
    "        result = f'Sales decrease {abs(change)}%'\n",
    "\n",
    "    print(result)\n",
    "except ValueError:\n",
    "    print('Error! Please enter a number for net sales.')\n",
    "except ZeroDivisionError:\n",
    "    print('Error! The prior net sales cannot be zero.')\n",
    "except Exception as error:\n",
    "    print(error)"
   ]
  },
  {
   "cell_type": "code",
   "execution_count": null,
   "id": "bf8aac4e",
   "metadata": {},
   "outputs": [],
   "source": [
    "a = input(\"Enter the value: \")\n",
    "for i in range(1,11):\n",
    "    print(f\"multiplication table of {a} = {int(a) * i}\")"
   ]
  },
  {
   "cell_type": "code",
   "execution_count": null,
   "id": "f80f813e",
   "metadata": {},
   "outputs": [],
   "source": [
    "a = input(\"Enter the value: \")\n",
    "try:\n",
    "    for i in range(1,11):\n",
    "        print(f\"multiplication table of {a} = {int(a) * i}\")\n",
    "except Exception as e:\n",
    "    print(e)\n",
    "\n",
    "print(\"execute this line\")\n",
    "print(\"execute this line also\")"
   ]
  },
  {
   "cell_type": "code",
   "execution_count": null,
   "id": "5ae326d5",
   "metadata": {},
   "outputs": [],
   "source": []
  },
  {
   "cell_type": "code",
   "execution_count": null,
   "id": "43533138",
   "metadata": {},
   "outputs": [],
   "source": []
  },
  {
   "cell_type": "code",
   "execution_count": null,
   "id": "23ae4e8a",
   "metadata": {},
   "outputs": [],
   "source": [
    "# what are the libraries are used for data scienc"
   ]
  },
  {
   "cell_type": "code",
   "execution_count": null,
   "id": "d7026515",
   "metadata": {},
   "outputs": [],
   "source": [
    "Data manipulation: pandas, numpy, matplotlib, seaborn.\n",
    "Machine learnining and Deep learning: statsmodels, scikit-learn, tensorflow, keras.\n",
    "NLP: nltk, Spacy\n",
    "Timeseries: statsmodels, scipy"
   ]
  },
  {
   "cell_type": "code",
   "execution_count": 126,
   "id": "f44d9079",
   "metadata": {
    "collapsed": true
   },
   "outputs": [
    {
     "name": "stdout",
     "output_type": "stream",
     "text": [
      "Defaulting to user installation because normal site-packages is not writeable\n",
      "Requirement already satisfied: matplotlib in c:\\programdata\\anaconda3\\new folder\\lib\\site-packages (3.7.2)\n",
      "Requirement already satisfied: seaborn in c:\\programdata\\anaconda3\\new folder\\lib\\site-packages (0.12.2)\n",
      "Requirement already satisfied: contourpy>=1.0.1 in c:\\programdata\\anaconda3\\new folder\\lib\\site-packages (from matplotlib) (1.0.5)\n",
      "Requirement already satisfied: cycler>=0.10 in c:\\programdata\\anaconda3\\new folder\\lib\\site-packages (from matplotlib) (0.11.0)\n",
      "Requirement already satisfied: fonttools>=4.22.0 in c:\\programdata\\anaconda3\\new folder\\lib\\site-packages (from matplotlib) (4.25.0)\n",
      "Requirement already satisfied: kiwisolver>=1.0.1 in c:\\programdata\\anaconda3\\new folder\\lib\\site-packages (from matplotlib) (1.4.4)\n",
      "Requirement already satisfied: numpy>=1.20 in c:\\programdata\\anaconda3\\new folder\\lib\\site-packages (from matplotlib) (1.24.3)\n",
      "Requirement already satisfied: packaging>=20.0 in c:\\programdata\\anaconda3\\new folder\\lib\\site-packages (from matplotlib) (23.1)\n",
      "Requirement already satisfied: pillow>=6.2.0 in c:\\programdata\\anaconda3\\new folder\\lib\\site-packages (from matplotlib) (9.4.0)\n",
      "Requirement already satisfied: pyparsing<3.1,>=2.3.1 in c:\\programdata\\anaconda3\\new folder\\lib\\site-packages (from matplotlib) (3.0.9)\n",
      "Requirement already satisfied: python-dateutil>=2.7 in c:\\programdata\\anaconda3\\new folder\\lib\\site-packages (from matplotlib) (2.8.2)\n",
      "Requirement already satisfied: pandas>=0.25 in c:\\programdata\\anaconda3\\new folder\\lib\\site-packages (from seaborn) (2.0.3)\n",
      "Requirement already satisfied: pytz>=2020.1 in c:\\programdata\\anaconda3\\new folder\\lib\\site-packages (from pandas>=0.25->seaborn) (2023.3.post1)\n",
      "Requirement already satisfied: tzdata>=2022.1 in c:\\users\\excel\\appdata\\roaming\\python\\python311\\site-packages (from pandas>=0.25->seaborn) (2023.3)\n",
      "Requirement already satisfied: six>=1.5 in c:\\programdata\\anaconda3\\new folder\\lib\\site-packages (from python-dateutil>=2.7->matplotlib) (1.16.0)\n"
     ]
    }
   ],
   "source": [
    "!pip install statsmodels scikit-learn tensorflow keras "
   ]
  },
  {
   "cell_type": "code",
   "execution_count": 127,
   "id": "35fc0c27",
   "metadata": {
    "collapsed": true
   },
   "outputs": [
    {
     "name": "stdout",
     "output_type": "stream",
     "text": [
      "Package                       Version\n",
      "----------------------------- ---------------\n",
      "absl-py                       2.0.0\n",
      "aiobotocore                   2.5.0\n",
      "aiofiles                      22.1.0\n",
      "aiohttp                       3.8.5\n",
      "aioitertools                  0.7.1\n",
      "aiosignal                     1.2.0\n",
      "aiosqlite                     0.18.0\n",
      "alabaster                     0.7.12\n",
      "altair                        5.1.2\n",
      "anaconda-anon-usage           0.4.2\n",
      "anaconda-catalogs             0.2.0\n",
      "anaconda-client               1.12.1\n",
      "anaconda-cloud-auth           0.1.3\n",
      "anaconda-navigator            2.5.0\n",
      "anaconda-project              0.11.1\n",
      "anyio                         3.5.0\n",
      "appdirs                       1.4.4\n",
      "argon2-cffi                   21.3.0\n",
      "argon2-cffi-bindings          21.2.0\n",
      "arrow                         1.2.3\n",
      "astroid                       2.14.2\n",
      "astropy                       5.1\n",
      "asttokens                     2.0.5\n",
      "astunparse                    1.6.3\n",
      "async-timeout                 4.0.2\n",
      "atomicwrites                  1.4.0\n",
      "attrs                         22.1.0\n",
      "autocommand                   2.2.2\n",
      "Automat                       20.2.0\n",
      "autopep8                      1.6.0\n",
      "Babel                         2.11.0\n",
      "backcall                      0.2.0\n",
      "backports.csv                 1.0.7\n",
      "backports.functools-lru-cache 1.6.4\n",
      "backports.tempfile            1.0\n",
      "backports.weakref             1.0.post1\n",
      "bcrypt                        3.2.0\n",
      "beautifulsoup4                4.12.2\n",
      "binaryornot                   0.4.4\n",
      "black                         0.0\n",
      "bleach                        4.1.0\n",
      "blinker                       1.6.2\n",
      "blis                          0.7.11\n",
      "bokeh                         3.2.1\n",
      "boltons                       23.0.0\n",
      "botocore                      1.29.76\n",
      "Bottleneck                    1.3.5\n",
      "brotlipy                      0.7.0\n",
      "cachetools                    5.3.1\n",
      "catalogue                     2.0.10\n",
      "catboost                      1.2.2\n",
      "category-encoders             2.6.2\n",
      "certifi                       2023.11.17\n",
      "cffi                          1.15.1\n",
      "chardet                       4.0.0\n",
      "charset-normalizer            2.0.4\n",
      "cheroot                       10.0.0\n",
      "CherryPy                      18.9.0\n",
      "click                         8.0.4\n",
      "cloudpathlib                  0.16.0\n",
      "cloudpickle                   2.2.1\n",
      "clyent                        1.2.2\n",
      "colorama                      0.4.6\n",
      "colorcet                      3.0.1\n",
      "comm                          0.1.2\n",
      "conda                         23.7.4\n",
      "conda-build                   3.26.1\n",
      "conda-content-trust           0.2.0\n",
      "conda_index                   0.3.0\n",
      "conda-libmamba-solver         23.7.0\n",
      "conda-pack                    0.6.0\n",
      "conda-package-handling        2.2.0\n",
      "conda_package_streaming       0.9.0\n",
      "conda-repo-cli                1.0.75\n",
      "conda-token                   0.4.0\n",
      "conda-verify                  3.4.2\n",
      "confection                    0.1.3\n",
      "constantly                    15.1.0\n",
      "contourpy                     1.0.5\n",
      "cookiecutter                  1.7.3\n",
      "cryptography                  41.0.3\n",
      "cssselect                     1.1.0\n",
      "cycler                        0.11.0\n",
      "cymem                         2.0.8\n",
      "cytoolz                       0.12.0\n",
      "daal4py                       2023.1.1\n",
      "dask                          2023.6.0\n",
      "datasets                      2.12.0\n",
      "datashader                    0.15.2\n",
      "datashape                     0.5.4\n",
      "debugpy                       1.6.7\n",
      "decorator                     5.1.1\n",
      "defusedxml                    0.7.1\n",
      "diff-match-patch              20200713\n",
      "dill                          0.3.6\n",
      "distributed                   2023.6.0\n",
      "docstring-to-markdown         0.11\n",
      "docutils                      0.18.1\n",
      "ecos                          2.0.12\n",
      "en-core-web-sm                3.7.1\n",
      "entrypoints                   0.4\n",
      "et-xmlfile                    1.1.0\n",
      "executing                     0.8.3\n",
      "fastjsonschema                2.16.2\n",
      "feedparser                    6.0.11\n",
      "filelock                      3.9.0\n",
      "flake8                        6.0.0\n",
      "Flask                         2.2.2\n",
      "flatbuffers                   23.5.26\n",
      "fonttools                     4.25.0\n",
      "frozenlist                    1.3.3\n",
      "fsspec                        2023.4.0\n",
      "fst-pso                       1.8.1\n",
      "future                        0.18.3\n",
      "FuzzyTM                       2.0.5\n",
      "gast                          0.5.4\n",
      "gensim                        4.3.0\n",
      "gitdb                         4.0.10\n",
      "GitPython                     3.1.37\n",
      "glob2                         0.7\n",
      "google-auth                   2.23.4\n",
      "google-auth-oauthlib          1.0.0\n",
      "google-pasta                  0.2.0\n",
      "graphviz                      0.20.1\n",
      "greenlet                      2.0.1\n",
      "grpcio                        1.59.2\n",
      "h5py                          3.9.0\n",
      "HeapDict                      1.0.1\n",
      "holoviews                     1.17.1\n",
      "htmlmin                       0.1.12\n",
      "huggingface-hub               0.15.1\n",
      "hvplot                        0.8.4\n",
      "hyperlink                     21.0.0\n",
      "idna                          3.4\n",
      "imagecodecs                   2023.1.23\n",
      "ImageHash                     4.3.1\n",
      "imageio                       2.26.0\n",
      "imagesize                     1.4.1\n",
      "imbalanced-learn              0.10.1\n",
      "importlib-metadata            6.0.0\n",
      "incremental                   21.3.0\n",
      "inflect                       7.0.0\n",
      "inflection                    0.5.1\n",
      "iniconfig                     1.1.1\n",
      "intake                        0.6.8\n",
      "intervaltree                  3.1.0\n",
      "ipykernel                     6.25.0\n",
      "ipython                       8.15.0\n",
      "ipython-genutils              0.2.0\n",
      "ipywidgets                    8.0.4\n",
      "isort                         5.9.3\n",
      "itemadapter                   0.3.0\n",
      "itemloaders                   1.0.4\n",
      "itsdangerous                  2.0.1\n",
      "jaraco.classes                3.2.1\n",
      "jaraco.collections            5.0.0\n",
      "jaraco.context                4.3.0\n",
      "jaraco.functools              4.0.0\n",
      "jaraco.text                   3.12.0\n",
      "jedi                          0.18.1\n",
      "jellyfish                     1.0.1\n",
      "Jinja2                        3.1.2\n",
      "jinja2-time                   0.2.0\n",
      "jmespath                      0.10.0\n",
      "joblib                        1.2.0\n",
      "json5                         0.9.6\n",
      "jsonpatch                     1.32\n",
      "jsonpointer                   2.1\n",
      "jsonschema                    4.17.3\n",
      "jupyter                       1.0.0\n",
      "jupyter_client                7.4.9\n",
      "jupyter-console               6.6.3\n",
      "jupyter_core                  5.3.0\n",
      "jupyter-events                0.6.3\n",
      "jupyter-server                1.23.4\n",
      "jupyter_server_fileid         0.9.0\n",
      "jupyter_server_ydoc           0.8.0\n",
      "jupyter-ydoc                  0.2.4\n",
      "jupyterlab                    3.6.3\n",
      "jupyterlab-pygments           0.1.2\n",
      "jupyterlab_server             2.22.0\n",
      "jupyterlab-widgets            3.0.5\n",
      "kaleido                       0.2.1\n",
      "keras                         3.2.1\n",
      "keras-tuner                   1.4.7\n",
      "keyring                       23.13.1\n",
      "kiwisolver                    1.4.4\n",
      "kt-legacy                     1.0.5\n",
      "langcodes                     3.3.0\n",
      "lazy_loader                   0.2\n",
      "lazy-object-proxy             1.6.0\n",
      "libarchive-c                  2.9\n",
      "libclang                      16.0.6\n",
      "libmambapy                    1.5.1\n",
      "lightgbm                      4.1.0\n",
      "linkify-it-py                 2.0.0\n",
      "llvmlite                      0.40.0\n",
      "lmdb                          1.4.1\n",
      "locket                        1.0.0\n",
      "lxml                          4.9.3\n",
      "lz4                           4.3.2\n",
      "Markdown                      3.4.1\n",
      "markdown-it-py                2.2.0\n",
      "MarkupSafe                    2.1.1\n",
      "matplotlib                    3.7.2\n",
      "matplotlib-inline             0.1.6\n",
      "mccabe                        0.7.0\n",
      "mdit-py-plugins               0.3.0\n",
      "mdurl                         0.1.0\n",
      "menuinst                      1.4.19\n",
      "miniful                       0.0.6\n",
      "missingno                     0.5.2\n",
      "mistune                       0.8.4\n",
      "mkl-fft                       1.3.8\n",
      "mkl-random                    1.2.4\n",
      "mkl-service                   2.4.0\n",
      "ml-dtypes                     0.2.0\n",
      "mlxtend                       0.23.1\n",
      "more-itertools                8.12.0\n",
      "mpmath                        1.3.0\n",
      "msgpack                       1.0.3\n",
      "multidict                     6.0.2\n",
      "multimethod                   1.10\n",
      "multipledispatch              0.6.0\n",
      "multiprocess                  0.70.14\n",
      "munkres                       1.1.4\n",
      "murmurhash                    1.0.10\n",
      "mypy-extensions               1.0.0\n",
      "mysqlclient                   2.2.1\n",
      "namex                         0.0.8\n",
      "navigator-updater             0.4.0\n",
      "nbclassic                     0.5.5\n",
      "nbclient                      0.5.13\n",
      "nbconvert                     6.5.4\n",
      "nbformat                      5.9.2\n",
      "nest-asyncio                  1.5.6\n",
      "networkx                      3.1\n",
      "nltk                          3.8.1\n",
      "notebook                      6.4.4\n",
      "notebook_shim                 0.2.2\n",
      "numba                         0.57.1\n",
      "numexpr                       2.8.4\n",
      "numpy                         1.24.3\n",
      "numpydoc                      1.5.0\n",
      "oauthlib                      3.2.2\n",
      "openpyxl                      3.0.10\n",
      "opt-einsum                    3.3.0\n",
      "optree                        0.11.0\n",
      "osqp                          0.6.3\n",
      "packaging                     23.1\n",
      "pandas                        2.0.3\n",
      "pandas-profiling              3.2.0\n",
      "pandocfilters                 1.5.0\n",
      "panel                         1.2.3\n",
      "param                         1.13.0\n",
      "paramiko                      2.8.1\n",
      "parsel                        1.6.0\n",
      "parso                         0.8.3\n",
      "partd                         1.4.0\n",
      "pathlib                       1.0.1\n",
      "pathspec                      0.10.3\n",
      "patsy                         0.5.3\n",
      "Pattern                       3.6\n",
      "pdfminer.six                  20231228\n",
      "pep8                          1.7.1\n",
      "pexpect                       4.8.0\n",
      "phik                          0.12.3\n",
      "pickleshare                   0.7.5\n",
      "Pillow                        9.4.0\n",
      "pip                           23.2.1\n",
      "pkce                          1.0.3\n",
      "pkginfo                       1.9.6\n",
      "platformdirs                  3.10.0\n",
      "plotly                        5.9.0\n",
      "pluggy                        1.0.0\n",
      "ply                           3.11\n",
      "portend                       3.2.0\n",
      "poyo                          0.5.0\n",
      "preshed                       3.0.9\n",
      "prometheus-client             0.14.1\n",
      "prompt-toolkit                3.0.36\n",
      "Protego                       0.1.16\n",
      "protobuf                      4.24.4\n",
      "psutil                        5.9.0\n",
      "ptyprocess                    0.7.0\n",
      "pure-eval                     0.2.2\n",
      "py-cpuinfo                    8.0.0\n",
      "pyarrow                       11.0.0\n",
      "pyasn1                        0.4.8\n",
      "pyasn1-modules                0.2.8\n",
      "pycodestyle                   2.10.0\n",
      "pycosat                       0.6.4\n",
      "pycparser                     2.21\n",
      "pyct                          0.5.0\n",
      "pycurl                        7.45.2\n",
      "pydantic                      1.10.8\n",
      "pydeck                        0.8.1b0\n",
      "PyDispatcher                  2.0.5\n",
      "pydocstyle                    6.3.0\n",
      "pydotplus                     2.0.2\n",
      "pyerfa                        2.0.0\n",
      "pyflakes                      3.0.1\n",
      "pyFUME                        0.2.25\n",
      "Pygments                      2.15.1\n",
      "PyJWT                         2.4.0\n",
      "pylint                        2.16.2\n",
      "pylint-venv                   2.3.0\n",
      "pyls-spyder                   0.4.0\n",
      "PyNaCl                        1.5.0\n",
      "pyodbc                        4.0.34\n",
      "pyOpenSSL                     23.2.0\n",
      "pyparsing                     3.0.9\n",
      "PyQt5                         5.15.7\n",
      "PyQt5-sip                     12.11.0\n",
      "PyQtWebEngine                 5.15.4\n",
      "pyrsistent                    0.18.0\n",
      "PySocks                       1.7.1\n",
      "pytest                        7.4.0\n",
      "python-dateutil               2.8.2\n",
      "python-docx                   1.1.0\n",
      "python-dotenv                 0.21.0\n",
      "python-json-logger            2.0.7\n",
      "python-lsp-black              1.2.1\n",
      "python-lsp-jsonrpc            1.0.0\n",
      "python-lsp-server             1.7.2\n",
      "python-slugify                5.0.2\n",
      "python-snappy                 0.6.1\n",
      "pytoolconfig                  1.2.5\n",
      "pytz                          2023.3.post1\n",
      "pyviz-comms                   2.3.0\n",
      "PyWavelets                    1.4.1\n",
      "pywin32                       305.1\n",
      "pywin32-ctypes                0.2.0\n",
      "pywinpty                      2.0.10\n",
      "PyYAML                        6.0\n",
      "pyzmq                         23.2.0\n",
      "QDarkStyle                    3.0.2\n",
      "qdldl                         0.1.7.post0\n",
      "qstylizer                     0.2.2\n",
      "QtAwesome                     1.2.2\n",
      "qtconsole                     5.4.2\n",
      "QtPy                          2.2.0\n",
      "queuelib                      1.5.0\n",
      "regex                         2022.7.9\n",
      "requests                      2.31.0\n",
      "requests-file                 1.5.1\n",
      "requests-oauthlib             1.3.1\n",
      "requests-toolbelt             1.0.0\n",
      "responses                     0.13.3\n",
      "rfc3339-validator             0.1.4\n",
      "rfc3986-validator             0.1.1\n",
      "rich                          13.6.0\n",
      "rope                          1.7.0\n",
      "rsa                           4.9\n",
      "Rtree                         1.0.1\n",
      "ruamel.yaml                   0.17.21\n",
      "ruamel-yaml-conda             0.17.21\n",
      "s3fs                          2023.4.0\n",
      "safetensors                   0.3.2\n",
      "scikeras                      0.13.0\n",
      "scikit-image                  0.20.0\n",
      "scikit-learn                  1.4.2\n",
      "scikit-learn-intelex          20230426.121932\n",
      "scikit-survival               0.22.2\n",
      "scipy                         1.11.1\n",
      "Scrapy                        2.8.0\n",
      "seaborn                       0.12.2\n",
      "Send2Trash                    1.8.0\n",
      "service-identity              18.1.0\n",
      "setuptools                    68.0.0\n",
      "sgmllib3k                     1.0.0\n",
      "simpful                       2.11.0\n",
      "sip                           6.6.2\n",
      "six                           1.16.0\n",
      "sklearn                       0.0.post9\n",
      "smart-open                    5.2.1\n",
      "smmap                         5.0.1\n",
      "sniffio                       1.2.0\n",
      "snowballstemmer               2.2.0\n",
      "sortedcontainers              2.4.0\n",
      "soupsieve                     2.4\n",
      "spacy                         3.7.2\n",
      "spacy-legacy                  3.0.12\n",
      "spacy-loggers                 1.0.5\n",
      "Sphinx                        5.0.2\n",
      "sphinxcontrib-applehelp       1.0.2\n",
      "sphinxcontrib-devhelp         1.0.2\n",
      "sphinxcontrib-htmlhelp        2.0.0\n",
      "sphinxcontrib-jsmath          1.0.1\n",
      "sphinxcontrib-qthelp          1.0.3\n",
      "sphinxcontrib-serializinghtml 1.1.5\n",
      "spyder                        5.4.3\n",
      "spyder-kernels                2.4.4\n",
      "SQLAlchemy                    1.4.39\n",
      "srsly                         2.4.8\n",
      "stack-data                    0.2.0\n",
      "statsmodels                   0.14.0\n",
      "sympy                         1.11.1\n",
      "tables                        3.8.0\n",
      "tabulate                      0.8.10\n",
      "tangled-up-in-unicode         0.2.0\n",
      "TBB                           0.2\n",
      "tblib                         1.7.0\n",
      "tempora                       5.5.0\n",
      "tenacity                      8.2.2\n",
      "tensorboard                   2.14.1\n",
      "tensorboard-data-server       0.7.2\n",
      "tensorflow                    2.14.0\n",
      "tensorflow-estimator          2.14.0\n",
      "tensorflow-intel              2.14.0\n",
      "tensorflow-io-gcs-filesystem  0.31.0\n",
      "termcolor                     2.3.0\n",
      "terminado                     0.17.1\n",
      "text-unidecode                1.3\n",
      "textblob                      0.17.1\n",
      "textdistance                  4.2.1\n",
      "thinc                         8.2.1\n",
      "threadpoolctl                 2.2.0\n",
      "three-merge                   0.1.1\n",
      "tifffile                      2023.4.12\n",
      "tinycss2                      1.2.1\n",
      "tldextract                    3.2.0\n",
      "tokenizers                    0.13.2\n",
      "toml                          0.10.2\n",
      "tomlkit                       0.11.1\n",
      "toolz                         0.12.0\n",
      "tornado                       6.3.2\n",
      "tqdm                          4.65.0\n",
      "traitlets                     5.7.1\n",
      "transformers                  4.32.1\n",
      "Twisted                       22.10.0\n",
      "twisted-iocpsupport           1.0.2\n",
      "typer                         0.9.0\n",
      "typing_extensions             4.7.1\n",
      "tzdata                        2023.3\n",
      "tzlocal                       5.1\n",
      "uc-micro-py                   1.0.1\n",
      "ucimlrepo                     0.0.2\n",
      "ujson                         5.4.0\n",
      "Unidecode                     1.2.0\n",
      "urllib3                       1.26.16\n",
      "vaderSentiment                3.3.2\n",
      "validators                    0.22.0\n",
      "w3lib                         1.21.0\n",
      "wasabi                        1.1.2\n",
      "watchdog                      2.1.6\n",
      "wcwidth                       0.2.5\n",
      "weasel                        0.3.4\n",
      "webencodings                  0.5.1\n",
      "websocket-client              0.58.0\n",
      "Werkzeug                      2.2.3\n",
      "whatthepatch                  1.0.2\n",
      "wheel                         0.38.4\n",
      "widgetsnbextension            4.0.5\n",
      "win-inet-pton                 1.1.0\n",
      "wordcloud                     1.9.2\n",
      "wrapt                         1.14.1\n",
      "xarray                        2023.6.0\n",
      "xgboost                       2.0.0\n",
      "xlrd                          2.0.1\n",
      "xlwings                       0.29.1\n",
      "xxhash                        2.0.2\n",
      "xyzservices                   2022.9.0\n",
      "y-py                          0.5.9\n",
      "yapf                          0.31.0\n",
      "yarl                          1.8.1\n",
      "ypy-websocket                 0.8.2\n",
      "zc.lockfile                   3.0.post1\n",
      "zict                          2.2.0\n",
      "zipp                          3.11.0\n",
      "zope.interface                5.4.0\n",
      "zstandard                     0.19.0\n"
     ]
    }
   ],
   "source": [
    "!pip list"
   ]
  },
  {
   "cell_type": "code",
   "execution_count": 128,
   "id": "fe30b69c",
   "metadata": {},
   "outputs": [],
   "source": [
    "import pandas\n",
    "import numpy \n",
    "import matplotlib\n",
    "import seaborn\n",
    "import scipy"
   ]
  },
  {
   "cell_type": "code",
   "execution_count": null,
   "id": "ecf80e69",
   "metadata": {},
   "outputs": [],
   "source": []
  }
 ],
 "metadata": {
  "kernelspec": {
   "display_name": "Python 3 (ipykernel)",
   "language": "python",
   "name": "python3"
  },
  "language_info": {
   "codemirror_mode": {
    "name": "ipython",
    "version": 3
   },
   "file_extension": ".py",
   "mimetype": "text/x-python",
   "name": "python",
   "nbconvert_exporter": "python",
   "pygments_lexer": "ipython3",
   "version": "3.11.5"
  }
 },
 "nbformat": 4,
 "nbformat_minor": 5
}
