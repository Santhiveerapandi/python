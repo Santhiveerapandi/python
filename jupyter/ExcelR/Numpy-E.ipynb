{
 "cells": [
  {
   "cell_type": "code",
   "execution_count": 1,
   "id": "ce98647c",
   "metadata": {},
   "outputs": [],
   "source": [
    "import numpy as np"
   ]
  },
  {
   "cell_type": "code",
   "execution_count": 2,
   "id": "1387bc27",
   "metadata": {},
   "outputs": [],
   "source": [
    "ls = [10,20,30,40]"
   ]
  },
  {
   "cell_type": "code",
   "execution_count": 3,
   "id": "43c0fadf",
   "metadata": {},
   "outputs": [
    {
     "data": {
      "text/plain": [
       "array([12, 22, 32, 42])"
      ]
     },
     "execution_count": 3,
     "metadata": {},
     "output_type": "execute_result"
    }
   ],
   "source": [
    "np.array(ls) + 2"
   ]
  },
  {
   "cell_type": "code",
   "execution_count": 4,
   "id": "749373f5",
   "metadata": {},
   "outputs": [
    {
     "data": {
      "text/plain": [
       "array([ 2,  5,  8, 11, 14, 17])"
      ]
     },
     "execution_count": 4,
     "metadata": {},
     "output_type": "execute_result"
    }
   ],
   "source": [
    "np.arange(2,18,3)"
   ]
  },
  {
   "cell_type": "code",
   "execution_count": 10,
   "id": "5f9ac4b0",
   "metadata": {},
   "outputs": [
    {
     "data": {
      "text/plain": [
       "array([ 2.,  6., 10., 14., 18.])"
      ]
     },
     "execution_count": 10,
     "metadata": {},
     "output_type": "execute_result"
    }
   ],
   "source": [
    "np.linspace(2,18,5)"
   ]
  },
  {
   "cell_type": "code",
   "execution_count": 14,
   "id": "9d513167",
   "metadata": {},
   "outputs": [],
   "source": [
    "ar = np.zeros((3,4,5))"
   ]
  },
  {
   "cell_type": "code",
   "execution_count": 18,
   "id": "f82de1b9",
   "metadata": {},
   "outputs": [
    {
     "data": {
      "text/plain": [
       "60"
      ]
     },
     "execution_count": 18,
     "metadata": {},
     "output_type": "execute_result"
    }
   ],
   "source": [
    "ar.size"
   ]
  },
  {
   "cell_type": "code",
   "execution_count": 24,
   "id": "224bbed2",
   "metadata": {},
   "outputs": [
    {
     "data": {
      "text/plain": [
       "array([[[[0., 0., 0.],\n",
       "         [0., 0., 0.]],\n",
       "\n",
       "        [[0., 0., 0.],\n",
       "         [0., 0., 0.]]],\n",
       "\n",
       "\n",
       "       [[[0., 0., 0.],\n",
       "         [0., 0., 0.]],\n",
       "\n",
       "        [[0., 0., 0.],\n",
       "         [0., 0., 0.]]],\n",
       "\n",
       "\n",
       "       [[[0., 0., 0.],\n",
       "         [0., 0., 0.]],\n",
       "\n",
       "        [[0., 0., 0.],\n",
       "         [0., 0., 0.]]],\n",
       "\n",
       "\n",
       "       [[[0., 0., 0.],\n",
       "         [0., 0., 0.]],\n",
       "\n",
       "        [[0., 0., 0.],\n",
       "         [0., 0., 0.]]],\n",
       "\n",
       "\n",
       "       [[[0., 0., 0.],\n",
       "         [0., 0., 0.]],\n",
       "\n",
       "        [[0., 0., 0.],\n",
       "         [0., 0., 0.]]]])"
      ]
     },
     "execution_count": 24,
     "metadata": {},
     "output_type": "execute_result"
    }
   ],
   "source": [
    "ar.reshape(5,2,2,3)"
   ]
  },
  {
   "cell_type": "code",
   "execution_count": 69,
   "id": "064d904f",
   "metadata": {},
   "outputs": [],
   "source": [
    "ar = np.random.randint(2,8,(3,4,5))"
   ]
  },
  {
   "cell_type": "code",
   "execution_count": 74,
   "id": "18eb6901",
   "metadata": {},
   "outputs": [
    {
     "data": {
      "text/plain": [
       "array([[[6, 2, 3, 3, 3],\n",
       "        [5, 6, 4, 2, 2],\n",
       "        [5, 6, 6, 4, 6],\n",
       "        [3, 7, 5, 7, 3]],\n",
       "\n",
       "       [[2, 6, 4, 3, 2],\n",
       "        [4, 5, 2, 5, 2],\n",
       "        [4, 6, 5, 2, 7],\n",
       "        [6, 2, 5, 7, 6]],\n",
       "\n",
       "       [[2, 5, 3, 4, 3],\n",
       "        [5, 3, 7, 5, 4],\n",
       "        [6, 7, 5, 5, 3],\n",
       "        [2, 3, 2, 3, 6]]])"
      ]
     },
     "execution_count": 74,
     "metadata": {},
     "output_type": "execute_result"
    }
   ],
   "source": [
    "ar"
   ]
  },
  {
   "cell_type": "code",
   "execution_count": 76,
   "id": "c3b300c8",
   "metadata": {},
   "outputs": [
    {
     "data": {
      "text/plain": [
       "256"
      ]
     },
     "execution_count": 76,
     "metadata": {},
     "output_type": "execute_result"
    }
   ],
   "source": [
    "np.sum(ar)"
   ]
  },
  {
   "cell_type": "code",
   "execution_count": 77,
   "id": "0fcb5f15",
   "metadata": {},
   "outputs": [
    {
     "data": {
      "text/plain": [
       "array([[17, 19, 27, 25],\n",
       "       [17, 18, 24, 26],\n",
       "       [17, 24, 26, 16]])"
      ]
     },
     "execution_count": 77,
     "metadata": {},
     "output_type": "execute_result"
    }
   ],
   "source": [
    "np.sum(ar, axis=2)"
   ]
  },
  {
   "cell_type": "code",
   "execution_count": 18,
   "id": "c4dfa297",
   "metadata": {},
   "outputs": [],
   "source": [
    "ar = np.random.randint(11,99,(4,3))"
   ]
  },
  {
   "cell_type": "code",
   "execution_count": 19,
   "id": "237d6dcb",
   "metadata": {},
   "outputs": [
    {
     "data": {
      "text/plain": [
       "array([[58, 53, 12],\n",
       "       [27, 27, 26],\n",
       "       [54, 65, 59],\n",
       "       [42, 64, 58]])"
      ]
     },
     "execution_count": 19,
     "metadata": {},
     "output_type": "execute_result"
    }
   ],
   "source": [
    "ar"
   ]
  },
  {
   "cell_type": "code",
   "execution_count": 23,
   "id": "ccc2764c",
   "metadata": {},
   "outputs": [
    {
     "data": {
      "text/plain": [
       "array([27, 65, 64])"
      ]
     },
     "execution_count": 23,
     "metadata": {},
     "output_type": "execute_result"
    }
   ],
   "source": [
    "ar[1:4,1]"
   ]
  },
  {
   "cell_type": "code",
   "execution_count": 24,
   "id": "ee64337d",
   "metadata": {},
   "outputs": [
    {
     "data": {
      "text/plain": [
       "array([54, 65, 59])"
      ]
     },
     "execution_count": 24,
     "metadata": {},
     "output_type": "execute_result"
    }
   ],
   "source": [
    "ar[1:4][1]"
   ]
  },
  {
   "cell_type": "code",
   "execution_count": 26,
   "id": "4c8c11cb",
   "metadata": {},
   "outputs": [
    {
     "data": {
      "text/plain": [
       "array([58, 53, 54, 65, 59, 64, 58])"
      ]
     },
     "execution_count": 26,
     "metadata": {},
     "output_type": "execute_result"
    }
   ],
   "source": [
    "ar[ar>50]"
   ]
  },
  {
   "cell_type": "code",
   "execution_count": 27,
   "id": "7408eb32",
   "metadata": {},
   "outputs": [
    {
     "data": {
      "text/plain": [
       "(array([0, 0, 2, 2, 2, 3, 3], dtype=int64),\n",
       " array([0, 1, 0, 1, 2, 1, 2], dtype=int64))"
      ]
     },
     "execution_count": 27,
     "metadata": {},
     "output_type": "execute_result"
    }
   ],
   "source": [
    "np.where(ar>50)"
   ]
  },
  {
   "cell_type": "code",
   "execution_count": 28,
   "id": "2bd2d3ee",
   "metadata": {},
   "outputs": [
    {
     "data": {
      "text/plain": [
       "array([[58, 53, 12],\n",
       "       [27, 27, 26],\n",
       "       [54, 65, 59],\n",
       "       [42, 64, 58]])"
      ]
     },
     "execution_count": 28,
     "metadata": {},
     "output_type": "execute_result"
    }
   ],
   "source": [
    "ar"
   ]
  },
  {
   "cell_type": "code",
   "execution_count": 37,
   "id": "4583ee55",
   "metadata": {},
   "outputs": [
    {
     "data": {
      "text/plain": [
       "array([58, 53, 12, 27, 27, 26, 54, 65, 59, 42, 64, 58])"
      ]
     },
     "execution_count": 37,
     "metadata": {},
     "output_type": "execute_result"
    }
   ],
   "source": [
    "ar.flatten()"
   ]
  },
  {
   "cell_type": "code",
   "execution_count": 63,
   "id": "320532d8",
   "metadata": {},
   "outputs": [
    {
     "data": {
      "text/plain": [
       "array([[58., 53., 12.],\n",
       "       [27., 27., 26.],\n",
       "       [54., 65., 59.],\n",
       "       [42., 64., 58.],\n",
       "       [ 1.,  1.,  1.]])"
      ]
     },
     "execution_count": 63,
     "metadata": {},
     "output_type": "execute_result"
    }
   ],
   "source": [
    "np.append(ar, np.ones((1,3)), axis=0)"
   ]
  },
  {
   "cell_type": "code",
   "execution_count": 57,
   "id": "2535fcff",
   "metadata": {},
   "outputs": [
    {
     "data": {
      "text/plain": [
       "array([[0., 0., 0., 0.]])"
      ]
     },
     "execution_count": 57,
     "metadata": {},
     "output_type": "execute_result"
    }
   ],
   "source": [
    "np.zeros((1,4))"
   ]
  },
  {
   "cell_type": "code",
   "execution_count": 65,
   "id": "bcb6b581",
   "metadata": {},
   "outputs": [
    {
     "data": {
      "text/plain": [
       "(4, 3)"
      ]
     },
     "execution_count": 65,
     "metadata": {},
     "output_type": "execute_result"
    }
   ],
   "source": [
    "ar.shape"
   ]
  },
  {
   "cell_type": "code",
   "execution_count": 74,
   "id": "e0d37550",
   "metadata": {},
   "outputs": [
    {
     "data": {
      "text/plain": [
       "array([[58, 53, 12],\n",
       "       [27, 27, 26],\n",
       "       [54, 65, 59],\n",
       "       [42, 64, 58]])"
      ]
     },
     "execution_count": 74,
     "metadata": {},
     "output_type": "execute_result"
    }
   ],
   "source": [
    "ar"
   ]
  },
  {
   "cell_type": "code",
   "execution_count": 81,
   "id": "8c70f922",
   "metadata": {},
   "outputs": [
    {
     "data": {
      "text/plain": [
       "array([[58., 53., 12.],\n",
       "       [27., 27., 26.],\n",
       "       [54., 65., 59.],\n",
       "       [42., 64., 58.]])"
      ]
     },
     "execution_count": 81,
     "metadata": {},
     "output_type": "execute_result"
    }
   ],
   "source": [
    "ar + np.zeros((4,3))"
   ]
  },
  {
   "cell_type": "code",
   "execution_count": 82,
   "id": "7c019765",
   "metadata": {},
   "outputs": [
    {
     "data": {
      "text/plain": [
       "array([[58, 53, 12],\n",
       "       [27, 27, 26],\n",
       "       [54, 65, 59],\n",
       "       [42, 64, 58]])"
      ]
     },
     "execution_count": 82,
     "metadata": {},
     "output_type": "execute_result"
    }
   ],
   "source": [
    "ar"
   ]
  },
  {
   "cell_type": "code",
   "execution_count": 90,
   "id": "fb8ba336",
   "metadata": {},
   "outputs": [
    {
     "data": {
      "text/plain": [
       "array([[58., 53., 12.,  0.,  0.],\n",
       "       [27., 27., 26.,  0.,  0.],\n",
       "       [54., 65., 59.,  0.,  0.],\n",
       "       [42., 64., 58.,  0.,  0.]])"
      ]
     },
     "execution_count": 90,
     "metadata": {},
     "output_type": "execute_result"
    }
   ],
   "source": [
    "np.hstack([ar, np.zeros((4,2))])"
   ]
  },
  {
   "cell_type": "code",
   "execution_count": 112,
   "id": "92a65dd4",
   "metadata": {},
   "outputs": [
    {
     "data": {
      "text/plain": [
       "array([[58., 53., 12.],\n",
       "       [27., 27., 26.],\n",
       "       [54., 65., 59.],\n",
       "       [42., 64., 58.],\n",
       "       [ 0.,  0.,  0.],\n",
       "       [ 0.,  0.,  0.],\n",
       "       [ 0.,  0.,  0.],\n",
       "       [ 0.,  0.,  0.],\n",
       "       [ 1.,  1.,  1.],\n",
       "       [ 3.,  3.,  3.]])"
      ]
     },
     "execution_count": 112,
     "metadata": {},
     "output_type": "execute_result"
    }
   ],
   "source": [
    "ar"
   ]
  },
  {
   "cell_type": "code",
   "execution_count": 126,
   "id": "c35f06b9",
   "metadata": {},
   "outputs": [],
   "source": [
    "ar = np.delete(ar,4, axis=0)"
   ]
  },
  {
   "cell_type": "code",
   "execution_count": 127,
   "id": "937720e2",
   "metadata": {},
   "outputs": [
    {
     "data": {
      "text/plain": [
       "array([[58., 53., 12.],\n",
       "       [27., 27., 26.],\n",
       "       [54., 65., 59.],\n",
       "       [42., 64., 58.]])"
      ]
     },
     "execution_count": 127,
     "metadata": {},
     "output_type": "execute_result"
    }
   ],
   "source": [
    "ar"
   ]
  },
  {
   "cell_type": "code",
   "execution_count": 128,
   "id": "5771cba1",
   "metadata": {},
   "outputs": [
    {
     "name": "stdout",
     "output_type": "stream",
     "text": [
      "[[58. 53. 12.]\n",
      " [27. 27. 26.]\n",
      " [54. 65. 59.]\n",
      " [42. 64. 58.]\n",
      " [ 0.  0.  0.]]\n",
      "[[58. 53. 12.]\n",
      " [27. 27. 26.]\n",
      " [54. 65. 59.]\n",
      " [42. 64. 58.]\n",
      " [ 0.  0.  0.]\n",
      " [ 1.  1.  1.]]\n",
      "[[58. 53. 12.]\n",
      " [27. 27. 26.]\n",
      " [54. 65. 59.]\n",
      " [42. 64. 58.]\n",
      " [ 0.  0.  0.]\n",
      " [ 1.  1.  1.]\n",
      " [ 2.  2.  2.]]\n"
     ]
    }
   ],
   "source": [
    "zr = np.zeros((1,3))\n",
    "for k in range(3):\n",
    "    ar = np.vstack([ar, zr+k])\n",
    "    print(ar)"
   ]
  },
  {
   "cell_type": "code",
   "execution_count": 129,
   "id": "fb61d819",
   "metadata": {},
   "outputs": [
    {
     "data": {
      "text/plain": [
       "array([[58., 53., 12.],\n",
       "       [27., 27., 26.],\n",
       "       [54., 65., 59.],\n",
       "       [42., 64., 58.],\n",
       "       [ 0.,  0.,  0.],\n",
       "       [ 1.,  1.,  1.],\n",
       "       [ 2.,  2.,  2.]])"
      ]
     },
     "execution_count": 129,
     "metadata": {},
     "output_type": "execute_result"
    }
   ],
   "source": [
    "ar"
   ]
  },
  {
   "cell_type": "code",
   "execution_count": 131,
   "id": "00b8055f",
   "metadata": {},
   "outputs": [
    {
     "data": {
      "text/plain": [
       "array([[58., 27., 54., 42.,  0.,  1.,  2.],\n",
       "       [53., 27., 65., 64.,  0.,  1.,  2.],\n",
       "       [12., 26., 59., 58.,  0.,  1.,  2.]])"
      ]
     },
     "execution_count": 131,
     "metadata": {},
     "output_type": "execute_result"
    }
   ],
   "source": [
    "ar.T"
   ]
  },
  {
   "cell_type": "code",
   "execution_count": 132,
   "id": "aa6da165",
   "metadata": {},
   "outputs": [],
   "source": [
    "ar1 = np.random.randint(1,10,(3,4))"
   ]
  },
  {
   "cell_type": "code",
   "execution_count": 133,
   "id": "9ecfa6c0",
   "metadata": {},
   "outputs": [],
   "source": [
    "ar2 = np.random.randint(1,10,(4,2))"
   ]
  },
  {
   "cell_type": "code",
   "execution_count": 140,
   "id": "dc107652",
   "metadata": {},
   "outputs": [
    {
     "data": {
      "text/plain": [
       "array([[6, 3, 2, 1],\n",
       "       [7, 4, 7, 4],\n",
       "       [4, 7, 2, 7]])"
      ]
     },
     "execution_count": 140,
     "metadata": {},
     "output_type": "execute_result"
    }
   ],
   "source": [
    "ar1"
   ]
  },
  {
   "cell_type": "code",
   "execution_count": 143,
   "id": "c2fb4cd2",
   "metadata": {},
   "outputs": [
    {
     "data": {
      "text/plain": [
       "array([[8, 3],\n",
       "       [5, 3],\n",
       "       [7, 9],\n",
       "       [3, 4]])"
      ]
     },
     "execution_count": 143,
     "metadata": {},
     "output_type": "execute_result"
    }
   ],
   "source": [
    "ar2"
   ]
  },
  {
   "cell_type": "code",
   "execution_count": 139,
   "id": "3f830f9e",
   "metadata": {},
   "outputs": [
    {
     "data": {
      "text/plain": [
       "array([[ 80,  49],\n",
       "       [137, 112],\n",
       "       [102,  79]])"
      ]
     },
     "execution_count": 139,
     "metadata": {},
     "output_type": "execute_result"
    }
   ],
   "source": [
    "np.dot(ar1,ar2)"
   ]
  }
 ],
 "metadata": {
  "kernelspec": {
   "display_name": "Python 3 (ipykernel)",
   "language": "python",
   "name": "python3"
  },
  "language_info": {
   "codemirror_mode": {
    "name": "ipython",
    "version": 3
   },
   "file_extension": ".py",
   "mimetype": "text/x-python",
   "name": "python",
   "nbconvert_exporter": "python",
   "pygments_lexer": "ipython3",
   "version": "3.11.5"
  }
 },
 "nbformat": 4,
 "nbformat_minor": 5
}
