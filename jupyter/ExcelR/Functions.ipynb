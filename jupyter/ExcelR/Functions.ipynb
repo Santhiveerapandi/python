{
 "cells": [
  {
   "cell_type": "code",
   "execution_count": 8,
   "id": "6ddc116e",
   "metadata": {},
   "outputs": [],
   "source": [
    "def birds():\n",
    "    c = 10\n",
    "    x = c+1\n",
    "    y = c+4\n",
    "    r = x+y\n",
    "    print('abc')\n",
    "    return(r)\n",
    "    return(r+10)"
   ]
  },
  {
   "cell_type": "code",
   "execution_count": 9,
   "id": "a7a4ec84",
   "metadata": {},
   "outputs": [
    {
     "name": "stdout",
     "output_type": "stream",
     "text": [
      "abc\n"
     ]
    },
    {
     "data": {
      "text/plain": [
       "25"
      ]
     },
     "execution_count": 9,
     "metadata": {},
     "output_type": "execute_result"
    }
   ],
   "source": [
    "birds()"
   ]
  },
  {
   "cell_type": "code",
   "execution_count": 10,
   "id": "99547ca3",
   "metadata": {},
   "outputs": [
    {
     "name": "stdout",
     "output_type": "stream",
     "text": [
      "abc\n"
     ]
    }
   ],
   "source": [
    "k = birds()"
   ]
  },
  {
   "cell_type": "code",
   "execution_count": 11,
   "id": "4cd76d77",
   "metadata": {},
   "outputs": [
    {
     "data": {
      "text/plain": [
       "25"
      ]
     },
     "execution_count": 11,
     "metadata": {},
     "output_type": "execute_result"
    }
   ],
   "source": [
    "k"
   ]
  },
  {
   "cell_type": "code",
   "execution_count": 13,
   "id": "d1ed4381",
   "metadata": {},
   "outputs": [
    {
     "data": {
      "text/plain": [
       "125"
      ]
     },
     "execution_count": 13,
     "metadata": {},
     "output_type": "execute_result"
    }
   ],
   "source": [
    "k + 100"
   ]
  },
  {
   "cell_type": "code",
   "execution_count": 20,
   "id": "03340468",
   "metadata": {},
   "outputs": [],
   "source": [
    "def swans(x):\n",
    "    return(x)"
   ]
  },
  {
   "cell_type": "code",
   "execution_count": 21,
   "id": "c55fad2f",
   "metadata": {},
   "outputs": [
    {
     "data": {
      "text/plain": [
       "'python'"
      ]
     },
     "execution_count": 21,
     "metadata": {},
     "output_type": "execute_result"
    }
   ],
   "source": [
    "swans('python')"
   ]
  },
  {
   "cell_type": "code",
   "execution_count": 24,
   "id": "97da3be7",
   "metadata": {},
   "outputs": [],
   "source": [
    "s = swans('python')"
   ]
  },
  {
   "cell_type": "code",
   "execution_count": 22,
   "id": "ed9fde27",
   "metadata": {},
   "outputs": [
    {
     "data": {
      "text/plain": [
       "'python eats reptiles'"
      ]
     },
     "execution_count": 22,
     "metadata": {},
     "output_type": "execute_result"
    }
   ],
   "source": [
    "swans('python') + ' eats reptiles'"
   ]
  },
  {
   "cell_type": "code",
   "execution_count": 25,
   "id": "1a4b084b",
   "metadata": {},
   "outputs": [
    {
     "data": {
      "text/plain": [
       "'python eats reptiles'"
      ]
     },
     "execution_count": 25,
     "metadata": {},
     "output_type": "execute_result"
    }
   ],
   "source": [
    "s + ' eats reptiles'"
   ]
  },
  {
   "cell_type": "code",
   "execution_count": 28,
   "id": "b30b4678",
   "metadata": {},
   "outputs": [
    {
     "name": "stdout",
     "output_type": "stream",
     "text": [
      "python\n"
     ]
    },
    {
     "ename": "TypeError",
     "evalue": "unsupported operand type(s) for +: 'NoneType' and 'str'",
     "output_type": "error",
     "traceback": [
      "\u001b[1;31m---------------------------------------------------------------------------\u001b[0m",
      "\u001b[1;31mTypeError\u001b[0m                                 Traceback (most recent call last)",
      "\u001b[1;32m~\\AppData\\Local\\Temp\\ipykernel_9552\\2158761179.py\u001b[0m in \u001b[0;36m<module>\u001b[1;34m\u001b[0m\n\u001b[1;32m----> 1\u001b[1;33m \u001b[0mprint\u001b[0m\u001b[1;33m(\u001b[0m\u001b[1;34m'python'\u001b[0m\u001b[1;33m)\u001b[0m \u001b[1;33m+\u001b[0m \u001b[1;34m'eats reptiles'\u001b[0m\u001b[1;33m\u001b[0m\u001b[1;33m\u001b[0m\u001b[0m\n\u001b[0m",
      "\u001b[1;31mTypeError\u001b[0m: unsupported operand type(s) for +: 'NoneType' and 'str'"
     ]
    }
   ],
   "source": [
    "print('python') + 'eats reptiles'"
   ]
  },
  {
   "cell_type": "code",
   "execution_count": null,
   "id": "56d2700f",
   "metadata": {},
   "outputs": [],
   "source": []
  },
  {
   "cell_type": "code",
   "execution_count": null,
   "id": "eaecbf08",
   "metadata": {},
   "outputs": [],
   "source": []
  },
  {
   "cell_type": "code",
   "execution_count": 41,
   "id": "48c7cc6e",
   "metadata": {},
   "outputs": [],
   "source": [
    "def comp(x):\n",
    "    if x < 16:\n",
    "        return('Small')\n",
    "    elif x>=16 and x<=30:\n",
    "        return('Middle')\n",
    "    else:\n",
    "        return('Large')"
   ]
  },
  {
   "cell_type": "code",
   "execution_count": null,
   "id": "8e392e51",
   "metadata": {},
   "outputs": [],
   "source": []
  },
  {
   "cell_type": "code",
   "execution_count": null,
   "id": "c2c35369",
   "metadata": {},
   "outputs": [],
   "source": []
  }
 ],
 "metadata": {
  "kernelspec": {
   "display_name": "Python 3 (ipykernel)",
   "language": "python",
   "name": "python3"
  },
  "language_info": {
   "codemirror_mode": {
    "name": "ipython",
    "version": 3
   },
   "file_extension": ".py",
   "mimetype": "text/x-python",
   "name": "python",
   "nbconvert_exporter": "python",
   "pygments_lexer": "ipython3",
   "version": "3.9.13"
  }
 },
 "nbformat": 4,
 "nbformat_minor": 5
}
