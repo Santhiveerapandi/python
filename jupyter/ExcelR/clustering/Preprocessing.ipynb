{
 "cells": [
  {
   "cell_type": "code",
   "execution_count": 56,
   "id": "9beacfbb",
   "metadata": {},
   "outputs": [],
   "source": [
    "import numpy as np\n",
    "import pandas as pd\n",
    "import seaborn as snb\n",
    "import matplotlib.pyplot as plt"
   ]
  },
  {
   "cell_type": "code",
   "execution_count": 2,
   "id": "abad686b",
   "metadata": {},
   "outputs": [],
   "source": [
    "from sklearn.datasets import make_classification"
   ]
  },
  {
   "cell_type": "code",
   "execution_count": 5,
   "id": "4656ba5f",
   "metadata": {},
   "outputs": [],
   "source": [
    "tp = make_classification(n_features=10)"
   ]
  },
  {
   "cell_type": "code",
   "execution_count": 6,
   "id": "645f9b46",
   "metadata": {},
   "outputs": [
    {
     "data": {
      "text/plain": [
       "2"
      ]
     },
     "execution_count": 6,
     "metadata": {},
     "output_type": "execute_result"
    }
   ],
   "source": [
    "len(tp)"
   ]
  },
  {
   "cell_type": "code",
   "execution_count": 9,
   "id": "0f005b36",
   "metadata": {},
   "outputs": [],
   "source": [
    "X = tp[0]"
   ]
  },
  {
   "cell_type": "code",
   "execution_count": 10,
   "id": "07666fa5",
   "metadata": {},
   "outputs": [],
   "source": [
    "Y = tp[1]"
   ]
  },
  {
   "cell_type": "code",
   "execution_count": 17,
   "id": "40d3649f",
   "metadata": {},
   "outputs": [],
   "source": [
    "X = X.round(2)"
   ]
  },
  {
   "cell_type": "code",
   "execution_count": 18,
   "id": "8264e35e",
   "metadata": {},
   "outputs": [
    {
     "data": {
      "text/plain": [
       "(100, 10)"
      ]
     },
     "execution_count": 18,
     "metadata": {},
     "output_type": "execute_result"
    }
   ],
   "source": [
    "X.shape"
   ]
  },
  {
   "cell_type": "code",
   "execution_count": 19,
   "id": "a7cec685",
   "metadata": {},
   "outputs": [],
   "source": [
    "df = pd.DataFrame(X, columns=list(\"abcdefghij\"))"
   ]
  },
  {
   "cell_type": "code",
   "execution_count": 21,
   "id": "a679bc34",
   "metadata": {},
   "outputs": [],
   "source": [
    "df['T'] = Y"
   ]
  },
  {
   "cell_type": "code",
   "execution_count": 22,
   "id": "abfce599",
   "metadata": {},
   "outputs": [
    {
     "data": {
      "text/html": [
       "<div>\n",
       "<style scoped>\n",
       "    .dataframe tbody tr th:only-of-type {\n",
       "        vertical-align: middle;\n",
       "    }\n",
       "\n",
       "    .dataframe tbody tr th {\n",
       "        vertical-align: top;\n",
       "    }\n",
       "\n",
       "    .dataframe thead th {\n",
       "        text-align: right;\n",
       "    }\n",
       "</style>\n",
       "<table border=\"1\" class=\"dataframe\">\n",
       "  <thead>\n",
       "    <tr style=\"text-align: right;\">\n",
       "      <th></th>\n",
       "      <th>a</th>\n",
       "      <th>b</th>\n",
       "      <th>c</th>\n",
       "      <th>d</th>\n",
       "      <th>e</th>\n",
       "      <th>f</th>\n",
       "      <th>g</th>\n",
       "      <th>h</th>\n",
       "      <th>i</th>\n",
       "      <th>j</th>\n",
       "      <th>T</th>\n",
       "    </tr>\n",
       "  </thead>\n",
       "  <tbody>\n",
       "    <tr>\n",
       "      <th>0</th>\n",
       "      <td>-1.14</td>\n",
       "      <td>1.10</td>\n",
       "      <td>1.91</td>\n",
       "      <td>-1.38</td>\n",
       "      <td>0.23</td>\n",
       "      <td>-0.59</td>\n",
       "      <td>0.88</td>\n",
       "      <td>1.63</td>\n",
       "      <td>-0.28</td>\n",
       "      <td>-0.26</td>\n",
       "      <td>0</td>\n",
       "    </tr>\n",
       "    <tr>\n",
       "      <th>1</th>\n",
       "      <td>-0.75</td>\n",
       "      <td>0.91</td>\n",
       "      <td>-2.40</td>\n",
       "      <td>-0.67</td>\n",
       "      <td>0.11</td>\n",
       "      <td>-0.18</td>\n",
       "      <td>-0.94</td>\n",
       "      <td>-2.00</td>\n",
       "      <td>0.31</td>\n",
       "      <td>0.16</td>\n",
       "      <td>1</td>\n",
       "    </tr>\n",
       "    <tr>\n",
       "      <th>2</th>\n",
       "      <td>0.62</td>\n",
       "      <td>-0.11</td>\n",
       "      <td>0.76</td>\n",
       "      <td>0.61</td>\n",
       "      <td>0.06</td>\n",
       "      <td>0.25</td>\n",
       "      <td>-1.01</td>\n",
       "      <td>1.21</td>\n",
       "      <td>1.46</td>\n",
       "      <td>1.03</td>\n",
       "      <td>1</td>\n",
       "    </tr>\n",
       "    <tr>\n",
       "      <th>3</th>\n",
       "      <td>0.73</td>\n",
       "      <td>-1.55</td>\n",
       "      <td>1.17</td>\n",
       "      <td>2.56</td>\n",
       "      <td>1.12</td>\n",
       "      <td>-1.11</td>\n",
       "      <td>0.00</td>\n",
       "      <td>-0.58</td>\n",
       "      <td>-2.11</td>\n",
       "      <td>-1.39</td>\n",
       "      <td>0</td>\n",
       "    </tr>\n",
       "    <tr>\n",
       "      <th>4</th>\n",
       "      <td>-1.00</td>\n",
       "      <td>1.25</td>\n",
       "      <td>1.56</td>\n",
       "      <td>0.17</td>\n",
       "      <td>1.14</td>\n",
       "      <td>-0.29</td>\n",
       "      <td>-0.72</td>\n",
       "      <td>-0.65</td>\n",
       "      <td>0.53</td>\n",
       "      <td>0.29</td>\n",
       "      <td>1</td>\n",
       "    </tr>\n",
       "    <tr>\n",
       "      <th>...</th>\n",
       "      <td>...</td>\n",
       "      <td>...</td>\n",
       "      <td>...</td>\n",
       "      <td>...</td>\n",
       "      <td>...</td>\n",
       "      <td>...</td>\n",
       "      <td>...</td>\n",
       "      <td>...</td>\n",
       "      <td>...</td>\n",
       "      <td>...</td>\n",
       "      <td>...</td>\n",
       "    </tr>\n",
       "    <tr>\n",
       "      <th>95</th>\n",
       "      <td>-1.29</td>\n",
       "      <td>0.74</td>\n",
       "      <td>-0.44</td>\n",
       "      <td>-1.77</td>\n",
       "      <td>1.44</td>\n",
       "      <td>1.88</td>\n",
       "      <td>0.74</td>\n",
       "      <td>-0.57</td>\n",
       "      <td>-1.67</td>\n",
       "      <td>-1.21</td>\n",
       "      <td>0</td>\n",
       "    </tr>\n",
       "    <tr>\n",
       "      <th>96</th>\n",
       "      <td>1.81</td>\n",
       "      <td>-1.51</td>\n",
       "      <td>-1.98</td>\n",
       "      <td>-0.53</td>\n",
       "      <td>0.45</td>\n",
       "      <td>1.15</td>\n",
       "      <td>0.94</td>\n",
       "      <td>-2.12</td>\n",
       "      <td>1.08</td>\n",
       "      <td>0.85</td>\n",
       "      <td>1</td>\n",
       "    </tr>\n",
       "    <tr>\n",
       "      <th>97</th>\n",
       "      <td>-0.96</td>\n",
       "      <td>1.03</td>\n",
       "      <td>1.54</td>\n",
       "      <td>0.65</td>\n",
       "      <td>1.29</td>\n",
       "      <td>-0.02</td>\n",
       "      <td>0.30</td>\n",
       "      <td>-0.08</td>\n",
       "      <td>0.06</td>\n",
       "      <td>-0.02</td>\n",
       "      <td>1</td>\n",
       "    </tr>\n",
       "    <tr>\n",
       "      <th>98</th>\n",
       "      <td>-0.54</td>\n",
       "      <td>1.03</td>\n",
       "      <td>0.96</td>\n",
       "      <td>1.19</td>\n",
       "      <td>-1.43</td>\n",
       "      <td>-0.41</td>\n",
       "      <td>0.35</td>\n",
       "      <td>1.05</td>\n",
       "      <td>1.21</td>\n",
       "      <td>0.79</td>\n",
       "      <td>1</td>\n",
       "    </tr>\n",
       "    <tr>\n",
       "      <th>99</th>\n",
       "      <td>0.02</td>\n",
       "      <td>0.69</td>\n",
       "      <td>0.99</td>\n",
       "      <td>0.06</td>\n",
       "      <td>-0.43</td>\n",
       "      <td>0.44</td>\n",
       "      <td>-0.04</td>\n",
       "      <td>0.60</td>\n",
       "      <td>1.90</td>\n",
       "      <td>1.30</td>\n",
       "      <td>1</td>\n",
       "    </tr>\n",
       "  </tbody>\n",
       "</table>\n",
       "<p>100 rows × 11 columns</p>\n",
       "</div>"
      ],
      "text/plain": [
       "       a     b     c     d     e     f     g     h     i     j  T\n",
       "0  -1.14  1.10  1.91 -1.38  0.23 -0.59  0.88  1.63 -0.28 -0.26  0\n",
       "1  -0.75  0.91 -2.40 -0.67  0.11 -0.18 -0.94 -2.00  0.31  0.16  1\n",
       "2   0.62 -0.11  0.76  0.61  0.06  0.25 -1.01  1.21  1.46  1.03  1\n",
       "3   0.73 -1.55  1.17  2.56  1.12 -1.11  0.00 -0.58 -2.11 -1.39  0\n",
       "4  -1.00  1.25  1.56  0.17  1.14 -0.29 -0.72 -0.65  0.53  0.29  1\n",
       "..   ...   ...   ...   ...   ...   ...   ...   ...   ...   ... ..\n",
       "95 -1.29  0.74 -0.44 -1.77  1.44  1.88  0.74 -0.57 -1.67 -1.21  0\n",
       "96  1.81 -1.51 -1.98 -0.53  0.45  1.15  0.94 -2.12  1.08  0.85  1\n",
       "97 -0.96  1.03  1.54  0.65  1.29 -0.02  0.30 -0.08  0.06 -0.02  1\n",
       "98 -0.54  1.03  0.96  1.19 -1.43 -0.41  0.35  1.05  1.21  0.79  1\n",
       "99  0.02  0.69  0.99  0.06 -0.43  0.44 -0.04  0.60  1.90  1.30  1\n",
       "\n",
       "[100 rows x 11 columns]"
      ]
     },
     "execution_count": 22,
     "metadata": {},
     "output_type": "execute_result"
    }
   ],
   "source": [
    "df"
   ]
  },
  {
   "cell_type": "code",
   "execution_count": 23,
   "id": "2a763ed8",
   "metadata": {},
   "outputs": [
    {
     "data": {
      "text/plain": [
       "<AxesSubplot:>"
      ]
     },
     "execution_count": 23,
     "metadata": {},
     "output_type": "execute_result"
    },
    {
     "data": {
      "image/png": "[encoded data removed]",
      "text/plain": [
       "<Figure size 640x480 with 1 Axes>"
      ]
     },
     "metadata": {},
     "output_type": "display_data"
    }
   ],
   "source": [
    "df.plot.box()"
   ]
  },
  {
   "cell_type": "code",
   "execution_count": 26,
   "id": "d76ea405",
   "metadata": {},
   "outputs": [
    {
     "data": {
      "text/html": [
       "<div>\n",
       "<style scoped>\n",
       "    .dataframe tbody tr th:only-of-type {\n",
       "        vertical-align: middle;\n",
       "    }\n",
       "\n",
       "    .dataframe tbody tr th {\n",
       "        vertical-align: top;\n",
       "    }\n",
       "\n",
       "    .dataframe thead th {\n",
       "        text-align: right;\n",
       "    }\n",
       "</style>\n",
       "<table border=\"1\" class=\"dataframe\">\n",
       "  <thead>\n",
       "    <tr style=\"text-align: right;\">\n",
       "      <th></th>\n",
       "      <th>a</th>\n",
       "      <th>b</th>\n",
       "      <th>c</th>\n",
       "      <th>d</th>\n",
       "      <th>e</th>\n",
       "      <th>f</th>\n",
       "      <th>g</th>\n",
       "      <th>h</th>\n",
       "      <th>i</th>\n",
       "      <th>j</th>\n",
       "      <th>T</th>\n",
       "    </tr>\n",
       "  </thead>\n",
       "  <tbody>\n",
       "    <tr>\n",
       "      <th>count</th>\n",
       "      <td>100.000000</td>\n",
       "      <td>100.000000</td>\n",
       "      <td>100.000000</td>\n",
       "      <td>100.000000</td>\n",
       "      <td>100.000000</td>\n",
       "      <td>100.000000</td>\n",
       "      <td>100.000000</td>\n",
       "      <td>100.000000</td>\n",
       "      <td>100.00000</td>\n",
       "      <td>100.000000</td>\n",
       "      <td>100.000000</td>\n",
       "    </tr>\n",
       "    <tr>\n",
       "      <th>mean</th>\n",
       "      <td>-0.029300</td>\n",
       "      <td>0.029600</td>\n",
       "      <td>0.141400</td>\n",
       "      <td>0.149300</td>\n",
       "      <td>-0.015500</td>\n",
       "      <td>0.072000</td>\n",
       "      <td>-0.019900</td>\n",
       "      <td>-0.083200</td>\n",
       "      <td>-0.00490</td>\n",
       "      <td>-0.005100</td>\n",
       "      <td>0.500000</td>\n",
       "    </tr>\n",
       "    <tr>\n",
       "      <th>std</th>\n",
       "      <td>1.119262</td>\n",
       "      <td>1.112836</td>\n",
       "      <td>1.070343</td>\n",
       "      <td>1.104737</td>\n",
       "      <td>1.003985</td>\n",
       "      <td>0.918274</td>\n",
       "      <td>1.037799</td>\n",
       "      <td>1.079287</td>\n",
       "      <td>1.58309</td>\n",
       "      <td>1.103231</td>\n",
       "      <td>0.502519</td>\n",
       "    </tr>\n",
       "    <tr>\n",
       "      <th>min</th>\n",
       "      <td>-2.670000</td>\n",
       "      <td>-2.410000</td>\n",
       "      <td>-2.400000</td>\n",
       "      <td>-3.180000</td>\n",
       "      <td>-2.920000</td>\n",
       "      <td>-2.110000</td>\n",
       "      <td>-3.630000</td>\n",
       "      <td>-2.860000</td>\n",
       "      <td>-3.84000</td>\n",
       "      <td>-2.760000</td>\n",
       "      <td>0.000000</td>\n",
       "    </tr>\n",
       "    <tr>\n",
       "      <th>25%</th>\n",
       "      <td>-0.932500</td>\n",
       "      <td>-1.062500</td>\n",
       "      <td>-0.490000</td>\n",
       "      <td>-0.552500</td>\n",
       "      <td>-0.572500</td>\n",
       "      <td>-0.550000</td>\n",
       "      <td>-0.705000</td>\n",
       "      <td>-0.660000</td>\n",
       "      <td>-1.28250</td>\n",
       "      <td>-0.830000</td>\n",
       "      <td>0.000000</td>\n",
       "    </tr>\n",
       "    <tr>\n",
       "      <th>50%</th>\n",
       "      <td>0.285000</td>\n",
       "      <td>0.425000</td>\n",
       "      <td>0.110000</td>\n",
       "      <td>0.055000</td>\n",
       "      <td>0.055000</td>\n",
       "      <td>0.100000</td>\n",
       "      <td>-0.115000</td>\n",
       "      <td>-0.225000</td>\n",
       "      <td>0.16000</td>\n",
       "      <td>0.105000</td>\n",
       "      <td>0.500000</td>\n",
       "    </tr>\n",
       "    <tr>\n",
       "      <th>75%</th>\n",
       "      <td>0.692500</td>\n",
       "      <td>1.030000</td>\n",
       "      <td>0.840000</td>\n",
       "      <td>0.780000</td>\n",
       "      <td>0.690000</td>\n",
       "      <td>0.497500</td>\n",
       "      <td>0.757500</td>\n",
       "      <td>0.567500</td>\n",
       "      <td>1.21500</td>\n",
       "      <td>0.835000</td>\n",
       "      <td>1.000000</td>\n",
       "    </tr>\n",
       "    <tr>\n",
       "      <th>max</th>\n",
       "      <td>2.080000</td>\n",
       "      <td>1.910000</td>\n",
       "      <td>2.720000</td>\n",
       "      <td>3.640000</td>\n",
       "      <td>2.440000</td>\n",
       "      <td>2.320000</td>\n",
       "      <td>3.970000</td>\n",
       "      <td>2.490000</td>\n",
       "      <td>3.18000</td>\n",
       "      <td>2.220000</td>\n",
       "      <td>1.000000</td>\n",
       "    </tr>\n",
       "  </tbody>\n",
       "</table>\n",
       "</div>"
      ],
      "text/plain": [
       "                a           b           c           d           e           f  \\\n",
       "count  100.000000  100.000000  100.000000  100.000000  100.000000  100.000000   \n",
       "mean    -0.029300    0.029600    0.141400    0.149300   -0.015500    0.072000   \n",
       "std      1.119262    1.112836    1.070343    1.104737    1.003985    0.918274   \n",
       "min     -2.670000   -2.410000   -2.400000   -3.180000   -2.920000   -2.110000   \n",
       "25%     -0.932500   -1.062500   -0.490000   -0.552500   -0.572500   -0.550000   \n",
       "50%      0.285000    0.425000    0.110000    0.055000    0.055000    0.100000   \n",
       "75%      0.692500    1.030000    0.840000    0.780000    0.690000    0.497500   \n",
       "max      2.080000    1.910000    2.720000    3.640000    2.440000    2.320000   \n",
       "\n",
       "                g           h          i           j           T  \n",
       "count  100.000000  100.000000  100.00000  100.000000  100.000000  \n",
       "mean    -0.019900   -0.083200   -0.00490   -0.005100    0.500000  \n",
       "std      1.037799    1.079287    1.58309    1.103231    0.502519  \n",
       "min     -3.630000   -2.860000   -3.84000   -2.760000    0.000000  \n",
       "25%     -0.705000   -0.660000   -1.28250   -0.830000    0.000000  \n",
       "50%     -0.115000   -0.225000    0.16000    0.105000    0.500000  \n",
       "75%      0.757500    0.567500    1.21500    0.835000    1.000000  \n",
       "max      3.970000    2.490000    3.18000    2.220000    1.000000  "
      ]
     },
     "execution_count": 26,
     "metadata": {},
     "output_type": "execute_result"
    }
   ],
   "source": [
    "df.describe()"
   ]
  },
  {
   "cell_type": "code",
   "execution_count": 27,
   "id": "2d807bbb",
   "metadata": {},
   "outputs": [],
   "source": [
    "q1 = -0.5525\n",
    "q3 = 0.78"
   ]
  },
  {
   "cell_type": "code",
   "execution_count": 28,
   "id": "db342087",
   "metadata": {},
   "outputs": [],
   "source": [
    "eiqr = 1.5*(q3-q1)"
   ]
  },
  {
   "cell_type": "code",
   "execution_count": 30,
   "id": "883497da",
   "metadata": {},
   "outputs": [],
   "source": [
    "lb = q1 - eiqr\n",
    "ub = q3 + eiqr"
   ]
  },
  {
   "cell_type": "code",
   "execution_count": 33,
   "id": "789a8634",
   "metadata": {},
   "outputs": [
    {
     "name": "stdout",
     "output_type": "stream",
     "text": [
      "-2.55125 2.77875\n"
     ]
    }
   ],
   "source": [
    "print(lb, ub)"
   ]
  },
  {
   "cell_type": "code",
   "execution_count": 34,
   "id": "fb01f002",
   "metadata": {},
   "outputs": [
    {
     "data": {
      "text/plain": [
       "<AxesSubplot:>"
      ]
     },
     "execution_count": 34,
     "metadata": {},
     "output_type": "execute_result"
    },
    {
     "data": {
      "image/png": "[encoded data removed]",
      "text/plain": [
       "<Figure size 640x480 with 1 Axes>"
      ]
     },
     "metadata": {},
     "output_type": "display_data"
    }
   ],
   "source": [
    "df['d'].plot.box()"
   ]
  },
  {
   "cell_type": "code",
   "execution_count": 37,
   "id": "00ae80c6",
   "metadata": {},
   "outputs": [
    {
     "data": {
      "text/plain": [
       "52   -3.18\n",
       "82    3.64\n",
       "Name: d, dtype: float64"
      ]
     },
     "execution_count": 37,
     "metadata": {},
     "output_type": "execute_result"
    }
   ],
   "source": [
    "df['d'][(df['d']>ub) | (df['d']<lb)]"
   ]
  },
  {
   "cell_type": "code",
   "execution_count": 41,
   "id": "8bca8887",
   "metadata": {},
   "outputs": [],
   "source": [
    "df.loc[(df['d']>ub) | (df['d']<lb), 'd'] = df['d'].median()"
   ]
  },
  {
   "cell_type": "code",
   "execution_count": 43,
   "id": "ffac640a",
   "metadata": {},
   "outputs": [
    {
     "data": {
      "text/html": [
       "<div>\n",
       "<style scoped>\n",
       "    .dataframe tbody tr th:only-of-type {\n",
       "        vertical-align: middle;\n",
       "    }\n",
       "\n",
       "    .dataframe tbody tr th {\n",
       "        vertical-align: top;\n",
       "    }\n",
       "\n",
       "    .dataframe thead th {\n",
       "        text-align: right;\n",
       "    }\n",
       "</style>\n",
       "<table border=\"1\" class=\"dataframe\">\n",
       "  <thead>\n",
       "    <tr style=\"text-align: right;\">\n",
       "      <th></th>\n",
       "      <th>a</th>\n",
       "      <th>b</th>\n",
       "      <th>c</th>\n",
       "      <th>d</th>\n",
       "      <th>e</th>\n",
       "      <th>f</th>\n",
       "      <th>g</th>\n",
       "      <th>h</th>\n",
       "      <th>i</th>\n",
       "      <th>j</th>\n",
       "      <th>T</th>\n",
       "    </tr>\n",
       "  </thead>\n",
       "  <tbody>\n",
       "  </tbody>\n",
       "</table>\n",
       "</div>"
      ],
      "text/plain": [
       "Empty DataFrame\n",
       "Columns: [a, b, c, d, e, f, g, h, i, j, T]\n",
       "Index: []"
      ]
     },
     "execution_count": 43,
     "metadata": {},
     "output_type": "execute_result"
    }
   ],
   "source": [
    "df[(df['d']>ub) | (df['d']<lb)]"
   ]
  },
  {
   "cell_type": "code",
   "execution_count": 44,
   "id": "47de944a",
   "metadata": {},
   "outputs": [
    {
     "data": {
      "text/plain": [
       "<AxesSubplot:>"
      ]
     },
     "execution_count": 44,
     "metadata": {},
     "output_type": "execute_result"
    },
    {
     "data": {
      "image/png": "[encoded data removed]",
      "text/plain": [
       "<Figure size 640x480 with 1 Axes>"
      ]
     },
     "metadata": {},
     "output_type": "display_data"
    }
   ],
   "source": [
    "df['d'].plot.box()"
   ]
  },
  {
   "cell_type": "code",
   "execution_count": 45,
   "id": "60dfa761",
   "metadata": {},
   "outputs": [
    {
     "data": {
      "text/plain": [
       "a   -0.325240\n",
       "b   -0.211168\n",
       "c   -0.082682\n",
       "d    0.216216\n",
       "e   -0.284938\n",
       "f    0.178578\n",
       "g    0.199319\n",
       "h    0.168812\n",
       "i   -0.243807\n",
       "j   -0.268168\n",
       "T    0.000000\n",
       "dtype: float64"
      ]
     },
     "execution_count": 45,
     "metadata": {},
     "output_type": "execute_result"
    }
   ],
   "source": [
    "df.skew()"
   ]
  },
  {
   "cell_type": "code",
   "execution_count": 46,
   "id": "64311a2c",
   "metadata": {},
   "outputs": [
    {
     "data": {
      "text/plain": [
       "a   -0.684530\n",
       "b   -1.421989\n",
       "c   -0.037486\n",
       "d   -0.128900\n",
       "e    0.275194\n",
       "f   -0.095943\n",
       "g    2.156255\n",
       "h    0.156503\n",
       "i   -0.484061\n",
       "j   -0.346596\n",
       "T   -2.041237\n",
       "dtype: float64"
      ]
     },
     "execution_count": 46,
     "metadata": {},
     "output_type": "execute_result"
    }
   ],
   "source": [
    "df.kurt()"
   ]
  },
  {
   "cell_type": "code",
   "execution_count": 47,
   "id": "20c83037",
   "metadata": {},
   "outputs": [
    {
     "data": {
      "text/plain": [
       "a   -0.684530\n",
       "b   -1.421989\n",
       "c   -0.037486\n",
       "d   -0.128900\n",
       "e    0.275194\n",
       "f   -0.095943\n",
       "g    2.156255\n",
       "h    0.156503\n",
       "i   -0.484061\n",
       "j   -0.346596\n",
       "T   -2.041237\n",
       "dtype: float64"
      ]
     },
     "execution_count": 47,
     "metadata": {},
     "output_type": "execute_result"
    }
   ],
   "source": [
    "df.kurtosis()"
   ]
  },
  {
   "cell_type": "code",
   "execution_count": 50,
   "id": "4a958480",
   "metadata": {},
   "outputs": [
    {
     "data": {
      "text/plain": [
       "<AxesSubplot:ylabel='Density'>"
      ]
     },
     "execution_count": 50,
     "metadata": {},
     "output_type": "execute_result"
    },
    {
     "data": {
      "image/png": "[encoded data removed]",
      "text/plain": [
       "<Figure size 640x480 with 1 Axes>"
      ]
     },
     "metadata": {},
     "output_type": "display_data"
    }
   ],
   "source": [
    "df.plot.density()"
   ]
  },
  {
   "cell_type": "code",
   "execution_count": 55,
   "id": "e3c6a6e2",
   "metadata": {},
   "outputs": [
    {
     "data": {
      "image/png": "[encoded data removed]",
      "text/plain": [
       "<Figure size 640x480 with 1 Axes>"
      ]
     },
     "metadata": {},
     "output_type": "display_data"
    }
   ],
   "source": [
    "for k in df.columns[:-1]:\n",
    "    df[k].plot.density()"
   ]
  },
  {
   "cell_type": "code",
   "execution_count": 61,
   "id": "bd059255",
   "metadata": {},
   "outputs": [
    {
     "data": {
      "text/plain": [
       "<AxesSubplot:ylabel='Density'>"
      ]
     },
     "execution_count": 61,
     "metadata": {},
     "output_type": "execute_result"
    },
    {
     "data": {
      "image/png": "[encoded data removed]",
      "text/plain": [
       "<Figure size 640x480 with 2 Axes>"
      ]
     },
     "metadata": {},
     "output_type": "display_data"
    }
   ],
   "source": [
    "plt.subplot(5,2,1)\n",
    "df[k].plot.density()\n",
    "\n",
    "plt.subplot(5,2,2)\n",
    "df[k].plot.density()"
   ]
  },
  {
   "cell_type": "code",
   "execution_count": 67,
   "id": "27c1b81d",
   "metadata": {},
   "outputs": [
    {
     "data": {
      "image/png": "[encoded data removed]",
      "text/plain": [
       "<Figure size 1000x1500 with 10 Axes>"
      ]
     },
     "metadata": {},
     "output_type": "display_data"
    }
   ],
   "source": [
    "plt.figure(figsize=(10,15))\n",
    "c=0\n",
    "for k in df.columns[:-1]:\n",
    "    c=c+1\n",
    "    plt.subplot(5,2,c)\n",
    "    df[k].plot.density()"
   ]
  },
  {
   "cell_type": "code",
   "execution_count": 68,
   "id": "ab061e3c",
   "metadata": {},
   "outputs": [
    {
     "data": {
      "text/plain": [
       "a   -0.684530\n",
       "b   -1.421989\n",
       "c   -0.037486\n",
       "d   -0.128900\n",
       "e    0.275194\n",
       "f   -0.095943\n",
       "g    2.156255\n",
       "h    0.156503\n",
       "i   -0.484061\n",
       "j   -0.346596\n",
       "T   -2.041237\n",
       "dtype: float64"
      ]
     },
     "execution_count": 68,
     "metadata": {},
     "output_type": "execute_result"
    }
   ],
   "source": [
    "df.kurt()"
   ]
  },
  {
   "cell_type": "code",
   "execution_count": 74,
   "id": "086d9a80",
   "metadata": {},
   "outputs": [],
   "source": [
    "from sklearn.preprocessing import PowerTransformer"
   ]
  },
  {
   "cell_type": "code",
   "execution_count": 75,
   "id": "a6608773",
   "metadata": {},
   "outputs": [],
   "source": [
    "pt = PowerTransformer(method='yeo-johnson')"
   ]
  },
  {
   "cell_type": "code",
   "execution_count": 79,
   "id": "120d9a77",
   "metadata": {},
   "outputs": [],
   "source": [
    "trans = pt.fit_transform(df[['g']])"
   ]
  },
  {
   "cell_type": "code",
   "execution_count": 83,
   "id": "97c2ad3d",
   "metadata": {},
   "outputs": [
    {
     "data": {
      "text/plain": [
       "0    2.103103\n",
       "dtype: float64"
      ]
     },
     "execution_count": 83,
     "metadata": {},
     "output_type": "execute_result"
    }
   ],
   "source": [
    "pd.DataFrame(trans).kurt()"
   ]
  },
  {
   "cell_type": "code",
   "execution_count": 89,
   "id": "9eae59bd",
   "metadata": {},
   "outputs": [],
   "source": [
    "from statsmodels.formula.api import glm, ols"
   ]
  },
  {
   "cell_type": "code",
   "execution_count": 90,
   "id": "915a0ef1",
   "metadata": {},
   "outputs": [
    {
     "data": {
      "text/html": [
       "<table class=\"simpletable\">\n",
       "<caption>OLS Regression Results</caption>\n",
       "<tr>\n",
       "  <th>Dep. Variable:</th>            <td>T</td>        <th>  R-squared:         </th> <td>   0.507</td>\n",
       "</tr>\n",
       "<tr>\n",
       "  <th>Model:</th>                   <td>OLS</td>       <th>  Adj. R-squared:    </th> <td>   0.451</td>\n",
       "</tr>\n",
       "<tr>\n",
       "  <th>Method:</th>             <td>Least Squares</td>  <th>  F-statistic:       </th> <td>   9.138</td>\n",
       "</tr>\n",
       "<tr>\n",
       "  <th>Date:</th>             <td>Sat, 27 Jan 2024</td> <th>  Prob (F-statistic):</th> <td>3.25e-10</td>\n",
       "</tr>\n",
       "<tr>\n",
       "  <th>Time:</th>                 <td>17:44:37</td>     <th>  Log-Likelihood:    </th> <td> -37.256</td>\n",
       "</tr>\n",
       "<tr>\n",
       "  <th>No. Observations:</th>      <td>   100</td>      <th>  AIC:               </th> <td>   96.51</td>\n",
       "</tr>\n",
       "<tr>\n",
       "  <th>Df Residuals:</th>          <td>    89</td>      <th>  BIC:               </th> <td>   125.2</td>\n",
       "</tr>\n",
       "<tr>\n",
       "  <th>Df Model:</th>              <td>    10</td>      <th>                     </th>     <td> </td>   \n",
       "</tr>\n",
       "<tr>\n",
       "  <th>Covariance Type:</th>      <td>nonrobust</td>    <th>                     </th>     <td> </td>   \n",
       "</tr>\n",
       "</table>\n",
       "<table class=\"simpletable\">\n",
       "<tr>\n",
       "      <td></td>         <th>coef</th>     <th>std err</th>      <th>t</th>      <th>P>|t|</th>  <th>[0.025</th>    <th>0.975]</th>  \n",
       "</tr>\n",
       "<tr>\n",
       "  <th>Intercept</th> <td>    0.4975</td> <td>    0.039</td> <td>   12.844</td> <td> 0.000</td> <td>    0.421</td> <td>    0.574</td>\n",
       "</tr>\n",
       "<tr>\n",
       "  <th>a</th>         <td>   -1.1554</td> <td>   10.268</td> <td>   -0.113</td> <td> 0.911</td> <td>  -21.558</td> <td>   19.247</td>\n",
       "</tr>\n",
       "<tr>\n",
       "  <th>b</th>         <td>   -2.0428</td> <td>    9.707</td> <td>   -0.210</td> <td> 0.834</td> <td>  -21.330</td> <td>   17.244</td>\n",
       "</tr>\n",
       "<tr>\n",
       "  <th>c</th>         <td>    0.0265</td> <td>    0.037</td> <td>    0.718</td> <td> 0.475</td> <td>   -0.047</td> <td>    0.100</td>\n",
       "</tr>\n",
       "<tr>\n",
       "  <th>d</th>         <td>   -0.0044</td> <td>    0.039</td> <td>   -0.111</td> <td> 0.912</td> <td>   -0.083</td> <td>    0.074</td>\n",
       "</tr>\n",
       "<tr>\n",
       "  <th>e</th>         <td>    0.0209</td> <td>    0.038</td> <td>    0.551</td> <td> 0.583</td> <td>   -0.054</td> <td>    0.096</td>\n",
       "</tr>\n",
       "<tr>\n",
       "  <th>f</th>         <td>    0.0049</td> <td>    0.043</td> <td>    0.115</td> <td> 0.909</td> <td>   -0.080</td> <td>    0.090</td>\n",
       "</tr>\n",
       "<tr>\n",
       "  <th>g</th>         <td>   -0.0166</td> <td>    0.038</td> <td>   -0.437</td> <td> 0.663</td> <td>   -0.092</td> <td>    0.059</td>\n",
       "</tr>\n",
       "<tr>\n",
       "  <th>h</th>         <td>   -0.0317</td> <td>    0.037</td> <td>   -0.863</td> <td> 0.390</td> <td>   -0.105</td> <td>    0.041</td>\n",
       "</tr>\n",
       "<tr>\n",
       "  <th>i</th>         <td>   11.6793</td> <td>    7.691</td> <td>    1.519</td> <td> 0.132</td> <td>   -3.602</td> <td>   26.961</td>\n",
       "</tr>\n",
       "<tr>\n",
       "  <th>j</th>         <td>  -15.7348</td> <td>   10.125</td> <td>   -1.554</td> <td> 0.124</td> <td>  -35.852</td> <td>    4.383</td>\n",
       "</tr>\n",
       "</table>\n",
       "<table class=\"simpletable\">\n",
       "<tr>\n",
       "  <th>Omnibus:</th>       <td> 5.415</td> <th>  Durbin-Watson:     </th> <td>   1.977</td>\n",
       "</tr>\n",
       "<tr>\n",
       "  <th>Prob(Omnibus):</th> <td> 0.067</td> <th>  Jarque-Bera (JB):  </th> <td>   5.531</td>\n",
       "</tr>\n",
       "<tr>\n",
       "  <th>Skew:</th>          <td>-0.559</td> <th>  Prob(JB):          </th> <td>  0.0630</td>\n",
       "</tr>\n",
       "<tr>\n",
       "  <th>Kurtosis:</th>      <td> 2.721</td> <th>  Cond. No.          </th> <td>    788.</td>\n",
       "</tr>\n",
       "</table><br/><br/>Notes:<br/>[1] Standard Errors assume that the covariance matrix of the errors is correctly specified."
      ],
      "text/plain": [
       "<class 'statsmodels.iolib.summary.Summary'>\n",
       "\"\"\"\n",
       "                            OLS Regression Results                            \n",
       "==============================================================================\n",
       "Dep. Variable:                      T   R-squared:                       0.507\n",
       "Model:                            OLS   Adj. R-squared:                  0.451\n",
       "Method:                 Least Squares   F-statistic:                     9.138\n",
       "Date:                Sat, 27 Jan 2024   Prob (F-statistic):           3.25e-10\n",
       "Time:                        17:44:37   Log-Likelihood:                -37.256\n",
       "No. Observations:                 100   AIC:                             96.51\n",
       "Df Residuals:                      89   BIC:                             125.2\n",
       "Df Model:                          10                                         \n",
       "Covariance Type:            nonrobust                                         \n",
       "==============================================================================\n",
       "                 coef    std err          t      P>|t|      [0.025      0.975]\n",
       "------------------------------------------------------------------------------\n",
       "Intercept      0.4975      0.039     12.844      0.000       0.421       0.574\n",
       "a             -1.1554     10.268     -0.113      0.911     -21.558      19.247\n",
       "b             -2.0428      9.707     -0.210      0.834     -21.330      17.244\n",
       "c              0.0265      0.037      0.718      0.475      -0.047       0.100\n",
       "d             -0.0044      0.039     -0.111      0.912      -0.083       0.074\n",
       "e              0.0209      0.038      0.551      0.583      -0.054       0.096\n",
       "f              0.0049      0.043      0.115      0.909      -0.080       0.090\n",
       "g             -0.0166      0.038     -0.437      0.663      -0.092       0.059\n",
       "h             -0.0317      0.037     -0.863      0.390      -0.105       0.041\n",
       "i             11.6793      7.691      1.519      0.132      -3.602      26.961\n",
       "j            -15.7348     10.125     -1.554      0.124     -35.852       4.383\n",
       "==============================================================================\n",
       "Omnibus:                        5.415   Durbin-Watson:                   1.977\n",
       "Prob(Omnibus):                  0.067   Jarque-Bera (JB):                5.531\n",
       "Skew:                          -0.559   Prob(JB):                       0.0630\n",
       "Kurtosis:                       2.721   Cond. No.                         788.\n",
       "==============================================================================\n",
       "\n",
       "Notes:\n",
       "[1] Standard Errors assume that the covariance matrix of the errors is correctly specified.\n",
       "\"\"\""
      ]
     },
     "execution_count": 90,
     "metadata": {},
     "output_type": "execute_result"
    }
   ],
   "source": [
    "mod = ols('T~a+b+c+d+e+f+g+h+i+j', df).fit()\n",
    "mod.summary()"
   ]
  },
  {
   "cell_type": "code",
   "execution_count": 91,
   "id": "bd26951c",
   "metadata": {},
   "outputs": [],
   "source": [
    "from sklearn.preprocessing import Binarizer"
   ]
  },
  {
   "cell_type": "code",
   "execution_count": 92,
   "id": "4a92d5bb",
   "metadata": {},
   "outputs": [],
   "source": [
    "bn = Binarizer(threshold=30)"
   ]
  },
  {
   "cell_type": "code",
   "execution_count": 94,
   "id": "3fb336fd",
   "metadata": {},
   "outputs": [
    {
     "data": {
      "text/plain": [
       "array([[0, 0, 0, 1, 1]])"
      ]
     },
     "execution_count": 94,
     "metadata": {},
     "output_type": "execute_result"
    }
   ],
   "source": [
    "bn.fit_transform([[10,20,30,40,50]])"
   ]
  },
  {
   "cell_type": "code",
   "execution_count": 109,
   "id": "74656e24",
   "metadata": {},
   "outputs": [],
   "source": [
    "df.loc[:, 'a'] = np.random.choice(['r','b','g'], 100)"
   ]
  },
  {
   "cell_type": "code",
   "execution_count": 111,
   "id": "6b00107c",
   "metadata": {},
   "outputs": [
    {
     "data": {
      "text/html": [
       "<div>\n",
       "<style scoped>\n",
       "    .dataframe tbody tr th:only-of-type {\n",
       "        vertical-align: middle;\n",
       "    }\n",
       "\n",
       "    .dataframe tbody tr th {\n",
       "        vertical-align: top;\n",
       "    }\n",
       "\n",
       "    .dataframe thead th {\n",
       "        text-align: right;\n",
       "    }\n",
       "</style>\n",
       "<table border=\"1\" class=\"dataframe\">\n",
       "  <thead>\n",
       "    <tr style=\"text-align: right;\">\n",
       "      <th></th>\n",
       "      <th>a</th>\n",
       "      <th>b</th>\n",
       "      <th>c</th>\n",
       "      <th>d</th>\n",
       "      <th>e</th>\n",
       "      <th>f</th>\n",
       "      <th>g</th>\n",
       "      <th>h</th>\n",
       "      <th>i</th>\n",
       "      <th>j</th>\n",
       "      <th>T</th>\n",
       "    </tr>\n",
       "  </thead>\n",
       "  <tbody>\n",
       "    <tr>\n",
       "      <th>0</th>\n",
       "      <td>r</td>\n",
       "      <td>1.10</td>\n",
       "      <td>1.91</td>\n",
       "      <td>-1.38</td>\n",
       "      <td>0.23</td>\n",
       "      <td>-0.59</td>\n",
       "      <td>0.88</td>\n",
       "      <td>1.63</td>\n",
       "      <td>-0.28</td>\n",
       "      <td>-0.26</td>\n",
       "      <td>0</td>\n",
       "    </tr>\n",
       "    <tr>\n",
       "      <th>1</th>\n",
       "      <td>r</td>\n",
       "      <td>0.91</td>\n",
       "      <td>-2.40</td>\n",
       "      <td>-0.67</td>\n",
       "      <td>0.11</td>\n",
       "      <td>-0.18</td>\n",
       "      <td>-0.94</td>\n",
       "      <td>-2.00</td>\n",
       "      <td>0.31</td>\n",
       "      <td>0.16</td>\n",
       "      <td>1</td>\n",
       "    </tr>\n",
       "    <tr>\n",
       "      <th>2</th>\n",
       "      <td>r</td>\n",
       "      <td>-0.11</td>\n",
       "      <td>0.76</td>\n",
       "      <td>0.61</td>\n",
       "      <td>0.06</td>\n",
       "      <td>0.25</td>\n",
       "      <td>-1.01</td>\n",
       "      <td>1.21</td>\n",
       "      <td>1.46</td>\n",
       "      <td>1.03</td>\n",
       "      <td>1</td>\n",
       "    </tr>\n",
       "    <tr>\n",
       "      <th>3</th>\n",
       "      <td>g</td>\n",
       "      <td>-1.55</td>\n",
       "      <td>1.17</td>\n",
       "      <td>2.56</td>\n",
       "      <td>1.12</td>\n",
       "      <td>-1.11</td>\n",
       "      <td>0.00</td>\n",
       "      <td>-0.58</td>\n",
       "      <td>-2.11</td>\n",
       "      <td>-1.39</td>\n",
       "      <td>0</td>\n",
       "    </tr>\n",
       "    <tr>\n",
       "      <th>4</th>\n",
       "      <td>r</td>\n",
       "      <td>1.25</td>\n",
       "      <td>1.56</td>\n",
       "      <td>0.17</td>\n",
       "      <td>1.14</td>\n",
       "      <td>-0.29</td>\n",
       "      <td>-0.72</td>\n",
       "      <td>-0.65</td>\n",
       "      <td>0.53</td>\n",
       "      <td>0.29</td>\n",
       "      <td>1</td>\n",
       "    </tr>\n",
       "    <tr>\n",
       "      <th>...</th>\n",
       "      <td>...</td>\n",
       "      <td>...</td>\n",
       "      <td>...</td>\n",
       "      <td>...</td>\n",
       "      <td>...</td>\n",
       "      <td>...</td>\n",
       "      <td>...</td>\n",
       "      <td>...</td>\n",
       "      <td>...</td>\n",
       "      <td>...</td>\n",
       "      <td>...</td>\n",
       "    </tr>\n",
       "    <tr>\n",
       "      <th>95</th>\n",
       "      <td>r</td>\n",
       "      <td>0.74</td>\n",
       "      <td>-0.44</td>\n",
       "      <td>-1.77</td>\n",
       "      <td>1.44</td>\n",
       "      <td>1.88</td>\n",
       "      <td>0.74</td>\n",
       "      <td>-0.57</td>\n",
       "      <td>-1.67</td>\n",
       "      <td>-1.21</td>\n",
       "      <td>0</td>\n",
       "    </tr>\n",
       "    <tr>\n",
       "      <th>96</th>\n",
       "      <td>b</td>\n",
       "      <td>-1.51</td>\n",
       "      <td>-1.98</td>\n",
       "      <td>-0.53</td>\n",
       "      <td>0.45</td>\n",
       "      <td>1.15</td>\n",
       "      <td>0.94</td>\n",
       "      <td>-2.12</td>\n",
       "      <td>1.08</td>\n",
       "      <td>0.85</td>\n",
       "      <td>1</td>\n",
       "    </tr>\n",
       "    <tr>\n",
       "      <th>97</th>\n",
       "      <td>g</td>\n",
       "      <td>1.03</td>\n",
       "      <td>1.54</td>\n",
       "      <td>0.65</td>\n",
       "      <td>1.29</td>\n",
       "      <td>-0.02</td>\n",
       "      <td>0.30</td>\n",
       "      <td>-0.08</td>\n",
       "      <td>0.06</td>\n",
       "      <td>-0.02</td>\n",
       "      <td>1</td>\n",
       "    </tr>\n",
       "    <tr>\n",
       "      <th>98</th>\n",
       "      <td>g</td>\n",
       "      <td>1.03</td>\n",
       "      <td>0.96</td>\n",
       "      <td>1.19</td>\n",
       "      <td>-1.43</td>\n",
       "      <td>-0.41</td>\n",
       "      <td>0.35</td>\n",
       "      <td>1.05</td>\n",
       "      <td>1.21</td>\n",
       "      <td>0.79</td>\n",
       "      <td>1</td>\n",
       "    </tr>\n",
       "    <tr>\n",
       "      <th>99</th>\n",
       "      <td>b</td>\n",
       "      <td>0.69</td>\n",
       "      <td>0.99</td>\n",
       "      <td>0.06</td>\n",
       "      <td>-0.43</td>\n",
       "      <td>0.44</td>\n",
       "      <td>-0.04</td>\n",
       "      <td>0.60</td>\n",
       "      <td>1.90</td>\n",
       "      <td>1.30</td>\n",
       "      <td>1</td>\n",
       "    </tr>\n",
       "  </tbody>\n",
       "</table>\n",
       "<p>100 rows × 11 columns</p>\n",
       "</div>"
      ],
      "text/plain": [
       "    a     b     c     d     e     f     g     h     i     j  T\n",
       "0   r  1.10  1.91 -1.38  0.23 -0.59  0.88  1.63 -0.28 -0.26  0\n",
       "1   r  0.91 -2.40 -0.67  0.11 -0.18 -0.94 -2.00  0.31  0.16  1\n",
       "2   r -0.11  0.76  0.61  0.06  0.25 -1.01  1.21  1.46  1.03  1\n",
       "3   g -1.55  1.17  2.56  1.12 -1.11  0.00 -0.58 -2.11 -1.39  0\n",
       "4   r  1.25  1.56  0.17  1.14 -0.29 -0.72 -0.65  0.53  0.29  1\n",
       ".. ..   ...   ...   ...   ...   ...   ...   ...   ...   ... ..\n",
       "95  r  0.74 -0.44 -1.77  1.44  1.88  0.74 -0.57 -1.67 -1.21  0\n",
       "96  b -1.51 -1.98 -0.53  0.45  1.15  0.94 -2.12  1.08  0.85  1\n",
       "97  g  1.03  1.54  0.65  1.29 -0.02  0.30 -0.08  0.06 -0.02  1\n",
       "98  g  1.03  0.96  1.19 -1.43 -0.41  0.35  1.05  1.21  0.79  1\n",
       "99  b  0.69  0.99  0.06 -0.43  0.44 -0.04  0.60  1.90  1.30  1\n",
       "\n",
       "[100 rows x 11 columns]"
      ]
     },
     "execution_count": 111,
     "metadata": {},
     "output_type": "execute_result"
    }
   ],
   "source": [
    "df"
   ]
  },
  {
   "cell_type": "code",
   "execution_count": 112,
   "id": "ee7bd743",
   "metadata": {},
   "outputs": [],
   "source": [
    "from sklearn.preprocessing import LabelEncoder"
   ]
  },
  {
   "cell_type": "code",
   "execution_count": 113,
   "id": "63d97c8c",
   "metadata": {},
   "outputs": [
    {
     "name": "stderr",
     "output_type": "stream",
     "text": [
      "C:\\Users\\Rooman\\anaconda3\\lib\\site-packages\\sklearn\\preprocessing\\_label.py:115: DataConversionWarning: A column-vector y was passed when a 1d array was expected. Please change the shape of y to (n_samples, ), for example using ravel().\n",
      "  y = column_or_1d(y, warn=True)\n"
     ]
    },
    {
     "data": {
      "text/plain": [
       "array([2, 2, 2, 1, 2, 2, 0, 2, 0, 0, 0, 1, 2, 0, 1, 0, 2, 0, 0, 2, 0, 0,\n",
       "       1, 2, 0, 1, 2, 2, 1, 0, 1, 2, 2, 1, 2, 0, 2, 2, 2, 2, 2, 1, 2, 1,\n",
       "       0, 2, 1, 2, 2, 0, 0, 0, 1, 0, 0, 2, 1, 2, 2, 0, 2, 2, 2, 1, 0, 2,\n",
       "       1, 1, 0, 1, 1, 1, 0, 2, 0, 1, 0, 2, 0, 0, 2, 1, 2, 2, 2, 0, 0, 1,\n",
       "       0, 1, 0, 1, 1, 0, 2, 2, 0, 1, 1, 0])"
      ]
     },
     "execution_count": 113,
     "metadata": {},
     "output_type": "execute_result"
    }
   ],
   "source": [
    "lb = LabelEncoder()\n",
    "lb.fit_transform(df[['a']])"
   ]
  },
  {
   "cell_type": "code",
   "execution_count": 114,
   "id": "57d8261e",
   "metadata": {},
   "outputs": [],
   "source": [
    "from sklearn.preprocessing import OrdinalEncoder"
   ]
  },
  {
   "cell_type": "code",
   "execution_count": 115,
   "id": "519a6300",
   "metadata": {},
   "outputs": [],
   "source": [
    "od = OrdinalEncoder(categories=[['g','r','b']])"
   ]
  },
  {
   "cell_type": "code",
   "execution_count": 117,
   "id": "185bb7c2",
   "metadata": {},
   "outputs": [
    {
     "data": {
      "text/plain": [
       "array([[1.],\n",
       "       [1.],\n",
       "       [1.],\n",
       "       [0.],\n",
       "       [1.],\n",
       "       [1.],\n",
       "       [2.],\n",
       "       [1.],\n",
       "       [2.],\n",
       "       [2.],\n",
       "       [2.],\n",
       "       [0.],\n",
       "       [1.],\n",
       "       [2.],\n",
       "       [0.],\n",
       "       [2.],\n",
       "       [1.],\n",
       "       [2.],\n",
       "       [2.],\n",
       "       [1.],\n",
       "       [2.],\n",
       "       [2.],\n",
       "       [0.],\n",
       "       [1.],\n",
       "       [2.],\n",
       "       [0.],\n",
       "       [1.],\n",
       "       [1.],\n",
       "       [0.],\n",
       "       [2.],\n",
       "       [0.],\n",
       "       [1.],\n",
       "       [1.],\n",
       "       [0.],\n",
       "       [1.],\n",
       "       [2.],\n",
       "       [1.],\n",
       "       [1.],\n",
       "       [1.],\n",
       "       [1.],\n",
       "       [1.],\n",
       "       [0.],\n",
       "       [1.],\n",
       "       [0.],\n",
       "       [2.],\n",
       "       [1.],\n",
       "       [0.],\n",
       "       [1.],\n",
       "       [1.],\n",
       "       [2.],\n",
       "       [2.],\n",
       "       [2.],\n",
       "       [0.],\n",
       "       [2.],\n",
       "       [2.],\n",
       "       [1.],\n",
       "       [0.],\n",
       "       [1.],\n",
       "       [1.],\n",
       "       [2.],\n",
       "       [1.],\n",
       "       [1.],\n",
       "       [1.],\n",
       "       [0.],\n",
       "       [2.],\n",
       "       [1.],\n",
       "       [0.],\n",
       "       [0.],\n",
       "       [2.],\n",
       "       [0.],\n",
       "       [0.],\n",
       "       [0.],\n",
       "       [2.],\n",
       "       [1.],\n",
       "       [2.],\n",
       "       [0.],\n",
       "       [2.],\n",
       "       [1.],\n",
       "       [2.],\n",
       "       [2.],\n",
       "       [1.],\n",
       "       [0.],\n",
       "       [1.],\n",
       "       [1.],\n",
       "       [1.],\n",
       "       [2.],\n",
       "       [2.],\n",
       "       [0.],\n",
       "       [2.],\n",
       "       [0.],\n",
       "       [2.],\n",
       "       [0.],\n",
       "       [0.],\n",
       "       [2.],\n",
       "       [1.],\n",
       "       [1.],\n",
       "       [2.],\n",
       "       [0.],\n",
       "       [0.],\n",
       "       [2.]])"
      ]
     },
     "execution_count": 117,
     "metadata": {},
     "output_type": "execute_result"
    }
   ],
   "source": [
    "od.fit_transform(df[['a']])"
   ]
  },
  {
   "cell_type": "code",
   "execution_count": 121,
   "id": "26c5965b",
   "metadata": {},
   "outputs": [],
   "source": [
    "from sklearn.preprocessing import OneHotEncoder"
   ]
  },
  {
   "cell_type": "code",
   "execution_count": 132,
   "id": "7cf55f1e",
   "metadata": {},
   "outputs": [],
   "source": [
    "on = OneHotEncoder(categories=[['g','r','b']], drop='first')"
   ]
  },
  {
   "cell_type": "code",
   "execution_count": 133,
   "id": "d9f3bd35",
   "metadata": {},
   "outputs": [
    {
     "data": {
      "text/plain": [
       "array([[1., 0.],\n",
       "       [1., 0.],\n",
       "       [1., 0.],\n",
       "       [0., 0.],\n",
       "       [1., 0.],\n",
       "       [1., 0.],\n",
       "       [0., 1.],\n",
       "       [1., 0.],\n",
       "       [0., 1.],\n",
       "       [0., 1.],\n",
       "       [0., 1.],\n",
       "       [0., 0.],\n",
       "       [1., 0.],\n",
       "       [0., 1.],\n",
       "       [0., 0.],\n",
       "       [0., 1.],\n",
       "       [1., 0.],\n",
       "       [0., 1.],\n",
       "       [0., 1.],\n",
       "       [1., 0.],\n",
       "       [0., 1.],\n",
       "       [0., 1.],\n",
       "       [0., 0.],\n",
       "       [1., 0.],\n",
       "       [0., 1.],\n",
       "       [0., 0.],\n",
       "       [1., 0.],\n",
       "       [1., 0.],\n",
       "       [0., 0.],\n",
       "       [0., 1.],\n",
       "       [0., 0.],\n",
       "       [1., 0.],\n",
       "       [1., 0.],\n",
       "       [0., 0.],\n",
       "       [1., 0.],\n",
       "       [0., 1.],\n",
       "       [1., 0.],\n",
       "       [1., 0.],\n",
       "       [1., 0.],\n",
       "       [1., 0.],\n",
       "       [1., 0.],\n",
       "       [0., 0.],\n",
       "       [1., 0.],\n",
       "       [0., 0.],\n",
       "       [0., 1.],\n",
       "       [1., 0.],\n",
       "       [0., 0.],\n",
       "       [1., 0.],\n",
       "       [1., 0.],\n",
       "       [0., 1.],\n",
       "       [0., 1.],\n",
       "       [0., 1.],\n",
       "       [0., 0.],\n",
       "       [0., 1.],\n",
       "       [0., 1.],\n",
       "       [1., 0.],\n",
       "       [0., 0.],\n",
       "       [1., 0.],\n",
       "       [1., 0.],\n",
       "       [0., 1.],\n",
       "       [1., 0.],\n",
       "       [1., 0.],\n",
       "       [1., 0.],\n",
       "       [0., 0.],\n",
       "       [0., 1.],\n",
       "       [1., 0.],\n",
       "       [0., 0.],\n",
       "       [0., 0.],\n",
       "       [0., 1.],\n",
       "       [0., 0.],\n",
       "       [0., 0.],\n",
       "       [0., 0.],\n",
       "       [0., 1.],\n",
       "       [1., 0.],\n",
       "       [0., 1.],\n",
       "       [0., 0.],\n",
       "       [0., 1.],\n",
       "       [1., 0.],\n",
       "       [0., 1.],\n",
       "       [0., 1.],\n",
       "       [1., 0.],\n",
       "       [0., 0.],\n",
       "       [1., 0.],\n",
       "       [1., 0.],\n",
       "       [1., 0.],\n",
       "       [0., 1.],\n",
       "       [0., 1.],\n",
       "       [0., 0.],\n",
       "       [0., 1.],\n",
       "       [0., 0.],\n",
       "       [0., 1.],\n",
       "       [0., 0.],\n",
       "       [0., 0.],\n",
       "       [0., 1.],\n",
       "       [1., 0.],\n",
       "       [1., 0.],\n",
       "       [0., 1.],\n",
       "       [0., 0.],\n",
       "       [0., 0.],\n",
       "       [0., 1.]])"
      ]
     },
     "execution_count": 133,
     "metadata": {},
     "output_type": "execute_result"
    }
   ],
   "source": [
    "on.fit_transform(df[['a']]).toarray()"
   ]
  },
  {
   "cell_type": "code",
   "execution_count": null,
   "id": "11be6ab8",
   "metadata": {},
   "outputs": [],
   "source": []
  }
 ],
 "metadata": {
  "kernelspec": {
   "display_name": "Python 3 (ipykernel)",
   "language": "python",
   "name": "python3"
  },
  "language_info": {
   "codemirror_mode": {
    "name": "ipython",
    "version": 3
   },
   "file_extension": ".py",
   "mimetype": "text/x-python",
   "name": "python",
   "nbconvert_exporter": "python",
   "pygments_lexer": "ipython3",
   "version": "3.9.13"
  }
 },
 "nbformat": 4,
 "nbformat_minor": 5
}
