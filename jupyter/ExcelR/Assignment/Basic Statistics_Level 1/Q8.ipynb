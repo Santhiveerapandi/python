{
 "cells": [
  {
   "cell_type": "markdown",
   "id": "cbfa4f47-4a3a-4294-88cf-f56d9c037045",
   "metadata": {},
   "source": [
    "### Calculate Expected Value for the problem below\r",
    "#### \n",
    "a)\tThe weights (X) of patients at a clinic (in pounds), are\r\n"
   ]
  },
  {
   "cell_type": "code",
   "execution_count": 5,
   "id": "96408eb6-f8f6-4205-800f-4d53d5e73d79",
   "metadata": {},
   "outputs": [],
   "source": [
    "import numpy as np\n",
    "ar = np.random.choice([108, 110, 123, 134, 135, 145, 167, 187, 199], 1)"
   ]
  },
  {
   "cell_type": "code",
   "execution_count": 6,
   "id": "d40c8daa-a7de-483f-8756-942b8195183b",
   "metadata": {},
   "outputs": [
    {
     "data": {
      "text/plain": [
       "array([167])"
      ]
     },
     "execution_count": 6,
     "metadata": {},
     "output_type": "execute_result"
    }
   ],
   "source": [
    "ar"
   ]
  },
  {
   "cell_type": "code",
   "execution_count": null,
   "id": "89e5a38a-b0ce-42ad-9526-07e8be902885",
   "metadata": {},
   "outputs": [],
   "source": []
  }
 ],
 "metadata": {
  "kernelspec": {
   "display_name": "Python 3 (ipykernel)",
   "language": "python",
   "name": "python3"
  },
  "language_info": {
   "codemirror_mode": {
    "name": "ipython",
    "version": 3
   },
   "file_extension": ".py",
   "mimetype": "text/x-python",
   "name": "python",
   "nbconvert_exporter": "python",
   "pygments_lexer": "ipython3",
   "version": "3.11.5"
  }
 },
 "nbformat": 4,
 "nbformat_minor": 5
}
